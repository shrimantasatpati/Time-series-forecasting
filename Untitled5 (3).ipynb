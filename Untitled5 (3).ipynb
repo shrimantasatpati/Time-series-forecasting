{
 "cells": [
  {
   "cell_type": "code",
   "execution_count": 71,
   "id": "4be300ae",
   "metadata": {},
   "outputs": [],
   "source": [
    "import pandas as pd\n",
    "import numpy as np"
   ]
  },
  {
   "cell_type": "code",
   "execution_count": 72,
   "id": "11653b4e",
   "metadata": {},
   "outputs": [],
   "source": [
    "df = pd.read_csv(\"train.csv\", encoding=\"utf-8\")"
   ]
  },
  {
   "cell_type": "code",
   "execution_count": 73,
   "id": "bae63fe5",
   "metadata": {},
   "outputs": [
    {
     "data": {
      "text/html": [
       "<div>\n",
       "<style scoped>\n",
       "    .dataframe tbody tr th:only-of-type {\n",
       "        vertical-align: middle;\n",
       "    }\n",
       "\n",
       "    .dataframe tbody tr th {\n",
       "        vertical-align: top;\n",
       "    }\n",
       "\n",
       "    .dataframe thead th {\n",
       "        text-align: right;\n",
       "    }\n",
       "</style>\n",
       "<table border=\"1\" class=\"dataframe\">\n",
       "  <thead>\n",
       "    <tr style=\"text-align: right;\">\n",
       "      <th></th>\n",
       "      <th>Cluster/Country/Region</th>\n",
       "      <th>SubCluster</th>\n",
       "      <th>calweek</th>\n",
       "      <th>brand</th>\n",
       "      <th>dc</th>\n",
       "      <th>product_code</th>\n",
       "      <th>customer_code</th>\n",
       "      <th>Quantity</th>\n",
       "    </tr>\n",
       "  </thead>\n",
       "  <tbody>\n",
       "    <tr>\n",
       "      <th>0</th>\n",
       "      <td>US</td>\n",
       "      <td>SC1</td>\n",
       "      <td>202001</td>\n",
       "      <td>BRANDA</td>\n",
       "      <td>DC1</td>\n",
       "      <td>PRDCT1</td>\n",
       "      <td>CUSTA</td>\n",
       "      <td>537</td>\n",
       "    </tr>\n",
       "    <tr>\n",
       "      <th>1</th>\n",
       "      <td>US</td>\n",
       "      <td>SC1</td>\n",
       "      <td>202002</td>\n",
       "      <td>BRANDA</td>\n",
       "      <td>DC1</td>\n",
       "      <td>PRDCT1</td>\n",
       "      <td>CUSTA</td>\n",
       "      <td>544</td>\n",
       "    </tr>\n",
       "    <tr>\n",
       "      <th>2</th>\n",
       "      <td>US</td>\n",
       "      <td>SC1</td>\n",
       "      <td>202003</td>\n",
       "      <td>BRANDA</td>\n",
       "      <td>DC1</td>\n",
       "      <td>PRDCT1</td>\n",
       "      <td>CUSTA</td>\n",
       "      <td>574</td>\n",
       "    </tr>\n",
       "    <tr>\n",
       "      <th>3</th>\n",
       "      <td>US</td>\n",
       "      <td>SC1</td>\n",
       "      <td>202004</td>\n",
       "      <td>BRANDA</td>\n",
       "      <td>DC1</td>\n",
       "      <td>PRDCT1</td>\n",
       "      <td>CUSTA</td>\n",
       "      <td>523</td>\n",
       "    </tr>\n",
       "    <tr>\n",
       "      <th>4</th>\n",
       "      <td>US</td>\n",
       "      <td>SC1</td>\n",
       "      <td>202005</td>\n",
       "      <td>BRANDA</td>\n",
       "      <td>DC1</td>\n",
       "      <td>PRDCT1</td>\n",
       "      <td>CUSTA</td>\n",
       "      <td>571</td>\n",
       "    </tr>\n",
       "    <tr>\n",
       "      <th>...</th>\n",
       "      <td>...</td>\n",
       "      <td>...</td>\n",
       "      <td>...</td>\n",
       "      <td>...</td>\n",
       "      <td>...</td>\n",
       "      <td>...</td>\n",
       "      <td>...</td>\n",
       "      <td>...</td>\n",
       "    </tr>\n",
       "    <tr>\n",
       "      <th>18463</th>\n",
       "      <td>US</td>\n",
       "      <td>SC2</td>\n",
       "      <td>202311</td>\n",
       "      <td>BRANDC</td>\n",
       "      <td>DC4</td>\n",
       "      <td>PRDCT9</td>\n",
       "      <td>CUSTZ</td>\n",
       "      <td>1753</td>\n",
       "    </tr>\n",
       "    <tr>\n",
       "      <th>18464</th>\n",
       "      <td>US</td>\n",
       "      <td>SC2</td>\n",
       "      <td>202312</td>\n",
       "      <td>BRANDC</td>\n",
       "      <td>DC4</td>\n",
       "      <td>PRDCT9</td>\n",
       "      <td>CUSTZ</td>\n",
       "      <td>1752</td>\n",
       "    </tr>\n",
       "    <tr>\n",
       "      <th>18465</th>\n",
       "      <td>US</td>\n",
       "      <td>SC2</td>\n",
       "      <td>202313</td>\n",
       "      <td>BRANDC</td>\n",
       "      <td>DC4</td>\n",
       "      <td>PRDCT9</td>\n",
       "      <td>CUSTZ</td>\n",
       "      <td>1673</td>\n",
       "    </tr>\n",
       "    <tr>\n",
       "      <th>18466</th>\n",
       "      <td>US</td>\n",
       "      <td>SC2</td>\n",
       "      <td>202314</td>\n",
       "      <td>BRANDC</td>\n",
       "      <td>DC4</td>\n",
       "      <td>PRDCT9</td>\n",
       "      <td>CUSTZ</td>\n",
       "      <td>1752</td>\n",
       "    </tr>\n",
       "    <tr>\n",
       "      <th>18467</th>\n",
       "      <td>US</td>\n",
       "      <td>SC2</td>\n",
       "      <td>202315</td>\n",
       "      <td>BRANDC</td>\n",
       "      <td>DC4</td>\n",
       "      <td>PRDCT9</td>\n",
       "      <td>CUSTZ</td>\n",
       "      <td>1642</td>\n",
       "    </tr>\n",
       "  </tbody>\n",
       "</table>\n",
       "<p>18468 rows × 8 columns</p>\n",
       "</div>"
      ],
      "text/plain": [
       "      Cluster/Country/Region SubCluster  calweek   brand   dc product_code   \n",
       "0                         US        SC1   202001  BRANDA  DC1       PRDCT1  \\\n",
       "1                         US        SC1   202002  BRANDA  DC1       PRDCT1   \n",
       "2                         US        SC1   202003  BRANDA  DC1       PRDCT1   \n",
       "3                         US        SC1   202004  BRANDA  DC1       PRDCT1   \n",
       "4                         US        SC1   202005  BRANDA  DC1       PRDCT1   \n",
       "...                      ...        ...      ...     ...  ...          ...   \n",
       "18463                     US        SC2   202311  BRANDC  DC4       PRDCT9   \n",
       "18464                     US        SC2   202312  BRANDC  DC4       PRDCT9   \n",
       "18465                     US        SC2   202313  BRANDC  DC4       PRDCT9   \n",
       "18466                     US        SC2   202314  BRANDC  DC4       PRDCT9   \n",
       "18467                     US        SC2   202315  BRANDC  DC4       PRDCT9   \n",
       "\n",
       "      customer_code  Quantity  \n",
       "0             CUSTA       537  \n",
       "1             CUSTA       544  \n",
       "2             CUSTA       574  \n",
       "3             CUSTA       523  \n",
       "4             CUSTA       571  \n",
       "...             ...       ...  \n",
       "18463         CUSTZ      1753  \n",
       "18464         CUSTZ      1752  \n",
       "18465         CUSTZ      1673  \n",
       "18466         CUSTZ      1752  \n",
       "18467         CUSTZ      1642  \n",
       "\n",
       "[18468 rows x 8 columns]"
      ]
     },
     "execution_count": 73,
     "metadata": {},
     "output_type": "execute_result"
    }
   ],
   "source": [
    "df"
   ]
  },
  {
   "cell_type": "code",
   "execution_count": 74,
   "id": "ca896eb2",
   "metadata": {},
   "outputs": [
    {
     "data": {
      "text/plain": [
       "Index(['Cluster/Country/Region', 'SubCluster', 'calweek', 'brand', 'dc',\n",
       "       'product_code', 'customer_code', 'Quantity'],\n",
       "      dtype='object')"
      ]
     },
     "execution_count": 74,
     "metadata": {},
     "output_type": "execute_result"
    }
   ],
   "source": [
    "df.columns"
   ]
  },
  {
   "cell_type": "code",
   "execution_count": 75,
   "id": "6ffefdbf",
   "metadata": {},
   "outputs": [],
   "source": [
    "df1 = df.drop(['Cluster/Country/Region', 'SubCluster', 'brand', 'dc'], axis = 1)"
   ]
  },
  {
   "cell_type": "code",
   "execution_count": 76,
   "id": "18e09f21",
   "metadata": {},
   "outputs": [
    {
     "data": {
      "text/html": [
       "<div>\n",
       "<style scoped>\n",
       "    .dataframe tbody tr th:only-of-type {\n",
       "        vertical-align: middle;\n",
       "    }\n",
       "\n",
       "    .dataframe tbody tr th {\n",
       "        vertical-align: top;\n",
       "    }\n",
       "\n",
       "    .dataframe thead th {\n",
       "        text-align: right;\n",
       "    }\n",
       "</style>\n",
       "<table border=\"1\" class=\"dataframe\">\n",
       "  <thead>\n",
       "    <tr style=\"text-align: right;\">\n",
       "      <th></th>\n",
       "      <th>calweek</th>\n",
       "      <th>product_code</th>\n",
       "      <th>customer_code</th>\n",
       "      <th>Quantity</th>\n",
       "    </tr>\n",
       "  </thead>\n",
       "  <tbody>\n",
       "    <tr>\n",
       "      <th>0</th>\n",
       "      <td>202001</td>\n",
       "      <td>PRDCT1</td>\n",
       "      <td>CUSTA</td>\n",
       "      <td>537</td>\n",
       "    </tr>\n",
       "    <tr>\n",
       "      <th>1</th>\n",
       "      <td>202002</td>\n",
       "      <td>PRDCT1</td>\n",
       "      <td>CUSTA</td>\n",
       "      <td>544</td>\n",
       "    </tr>\n",
       "    <tr>\n",
       "      <th>2</th>\n",
       "      <td>202003</td>\n",
       "      <td>PRDCT1</td>\n",
       "      <td>CUSTA</td>\n",
       "      <td>574</td>\n",
       "    </tr>\n",
       "    <tr>\n",
       "      <th>3</th>\n",
       "      <td>202004</td>\n",
       "      <td>PRDCT1</td>\n",
       "      <td>CUSTA</td>\n",
       "      <td>523</td>\n",
       "    </tr>\n",
       "    <tr>\n",
       "      <th>4</th>\n",
       "      <td>202005</td>\n",
       "      <td>PRDCT1</td>\n",
       "      <td>CUSTA</td>\n",
       "      <td>571</td>\n",
       "    </tr>\n",
       "    <tr>\n",
       "      <th>...</th>\n",
       "      <td>...</td>\n",
       "      <td>...</td>\n",
       "      <td>...</td>\n",
       "      <td>...</td>\n",
       "    </tr>\n",
       "    <tr>\n",
       "      <th>18463</th>\n",
       "      <td>202311</td>\n",
       "      <td>PRDCT9</td>\n",
       "      <td>CUSTZ</td>\n",
       "      <td>1753</td>\n",
       "    </tr>\n",
       "    <tr>\n",
       "      <th>18464</th>\n",
       "      <td>202312</td>\n",
       "      <td>PRDCT9</td>\n",
       "      <td>CUSTZ</td>\n",
       "      <td>1752</td>\n",
       "    </tr>\n",
       "    <tr>\n",
       "      <th>18465</th>\n",
       "      <td>202313</td>\n",
       "      <td>PRDCT9</td>\n",
       "      <td>CUSTZ</td>\n",
       "      <td>1673</td>\n",
       "    </tr>\n",
       "    <tr>\n",
       "      <th>18466</th>\n",
       "      <td>202314</td>\n",
       "      <td>PRDCT9</td>\n",
       "      <td>CUSTZ</td>\n",
       "      <td>1752</td>\n",
       "    </tr>\n",
       "    <tr>\n",
       "      <th>18467</th>\n",
       "      <td>202315</td>\n",
       "      <td>PRDCT9</td>\n",
       "      <td>CUSTZ</td>\n",
       "      <td>1642</td>\n",
       "    </tr>\n",
       "  </tbody>\n",
       "</table>\n",
       "<p>18468 rows × 4 columns</p>\n",
       "</div>"
      ],
      "text/plain": [
       "       calweek product_code customer_code  Quantity\n",
       "0       202001       PRDCT1         CUSTA       537\n",
       "1       202002       PRDCT1         CUSTA       544\n",
       "2       202003       PRDCT1         CUSTA       574\n",
       "3       202004       PRDCT1         CUSTA       523\n",
       "4       202005       PRDCT1         CUSTA       571\n",
       "...        ...          ...           ...       ...\n",
       "18463   202311       PRDCT9         CUSTZ      1753\n",
       "18464   202312       PRDCT9         CUSTZ      1752\n",
       "18465   202313       PRDCT9         CUSTZ      1673\n",
       "18466   202314       PRDCT9         CUSTZ      1752\n",
       "18467   202315       PRDCT9         CUSTZ      1642\n",
       "\n",
       "[18468 rows x 4 columns]"
      ]
     },
     "execution_count": 76,
     "metadata": {},
     "output_type": "execute_result"
    }
   ],
   "source": [
    "df1"
   ]
  },
  {
   "cell_type": "code",
   "execution_count": 77,
   "id": "baac757c",
   "metadata": {},
   "outputs": [],
   "source": [
    "df1['timeseries_key'] = df['product_code'] + '_' + df['customer_code']"
   ]
  },
  {
   "cell_type": "code",
   "execution_count": 78,
   "id": "e0b2401f",
   "metadata": {},
   "outputs": [],
   "source": [
    "df1.set_index('calweek',inplace=True)"
   ]
  },
  {
   "cell_type": "code",
   "execution_count": 79,
   "id": "cc232949",
   "metadata": {},
   "outputs": [],
   "source": [
    "df_prod1 = df1[df1['timeseries_key']=='PRDCT1_CUSTA']"
   ]
  },
  {
   "cell_type": "code",
   "execution_count": 80,
   "id": "a4cefdf9",
   "metadata": {},
   "outputs": [
    {
     "data": {
      "text/html": [
       "<div>\n",
       "<style scoped>\n",
       "    .dataframe tbody tr th:only-of-type {\n",
       "        vertical-align: middle;\n",
       "    }\n",
       "\n",
       "    .dataframe tbody tr th {\n",
       "        vertical-align: top;\n",
       "    }\n",
       "\n",
       "    .dataframe thead th {\n",
       "        text-align: right;\n",
       "    }\n",
       "</style>\n",
       "<table border=\"1\" class=\"dataframe\">\n",
       "  <thead>\n",
       "    <tr style=\"text-align: right;\">\n",
       "      <th></th>\n",
       "      <th>product_code</th>\n",
       "      <th>customer_code</th>\n",
       "      <th>Quantity</th>\n",
       "      <th>timeseries_key</th>\n",
       "    </tr>\n",
       "    <tr>\n",
       "      <th>calweek</th>\n",
       "      <th></th>\n",
       "      <th></th>\n",
       "      <th></th>\n",
       "      <th></th>\n",
       "    </tr>\n",
       "  </thead>\n",
       "  <tbody>\n",
       "    <tr>\n",
       "      <th>202001</th>\n",
       "      <td>PRDCT1</td>\n",
       "      <td>CUSTA</td>\n",
       "      <td>537</td>\n",
       "      <td>PRDCT1_CUSTA</td>\n",
       "    </tr>\n",
       "    <tr>\n",
       "      <th>202002</th>\n",
       "      <td>PRDCT1</td>\n",
       "      <td>CUSTA</td>\n",
       "      <td>544</td>\n",
       "      <td>PRDCT1_CUSTA</td>\n",
       "    </tr>\n",
       "    <tr>\n",
       "      <th>202003</th>\n",
       "      <td>PRDCT1</td>\n",
       "      <td>CUSTA</td>\n",
       "      <td>574</td>\n",
       "      <td>PRDCT1_CUSTA</td>\n",
       "    </tr>\n",
       "    <tr>\n",
       "      <th>202004</th>\n",
       "      <td>PRDCT1</td>\n",
       "      <td>CUSTA</td>\n",
       "      <td>523</td>\n",
       "      <td>PRDCT1_CUSTA</td>\n",
       "    </tr>\n",
       "    <tr>\n",
       "      <th>202005</th>\n",
       "      <td>PRDCT1</td>\n",
       "      <td>CUSTA</td>\n",
       "      <td>571</td>\n",
       "      <td>PRDCT1_CUSTA</td>\n",
       "    </tr>\n",
       "    <tr>\n",
       "      <th>...</th>\n",
       "      <td>...</td>\n",
       "      <td>...</td>\n",
       "      <td>...</td>\n",
       "      <td>...</td>\n",
       "    </tr>\n",
       "    <tr>\n",
       "      <th>202311</th>\n",
       "      <td>PRDCT1</td>\n",
       "      <td>CUSTA</td>\n",
       "      <td>553</td>\n",
       "      <td>PRDCT1_CUSTA</td>\n",
       "    </tr>\n",
       "    <tr>\n",
       "      <th>202312</th>\n",
       "      <td>PRDCT1</td>\n",
       "      <td>CUSTA</td>\n",
       "      <td>522</td>\n",
       "      <td>PRDCT1_CUSTA</td>\n",
       "    </tr>\n",
       "    <tr>\n",
       "      <th>202313</th>\n",
       "      <td>PRDCT1</td>\n",
       "      <td>CUSTA</td>\n",
       "      <td>559</td>\n",
       "      <td>PRDCT1_CUSTA</td>\n",
       "    </tr>\n",
       "    <tr>\n",
       "      <th>202314</th>\n",
       "      <td>PRDCT1</td>\n",
       "      <td>CUSTA</td>\n",
       "      <td>541</td>\n",
       "      <td>PRDCT1_CUSTA</td>\n",
       "    </tr>\n",
       "    <tr>\n",
       "      <th>202315</th>\n",
       "      <td>PRDCT1</td>\n",
       "      <td>CUSTA</td>\n",
       "      <td>544</td>\n",
       "      <td>PRDCT1_CUSTA</td>\n",
       "    </tr>\n",
       "  </tbody>\n",
       "</table>\n",
       "<p>171 rows × 4 columns</p>\n",
       "</div>"
      ],
      "text/plain": [
       "        product_code customer_code  Quantity timeseries_key\n",
       "calweek                                                    \n",
       "202001        PRDCT1         CUSTA       537   PRDCT1_CUSTA\n",
       "202002        PRDCT1         CUSTA       544   PRDCT1_CUSTA\n",
       "202003        PRDCT1         CUSTA       574   PRDCT1_CUSTA\n",
       "202004        PRDCT1         CUSTA       523   PRDCT1_CUSTA\n",
       "202005        PRDCT1         CUSTA       571   PRDCT1_CUSTA\n",
       "...              ...           ...       ...            ...\n",
       "202311        PRDCT1         CUSTA       553   PRDCT1_CUSTA\n",
       "202312        PRDCT1         CUSTA       522   PRDCT1_CUSTA\n",
       "202313        PRDCT1         CUSTA       559   PRDCT1_CUSTA\n",
       "202314        PRDCT1         CUSTA       541   PRDCT1_CUSTA\n",
       "202315        PRDCT1         CUSTA       544   PRDCT1_CUSTA\n",
       "\n",
       "[171 rows x 4 columns]"
      ]
     },
     "execution_count": 80,
     "metadata": {},
     "output_type": "execute_result"
    }
   ],
   "source": [
    "df_prod1"
   ]
  },
  {
   "cell_type": "code",
   "execution_count": 81,
   "id": "faf6d2fc",
   "metadata": {},
   "outputs": [],
   "source": [
    "# Group data by 'calweek' and aggregate 'Quantity'\n",
    "ts_data = df_prod1.groupby('calweek')['Quantity'].sum()"
   ]
  },
  {
   "cell_type": "code",
   "execution_count": 82,
   "id": "75f5d75f",
   "metadata": {},
   "outputs": [
    {
     "data": {
      "text/plain": [
       "calweek\n",
       "202001    537\n",
       "202002    544\n",
       "202003    574\n",
       "202004    523\n",
       "202005    571\n",
       "         ... \n",
       "202311    553\n",
       "202312    522\n",
       "202313    559\n",
       "202314    541\n",
       "202315    544\n",
       "Name: Quantity, Length: 171, dtype: int64"
      ]
     },
     "execution_count": 82,
     "metadata": {},
     "output_type": "execute_result"
    }
   ],
   "source": [
    "ts_data"
   ]
  },
  {
   "cell_type": "code",
   "execution_count": 83,
   "id": "8866a21d",
   "metadata": {},
   "outputs": [],
   "source": [
    "import matplotlib.pyplot as plt\n",
    "from statsmodels.tsa.arima.model import ARIMA\n",
    "from statsmodels.tsa.statespace.sarimax import SARIMAX\n",
    "from statsmodels.tsa.holtwinters import ExponentialSmoothing\n",
    "from sklearn.metrics import mean_absolute_error, mean_squared_error"
   ]
  },
  {
   "cell_type": "code",
   "execution_count": 84,
   "id": "9c79d69a",
   "metadata": {},
   "outputs": [],
   "source": [
    "from statsmodels.tsa.stattools import adfuller"
   ]
  },
  {
   "cell_type": "code",
   "execution_count": 85,
   "id": "1049433f",
   "metadata": {},
   "outputs": [],
   "source": [
    "passing_data=adfuller(ts_data)"
   ]
  },
  {
   "cell_type": "code",
   "execution_count": 86,
   "id": "664bb363",
   "metadata": {},
   "outputs": [],
   "source": [
    "def adf_test(sales):\n",
    "    result=adfuller(ts_data)\n",
    "    labels = ['Test parameters', 'p-value','#Lags Used','Dataset observations']\n",
    "    for value,label in zip(result,labels):\n",
    "        print(label+' : '+str(value) )\n",
    "    if result[1] <= 0.05:\n",
    "        print(\"Dataset is stationary\")\n",
    "    else:\n",
    "        print(\"Dataset is non-stationary \")"
   ]
  },
  {
   "cell_type": "code",
   "execution_count": 87,
   "id": "2f383837",
   "metadata": {},
   "outputs": [
    {
     "name": "stdout",
     "output_type": "stream",
     "text": [
      "Test parameters : -13.40756855326419\n",
      "p-value : 4.439179540608158e-25\n",
      "#Lags Used : 0\n",
      "Dataset observations : 170\n",
      "Dataset is stationary\n"
     ]
    }
   ],
   "source": [
    "adf_test(ts_data)"
   ]
  },
  {
   "cell_type": "code",
   "execution_count": 88,
   "id": "821471d5",
   "metadata": {},
   "outputs": [
    {
     "data": {
      "text/plain": [
       "171"
      ]
     },
     "execution_count": 88,
     "metadata": {},
     "output_type": "execute_result"
    }
   ],
   "source": [
    "len(ts_data)"
   ]
  },
  {
   "cell_type": "code",
   "execution_count": 89,
   "id": "2c46eae0",
   "metadata": {},
   "outputs": [],
   "source": [
    "# Split data into training and testing sets\n",
    "train = ts_data.iloc[:130]\n",
    "test = ts_data.iloc[130:]"
   ]
  },
  {
   "cell_type": "code",
   "execution_count": 90,
   "id": "4341a130",
   "metadata": {},
   "outputs": [],
   "source": [
    "# ARIMA model\n",
    "def arima_forecast(train, test):\n",
    "    model = ARIMA(train, order=(1, 0, 0))  # ARIMA(p, d, q)\n",
    "    model_fit = model.fit()\n",
    "    forecast = model_fit.forecast(steps=len(test))\n",
    "    return forecast\n",
    "\n",
    "# SARIMA model\n",
    "def sarima_forecast(train, test):\n",
    "    model = SARIMAX(train, order=(1, 0, 0), seasonal_order=(1, 0, 0, 12))  # SARIMA(p, d, q)(P, D, Q, m)\n",
    "    model_fit = model.fit()\n",
    "    forecast = model_fit.forecast(steps=len(test))\n",
    "    return forecast\n",
    "\n",
    "# Holt-Winters model\n",
    "def holt_winters_forecast(train, test):\n",
    "    model = ExponentialSmoothing(train, seasonal_periods=12, trend='add', seasonal='add')\n",
    "    model_fit = model.fit()\n",
    "    forecast = model_fit.forecast(len(test))\n",
    "    return forecast"
   ]
  },
  {
   "cell_type": "code",
   "execution_count": 91,
   "id": "25b533fe",
   "metadata": {},
   "outputs": [
    {
     "name": "stderr",
     "output_type": "stream",
     "text": [
      "F:\\Python\\lib\\site-packages\\statsmodels\\tsa\\base\\tsa_model.py:471: ValueWarning: An unsupported index was provided and will be ignored when e.g. forecasting.\n",
      "  self._init_dates(dates, freq)\n",
      "F:\\Python\\lib\\site-packages\\statsmodels\\tsa\\base\\tsa_model.py:471: ValueWarning: An unsupported index was provided and will be ignored when e.g. forecasting.\n",
      "  self._init_dates(dates, freq)\n",
      "F:\\Python\\lib\\site-packages\\statsmodels\\tsa\\base\\tsa_model.py:471: ValueWarning: An unsupported index was provided and will be ignored when e.g. forecasting.\n",
      "  self._init_dates(dates, freq)\n",
      "F:\\Python\\lib\\site-packages\\statsmodels\\tsa\\base\\tsa_model.py:834: ValueWarning: No supported index is available. Prediction results will be given with an integer index beginning at `start`.\n",
      "  return get_prediction_index(\n",
      "F:\\Python\\lib\\site-packages\\statsmodels\\tsa\\base\\tsa_model.py:471: ValueWarning: An unsupported index was provided and will be ignored when e.g. forecasting.\n",
      "  self._init_dates(dates, freq)\n",
      "F:\\Python\\lib\\site-packages\\statsmodels\\tsa\\base\\tsa_model.py:471: ValueWarning: An unsupported index was provided and will be ignored when e.g. forecasting.\n",
      "  self._init_dates(dates, freq)\n",
      "F:\\Python\\lib\\site-packages\\statsmodels\\tsa\\base\\tsa_model.py:834: ValueWarning: No supported index is available. Prediction results will be given with an integer index beginning at `start`.\n",
      "  return get_prediction_index(\n",
      "F:\\Python\\lib\\site-packages\\statsmodels\\tsa\\base\\tsa_model.py:471: ValueWarning: An unsupported index was provided and will be ignored when e.g. forecasting.\n",
      "  self._init_dates(dates, freq)\n",
      "F:\\Python\\lib\\site-packages\\statsmodels\\tsa\\base\\tsa_model.py:834: ValueWarning: No supported index is available. Prediction results will be given with an integer index beginning at `start`.\n",
      "  return get_prediction_index(\n"
     ]
    }
   ],
   "source": [
    "# Perform forecasting using ARIMA\n",
    "arima_predictions = arima_forecast(train, test)\n",
    "\n",
    "# Perform forecasting using SARIMA\n",
    "sarima_predictions = sarima_forecast(train, test)\n",
    "\n",
    "# Perform forecasting using Holt-Winters\n",
    "holt_winters_predictions = holt_winters_forecast(train, test)"
   ]
  },
  {
   "cell_type": "code",
   "execution_count": 92,
   "id": "b72c8a1d",
   "metadata": {},
   "outputs": [
    {
     "data": {
      "text/plain": [
       "3.259209679479494"
      ]
     },
     "execution_count": 92,
     "metadata": {},
     "output_type": "execute_result"
    }
   ],
   "source": [
    "from sklearn.metrics import mean_absolute_percentage_error\n",
    "mean_absolute_percentage_error(test,arima_predictions)*100"
   ]
  },
  {
   "cell_type": "code",
   "execution_count": 93,
   "id": "0883dc61",
   "metadata": {},
   "outputs": [
    {
     "data": {
      "text/plain": [
       "12.611328260186342"
      ]
     },
     "execution_count": 93,
     "metadata": {},
     "output_type": "execute_result"
    }
   ],
   "source": [
    "mean_absolute_percentage_error(test,sarima_predictions)*100"
   ]
  },
  {
   "cell_type": "code",
   "execution_count": 94,
   "id": "1e508e62",
   "metadata": {},
   "outputs": [
    {
     "data": {
      "text/plain": [
       "3.268848846809093"
      ]
     },
     "execution_count": 94,
     "metadata": {},
     "output_type": "execute_result"
    }
   ],
   "source": [
    "mean_absolute_percentage_error(test,holt_winters_predictions)*100"
   ]
  },
  {
   "cell_type": "code",
   "execution_count": 95,
   "id": "c360b710",
   "metadata": {},
   "outputs": [],
   "source": [
    "# # Visualize the forecasts\n",
    "# plt.plot(test.index, test.to_numpy(), label='Actual')\n",
    "# plt.plot(test.index, arima_predictions.to_numpy(), label='ARIMA')\n",
    "# plt.plot(test.index, sarima_predictions.to_numpy(), label='SARIMA')\n",
    "# plt.plot(test.index, holt_winters_predictions.to_numpy(), label='Holt-Winters')"
   ]
  },
  {
   "cell_type": "markdown",
   "id": "ddeaa37b",
   "metadata": {},
   "source": [
    "### FORECASTING"
   ]
  },
  {
   "cell_type": "code",
   "execution_count": 96,
   "id": "99303ecd",
   "metadata": {},
   "outputs": [],
   "source": [
    "# Split data into training and testing sets\n",
    "train = ts_data.iloc[:172]"
   ]
  },
  {
   "cell_type": "code",
   "execution_count": 97,
   "id": "8cae2ca7",
   "metadata": {},
   "outputs": [],
   "source": [
    "# Holt-Winters model\n",
    "def holt_winters_forecast(train):\n",
    "    model = ExponentialSmoothing(train, seasonal_periods=12, trend='add', seasonal='add')\n",
    "    model_fit = model.fit()\n",
    "    forecast = model_fit.forecast(13)\n",
    "    return forecast"
   ]
  },
  {
   "cell_type": "code",
   "execution_count": 98,
   "id": "3508df84",
   "metadata": {},
   "outputs": [
    {
     "name": "stderr",
     "output_type": "stream",
     "text": [
      "F:\\Python\\lib\\site-packages\\statsmodels\\tsa\\base\\tsa_model.py:471: ValueWarning: An unsupported index was provided and will be ignored when e.g. forecasting.\n",
      "  self._init_dates(dates, freq)\n",
      "F:\\Python\\lib\\site-packages\\statsmodels\\tsa\\base\\tsa_model.py:834: ValueWarning: No supported index is available. Prediction results will be given with an integer index beginning at `start`.\n",
      "  return get_prediction_index(\n"
     ]
    }
   ],
   "source": [
    "# Perform forecasting using Holt-Winters\n",
    "holt_winters_predictions = holt_winters_forecast(train)"
   ]
  },
  {
   "cell_type": "code",
   "execution_count": 99,
   "id": "8290b056",
   "metadata": {},
   "outputs": [
    {
     "data": {
      "text/plain": [
       "171    536.065287\n",
       "172    541.988671\n",
       "173    544.762172\n",
       "174    542.621226\n",
       "175    540.535257\n",
       "176    545.423074\n",
       "177    544.284717\n",
       "178    547.920536\n",
       "179    538.486300\n",
       "180    542.522590\n",
       "181    543.853003\n",
       "182    533.396751\n",
       "183    535.223393\n",
       "dtype: float64"
      ]
     },
     "execution_count": 99,
     "metadata": {},
     "output_type": "execute_result"
    }
   ],
   "source": [
    "holt_winters_predictions"
   ]
  },
  {
   "cell_type": "code",
   "execution_count": null,
   "id": "6f656118",
   "metadata": {},
   "outputs": [],
   "source": []
  },
  {
   "cell_type": "code",
   "execution_count": null,
   "id": "576c580f",
   "metadata": {},
   "outputs": [],
   "source": []
  }
 ],
 "metadata": {
  "kernelspec": {
   "display_name": "Python 3 (ipykernel)",
   "language": "python",
   "name": "python3"
  },
  "language_info": {
   "codemirror_mode": {
    "name": "ipython",
    "version": 3
   },
   "file_extension": ".py",
   "mimetype": "text/x-python",
   "name": "python",
   "nbconvert_exporter": "python",
   "pygments_lexer": "ipython3",
   "version": "3.10.1"
  }
 },
 "nbformat": 4,
 "nbformat_minor": 5
}
