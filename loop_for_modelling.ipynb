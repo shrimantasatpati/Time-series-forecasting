{
 "cells": [
  {
   "cell_type": "code",
   "execution_count": 51,
   "id": "4950c088",
   "metadata": {},
   "outputs": [],
   "source": [
    "import pandas as pd\n",
    "import numpy as np"
   ]
  },
  {
   "cell_type": "code",
   "execution_count": 52,
   "id": "45b4d841",
   "metadata": {},
   "outputs": [],
   "source": [
    "import warnings\n",
    "\n",
    "warnings.filterwarnings(\"ignore\")"
   ]
  },
  {
   "cell_type": "code",
   "execution_count": 53,
   "id": "b1914d62",
   "metadata": {},
   "outputs": [],
   "source": [
    "import matplotlib.pyplot as plt\n",
    "from statsmodels.tsa.arima.model import ARIMA\n",
    "from statsmodels.tsa.statespace.sarimax import SARIMAX\n",
    "from statsmodels.tsa.holtwinters import ExponentialSmoothing\n",
    "from sklearn.metrics import mean_absolute_error, mean_squared_error"
   ]
  },
  {
   "cell_type": "code",
   "execution_count": 54,
   "id": "e7c8dbb3",
   "metadata": {},
   "outputs": [],
   "source": [
    "df = pd.read_csv(\"train.csv\", encoding=\"utf-8\")"
   ]
  },
  {
   "cell_type": "code",
   "execution_count": 55,
   "id": "af55b589",
   "metadata": {},
   "outputs": [
    {
     "data": {
      "text/html": [
       "<div>\n",
       "<style scoped>\n",
       "    .dataframe tbody tr th:only-of-type {\n",
       "        vertical-align: middle;\n",
       "    }\n",
       "\n",
       "    .dataframe tbody tr th {\n",
       "        vertical-align: top;\n",
       "    }\n",
       "\n",
       "    .dataframe thead th {\n",
       "        text-align: right;\n",
       "    }\n",
       "</style>\n",
       "<table border=\"1\" class=\"dataframe\">\n",
       "  <thead>\n",
       "    <tr style=\"text-align: right;\">\n",
       "      <th></th>\n",
       "      <th>Cluster/Country/Region</th>\n",
       "      <th>SubCluster</th>\n",
       "      <th>calweek</th>\n",
       "      <th>brand</th>\n",
       "      <th>dc</th>\n",
       "      <th>product_code</th>\n",
       "      <th>customer_code</th>\n",
       "      <th>Quantity</th>\n",
       "    </tr>\n",
       "  </thead>\n",
       "  <tbody>\n",
       "    <tr>\n",
       "      <th>0</th>\n",
       "      <td>US</td>\n",
       "      <td>SC1</td>\n",
       "      <td>202001</td>\n",
       "      <td>BRANDA</td>\n",
       "      <td>DC1</td>\n",
       "      <td>PRDCT1</td>\n",
       "      <td>CUSTA</td>\n",
       "      <td>537</td>\n",
       "    </tr>\n",
       "    <tr>\n",
       "      <th>1</th>\n",
       "      <td>US</td>\n",
       "      <td>SC1</td>\n",
       "      <td>202002</td>\n",
       "      <td>BRANDA</td>\n",
       "      <td>DC1</td>\n",
       "      <td>PRDCT1</td>\n",
       "      <td>CUSTA</td>\n",
       "      <td>544</td>\n",
       "    </tr>\n",
       "    <tr>\n",
       "      <th>2</th>\n",
       "      <td>US</td>\n",
       "      <td>SC1</td>\n",
       "      <td>202003</td>\n",
       "      <td>BRANDA</td>\n",
       "      <td>DC1</td>\n",
       "      <td>PRDCT1</td>\n",
       "      <td>CUSTA</td>\n",
       "      <td>574</td>\n",
       "    </tr>\n",
       "    <tr>\n",
       "      <th>3</th>\n",
       "      <td>US</td>\n",
       "      <td>SC1</td>\n",
       "      <td>202004</td>\n",
       "      <td>BRANDA</td>\n",
       "      <td>DC1</td>\n",
       "      <td>PRDCT1</td>\n",
       "      <td>CUSTA</td>\n",
       "      <td>523</td>\n",
       "    </tr>\n",
       "    <tr>\n",
       "      <th>4</th>\n",
       "      <td>US</td>\n",
       "      <td>SC1</td>\n",
       "      <td>202005</td>\n",
       "      <td>BRANDA</td>\n",
       "      <td>DC1</td>\n",
       "      <td>PRDCT1</td>\n",
       "      <td>CUSTA</td>\n",
       "      <td>571</td>\n",
       "    </tr>\n",
       "    <tr>\n",
       "      <th>...</th>\n",
       "      <td>...</td>\n",
       "      <td>...</td>\n",
       "      <td>...</td>\n",
       "      <td>...</td>\n",
       "      <td>...</td>\n",
       "      <td>...</td>\n",
       "      <td>...</td>\n",
       "      <td>...</td>\n",
       "    </tr>\n",
       "    <tr>\n",
       "      <th>18463</th>\n",
       "      <td>US</td>\n",
       "      <td>SC2</td>\n",
       "      <td>202311</td>\n",
       "      <td>BRANDC</td>\n",
       "      <td>DC4</td>\n",
       "      <td>PRDCT9</td>\n",
       "      <td>CUSTZ</td>\n",
       "      <td>1753</td>\n",
       "    </tr>\n",
       "    <tr>\n",
       "      <th>18464</th>\n",
       "      <td>US</td>\n",
       "      <td>SC2</td>\n",
       "      <td>202312</td>\n",
       "      <td>BRANDC</td>\n",
       "      <td>DC4</td>\n",
       "      <td>PRDCT9</td>\n",
       "      <td>CUSTZ</td>\n",
       "      <td>1752</td>\n",
       "    </tr>\n",
       "    <tr>\n",
       "      <th>18465</th>\n",
       "      <td>US</td>\n",
       "      <td>SC2</td>\n",
       "      <td>202313</td>\n",
       "      <td>BRANDC</td>\n",
       "      <td>DC4</td>\n",
       "      <td>PRDCT9</td>\n",
       "      <td>CUSTZ</td>\n",
       "      <td>1673</td>\n",
       "    </tr>\n",
       "    <tr>\n",
       "      <th>18466</th>\n",
       "      <td>US</td>\n",
       "      <td>SC2</td>\n",
       "      <td>202314</td>\n",
       "      <td>BRANDC</td>\n",
       "      <td>DC4</td>\n",
       "      <td>PRDCT9</td>\n",
       "      <td>CUSTZ</td>\n",
       "      <td>1752</td>\n",
       "    </tr>\n",
       "    <tr>\n",
       "      <th>18467</th>\n",
       "      <td>US</td>\n",
       "      <td>SC2</td>\n",
       "      <td>202315</td>\n",
       "      <td>BRANDC</td>\n",
       "      <td>DC4</td>\n",
       "      <td>PRDCT9</td>\n",
       "      <td>CUSTZ</td>\n",
       "      <td>1642</td>\n",
       "    </tr>\n",
       "  </tbody>\n",
       "</table>\n",
       "<p>18468 rows × 8 columns</p>\n",
       "</div>"
      ],
      "text/plain": [
       "      Cluster/Country/Region SubCluster  calweek   brand   dc product_code   \n",
       "0                         US        SC1   202001  BRANDA  DC1       PRDCT1  \\\n",
       "1                         US        SC1   202002  BRANDA  DC1       PRDCT1   \n",
       "2                         US        SC1   202003  BRANDA  DC1       PRDCT1   \n",
       "3                         US        SC1   202004  BRANDA  DC1       PRDCT1   \n",
       "4                         US        SC1   202005  BRANDA  DC1       PRDCT1   \n",
       "...                      ...        ...      ...     ...  ...          ...   \n",
       "18463                     US        SC2   202311  BRANDC  DC4       PRDCT9   \n",
       "18464                     US        SC2   202312  BRANDC  DC4       PRDCT9   \n",
       "18465                     US        SC2   202313  BRANDC  DC4       PRDCT9   \n",
       "18466                     US        SC2   202314  BRANDC  DC4       PRDCT9   \n",
       "18467                     US        SC2   202315  BRANDC  DC4       PRDCT9   \n",
       "\n",
       "      customer_code  Quantity  \n",
       "0             CUSTA       537  \n",
       "1             CUSTA       544  \n",
       "2             CUSTA       574  \n",
       "3             CUSTA       523  \n",
       "4             CUSTA       571  \n",
       "...             ...       ...  \n",
       "18463         CUSTZ      1753  \n",
       "18464         CUSTZ      1752  \n",
       "18465         CUSTZ      1673  \n",
       "18466         CUSTZ      1752  \n",
       "18467         CUSTZ      1642  \n",
       "\n",
       "[18468 rows x 8 columns]"
      ]
     },
     "execution_count": 55,
     "metadata": {},
     "output_type": "execute_result"
    }
   ],
   "source": [
    "df"
   ]
  },
  {
   "cell_type": "code",
   "execution_count": 56,
   "id": "a6dec46c",
   "metadata": {},
   "outputs": [
    {
     "data": {
      "text/plain": [
       "Index(['Cluster/Country/Region', 'SubCluster', 'calweek', 'brand', 'dc',\n",
       "       'product_code', 'customer_code', 'Quantity'],\n",
       "      dtype='object')"
      ]
     },
     "execution_count": 56,
     "metadata": {},
     "output_type": "execute_result"
    }
   ],
   "source": [
    "df.columns"
   ]
  },
  {
   "cell_type": "code",
   "execution_count": 57,
   "id": "c678feb1",
   "metadata": {},
   "outputs": [],
   "source": [
    "df1 = df.drop(['Cluster/Country/Region', 'SubCluster', 'brand', 'dc'], axis = 1)"
   ]
  },
  {
   "cell_type": "code",
   "execution_count": 58,
   "id": "f129cf86",
   "metadata": {},
   "outputs": [
    {
     "data": {
      "text/html": [
       "<div>\n",
       "<style scoped>\n",
       "    .dataframe tbody tr th:only-of-type {\n",
       "        vertical-align: middle;\n",
       "    }\n",
       "\n",
       "    .dataframe tbody tr th {\n",
       "        vertical-align: top;\n",
       "    }\n",
       "\n",
       "    .dataframe thead th {\n",
       "        text-align: right;\n",
       "    }\n",
       "</style>\n",
       "<table border=\"1\" class=\"dataframe\">\n",
       "  <thead>\n",
       "    <tr style=\"text-align: right;\">\n",
       "      <th></th>\n",
       "      <th>calweek</th>\n",
       "      <th>product_code</th>\n",
       "      <th>customer_code</th>\n",
       "      <th>Quantity</th>\n",
       "    </tr>\n",
       "  </thead>\n",
       "  <tbody>\n",
       "    <tr>\n",
       "      <th>0</th>\n",
       "      <td>202001</td>\n",
       "      <td>PRDCT1</td>\n",
       "      <td>CUSTA</td>\n",
       "      <td>537</td>\n",
       "    </tr>\n",
       "    <tr>\n",
       "      <th>1</th>\n",
       "      <td>202002</td>\n",
       "      <td>PRDCT1</td>\n",
       "      <td>CUSTA</td>\n",
       "      <td>544</td>\n",
       "    </tr>\n",
       "    <tr>\n",
       "      <th>2</th>\n",
       "      <td>202003</td>\n",
       "      <td>PRDCT1</td>\n",
       "      <td>CUSTA</td>\n",
       "      <td>574</td>\n",
       "    </tr>\n",
       "    <tr>\n",
       "      <th>3</th>\n",
       "      <td>202004</td>\n",
       "      <td>PRDCT1</td>\n",
       "      <td>CUSTA</td>\n",
       "      <td>523</td>\n",
       "    </tr>\n",
       "    <tr>\n",
       "      <th>4</th>\n",
       "      <td>202005</td>\n",
       "      <td>PRDCT1</td>\n",
       "      <td>CUSTA</td>\n",
       "      <td>571</td>\n",
       "    </tr>\n",
       "    <tr>\n",
       "      <th>...</th>\n",
       "      <td>...</td>\n",
       "      <td>...</td>\n",
       "      <td>...</td>\n",
       "      <td>...</td>\n",
       "    </tr>\n",
       "    <tr>\n",
       "      <th>18463</th>\n",
       "      <td>202311</td>\n",
       "      <td>PRDCT9</td>\n",
       "      <td>CUSTZ</td>\n",
       "      <td>1753</td>\n",
       "    </tr>\n",
       "    <tr>\n",
       "      <th>18464</th>\n",
       "      <td>202312</td>\n",
       "      <td>PRDCT9</td>\n",
       "      <td>CUSTZ</td>\n",
       "      <td>1752</td>\n",
       "    </tr>\n",
       "    <tr>\n",
       "      <th>18465</th>\n",
       "      <td>202313</td>\n",
       "      <td>PRDCT9</td>\n",
       "      <td>CUSTZ</td>\n",
       "      <td>1673</td>\n",
       "    </tr>\n",
       "    <tr>\n",
       "      <th>18466</th>\n",
       "      <td>202314</td>\n",
       "      <td>PRDCT9</td>\n",
       "      <td>CUSTZ</td>\n",
       "      <td>1752</td>\n",
       "    </tr>\n",
       "    <tr>\n",
       "      <th>18467</th>\n",
       "      <td>202315</td>\n",
       "      <td>PRDCT9</td>\n",
       "      <td>CUSTZ</td>\n",
       "      <td>1642</td>\n",
       "    </tr>\n",
       "  </tbody>\n",
       "</table>\n",
       "<p>18468 rows × 4 columns</p>\n",
       "</div>"
      ],
      "text/plain": [
       "       calweek product_code customer_code  Quantity\n",
       "0       202001       PRDCT1         CUSTA       537\n",
       "1       202002       PRDCT1         CUSTA       544\n",
       "2       202003       PRDCT1         CUSTA       574\n",
       "3       202004       PRDCT1         CUSTA       523\n",
       "4       202005       PRDCT1         CUSTA       571\n",
       "...        ...          ...           ...       ...\n",
       "18463   202311       PRDCT9         CUSTZ      1753\n",
       "18464   202312       PRDCT9         CUSTZ      1752\n",
       "18465   202313       PRDCT9         CUSTZ      1673\n",
       "18466   202314       PRDCT9         CUSTZ      1752\n",
       "18467   202315       PRDCT9         CUSTZ      1642\n",
       "\n",
       "[18468 rows x 4 columns]"
      ]
     },
     "execution_count": 58,
     "metadata": {},
     "output_type": "execute_result"
    }
   ],
   "source": [
    "df1"
   ]
  },
  {
   "cell_type": "code",
   "execution_count": 59,
   "id": "60dd3483",
   "metadata": {},
   "outputs": [],
   "source": [
    "df1['timeseries_key'] = df['product_code'] + '_' + df['customer_code']"
   ]
  },
  {
   "cell_type": "code",
   "execution_count": 60,
   "id": "08f14607",
   "metadata": {},
   "outputs": [],
   "source": [
    "df1.set_index('calweek',inplace=True)"
   ]
  },
  {
   "cell_type": "code",
   "execution_count": 61,
   "id": "3befa3bb",
   "metadata": {},
   "outputs": [
    {
     "data": {
      "text/plain": [
       "array(['PRDCT1_CUSTA', 'PRDCT1_CUSTB', 'PRDCT1_CUSTC', 'PRDCT1_CUSTD',\n",
       "       'PRDCT1_CUSTE', 'PRDCT1_CUSTF', 'PRDCT2_CUSTA', 'PRDCT2_CUSTB',\n",
       "       'PRDCT2_CUSTC', 'PRDCT2_CUSTD', 'PRDCT2_CUSTE', 'PRDCT2_CUSTF',\n",
       "       'PRDCT3_CUSTA', 'PRDCT3_CUSTB', 'PRDCT3_CUSTC', 'PRDCT3_CUSTD',\n",
       "       'PRDCT3_CUSTE', 'PRDCT3_CUSTF', 'PRDCT4_CUSTA', 'PRDCT4_CUSTB',\n",
       "       'PRDCT4_CUSTC', 'PRDCT4_CUSTD', 'PRDCT4_CUSTE', 'PRDCT4_CUSTF',\n",
       "       'PRDCT5_CUSTA', 'PRDCT5_CUSTB', 'PRDCT5_CUSTC', 'PRDCT5_CUSTD',\n",
       "       'PRDCT5_CUSTE', 'PRDCT5_CUSTF', 'PRDCT6_CUSTA', 'PRDCT6_CUSTB',\n",
       "       'PRDCT6_CUSTC', 'PRDCT6_CUSTD', 'PRDCT6_CUSTE', 'PRDCT6_CUSTF',\n",
       "       'PRDCT7_CUSTA', 'PRDCT7_CUSTB', 'PRDCT7_CUSTC', 'PRDCT7_CUSTD',\n",
       "       'PRDCT7_CUSTE', 'PRDCT7_CUSTF', 'PRDCT8_CUSTA', 'PRDCT8_CUSTB',\n",
       "       'PRDCT8_CUSTC', 'PRDCT8_CUSTD', 'PRDCT8_CUSTE', 'PRDCT8_CUSTF',\n",
       "       'PRDCT9_CUSTA', 'PRDCT9_CUSTB', 'PRDCT9_CUSTC', 'PRDCT9_CUSTD',\n",
       "       'PRDCT9_CUSTE', 'PRDCT9_CUSTF', 'PRDCT1_CUSTK', 'PRDCT1_CUSTL',\n",
       "       'PRDCT1_CUSTM', 'PRDCT1_CUSTX', 'PRDCT1_CUSTY', 'PRDCT1_CUSTZ',\n",
       "       'PRDCT2_CUSTK', 'PRDCT2_CUSTL', 'PRDCT2_CUSTM', 'PRDCT2_CUSTX',\n",
       "       'PRDCT2_CUSTY', 'PRDCT2_CUSTZ', 'PRDCT3_CUSTK', 'PRDCT3_CUSTL',\n",
       "       'PRDCT3_CUSTM', 'PRDCT3_CUSTX', 'PRDCT3_CUSTY', 'PRDCT3_CUSTZ',\n",
       "       'PRDCT4_CUSTK', 'PRDCT4_CUSTL', 'PRDCT4_CUSTM', 'PRDCT4_CUSTX',\n",
       "       'PRDCT4_CUSTY', 'PRDCT4_CUSTZ', 'PRDCT5_CUSTK', 'PRDCT5_CUSTL',\n",
       "       'PRDCT5_CUSTM', 'PRDCT5_CUSTX', 'PRDCT5_CUSTY', 'PRDCT5_CUSTZ',\n",
       "       'PRDCT6_CUSTK', 'PRDCT6_CUSTL', 'PRDCT6_CUSTM', 'PRDCT6_CUSTX',\n",
       "       'PRDCT6_CUSTY', 'PRDCT6_CUSTZ', 'PRDCT7_CUSTK', 'PRDCT7_CUSTL',\n",
       "       'PRDCT7_CUSTM', 'PRDCT7_CUSTX', 'PRDCT7_CUSTY', 'PRDCT7_CUSTZ',\n",
       "       'PRDCT8_CUSTK', 'PRDCT8_CUSTL', 'PRDCT8_CUSTM', 'PRDCT8_CUSTX',\n",
       "       'PRDCT8_CUSTY', 'PRDCT8_CUSTZ', 'PRDCT9_CUSTK', 'PRDCT9_CUSTL',\n",
       "       'PRDCT9_CUSTM', 'PRDCT9_CUSTX', 'PRDCT9_CUSTY', 'PRDCT9_CUSTZ'],\n",
       "      dtype=object)"
      ]
     },
     "execution_count": 61,
     "metadata": {},
     "output_type": "execute_result"
    }
   ],
   "source": [
    "df1['timeseries_key'].unique()"
   ]
  },
  {
   "cell_type": "code",
   "execution_count": 62,
   "id": "14243bbe",
   "metadata": {},
   "outputs": [],
   "source": [
    "timeseries_key_values= ['PRDCT1_CUSTA', 'PRDCT1_CUSTB', 'PRDCT1_CUSTC', 'PRDCT1_CUSTD',\n",
    "       'PRDCT1_CUSTE', 'PRDCT1_CUSTF', 'PRDCT2_CUSTA', 'PRDCT2_CUSTB',\n",
    "       'PRDCT2_CUSTC', 'PRDCT2_CUSTD', 'PRDCT2_CUSTE', 'PRDCT2_CUSTF',\n",
    "       'PRDCT3_CUSTA', 'PRDCT3_CUSTB', 'PRDCT3_CUSTC', 'PRDCT3_CUSTD',\n",
    "       'PRDCT3_CUSTE', 'PRDCT3_CUSTF', 'PRDCT4_CUSTA', 'PRDCT4_CUSTB',\n",
    "       'PRDCT4_CUSTC', 'PRDCT4_CUSTD', 'PRDCT4_CUSTE', 'PRDCT4_CUSTF',\n",
    "       'PRDCT5_CUSTA', 'PRDCT5_CUSTB', 'PRDCT5_CUSTC', 'PRDCT5_CUSTD',\n",
    "       'PRDCT5_CUSTE', 'PRDCT5_CUSTF', 'PRDCT6_CUSTA', 'PRDCT6_CUSTB',\n",
    "       'PRDCT6_CUSTC', 'PRDCT6_CUSTD', 'PRDCT6_CUSTE', 'PRDCT6_CUSTF',\n",
    "       'PRDCT7_CUSTA', 'PRDCT7_CUSTB', 'PRDCT7_CUSTC', 'PRDCT7_CUSTD',\n",
    "       'PRDCT7_CUSTE', 'PRDCT7_CUSTF', 'PRDCT8_CUSTA', 'PRDCT8_CUSTB',\n",
    "       'PRDCT8_CUSTC', 'PRDCT8_CUSTD', 'PRDCT8_CUSTE', 'PRDCT8_CUSTF',\n",
    "       'PRDCT9_CUSTA', 'PRDCT9_CUSTB', 'PRDCT9_CUSTC', 'PRDCT9_CUSTD',\n",
    "       'PRDCT9_CUSTE', 'PRDCT9_CUSTF', 'PRDCT1_CUSTK', 'PRDCT1_CUSTL',\n",
    "       'PRDCT1_CUSTM', 'PRDCT1_CUSTX', 'PRDCT1_CUSTY', 'PRDCT1_CUSTZ',\n",
    "       'PRDCT2_CUSTK', 'PRDCT2_CUSTL', 'PRDCT2_CUSTM', 'PRDCT2_CUSTX',\n",
    "       'PRDCT2_CUSTY', 'PRDCT2_CUSTZ', 'PRDCT3_CUSTK', 'PRDCT3_CUSTL',\n",
    "       'PRDCT3_CUSTM', 'PRDCT3_CUSTX', 'PRDCT3_CUSTY', 'PRDCT3_CUSTZ',\n",
    "       'PRDCT4_CUSTK', 'PRDCT4_CUSTL', 'PRDCT4_CUSTM', 'PRDCT4_CUSTX',\n",
    "       'PRDCT4_CUSTY', 'PRDCT4_CUSTZ', 'PRDCT5_CUSTK', 'PRDCT5_CUSTL',\n",
    "       'PRDCT5_CUSTM', 'PRDCT5_CUSTX', 'PRDCT5_CUSTY', 'PRDCT5_CUSTZ',\n",
    "       'PRDCT6_CUSTK', 'PRDCT6_CUSTL', 'PRDCT6_CUSTM', 'PRDCT6_CUSTX',\n",
    "       'PRDCT6_CUSTY', 'PRDCT6_CUSTZ', 'PRDCT7_CUSTK', 'PRDCT7_CUSTL',\n",
    "       'PRDCT7_CUSTM', 'PRDCT7_CUSTX', 'PRDCT7_CUSTY', 'PRDCT7_CUSTZ',\n",
    "       'PRDCT8_CUSTK', 'PRDCT8_CUSTL', 'PRDCT8_CUSTM', 'PRDCT8_CUSTX',\n",
    "       'PRDCT8_CUSTY', 'PRDCT8_CUSTZ', 'PRDCT9_CUSTK', 'PRDCT9_CUSTL',\n",
    "       'PRDCT9_CUSTM', 'PRDCT9_CUSTX', 'PRDCT9_CUSTY', 'PRDCT9_CUSTZ']"
   ]
  },
  {
   "cell_type": "code",
   "execution_count": 63,
   "id": "445766a6",
   "metadata": {},
   "outputs": [],
   "source": [
    "# ARIMA model\n",
    "def arima_forecast(train, test):\n",
    "    model = ARIMA(train, order=(1, 0, 0))  # ARIMA(p, d, q)\n",
    "    model_fit = model.fit()\n",
    "    forecast = model_fit.forecast(steps=len(test))\n",
    "    return forecast\n",
    "\n",
    "# SARIMA model\n",
    "def sarima_forecast(train, test):\n",
    "    model = SARIMAX(train, order=(1, 0, 0), seasonal_order=(1, 0, 0, 12))  # SARIMA(p, d, q)(P, D, Q, m)\n",
    "    model_fit = model.fit()\n",
    "    forecast = model_fit.forecast(steps=len(test))\n",
    "    return forecast\n",
    "\n",
    "# Holt-Winters model\n",
    "def holt_winters_forecast(train, test):\n",
    "    model = ExponentialSmoothing(train, seasonal_periods=12, trend='add', seasonal='add')\n",
    "    model_fit = model.fit()\n",
    "    forecast = model_fit.forecast(len(test))\n",
    "    return forecast"
   ]
  },
  {
   "cell_type": "code",
   "execution_count": null,
   "id": "8521682e",
   "metadata": {},
   "outputs": [
    {
     "name": "stdout",
     "output_type": "stream",
     "text": [
      "\n",
      "\n",
      "----------RESULT FOR PRDCT1_CUSTA ----------\n",
      "MAPE value for arima model: 3.259209679479494\n",
      "MAPE value for sarima model: 12.611328260186342\n",
      "MAPE value for holt_winters_predictions model: 3.268848846809093\n",
      "Best model: ARIMA\n",
      "Best MAPE value: 3.259209679479494\n",
      "\n",
      "\n",
      "----------RESULT FOR PRDCT1_CUSTB ----------\n",
      "MAPE value for arima model: 2.9216647631860626\n",
      "MAPE value for sarima model: 4.6187088239710485\n",
      "MAPE value for holt_winters_predictions model: 3.2095315436842498\n",
      "Best model: ARIMA\n",
      "Best MAPE value: 2.9216647631860626\n",
      "\n",
      "\n",
      "----------RESULT FOR PRDCT1_CUSTC ----------\n"
     ]
    }
   ],
   "source": [
    "best_model = None\n",
    "best_mape = float('inf')\n",
    "for i in timeseries_key_values:\n",
    "    df_prod1 = df1[df1['timeseries_key']==i]\n",
    "    print(\"\\n\")\n",
    "    \n",
    "    print(\"----------RESULT FOR\",i,\"----------\")\n",
    "    \n",
    "    # Group data by 'calweek' and aggregate 'Quantity'\n",
    "    ts_data = df_prod1.groupby('calweek')['Quantity'].sum()\n",
    "    \n",
    "    # Split data into training and testing sets\n",
    "    train = ts_data.iloc[:130]\n",
    "    test = ts_data.iloc[130:]\n",
    "    \n",
    "    # Perform forecasting using ARIMA\n",
    "    arima_predictions = arima_forecast(train, test)\n",
    "\n",
    "    # Perform forecasting using SARIMA\n",
    "    sarima_predictions = sarima_forecast(train, test)\n",
    "\n",
    "    # Perform forecasting using Holt-Winters\n",
    "    holt_winters_predictions = holt_winters_forecast(train, test)\n",
    "    \n",
    "    arima_mape = mean_absolute_percentage_error(test,arima_predictions)*100\n",
    "    sarima_mape = mean_absolute_percentage_error(test,sarima_predictions)*100\n",
    "    holt_winters_mape = mean_absolute_percentage_error(test,holt_winters_predictions)*100\n",
    "    print(\"MAPE value for arima model:\",arima_mape)\n",
    "    \n",
    "    print(\"MAPE value for sarima model:\",sarima_mape)\n",
    "    \n",
    "    print(\"MAPE value for holt_winters_predictions model:\",holt_winters_mape)\n",
    "\n",
    "    if arima_mape < best_mape:\n",
    "        best_model = \"ARIMA\"\n",
    "        best_mape = arima_mape\n",
    "    if sarima_mape < best_mape:\n",
    "        best_model = \"SARIMA\"\n",
    "        best_mape = sarima_mape\n",
    "    if holt_winters_mape < best_mape:\n",
    "        best_model = \"Holt-Winters\"\n",
    "        best_mape = holt_winters_mape\n",
    "\n",
    "    print(\"Best model:\", best_model)\n",
    "    print(\"Best MAPE value:\", best_mape)"
   ]
  },
  {
   "cell_type": "code",
   "execution_count": 36,
   "id": "da345980",
   "metadata": {},
   "outputs": [],
   "source": [
    "# Group data by 'calweek' and aggregate 'Quantity'\n",
    "ts_data = df_prod1.groupby('calweek')['Quantity'].sum()"
   ]
  },
  {
   "cell_type": "code",
   "execution_count": 37,
   "id": "4bdf3bef",
   "metadata": {},
   "outputs": [
    {
     "data": {
      "text/plain": [
       "calweek\n",
       "202001    537\n",
       "202002    544\n",
       "202003    574\n",
       "202004    523\n",
       "202005    571\n",
       "         ... \n",
       "202311    553\n",
       "202312    522\n",
       "202313    559\n",
       "202314    541\n",
       "202315    544\n",
       "Name: Quantity, Length: 171, dtype: int64"
      ]
     },
     "execution_count": 37,
     "metadata": {},
     "output_type": "execute_result"
    }
   ],
   "source": [
    "ts_data"
   ]
  },
  {
   "cell_type": "code",
   "execution_count": 38,
   "id": "668a002f",
   "metadata": {},
   "outputs": [
    {
     "data": {
      "text/plain": [
       "171"
      ]
     },
     "execution_count": 38,
     "metadata": {},
     "output_type": "execute_result"
    }
   ],
   "source": [
    "len(ts_data)"
   ]
  },
  {
   "cell_type": "code",
   "execution_count": 39,
   "id": "22dc00aa",
   "metadata": {},
   "outputs": [],
   "source": [
    "# Split data into training and testing sets\n",
    "train = ts_data.iloc[:130]\n",
    "test = ts_data.iloc[130:]"
   ]
  },
  {
   "cell_type": "code",
   "execution_count": 40,
   "id": "f3a21efa",
   "metadata": {},
   "outputs": [],
   "source": [
    "# ARIMA model\n",
    "def arima_forecast(train, test):\n",
    "    model = ARIMA(train, order=(1, 0, 0))  # ARIMA(p, d, q)\n",
    "    model_fit = model.fit()\n",
    "    forecast = model_fit.forecast(steps=len(test))\n",
    "    return forecast\n",
    "\n",
    "# SARIMA model\n",
    "def sarima_forecast(train, test):\n",
    "    model = SARIMAX(train, order=(1, 0, 0), seasonal_order=(1, 0, 0, 12))  # SARIMA(p, d, q)(P, D, Q, m)\n",
    "    model_fit = model.fit()\n",
    "    forecast = model_fit.forecast(steps=len(test))\n",
    "    return forecast\n",
    "\n",
    "# Holt-Winters model\n",
    "def holt_winters_forecast(train, test):\n",
    "    model = ExponentialSmoothing(train, seasonal_periods=12, trend='add', seasonal='add')\n",
    "    model_fit = model.fit()\n",
    "    forecast = model_fit.forecast(len(test))\n",
    "    return forecast"
   ]
  },
  {
   "cell_type": "code",
   "execution_count": 41,
   "id": "fdb2354e",
   "metadata": {},
   "outputs": [],
   "source": [
    "# Perform forecasting using ARIMA\n",
    "arima_predictions = arima_forecast(train, test)\n",
    "\n",
    "# Perform forecasting using SARIMA\n",
    "sarima_predictions = sarima_forecast(train, test)\n",
    "\n",
    "# Perform forecasting using Holt-Winters\n",
    "holt_winters_predictions = holt_winters_forecast(train, test)"
   ]
  },
  {
   "cell_type": "code",
   "execution_count": 42,
   "id": "0f2099b7",
   "metadata": {},
   "outputs": [
    {
     "data": {
      "text/plain": [
       "3.259209679479494"
      ]
     },
     "execution_count": 42,
     "metadata": {},
     "output_type": "execute_result"
    }
   ],
   "source": [
    "from sklearn.metrics import mean_absolute_percentage_error\n",
    "mean_absolute_percentage_error(test,arima_predictions)*100"
   ]
  },
  {
   "cell_type": "code",
   "execution_count": 43,
   "id": "080e6397",
   "metadata": {},
   "outputs": [
    {
     "data": {
      "text/plain": [
       "12.611328260186342"
      ]
     },
     "execution_count": 43,
     "metadata": {},
     "output_type": "execute_result"
    }
   ],
   "source": [
    "mean_absolute_percentage_error(test,sarima_predictions)*100"
   ]
  },
  {
   "cell_type": "code",
   "execution_count": 44,
   "id": "a3a871dd",
   "metadata": {},
   "outputs": [
    {
     "data": {
      "text/plain": [
       "3.268848846809093"
      ]
     },
     "execution_count": 44,
     "metadata": {},
     "output_type": "execute_result"
    }
   ],
   "source": [
    "mean_absolute_percentage_error(test,holt_winters_predictions)*100"
   ]
  },
  {
   "cell_type": "code",
   "execution_count": 45,
   "id": "bd0589ac",
   "metadata": {},
   "outputs": [],
   "source": [
    "# # Visualize the forecasts\n",
    "# plt.plot(test.index, test, label='Actual')\n",
    "# plt.plot(test.index, arima_predictions, label='ARIMA')\n",
    "# plt.plot(test.index, sarima_predictions, label='SARIMA')\n",
    "# plt.plot(test.index, holt_winters_predictions, label='Holt-Winters')"
   ]
  },
  {
   "cell_type": "markdown",
   "id": "e689adf3",
   "metadata": {},
   "source": [
    "### FORECASTING"
   ]
  },
  {
   "cell_type": "code",
   "execution_count": 46,
   "id": "3e9a678e",
   "metadata": {},
   "outputs": [],
   "source": [
    "# Split data into training and testing sets\n",
    "train = ts_data.iloc[:172]"
   ]
  },
  {
   "cell_type": "code",
   "execution_count": 47,
   "id": "d6bb80a0",
   "metadata": {},
   "outputs": [],
   "source": [
    "# Holt-Winters model\n",
    "def holt_winters_forecast(train):\n",
    "    model = ExponentialSmoothing(train, seasonal_periods=12, trend='add', seasonal='add')\n",
    "    model_fit = model.fit()\n",
    "    forecast = model_fit.forecast(13)\n",
    "    return forecast"
   ]
  },
  {
   "cell_type": "code",
   "execution_count": 48,
   "id": "34913eb8",
   "metadata": {},
   "outputs": [],
   "source": [
    "# Perform forecasting using Holt-Winters\n",
    "holt_winters_predictions = holt_winters_forecast(train)"
   ]
  },
  {
   "cell_type": "code",
   "execution_count": 49,
   "id": "43f056ee",
   "metadata": {},
   "outputs": [
    {
     "data": {
      "text/plain": [
       "171    536.065287\n",
       "172    541.988671\n",
       "173    544.762172\n",
       "174    542.621226\n",
       "175    540.535257\n",
       "176    545.423074\n",
       "177    544.284717\n",
       "178    547.920536\n",
       "179    538.486300\n",
       "180    542.522590\n",
       "181    543.853003\n",
       "182    533.396751\n",
       "183    535.223393\n",
       "dtype: float64"
      ]
     },
     "execution_count": 49,
     "metadata": {},
     "output_type": "execute_result"
    }
   ],
   "source": [
    "holt_winters_predictions"
   ]
  },
  {
   "cell_type": "code",
   "execution_count": null,
   "id": "f64b54b2",
   "metadata": {},
   "outputs": [],
   "source": []
  },
  {
   "cell_type": "code",
   "execution_count": null,
   "id": "5e1d1189",
   "metadata": {},
   "outputs": [],
   "source": []
  }
 ],
 "metadata": {
  "kernelspec": {
   "display_name": "Python 3 (ipykernel)",
   "language": "python",
   "name": "python3"
  },
  "language_info": {
   "codemirror_mode": {
    "name": "ipython",
    "version": 3
   },
   "file_extension": ".py",
   "mimetype": "text/x-python",
   "name": "python",
   "nbconvert_exporter": "python",
   "pygments_lexer": "ipython3",
   "version": "3.10.1"
  }
 },
 "nbformat": 4,
 "nbformat_minor": 5
}
