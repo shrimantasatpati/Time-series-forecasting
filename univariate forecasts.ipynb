{
 "cells": [
  {
   "cell_type": "code",
   "execution_count": 1,
   "id": "7b693b68",
   "metadata": {},
   "outputs": [],
   "source": [
    "import pandas as pd\n",
    "import numpy as np\n",
    "import pmdarima as pm\n",
    "import matplotlib.pyplot as plt\n",
    "from statsmodels.tsa.arima.model import ARIMA\n",
    "from statsmodels.tsa.statespace.sarimax import SARIMAX\n",
    "from statsmodels.tsa.holtwinters import ExponentialSmoothing\n",
    "from prophet import Prophet\n",
    "from sklearn.metrics import mean_absolute_error, mean_squared_error"
   ]
  },
  {
   "cell_type": "code",
   "execution_count": 2,
   "id": "356b28b0",
   "metadata": {},
   "outputs": [],
   "source": [
    "import warnings\n",
    "warnings.filterwarnings(\"ignore\")"
   ]
  },
  {
   "cell_type": "code",
   "execution_count": 3,
   "id": "6069703f",
   "metadata": {},
   "outputs": [],
   "source": [
    "df = pd.read_csv(\"train.csv\", encoding=\"utf-8\")"
   ]
  },
  {
   "cell_type": "code",
   "execution_count": 4,
   "id": "62b4c64b",
   "metadata": {},
   "outputs": [
    {
     "data": {
      "text/html": [
       "<div>\n",
       "<style scoped>\n",
       "    .dataframe tbody tr th:only-of-type {\n",
       "        vertical-align: middle;\n",
       "    }\n",
       "\n",
       "    .dataframe tbody tr th {\n",
       "        vertical-align: top;\n",
       "    }\n",
       "\n",
       "    .dataframe thead th {\n",
       "        text-align: right;\n",
       "    }\n",
       "</style>\n",
       "<table border=\"1\" class=\"dataframe\">\n",
       "  <thead>\n",
       "    <tr style=\"text-align: right;\">\n",
       "      <th></th>\n",
       "      <th>Cluster/Country/Region</th>\n",
       "      <th>SubCluster</th>\n",
       "      <th>calweek</th>\n",
       "      <th>brand</th>\n",
       "      <th>dc</th>\n",
       "      <th>product_code</th>\n",
       "      <th>customer_code</th>\n",
       "      <th>Quantity</th>\n",
       "    </tr>\n",
       "  </thead>\n",
       "  <tbody>\n",
       "    <tr>\n",
       "      <th>0</th>\n",
       "      <td>US</td>\n",
       "      <td>SC1</td>\n",
       "      <td>202001</td>\n",
       "      <td>BRANDA</td>\n",
       "      <td>DC1</td>\n",
       "      <td>PRDCT1</td>\n",
       "      <td>CUSTA</td>\n",
       "      <td>537</td>\n",
       "    </tr>\n",
       "    <tr>\n",
       "      <th>1</th>\n",
       "      <td>US</td>\n",
       "      <td>SC1</td>\n",
       "      <td>202002</td>\n",
       "      <td>BRANDA</td>\n",
       "      <td>DC1</td>\n",
       "      <td>PRDCT1</td>\n",
       "      <td>CUSTA</td>\n",
       "      <td>544</td>\n",
       "    </tr>\n",
       "    <tr>\n",
       "      <th>2</th>\n",
       "      <td>US</td>\n",
       "      <td>SC1</td>\n",
       "      <td>202003</td>\n",
       "      <td>BRANDA</td>\n",
       "      <td>DC1</td>\n",
       "      <td>PRDCT1</td>\n",
       "      <td>CUSTA</td>\n",
       "      <td>574</td>\n",
       "    </tr>\n",
       "    <tr>\n",
       "      <th>3</th>\n",
       "      <td>US</td>\n",
       "      <td>SC1</td>\n",
       "      <td>202004</td>\n",
       "      <td>BRANDA</td>\n",
       "      <td>DC1</td>\n",
       "      <td>PRDCT1</td>\n",
       "      <td>CUSTA</td>\n",
       "      <td>523</td>\n",
       "    </tr>\n",
       "    <tr>\n",
       "      <th>4</th>\n",
       "      <td>US</td>\n",
       "      <td>SC1</td>\n",
       "      <td>202005</td>\n",
       "      <td>BRANDA</td>\n",
       "      <td>DC1</td>\n",
       "      <td>PRDCT1</td>\n",
       "      <td>CUSTA</td>\n",
       "      <td>571</td>\n",
       "    </tr>\n",
       "    <tr>\n",
       "      <th>...</th>\n",
       "      <td>...</td>\n",
       "      <td>...</td>\n",
       "      <td>...</td>\n",
       "      <td>...</td>\n",
       "      <td>...</td>\n",
       "      <td>...</td>\n",
       "      <td>...</td>\n",
       "      <td>...</td>\n",
       "    </tr>\n",
       "    <tr>\n",
       "      <th>18463</th>\n",
       "      <td>US</td>\n",
       "      <td>SC2</td>\n",
       "      <td>202311</td>\n",
       "      <td>BRANDC</td>\n",
       "      <td>DC4</td>\n",
       "      <td>PRDCT9</td>\n",
       "      <td>CUSTZ</td>\n",
       "      <td>1753</td>\n",
       "    </tr>\n",
       "    <tr>\n",
       "      <th>18464</th>\n",
       "      <td>US</td>\n",
       "      <td>SC2</td>\n",
       "      <td>202312</td>\n",
       "      <td>BRANDC</td>\n",
       "      <td>DC4</td>\n",
       "      <td>PRDCT9</td>\n",
       "      <td>CUSTZ</td>\n",
       "      <td>1752</td>\n",
       "    </tr>\n",
       "    <tr>\n",
       "      <th>18465</th>\n",
       "      <td>US</td>\n",
       "      <td>SC2</td>\n",
       "      <td>202313</td>\n",
       "      <td>BRANDC</td>\n",
       "      <td>DC4</td>\n",
       "      <td>PRDCT9</td>\n",
       "      <td>CUSTZ</td>\n",
       "      <td>1673</td>\n",
       "    </tr>\n",
       "    <tr>\n",
       "      <th>18466</th>\n",
       "      <td>US</td>\n",
       "      <td>SC2</td>\n",
       "      <td>202314</td>\n",
       "      <td>BRANDC</td>\n",
       "      <td>DC4</td>\n",
       "      <td>PRDCT9</td>\n",
       "      <td>CUSTZ</td>\n",
       "      <td>1752</td>\n",
       "    </tr>\n",
       "    <tr>\n",
       "      <th>18467</th>\n",
       "      <td>US</td>\n",
       "      <td>SC2</td>\n",
       "      <td>202315</td>\n",
       "      <td>BRANDC</td>\n",
       "      <td>DC4</td>\n",
       "      <td>PRDCT9</td>\n",
       "      <td>CUSTZ</td>\n",
       "      <td>1642</td>\n",
       "    </tr>\n",
       "  </tbody>\n",
       "</table>\n",
       "<p>18468 rows × 8 columns</p>\n",
       "</div>"
      ],
      "text/plain": [
       "      Cluster/Country/Region SubCluster  calweek   brand   dc product_code   \n",
       "0                         US        SC1   202001  BRANDA  DC1       PRDCT1  \\\n",
       "1                         US        SC1   202002  BRANDA  DC1       PRDCT1   \n",
       "2                         US        SC1   202003  BRANDA  DC1       PRDCT1   \n",
       "3                         US        SC1   202004  BRANDA  DC1       PRDCT1   \n",
       "4                         US        SC1   202005  BRANDA  DC1       PRDCT1   \n",
       "...                      ...        ...      ...     ...  ...          ...   \n",
       "18463                     US        SC2   202311  BRANDC  DC4       PRDCT9   \n",
       "18464                     US        SC2   202312  BRANDC  DC4       PRDCT9   \n",
       "18465                     US        SC2   202313  BRANDC  DC4       PRDCT9   \n",
       "18466                     US        SC2   202314  BRANDC  DC4       PRDCT9   \n",
       "18467                     US        SC2   202315  BRANDC  DC4       PRDCT9   \n",
       "\n",
       "      customer_code  Quantity  \n",
       "0             CUSTA       537  \n",
       "1             CUSTA       544  \n",
       "2             CUSTA       574  \n",
       "3             CUSTA       523  \n",
       "4             CUSTA       571  \n",
       "...             ...       ...  \n",
       "18463         CUSTZ      1753  \n",
       "18464         CUSTZ      1752  \n",
       "18465         CUSTZ      1673  \n",
       "18466         CUSTZ      1752  \n",
       "18467         CUSTZ      1642  \n",
       "\n",
       "[18468 rows x 8 columns]"
      ]
     },
     "execution_count": 4,
     "metadata": {},
     "output_type": "execute_result"
    }
   ],
   "source": [
    "df"
   ]
  },
  {
   "cell_type": "code",
   "execution_count": 5,
   "id": "e89c235b",
   "metadata": {},
   "outputs": [
    {
     "data": {
      "text/plain": [
       "Index(['Cluster/Country/Region', 'SubCluster', 'calweek', 'brand', 'dc',\n",
       "       'product_code', 'customer_code', 'Quantity'],\n",
       "      dtype='object')"
      ]
     },
     "execution_count": 5,
     "metadata": {},
     "output_type": "execute_result"
    }
   ],
   "source": [
    "df.columns"
   ]
  },
  {
   "cell_type": "code",
   "execution_count": 6,
   "id": "0a226f21",
   "metadata": {},
   "outputs": [],
   "source": [
    "df['Week'] = df['calweek'].astype(str).str[-2:].astype(int)"
   ]
  },
  {
   "cell_type": "code",
   "execution_count": 7,
   "id": "16bff71b",
   "metadata": {},
   "outputs": [],
   "source": [
    "df['timeseries_key'] = df['product_code'] + '_' + df['customer_code']"
   ]
  },
  {
   "cell_type": "code",
   "execution_count": 8,
   "id": "a9e80b16",
   "metadata": {},
   "outputs": [
    {
     "data": {
      "text/html": [
       "<div>\n",
       "<style scoped>\n",
       "    .dataframe tbody tr th:only-of-type {\n",
       "        vertical-align: middle;\n",
       "    }\n",
       "\n",
       "    .dataframe tbody tr th {\n",
       "        vertical-align: top;\n",
       "    }\n",
       "\n",
       "    .dataframe thead th {\n",
       "        text-align: right;\n",
       "    }\n",
       "</style>\n",
       "<table border=\"1\" class=\"dataframe\">\n",
       "  <thead>\n",
       "    <tr style=\"text-align: right;\">\n",
       "      <th></th>\n",
       "      <th>Cluster/Country/Region</th>\n",
       "      <th>SubCluster</th>\n",
       "      <th>calweek</th>\n",
       "      <th>brand</th>\n",
       "      <th>dc</th>\n",
       "      <th>product_code</th>\n",
       "      <th>customer_code</th>\n",
       "      <th>Quantity</th>\n",
       "      <th>Week</th>\n",
       "      <th>timeseries_key</th>\n",
       "    </tr>\n",
       "  </thead>\n",
       "  <tbody>\n",
       "    <tr>\n",
       "      <th>0</th>\n",
       "      <td>US</td>\n",
       "      <td>SC1</td>\n",
       "      <td>202001</td>\n",
       "      <td>BRANDA</td>\n",
       "      <td>DC1</td>\n",
       "      <td>PRDCT1</td>\n",
       "      <td>CUSTA</td>\n",
       "      <td>537</td>\n",
       "      <td>1</td>\n",
       "      <td>PRDCT1_CUSTA</td>\n",
       "    </tr>\n",
       "    <tr>\n",
       "      <th>1</th>\n",
       "      <td>US</td>\n",
       "      <td>SC1</td>\n",
       "      <td>202002</td>\n",
       "      <td>BRANDA</td>\n",
       "      <td>DC1</td>\n",
       "      <td>PRDCT1</td>\n",
       "      <td>CUSTA</td>\n",
       "      <td>544</td>\n",
       "      <td>2</td>\n",
       "      <td>PRDCT1_CUSTA</td>\n",
       "    </tr>\n",
       "    <tr>\n",
       "      <th>2</th>\n",
       "      <td>US</td>\n",
       "      <td>SC1</td>\n",
       "      <td>202003</td>\n",
       "      <td>BRANDA</td>\n",
       "      <td>DC1</td>\n",
       "      <td>PRDCT1</td>\n",
       "      <td>CUSTA</td>\n",
       "      <td>574</td>\n",
       "      <td>3</td>\n",
       "      <td>PRDCT1_CUSTA</td>\n",
       "    </tr>\n",
       "    <tr>\n",
       "      <th>3</th>\n",
       "      <td>US</td>\n",
       "      <td>SC1</td>\n",
       "      <td>202004</td>\n",
       "      <td>BRANDA</td>\n",
       "      <td>DC1</td>\n",
       "      <td>PRDCT1</td>\n",
       "      <td>CUSTA</td>\n",
       "      <td>523</td>\n",
       "      <td>4</td>\n",
       "      <td>PRDCT1_CUSTA</td>\n",
       "    </tr>\n",
       "    <tr>\n",
       "      <th>4</th>\n",
       "      <td>US</td>\n",
       "      <td>SC1</td>\n",
       "      <td>202005</td>\n",
       "      <td>BRANDA</td>\n",
       "      <td>DC1</td>\n",
       "      <td>PRDCT1</td>\n",
       "      <td>CUSTA</td>\n",
       "      <td>571</td>\n",
       "      <td>5</td>\n",
       "      <td>PRDCT1_CUSTA</td>\n",
       "    </tr>\n",
       "    <tr>\n",
       "      <th>...</th>\n",
       "      <td>...</td>\n",
       "      <td>...</td>\n",
       "      <td>...</td>\n",
       "      <td>...</td>\n",
       "      <td>...</td>\n",
       "      <td>...</td>\n",
       "      <td>...</td>\n",
       "      <td>...</td>\n",
       "      <td>...</td>\n",
       "      <td>...</td>\n",
       "    </tr>\n",
       "    <tr>\n",
       "      <th>18463</th>\n",
       "      <td>US</td>\n",
       "      <td>SC2</td>\n",
       "      <td>202311</td>\n",
       "      <td>BRANDC</td>\n",
       "      <td>DC4</td>\n",
       "      <td>PRDCT9</td>\n",
       "      <td>CUSTZ</td>\n",
       "      <td>1753</td>\n",
       "      <td>11</td>\n",
       "      <td>PRDCT9_CUSTZ</td>\n",
       "    </tr>\n",
       "    <tr>\n",
       "      <th>18464</th>\n",
       "      <td>US</td>\n",
       "      <td>SC2</td>\n",
       "      <td>202312</td>\n",
       "      <td>BRANDC</td>\n",
       "      <td>DC4</td>\n",
       "      <td>PRDCT9</td>\n",
       "      <td>CUSTZ</td>\n",
       "      <td>1752</td>\n",
       "      <td>12</td>\n",
       "      <td>PRDCT9_CUSTZ</td>\n",
       "    </tr>\n",
       "    <tr>\n",
       "      <th>18465</th>\n",
       "      <td>US</td>\n",
       "      <td>SC2</td>\n",
       "      <td>202313</td>\n",
       "      <td>BRANDC</td>\n",
       "      <td>DC4</td>\n",
       "      <td>PRDCT9</td>\n",
       "      <td>CUSTZ</td>\n",
       "      <td>1673</td>\n",
       "      <td>13</td>\n",
       "      <td>PRDCT9_CUSTZ</td>\n",
       "    </tr>\n",
       "    <tr>\n",
       "      <th>18466</th>\n",
       "      <td>US</td>\n",
       "      <td>SC2</td>\n",
       "      <td>202314</td>\n",
       "      <td>BRANDC</td>\n",
       "      <td>DC4</td>\n",
       "      <td>PRDCT9</td>\n",
       "      <td>CUSTZ</td>\n",
       "      <td>1752</td>\n",
       "      <td>14</td>\n",
       "      <td>PRDCT9_CUSTZ</td>\n",
       "    </tr>\n",
       "    <tr>\n",
       "      <th>18467</th>\n",
       "      <td>US</td>\n",
       "      <td>SC2</td>\n",
       "      <td>202315</td>\n",
       "      <td>BRANDC</td>\n",
       "      <td>DC4</td>\n",
       "      <td>PRDCT9</td>\n",
       "      <td>CUSTZ</td>\n",
       "      <td>1642</td>\n",
       "      <td>15</td>\n",
       "      <td>PRDCT9_CUSTZ</td>\n",
       "    </tr>\n",
       "  </tbody>\n",
       "</table>\n",
       "<p>18468 rows × 10 columns</p>\n",
       "</div>"
      ],
      "text/plain": [
       "      Cluster/Country/Region SubCluster  calweek   brand   dc product_code   \n",
       "0                         US        SC1   202001  BRANDA  DC1       PRDCT1  \\\n",
       "1                         US        SC1   202002  BRANDA  DC1       PRDCT1   \n",
       "2                         US        SC1   202003  BRANDA  DC1       PRDCT1   \n",
       "3                         US        SC1   202004  BRANDA  DC1       PRDCT1   \n",
       "4                         US        SC1   202005  BRANDA  DC1       PRDCT1   \n",
       "...                      ...        ...      ...     ...  ...          ...   \n",
       "18463                     US        SC2   202311  BRANDC  DC4       PRDCT9   \n",
       "18464                     US        SC2   202312  BRANDC  DC4       PRDCT9   \n",
       "18465                     US        SC2   202313  BRANDC  DC4       PRDCT9   \n",
       "18466                     US        SC2   202314  BRANDC  DC4       PRDCT9   \n",
       "18467                     US        SC2   202315  BRANDC  DC4       PRDCT9   \n",
       "\n",
       "      customer_code  Quantity  Week timeseries_key  \n",
       "0             CUSTA       537     1   PRDCT1_CUSTA  \n",
       "1             CUSTA       544     2   PRDCT1_CUSTA  \n",
       "2             CUSTA       574     3   PRDCT1_CUSTA  \n",
       "3             CUSTA       523     4   PRDCT1_CUSTA  \n",
       "4             CUSTA       571     5   PRDCT1_CUSTA  \n",
       "...             ...       ...   ...            ...  \n",
       "18463         CUSTZ      1753    11   PRDCT9_CUSTZ  \n",
       "18464         CUSTZ      1752    12   PRDCT9_CUSTZ  \n",
       "18465         CUSTZ      1673    13   PRDCT9_CUSTZ  \n",
       "18466         CUSTZ      1752    14   PRDCT9_CUSTZ  \n",
       "18467         CUSTZ      1642    15   PRDCT9_CUSTZ  \n",
       "\n",
       "[18468 rows x 10 columns]"
      ]
     },
     "execution_count": 8,
     "metadata": {},
     "output_type": "execute_result"
    }
   ],
   "source": [
    "df"
   ]
  },
  {
   "cell_type": "code",
   "execution_count": 9,
   "id": "641ab309",
   "metadata": {},
   "outputs": [],
   "source": [
    "df1 = df.drop(['Cluster/Country/Region', 'SubCluster', 'brand', 'dc'], axis = 1)"
   ]
  },
  {
   "cell_type": "code",
   "execution_count": 10,
   "id": "c17960bf",
   "metadata": {},
   "outputs": [
    {
     "data": {
      "text/html": [
       "<div>\n",
       "<style scoped>\n",
       "    .dataframe tbody tr th:only-of-type {\n",
       "        vertical-align: middle;\n",
       "    }\n",
       "\n",
       "    .dataframe tbody tr th {\n",
       "        vertical-align: top;\n",
       "    }\n",
       "\n",
       "    .dataframe thead th {\n",
       "        text-align: right;\n",
       "    }\n",
       "</style>\n",
       "<table border=\"1\" class=\"dataframe\">\n",
       "  <thead>\n",
       "    <tr style=\"text-align: right;\">\n",
       "      <th></th>\n",
       "      <th>calweek</th>\n",
       "      <th>product_code</th>\n",
       "      <th>customer_code</th>\n",
       "      <th>Quantity</th>\n",
       "      <th>Week</th>\n",
       "      <th>timeseries_key</th>\n",
       "    </tr>\n",
       "  </thead>\n",
       "  <tbody>\n",
       "    <tr>\n",
       "      <th>0</th>\n",
       "      <td>202001</td>\n",
       "      <td>PRDCT1</td>\n",
       "      <td>CUSTA</td>\n",
       "      <td>537</td>\n",
       "      <td>1</td>\n",
       "      <td>PRDCT1_CUSTA</td>\n",
       "    </tr>\n",
       "    <tr>\n",
       "      <th>1</th>\n",
       "      <td>202002</td>\n",
       "      <td>PRDCT1</td>\n",
       "      <td>CUSTA</td>\n",
       "      <td>544</td>\n",
       "      <td>2</td>\n",
       "      <td>PRDCT1_CUSTA</td>\n",
       "    </tr>\n",
       "    <tr>\n",
       "      <th>2</th>\n",
       "      <td>202003</td>\n",
       "      <td>PRDCT1</td>\n",
       "      <td>CUSTA</td>\n",
       "      <td>574</td>\n",
       "      <td>3</td>\n",
       "      <td>PRDCT1_CUSTA</td>\n",
       "    </tr>\n",
       "    <tr>\n",
       "      <th>3</th>\n",
       "      <td>202004</td>\n",
       "      <td>PRDCT1</td>\n",
       "      <td>CUSTA</td>\n",
       "      <td>523</td>\n",
       "      <td>4</td>\n",
       "      <td>PRDCT1_CUSTA</td>\n",
       "    </tr>\n",
       "    <tr>\n",
       "      <th>4</th>\n",
       "      <td>202005</td>\n",
       "      <td>PRDCT1</td>\n",
       "      <td>CUSTA</td>\n",
       "      <td>571</td>\n",
       "      <td>5</td>\n",
       "      <td>PRDCT1_CUSTA</td>\n",
       "    </tr>\n",
       "    <tr>\n",
       "      <th>...</th>\n",
       "      <td>...</td>\n",
       "      <td>...</td>\n",
       "      <td>...</td>\n",
       "      <td>...</td>\n",
       "      <td>...</td>\n",
       "      <td>...</td>\n",
       "    </tr>\n",
       "    <tr>\n",
       "      <th>18463</th>\n",
       "      <td>202311</td>\n",
       "      <td>PRDCT9</td>\n",
       "      <td>CUSTZ</td>\n",
       "      <td>1753</td>\n",
       "      <td>11</td>\n",
       "      <td>PRDCT9_CUSTZ</td>\n",
       "    </tr>\n",
       "    <tr>\n",
       "      <th>18464</th>\n",
       "      <td>202312</td>\n",
       "      <td>PRDCT9</td>\n",
       "      <td>CUSTZ</td>\n",
       "      <td>1752</td>\n",
       "      <td>12</td>\n",
       "      <td>PRDCT9_CUSTZ</td>\n",
       "    </tr>\n",
       "    <tr>\n",
       "      <th>18465</th>\n",
       "      <td>202313</td>\n",
       "      <td>PRDCT9</td>\n",
       "      <td>CUSTZ</td>\n",
       "      <td>1673</td>\n",
       "      <td>13</td>\n",
       "      <td>PRDCT9_CUSTZ</td>\n",
       "    </tr>\n",
       "    <tr>\n",
       "      <th>18466</th>\n",
       "      <td>202314</td>\n",
       "      <td>PRDCT9</td>\n",
       "      <td>CUSTZ</td>\n",
       "      <td>1752</td>\n",
       "      <td>14</td>\n",
       "      <td>PRDCT9_CUSTZ</td>\n",
       "    </tr>\n",
       "    <tr>\n",
       "      <th>18467</th>\n",
       "      <td>202315</td>\n",
       "      <td>PRDCT9</td>\n",
       "      <td>CUSTZ</td>\n",
       "      <td>1642</td>\n",
       "      <td>15</td>\n",
       "      <td>PRDCT9_CUSTZ</td>\n",
       "    </tr>\n",
       "  </tbody>\n",
       "</table>\n",
       "<p>18468 rows × 6 columns</p>\n",
       "</div>"
      ],
      "text/plain": [
       "       calweek product_code customer_code  Quantity  Week timeseries_key\n",
       "0       202001       PRDCT1         CUSTA       537     1   PRDCT1_CUSTA\n",
       "1       202002       PRDCT1         CUSTA       544     2   PRDCT1_CUSTA\n",
       "2       202003       PRDCT1         CUSTA       574     3   PRDCT1_CUSTA\n",
       "3       202004       PRDCT1         CUSTA       523     4   PRDCT1_CUSTA\n",
       "4       202005       PRDCT1         CUSTA       571     5   PRDCT1_CUSTA\n",
       "...        ...          ...           ...       ...   ...            ...\n",
       "18463   202311       PRDCT9         CUSTZ      1753    11   PRDCT9_CUSTZ\n",
       "18464   202312       PRDCT9         CUSTZ      1752    12   PRDCT9_CUSTZ\n",
       "18465   202313       PRDCT9         CUSTZ      1673    13   PRDCT9_CUSTZ\n",
       "18466   202314       PRDCT9         CUSTZ      1752    14   PRDCT9_CUSTZ\n",
       "18467   202315       PRDCT9         CUSTZ      1642    15   PRDCT9_CUSTZ\n",
       "\n",
       "[18468 rows x 6 columns]"
      ]
     },
     "execution_count": 10,
     "metadata": {},
     "output_type": "execute_result"
    }
   ],
   "source": [
    "df1"
   ]
  },
  {
   "cell_type": "code",
   "execution_count": 11,
   "id": "f6bd7c29",
   "metadata": {},
   "outputs": [],
   "source": [
    "df1['timeseries_key'] = df1['product_code'] + '_' + df1['customer_code']"
   ]
  },
  {
   "cell_type": "code",
   "execution_count": 12,
   "id": "2d307ce3",
   "metadata": {},
   "outputs": [],
   "source": [
    "timeseries_key_values = list(df1['timeseries_key'].unique())"
   ]
  },
  {
   "cell_type": "markdown",
   "id": "44f63e44",
   "metadata": {},
   "source": [
    "### The Cluster/Country/Region, SubCluster, brand, dc, timeseries_key columns based on the Week number and timeseries_key from the week 16 to the week 28 for filling up the nan values."
   ]
  },
  {
   "cell_type": "code",
   "execution_count": 13,
   "id": "08ce992a",
   "metadata": {},
   "outputs": [
    {
     "data": {
      "text/html": [
       "<div>\n",
       "<style scoped>\n",
       "    .dataframe tbody tr th:only-of-type {\n",
       "        vertical-align: middle;\n",
       "    }\n",
       "\n",
       "    .dataframe tbody tr th {\n",
       "        vertical-align: top;\n",
       "    }\n",
       "\n",
       "    .dataframe thead th {\n",
       "        text-align: right;\n",
       "    }\n",
       "</style>\n",
       "<table border=\"1\" class=\"dataframe\">\n",
       "  <thead>\n",
       "    <tr style=\"text-align: right;\">\n",
       "      <th></th>\n",
       "      <th>Cluster/Country/Region</th>\n",
       "      <th>SubCluster</th>\n",
       "      <th>brand</th>\n",
       "      <th>dc</th>\n",
       "      <th>timeseries_key</th>\n",
       "    </tr>\n",
       "  </thead>\n",
       "  <tbody>\n",
       "    <tr>\n",
       "      <th>0</th>\n",
       "      <td>US</td>\n",
       "      <td>SC1</td>\n",
       "      <td>BRANDA</td>\n",
       "      <td>DC1</td>\n",
       "      <td>PRDCT1_CUSTA</td>\n",
       "    </tr>\n",
       "    <tr>\n",
       "      <th>1</th>\n",
       "      <td>US</td>\n",
       "      <td>SC1</td>\n",
       "      <td>BRANDA</td>\n",
       "      <td>DC1</td>\n",
       "      <td>PRDCT1_CUSTA</td>\n",
       "    </tr>\n",
       "    <tr>\n",
       "      <th>2</th>\n",
       "      <td>US</td>\n",
       "      <td>SC1</td>\n",
       "      <td>BRANDA</td>\n",
       "      <td>DC1</td>\n",
       "      <td>PRDCT1_CUSTA</td>\n",
       "    </tr>\n",
       "    <tr>\n",
       "      <th>3</th>\n",
       "      <td>US</td>\n",
       "      <td>SC1</td>\n",
       "      <td>BRANDA</td>\n",
       "      <td>DC1</td>\n",
       "      <td>PRDCT1_CUSTA</td>\n",
       "    </tr>\n",
       "    <tr>\n",
       "      <th>4</th>\n",
       "      <td>US</td>\n",
       "      <td>SC1</td>\n",
       "      <td>BRANDA</td>\n",
       "      <td>DC1</td>\n",
       "      <td>PRDCT1_CUSTA</td>\n",
       "    </tr>\n",
       "    <tr>\n",
       "      <th>...</th>\n",
       "      <td>...</td>\n",
       "      <td>...</td>\n",
       "      <td>...</td>\n",
       "      <td>...</td>\n",
       "      <td>...</td>\n",
       "    </tr>\n",
       "    <tr>\n",
       "      <th>4181</th>\n",
       "      <td>US</td>\n",
       "      <td>SC2</td>\n",
       "      <td>BRANDC</td>\n",
       "      <td>DC4</td>\n",
       "      <td>PRDCT9_CUSTZ</td>\n",
       "    </tr>\n",
       "    <tr>\n",
       "      <th>4182</th>\n",
       "      <td>US</td>\n",
       "      <td>SC2</td>\n",
       "      <td>BRANDC</td>\n",
       "      <td>DC4</td>\n",
       "      <td>PRDCT9_CUSTZ</td>\n",
       "    </tr>\n",
       "    <tr>\n",
       "      <th>4183</th>\n",
       "      <td>US</td>\n",
       "      <td>SC2</td>\n",
       "      <td>BRANDC</td>\n",
       "      <td>DC4</td>\n",
       "      <td>PRDCT9_CUSTZ</td>\n",
       "    </tr>\n",
       "    <tr>\n",
       "      <th>4184</th>\n",
       "      <td>US</td>\n",
       "      <td>SC2</td>\n",
       "      <td>BRANDC</td>\n",
       "      <td>DC4</td>\n",
       "      <td>PRDCT9_CUSTZ</td>\n",
       "    </tr>\n",
       "    <tr>\n",
       "      <th>4185</th>\n",
       "      <td>US</td>\n",
       "      <td>SC2</td>\n",
       "      <td>BRANDC</td>\n",
       "      <td>DC4</td>\n",
       "      <td>PRDCT9_CUSTZ</td>\n",
       "    </tr>\n",
       "  </tbody>\n",
       "</table>\n",
       "<p>1404 rows × 5 columns</p>\n",
       "</div>"
      ],
      "text/plain": [
       "     Cluster/Country/Region SubCluster   brand   dc timeseries_key\n",
       "0                        US        SC1  BRANDA  DC1   PRDCT1_CUSTA\n",
       "1                        US        SC1  BRANDA  DC1   PRDCT1_CUSTA\n",
       "2                        US        SC1  BRANDA  DC1   PRDCT1_CUSTA\n",
       "3                        US        SC1  BRANDA  DC1   PRDCT1_CUSTA\n",
       "4                        US        SC1  BRANDA  DC1   PRDCT1_CUSTA\n",
       "...                     ...        ...     ...  ...            ...\n",
       "4181                     US        SC2  BRANDC  DC4   PRDCT9_CUSTZ\n",
       "4182                     US        SC2  BRANDC  DC4   PRDCT9_CUSTZ\n",
       "4183                     US        SC2  BRANDC  DC4   PRDCT9_CUSTZ\n",
       "4184                     US        SC2  BRANDC  DC4   PRDCT9_CUSTZ\n",
       "4185                     US        SC2  BRANDC  DC4   PRDCT9_CUSTZ\n",
       "\n",
       "[1404 rows x 5 columns]"
      ]
     },
     "execution_count": 13,
     "metadata": {},
     "output_type": "execute_result"
    }
   ],
   "source": [
    "start_week = 16\n",
    "end_week = 28\n",
    "\n",
    "filtered_df = df[(df['Week'] >= start_week) & (df['Week'] <= end_week)]\n",
    "\n",
    "def generate_dataframes():\n",
    "    grouped_df = filtered_df.groupby('timeseries_key')\n",
    "    for key, group in grouped_df:\n",
    "        group['timeseries_key'] = key\n",
    "        yield group\n",
    "\n",
    "combined_df = pd.concat(generate_dataframes(), ignore_index=True)\n",
    "combined_df = combined_df.drop_duplicates(subset=['timeseries_key', 'Week'])\n",
    "combined_df = combined_df.drop([\"product_code\", \"customer_code\", \"Quantity\", \"Week\", \"calweek\"], axis = 1)\n",
    "combined_df"
   ]
  },
  {
   "cell_type": "raw",
   "id": "e7c0b403",
   "metadata": {},
   "source": [
    "# df_prod1 = df1[df1['timeseries_key']=='PRDCT1_CUSTA']\n",
    "# df_prod1\n",
    "# # Group data by 'calweek' and aggregate 'Quantity'\n",
    "# ts_data = df_prod1.groupby('calweek')['Quantity'].sum()\n",
    "# ts_data\n",
    "# from statsmodels.tsa.stattools import adfuller\n",
    "# passing_data=adfuller(ts_data)\n",
    "# def adf_test(sales):\n",
    "#     result=adfuller(ts_data)\n",
    "#     labels = ['Test parameters', 'p-value','#Lags Used','Dataset observations']\n",
    "#     for value,label in zip(result,labels):\n",
    "#         print(label+' : '+str(value) )\n",
    "#     if result[1] <= 0.05:\n",
    "#         print(\"Dataset is stationary\")\n",
    "#     else:\n",
    "#         print(\"Dataset is non-stationary \")\n",
    "# adf_test(ts_data)\n",
    "\n",
    "\n",
    "Test parameters : -13.40756855326419\n",
    "p-value : 4.439179540608158e-25\n",
    "#Lags Used : 0\n",
    "Dataset observations : 170\n",
    "Dataset is stationary"
   ]
  },
  {
   "cell_type": "code",
   "execution_count": 14,
   "id": "5e997c85",
   "metadata": {},
   "outputs": [],
   "source": [
    "# ARIMA model\n",
    "def arima_forecast(train, test):\n",
    "    \n",
    "    # Find optimal p, d, q values using Auto ARIMA\n",
    "    auto_arima_model = pm.auto_arima(train, seasonal=False, suppress_warnings=True)\n",
    "    \n",
    "    p, d, q = auto_arima_model.order\n",
    "    model = ARIMA(train, order=(p, d, q))  # ARIMA(p, d, q)\n",
    "    model_fit = model.fit()\n",
    "    forecast = model_fit.forecast(steps=len(test))\n",
    "    return forecast\n",
    "\n",
    "# SARIMA model\n",
    "def sarima_forecast(train, test):\n",
    "    \n",
    "    # Find optimal p, d, q, P, D, Q, and m values using Auto SARIMA\n",
    "    auto_sarima_model = pm.auto_arima(train, seasonal=True, m=12, suppress_warnings=True)\n",
    "    p, d, q = auto_sarima_model.order\n",
    "    P, D, Q, m = auto_sarima_model.seasonal_order\n",
    "\n",
    "    \n",
    "    model = SARIMAX(train, order=(p, d, q), seasonal_order=(P, D, Q, m))  # SARIMA(p, d, q)(P, D, Q, m)\n",
    "    model_fit = model.fit()\n",
    "    forecast = model_fit.forecast(steps=len(test))\n",
    "    return forecast\n",
    "\n",
    "# Holt-Winters model\n",
    "def holt_winters_forecast(train, test):\n",
    "    model = ExponentialSmoothing(train, seasonal_periods=12, trend='add', seasonal='add')\n",
    "    model_fit = model.fit()\n",
    "    forecast = model_fit.forecast(len(test))\n",
    "    return forecast\n",
    "\n",
    "# Facebook Prophet model\n",
    "def prophet_forecast(train, test):\n",
    "    model = Prophet()\n",
    "    model.fit(train)\n",
    "    future = model.make_future_dataframe(periods=len(test), freq='W')\n",
    "    forecast = model.predict(future)\n",
    "    forecast = forecast['yhat'][-len(test):].values\n",
    "    return forecast\n",
    "\n",
    "\n",
    "results_df = pd.DataFrame()\n",
    "results_mape = pd.DataFrame()"
   ]
  },
  {
   "cell_type": "code",
   "execution_count": 15,
   "id": "38ced4e7",
   "metadata": {
    "scrolled": true
   },
   "outputs": [
    {
     "name": "stdout",
     "output_type": "stream",
     "text": [
      "----------RESULT FOR PRDCT1_CUSTA ----------\n"
     ]
    },
    {
     "name": "stderr",
     "output_type": "stream",
     "text": [
      "11:48:18 - cmdstanpy - INFO - Chain [1] start processing\n",
      "11:48:18 - cmdstanpy - INFO - Chain [1] done processing\n",
      "11:48:18 - cmdstanpy - INFO - Chain [1] start processing\n"
     ]
    },
    {
     "name": "stdout",
     "output_type": "stream",
     "text": [
      "ARIMA - MAPE: 3.03%\n",
      "SARIMA - MAPE: 3.03%\n",
      "Holt-Winters - MAPE: 3.13%\n",
      "Facebook Prophet - MAPE: 3.04%\n",
      "Ensemble Forecast - MAPE: 2.96%\n"
     ]
    },
    {
     "name": "stderr",
     "output_type": "stream",
     "text": [
      "11:48:18 - cmdstanpy - INFO - Chain [1] done processing\n"
     ]
    },
    {
     "name": "stdout",
     "output_type": "stream",
     "text": [
      "[543.80917068 543.73081866 542.58441354 540.74138145 539.5042392\n",
      " 539.93390737 541.89093775 544.00372798 544.5812084  542.7894989\n",
      " 539.30904918 536.05424457 535.03774193]\n",
      "----------RESULT FOR PRDCT1_CUSTB ----------\n"
     ]
    },
    {
     "name": "stderr",
     "output_type": "stream",
     "text": [
      "11:48:26 - cmdstanpy - INFO - Chain [1] start processing\n",
      "11:48:26 - cmdstanpy - INFO - Chain [1] done processing\n"
     ]
    },
    {
     "name": "stdout",
     "output_type": "stream",
     "text": [
      "ARIMA - MAPE: 3.17%\n",
      "SARIMA - MAPE: 82.64%\n",
      "Holt-Winters - MAPE: 3.30%\n",
      "Facebook Prophet - MAPE: 3.29%\n",
      "Ensemble Forecast - MAPE: 3.20%\n"
     ]
    },
    {
     "name": "stderr",
     "output_type": "stream",
     "text": [
      "11:48:26 - cmdstanpy - INFO - Chain [1] start processing\n",
      "11:48:26 - cmdstanpy - INFO - Chain [1] done processing\n"
     ]
    },
    {
     "name": "stdout",
     "output_type": "stream",
     "text": [
      "[554.7452057  557.44073939 555.61868471 551.54106823 550.68930049\n",
      " 554.79403849 559.89036196 560.78528802 556.64627874 551.43466775\n",
      " 549.2754855  550.49711087 552.44542525]\n",
      "----------RESULT FOR PRDCT1_CUSTC ----------\n"
     ]
    },
    {
     "name": "stderr",
     "output_type": "stream",
     "text": [
      "11:48:35 - cmdstanpy - INFO - Chain [1] start processing\n",
      "11:48:35 - cmdstanpy - INFO - Chain [1] done processing\n"
     ]
    },
    {
     "name": "stdout",
     "output_type": "stream",
     "text": [
      "ARIMA - MAPE: 3.42%\n",
      "SARIMA - MAPE: 98.94%\n",
      "Holt-Winters - MAPE: 4.08%\n",
      "Facebook Prophet - MAPE: 4.26%\n",
      "Ensemble Forecast - MAPE: 3.67%\n"
     ]
    },
    {
     "name": "stderr",
     "output_type": "stream",
     "text": [
      "11:48:36 - cmdstanpy - INFO - Chain [1] start processing\n",
      "11:48:36 - cmdstanpy - INFO - Chain [1] done processing\n"
     ]
    },
    {
     "name": "stdout",
     "output_type": "stream",
     "text": [
      "[558.49667977 554.89158748 555.59703815 555.29511439 550.12721002\n",
      " 541.71784116 537.05729862 541.2409239  550.94220546 557.0807604\n",
      " 554.52262547 547.69125844 545.25833994]\n",
      "----------RESULT FOR PRDCT1_CUSTD ----------\n"
     ]
    },
    {
     "name": "stderr",
     "output_type": "stream",
     "text": [
      "11:48:41 - cmdstanpy - INFO - Chain [1] start processing\n",
      "11:48:41 - cmdstanpy - INFO - Chain [1] done processing\n"
     ]
    },
    {
     "name": "stdout",
     "output_type": "stream",
     "text": [
      "ARIMA - MAPE: 4.27%\n",
      "SARIMA - MAPE: 100.00%\n",
      "Holt-Winters - MAPE: 4.33%\n",
      "Facebook Prophet - MAPE: 5.02%\n",
      "Ensemble Forecast - MAPE: 4.59%\n"
     ]
    },
    {
     "name": "stderr",
     "output_type": "stream",
     "text": [
      "11:48:42 - cmdstanpy - INFO - Chain [1] start processing\n",
      "11:48:42 - cmdstanpy - INFO - Chain [1] done processing\n"
     ]
    },
    {
     "name": "stdout",
     "output_type": "stream",
     "text": [
      "[542.80520142 545.96262304 548.37465075 547.22473725 543.24727604\n",
      " 540.26707865 541.12053571 544.84695837 548.02319579 548.34637797\n",
      " 546.41037986 544.23492065 542.92131561]\n",
      "----------RESULT FOR PRDCT1_CUSTE ----------\n"
     ]
    },
    {
     "name": "stderr",
     "output_type": "stream",
     "text": [
      "11:48:47 - cmdstanpy - INFO - Chain [1] start processing\n",
      "11:48:47 - cmdstanpy - INFO - Chain [1] done processing\n"
     ]
    },
    {
     "name": "stdout",
     "output_type": "stream",
     "text": [
      "ARIMA - MAPE: 3.99%\n",
      "SARIMA - MAPE: 100.00%\n",
      "Holt-Winters - MAPE: 4.02%\n",
      "Facebook Prophet - MAPE: 4.12%\n",
      "Ensemble Forecast - MAPE: 3.98%\n"
     ]
    },
    {
     "name": "stderr",
     "output_type": "stream",
     "text": [
      "11:48:47 - cmdstanpy - INFO - Chain [1] start processing\n",
      "11:48:47 - cmdstanpy - INFO - Chain [1] done processing\n"
     ]
    },
    {
     "name": "stdout",
     "output_type": "stream",
     "text": [
      "[548.17620633 545.64413677 543.65833649 542.44414183 542.60494368\n",
      " 544.55702018 547.15761501 547.92910465 545.65206502 542.39850205\n",
      " 541.82002387 544.92430087 548.33731325]\n",
      "----------RESULT FOR PRDCT1_CUSTF ----------\n"
     ]
    },
    {
     "name": "stderr",
     "output_type": "stream",
     "text": [
      "11:48:55 - cmdstanpy - INFO - Chain [1] start processing\n",
      "11:48:55 - cmdstanpy - INFO - Chain [1] done processing\n"
     ]
    },
    {
     "name": "stdout",
     "output_type": "stream",
     "text": [
      "ARIMA - MAPE: 3.34%\n",
      "SARIMA - MAPE: 6.75%\n",
      "Holt-Winters - MAPE: 3.53%\n",
      "Facebook Prophet - MAPE: 3.51%\n",
      "Ensemble Forecast - MAPE: 3.39%\n"
     ]
    },
    {
     "name": "stderr",
     "output_type": "stream",
     "text": [
      "11:48:56 - cmdstanpy - INFO - Chain [1] start processing\n",
      "11:48:56 - cmdstanpy - INFO - Chain [1] done processing\n"
     ]
    },
    {
     "name": "stdout",
     "output_type": "stream",
     "text": [
      "[553.81226671 551.57102556 548.82325507 548.75180675 552.61260022\n",
      " 558.11298788 560.79857356 557.95689276 551.38775737 546.21621909\n",
      " 546.6408318  552.43341364 559.25425372]\n",
      "----------RESULT FOR PRDCT2_CUSTA ----------\n"
     ]
    },
    {
     "name": "stderr",
     "output_type": "stream",
     "text": [
      "11:49:19 - cmdstanpy - INFO - Chain [1] start processing\n",
      "11:49:19 - cmdstanpy - INFO - Chain [1] done processing\n"
     ]
    },
    {
     "name": "stdout",
     "output_type": "stream",
     "text": [
      "ARIMA - MAPE: 2.14%\n",
      "SARIMA - MAPE: 2.37%\n",
      "Holt-Winters - MAPE: 2.20%\n",
      "Facebook Prophet - MAPE: 2.28%\n",
      "Ensemble Forecast - MAPE: 2.17%\n"
     ]
    },
    {
     "name": "stderr",
     "output_type": "stream",
     "text": [
      "11:49:20 - cmdstanpy - INFO - Chain [1] start processing\n",
      "11:49:20 - cmdstanpy - INFO - Chain [1] done processing\n"
     ]
    },
    {
     "name": "stdout",
     "output_type": "stream",
     "text": [
      "[1709.66806692 1699.31336743 1694.66947214 1692.0177262  1698.08961866\n",
      " 1707.90537361 1711.14997525 1703.27275791 1691.75326894 1688.92811151\n",
      " 1698.81295044 1712.62847207 1718.08906775]\n",
      "----------RESULT FOR PRDCT2_CUSTB ----------\n"
     ]
    },
    {
     "name": "stderr",
     "output_type": "stream",
     "text": [
      "11:49:25 - cmdstanpy - INFO - Chain [1] start processing\n",
      "11:49:26 - cmdstanpy - INFO - Chain [1] done processing\n"
     ]
    },
    {
     "name": "stdout",
     "output_type": "stream",
     "text": [
      "ARIMA - MAPE: 2.37%\n",
      "SARIMA - MAPE: 100.00%\n",
      "Holt-Winters - MAPE: 2.53%\n",
      "Facebook Prophet - MAPE: 2.47%\n",
      "Ensemble Forecast - MAPE: 2.32%\n"
     ]
    },
    {
     "name": "stderr",
     "output_type": "stream",
     "text": [
      "11:49:26 - cmdstanpy - INFO - Chain [1] start processing\n",
      "11:49:26 - cmdstanpy - INFO - Chain [1] done processing\n"
     ]
    },
    {
     "name": "stdout",
     "output_type": "stream",
     "text": [
      "[1702.20452334 1701.06272853 1699.14342603 1694.73283536 1690.14205295\n",
      " 1689.33886405 1693.10429286 1697.83650523 1699.29484845 1696.82536487\n",
      " 1693.65957265 1693.67693678 1698.26602155]\n",
      "----------RESULT FOR PRDCT2_CUSTC ----------\n"
     ]
    },
    {
     "name": "stderr",
     "output_type": "stream",
     "text": [
      "11:49:30 - cmdstanpy - INFO - Chain [1] start processing\n",
      "11:49:30 - cmdstanpy - INFO - Chain [1] done processing\n"
     ]
    },
    {
     "name": "stdout",
     "output_type": "stream",
     "text": [
      "ARIMA - MAPE: 1.85%\n",
      "SARIMA - MAPE: 100.00%\n",
      "Holt-Winters - MAPE: 2.37%\n",
      "Facebook Prophet - MAPE: 2.96%\n",
      "Ensemble Forecast - MAPE: 2.01%\n"
     ]
    },
    {
     "name": "stderr",
     "output_type": "stream",
     "text": [
      "11:49:31 - cmdstanpy - INFO - Chain [1] start processing\n",
      "11:49:31 - cmdstanpy - INFO - Chain [1] done processing\n"
     ]
    },
    {
     "name": "stdout",
     "output_type": "stream",
     "text": [
      "[1701.99072663 1701.21324347 1703.27041477 1706.41171419 1706.33482526\n",
      " 1700.93990731 1693.93764162 1692.02021493 1697.84176553 1706.62526103\n",
      " 1710.6541102  1706.92425662 1699.52315797]\n",
      "----------RESULT FOR PRDCT2_CUSTD ----------\n"
     ]
    },
    {
     "name": "stderr",
     "output_type": "stream",
     "text": [
      "11:49:39 - cmdstanpy - INFO - Chain [1] start processing\n",
      "11:49:39 - cmdstanpy - INFO - Chain [1] done processing\n"
     ]
    },
    {
     "name": "stdout",
     "output_type": "stream",
     "text": [
      "ARIMA - MAPE: 1.51%\n",
      "SARIMA - MAPE: 1.47%\n",
      "Holt-Winters - MAPE: 1.61%\n",
      "Facebook Prophet - MAPE: 1.84%\n",
      "Ensemble Forecast - MAPE: 1.58%\n"
     ]
    },
    {
     "name": "stderr",
     "output_type": "stream",
     "text": [
      "11:49:40 - cmdstanpy - INFO - Chain [1] start processing\n",
      "11:49:40 - cmdstanpy - INFO - Chain [1] done processing\n"
     ]
    },
    {
     "name": "stdout",
     "output_type": "stream",
     "text": [
      "[1688.41462003 1683.096343   1678.37545707 1679.8141054  1687.22840851\n",
      " 1693.70480943 1692.55781089 1684.89754624 1678.99193303 1681.84611442\n",
      " 1692.27552828 1702.74837895 1707.1546631 ]\n",
      "----------RESULT FOR PRDCT2_CUSTE ----------\n"
     ]
    },
    {
     "name": "stderr",
     "output_type": "stream",
     "text": [
      "11:49:46 - cmdstanpy - INFO - Chain [1] start processing\n",
      "11:49:46 - cmdstanpy - INFO - Chain [1] done processing\n"
     ]
    },
    {
     "name": "stdout",
     "output_type": "stream",
     "text": [
      "ARIMA - MAPE: 2.02%\n",
      "SARIMA - MAPE: 100.00%\n",
      "Holt-Winters - MAPE: 2.68%\n",
      "Facebook Prophet - MAPE: 2.53%\n",
      "Ensemble Forecast - MAPE: 2.20%\n"
     ]
    },
    {
     "name": "stderr",
     "output_type": "stream",
     "text": [
      "11:49:46 - cmdstanpy - INFO - Chain [1] start processing\n",
      "11:49:46 - cmdstanpy - INFO - Chain [1] done processing\n"
     ]
    },
    {
     "name": "stdout",
     "output_type": "stream",
     "text": [
      "[1710.7996798  1699.7837048  1697.55009597 1706.72402457 1717.80275796\n",
      " 1720.34944746 1714.14803727 1707.5095832  1706.32675927 1707.84847262\n",
      " 1705.8753606  1699.49600238 1694.0084974 ]\n",
      "----------RESULT FOR PRDCT2_CUSTF ----------\n"
     ]
    },
    {
     "name": "stderr",
     "output_type": "stream",
     "text": [
      "11:49:50 - cmdstanpy - INFO - Chain [1] start processing\n",
      "11:49:50 - cmdstanpy - INFO - Chain [1] done processing\n"
     ]
    },
    {
     "name": "stdout",
     "output_type": "stream",
     "text": [
      "ARIMA - MAPE: 1.75%\n",
      "SARIMA - MAPE: 100.00%\n",
      "Holt-Winters - MAPE: 1.91%\n",
      "Facebook Prophet - MAPE: 2.05%\n",
      "Ensemble Forecast - MAPE: 1.89%\n"
     ]
    },
    {
     "name": "stderr",
     "output_type": "stream",
     "text": [
      "11:49:50 - cmdstanpy - INFO - Chain [1] start processing\n",
      "11:49:50 - cmdstanpy - INFO - Chain [1] done processing\n"
     ]
    },
    {
     "name": "stdout",
     "output_type": "stream",
     "text": [
      "[1701.83855837 1700.5908946  1698.10687508 1698.35655879 1703.11839891\n",
      " 1709.30295295 1711.60745761 1708.03778984 1702.01436171 1698.78162139\n",
      " 1700.34111054 1704.34841019 1707.40560779]\n",
      "----------RESULT FOR PRDCT3_CUSTA ----------\n"
     ]
    },
    {
     "name": "stderr",
     "output_type": "stream",
     "text": [
      "11:49:59 - cmdstanpy - INFO - Chain [1] start processing\n",
      "11:49:59 - cmdstanpy - INFO - Chain [1] done processing\n",
      "11:50:00 - cmdstanpy - INFO - Chain [1] start processing\n"
     ]
    },
    {
     "name": "stdout",
     "output_type": "stream",
     "text": [
      "ARIMA - MAPE: 2.02%\n",
      "SARIMA - MAPE: 83.34%\n",
      "Holt-Winters - MAPE: 2.19%\n",
      "Facebook Prophet - MAPE: 2.94%\n",
      "Ensemble Forecast - MAPE: 2.31%\n"
     ]
    },
    {
     "name": "stderr",
     "output_type": "stream",
     "text": [
      "11:50:00 - cmdstanpy - INFO - Chain [1] done processing\n"
     ]
    },
    {
     "name": "stdout",
     "output_type": "stream",
     "text": [
      "[1003.11294768  992.74644443  983.6982179   984.35355361  992.80876293\n",
      "  999.76798225  999.56634041  995.98780516  996.11869703 1000.41888134\n",
      " 1001.82069256  995.16907747  985.06747445]\n",
      "----------RESULT FOR PRDCT3_CUSTB ----------\n"
     ]
    },
    {
     "name": "stderr",
     "output_type": "stream",
     "text": [
      "11:50:05 - cmdstanpy - INFO - Chain [1] start processing\n",
      "11:50:05 - cmdstanpy - INFO - Chain [1] done processing\n"
     ]
    },
    {
     "name": "stdout",
     "output_type": "stream",
     "text": [
      "ARIMA - MAPE: 2.52%\n",
      "SARIMA - MAPE: 100.00%\n",
      "Holt-Winters - MAPE: 3.18%\n",
      "Facebook Prophet - MAPE: 3.61%\n",
      "Ensemble Forecast - MAPE: 2.93%\n"
     ]
    },
    {
     "name": "stderr",
     "output_type": "stream",
     "text": [
      "11:50:06 - cmdstanpy - INFO - Chain [1] start processing\n",
      "11:50:06 - cmdstanpy - INFO - Chain [1] done processing\n"
     ]
    },
    {
     "name": "stdout",
     "output_type": "stream",
     "text": [
      "[ 996.08298153 1002.55494083 1003.24150243  997.79938667  991.98671335\n",
      "  990.78259913  993.04027596  994.28418226  993.21073554  993.06959312\n",
      "  996.4406612  1000.92660797 1001.95204372]\n",
      "----------RESULT FOR PRDCT3_CUSTC ----------\n"
     ]
    },
    {
     "name": "stderr",
     "output_type": "stream",
     "text": [
      "11:50:10 - cmdstanpy - INFO - Chain [1] start processing\n",
      "11:50:10 - cmdstanpy - INFO - Chain [1] done processing\n"
     ]
    },
    {
     "name": "stdout",
     "output_type": "stream",
     "text": [
      "ARIMA - MAPE: 2.66%\n",
      "SARIMA - MAPE: 100.00%\n",
      "Holt-Winters - MAPE: 2.67%\n",
      "Facebook Prophet - MAPE: 2.97%\n",
      "Ensemble Forecast - MAPE: 2.78%\n"
     ]
    },
    {
     "name": "stderr",
     "output_type": "stream",
     "text": [
      "11:50:10 - cmdstanpy - INFO - Chain [1] start processing\n",
      "11:50:10 - cmdstanpy - INFO - Chain [1] done processing\n"
     ]
    },
    {
     "name": "stdout",
     "output_type": "stream",
     "text": [
      "[ 997.59157831 1001.60650069 1002.98644667 1001.39032368 1000.64009292\n",
      " 1002.84391694 1005.44709465 1003.98513852  997.59013962  990.9075567\n",
      "  990.06631792  996.86956572 1007.0553622 ]\n",
      "----------RESULT FOR PRDCT3_CUSTD ----------\n"
     ]
    },
    {
     "name": "stderr",
     "output_type": "stream",
     "text": [
      "11:50:15 - cmdstanpy - INFO - Chain [1] start processing\n",
      "11:50:15 - cmdstanpy - INFO - Chain [1] done processing\n"
     ]
    },
    {
     "name": "stdout",
     "output_type": "stream",
     "text": [
      "ARIMA - MAPE: 2.36%\n",
      "SARIMA - MAPE: 100.00%\n",
      "Holt-Winters - MAPE: 2.55%\n",
      "Facebook Prophet - MAPE: 2.44%\n",
      "Ensemble Forecast - MAPE: 2.36%\n"
     ]
    },
    {
     "name": "stderr",
     "output_type": "stream",
     "text": [
      "11:50:16 - cmdstanpy - INFO - Chain [1] start processing\n",
      "11:50:16 - cmdstanpy - INFO - Chain [1] done processing\n"
     ]
    },
    {
     "name": "stdout",
     "output_type": "stream",
     "text": [
      "[1004.07060048  999.48449856  998.87534696 1004.78033727 1013.41173004\n",
      " 1018.61289568 1017.28713944 1011.82483573 1007.56270962 1007.89825109\n",
      " 1011.59133334 1014.42553419 1013.29375301]\n",
      "----------RESULT FOR PRDCT3_CUSTE ----------\n"
     ]
    },
    {
     "name": "stderr",
     "output_type": "stream",
     "text": [
      "11:50:24 - cmdstanpy - INFO - Chain [1] start processing\n",
      "11:50:24 - cmdstanpy - INFO - Chain [1] done processing\n"
     ]
    },
    {
     "name": "stdout",
     "output_type": "stream",
     "text": [
      "ARIMA - MAPE: 2.54%\n",
      "SARIMA - MAPE: 98.49%\n",
      "Holt-Winters - MAPE: 2.56%\n",
      "Facebook Prophet - MAPE: 2.89%\n",
      "Ensemble Forecast - MAPE: 2.50%\n"
     ]
    },
    {
     "name": "stderr",
     "output_type": "stream",
     "text": [
      "11:50:25 - cmdstanpy - INFO - Chain [1] start processing\n",
      "11:50:25 - cmdstanpy - INFO - Chain [1] done processing\n"
     ]
    },
    {
     "name": "stdout",
     "output_type": "stream",
     "text": [
      "[1000.81611191  992.90036434  991.15510874 1000.07421443 1013.7730656\n",
      " 1021.14789799 1016.74526776 1005.77647682  998.19835494  998.67426347\n",
      " 1003.1881385  1005.03613391 1002.51496386]\n",
      "----------RESULT FOR PRDCT3_CUSTF ----------\n"
     ]
    },
    {
     "name": "stderr",
     "output_type": "stream",
     "text": [
      "11:50:29 - cmdstanpy - INFO - Chain [1] start processing\n",
      "11:50:29 - cmdstanpy - INFO - Chain [1] done processing\n"
     ]
    },
    {
     "name": "stdout",
     "output_type": "stream",
     "text": [
      "ARIMA - MAPE: 2.39%\n",
      "SARIMA - MAPE: 100.00%\n",
      "Holt-Winters - MAPE: 2.52%\n",
      "Facebook Prophet - MAPE: 2.52%\n",
      "Ensemble Forecast - MAPE: 2.39%\n"
     ]
    },
    {
     "name": "stderr",
     "output_type": "stream",
     "text": [
      "11:50:30 - cmdstanpy - INFO - Chain [1] start processing\n",
      "11:50:30 - cmdstanpy - INFO - Chain [1] done processing\n"
     ]
    },
    {
     "name": "stdout",
     "output_type": "stream",
     "text": [
      "[ 992.00868322  989.16065771  992.53970554  998.12416485  999.66787952\n",
      "  994.54920709  985.87245697  979.83900248  980.93676575  988.49330416\n",
      "  997.06568475 1000.76245875  998.47199679]\n",
      "----------RESULT FOR PRDCT4_CUSTA ----------\n"
     ]
    },
    {
     "name": "stderr",
     "output_type": "stream",
     "text": [
      "11:50:35 - cmdstanpy - INFO - Chain [1] start processing\n",
      "11:50:35 - cmdstanpy - INFO - Chain [1] done processing\n",
      "11:50:35 - cmdstanpy - INFO - Chain [1] start processing\n"
     ]
    },
    {
     "name": "stdout",
     "output_type": "stream",
     "text": [
      "ARIMA - MAPE: 4.16%\n",
      "SARIMA - MAPE: 100.00%\n",
      "Holt-Winters - MAPE: 4.26%\n",
      "Facebook Prophet - MAPE: 5.01%\n",
      "Ensemble Forecast - MAPE: 4.40%\n"
     ]
    },
    {
     "name": "stderr",
     "output_type": "stream",
     "text": [
      "11:50:35 - cmdstanpy - INFO - Chain [1] done processing\n"
     ]
    },
    {
     "name": "stdout",
     "output_type": "stream",
     "text": [
      "[302.42889013 300.01203852 298.11365168 298.04131622 299.34871163\n",
      " 300.45163835 300.63066378 300.77996384 302.02957065 303.91227235\n",
      " 304.40414959 302.0995914  298.23647805]\n",
      "----------RESULT FOR PRDCT4_CUSTB ----------\n"
     ]
    },
    {
     "name": "stderr",
     "output_type": "stream",
     "text": [
      "11:50:43 - cmdstanpy - INFO - Chain [1] start processing\n",
      "11:50:43 - cmdstanpy - INFO - Chain [1] done processing\n"
     ]
    },
    {
     "name": "stdout",
     "output_type": "stream",
     "text": [
      "ARIMA - MAPE: 5.36%\n",
      "SARIMA - MAPE: 100.00%\n",
      "Holt-Winters - MAPE: 5.58%\n",
      "Facebook Prophet - MAPE: 5.87%\n",
      "Ensemble Forecast - MAPE: 5.49%\n"
     ]
    },
    {
     "name": "stderr",
     "output_type": "stream",
     "text": [
      "11:50:43 - cmdstanpy - INFO - Chain [1] start processing\n",
      "11:50:43 - cmdstanpy - INFO - Chain [1] done processing\n"
     ]
    },
    {
     "name": "stdout",
     "output_type": "stream",
     "text": [
      "[300.05540566 301.19831466 299.20089724 298.96350715 301.15130241\n",
      " 303.33865236 302.64398172 299.36731624 296.8871851  297.95819929\n",
      " 301.7623832  305.00450787 305.48483616]\n",
      "----------RESULT FOR PRDCT4_CUSTC ----------\n"
     ]
    },
    {
     "name": "stderr",
     "output_type": "stream",
     "text": [
      "11:50:48 - cmdstanpy - INFO - Chain [1] start processing\n",
      "11:50:48 - cmdstanpy - INFO - Chain [1] done processing\n"
     ]
    },
    {
     "name": "stdout",
     "output_type": "stream",
     "text": [
      "ARIMA - MAPE: 4.93%\n",
      "SARIMA - MAPE: 100.00%\n",
      "Holt-Winters - MAPE: 5.08%\n",
      "Facebook Prophet - MAPE: 5.21%\n",
      "Ensemble Forecast - MAPE: 5.01%\n"
     ]
    },
    {
     "name": "stderr",
     "output_type": "stream",
     "text": [
      "11:50:48 - cmdstanpy - INFO - Chain [1] start processing\n",
      "11:50:48 - cmdstanpy - INFO - Chain [1] done processing\n"
     ]
    },
    {
     "name": "stdout",
     "output_type": "stream",
     "text": [
      "[300.53625622 300.68163029 298.21517855 294.59432378 291.83681751\n",
      " 291.85170881 295.11336397 299.90125656 303.27976531 303.400497\n",
      " 301.0021782  298.5129352  297.67290288]\n",
      "----------RESULT FOR PRDCT4_CUSTD ----------\n"
     ]
    },
    {
     "name": "stderr",
     "output_type": "stream",
     "text": [
      "11:51:03 - cmdstanpy - INFO - Chain [1] start processing\n",
      "11:51:03 - cmdstanpy - INFO - Chain [1] done processing\n"
     ]
    },
    {
     "name": "stdout",
     "output_type": "stream",
     "text": [
      "ARIMA - MAPE: 4.09%\n",
      "SARIMA - MAPE: 83.00%\n",
      "Holt-Winters - MAPE: 4.22%\n",
      "Facebook Prophet - MAPE: 3.94%\n",
      "Ensemble Forecast - MAPE: 3.88%\n"
     ]
    },
    {
     "name": "stderr",
     "output_type": "stream",
     "text": [
      "11:51:03 - cmdstanpy - INFO - Chain [1] start processing\n",
      "11:51:03 - cmdstanpy - INFO - Chain [1] done processing\n"
     ]
    },
    {
     "name": "stdout",
     "output_type": "stream",
     "text": [
      "[300.76041396 301.88934766 300.1964017  296.00683157 292.7583639\n",
      " 293.17958514 296.58300527 299.83078596 300.66334288 299.5439497\n",
      " 298.29260042 297.66738819 296.93202206]\n",
      "----------RESULT FOR PRDCT4_CUSTE ----------\n"
     ]
    },
    {
     "name": "stderr",
     "output_type": "stream",
     "text": [
      "11:51:08 - cmdstanpy - INFO - Chain [1] start processing\n",
      "11:51:08 - cmdstanpy - INFO - Chain [1] done processing\n"
     ]
    },
    {
     "name": "stdout",
     "output_type": "stream",
     "text": [
      "ARIMA - MAPE: 4.47%\n",
      "SARIMA - MAPE: 100.00%\n",
      "Holt-Winters - MAPE: 4.79%\n",
      "Facebook Prophet - MAPE: 4.70%\n",
      "Ensemble Forecast - MAPE: 4.56%\n"
     ]
    },
    {
     "name": "stderr",
     "output_type": "stream",
     "text": [
      "11:51:08 - cmdstanpy - INFO - Chain [1] start processing\n",
      "11:51:08 - cmdstanpy - INFO - Chain [1] done processing\n"
     ]
    },
    {
     "name": "stdout",
     "output_type": "stream",
     "text": [
      "[301.63306128 305.44859948 307.52667735 306.00888901 302.61709513\n",
      " 301.36961568 304.45858433 309.69080498 312.57045472 310.90757192\n",
      " 306.88478028 304.38615437 304.76685675]\n",
      "----------RESULT FOR PRDCT4_CUSTF ----------\n"
     ]
    },
    {
     "name": "stderr",
     "output_type": "stream",
     "text": [
      "11:51:15 - cmdstanpy - INFO - Chain [1] start processing\n",
      "11:51:15 - cmdstanpy - INFO - Chain [1] done processing\n"
     ]
    },
    {
     "name": "stdout",
     "output_type": "stream",
     "text": [
      "ARIMA - MAPE: 4.31%\n",
      "SARIMA - MAPE: 83.27%\n",
      "Holt-Winters - MAPE: 4.37%\n",
      "Facebook Prophet - MAPE: 5.05%\n",
      "Ensemble Forecast - MAPE: 4.28%\n"
     ]
    },
    {
     "name": "stderr",
     "output_type": "stream",
     "text": [
      "11:51:15 - cmdstanpy - INFO - Chain [1] start processing\n",
      "11:51:16 - cmdstanpy - INFO - Chain [1] done processing\n"
     ]
    },
    {
     "name": "stdout",
     "output_type": "stream",
     "text": [
      "[304.04840846 307.85341432 306.34755749 301.56220571 298.72251175\n",
      " 300.56112521 304.80200973 307.35156682 307.10656723 306.6999774\n",
      " 308.60425268 311.5494416  311.66925102]\n",
      "----------RESULT FOR PRDCT5_CUSTA ----------\n"
     ]
    },
    {
     "name": "stderr",
     "output_type": "stream",
     "text": [
      "11:51:20 - cmdstanpy - INFO - Chain [1] start processing\n",
      "11:51:21 - cmdstanpy - INFO - Chain [1] done processing\n"
     ]
    },
    {
     "name": "stdout",
     "output_type": "stream",
     "text": [
      "ARIMA - MAPE: 2.25%\n",
      "SARIMA - MAPE: 100.00%\n",
      "Holt-Winters - MAPE: 2.64%\n",
      "Facebook Prophet - MAPE: 2.71%\n",
      "Ensemble Forecast - MAPE: 2.45%\n"
     ]
    },
    {
     "name": "stderr",
     "output_type": "stream",
     "text": [
      "11:51:21 - cmdstanpy - INFO - Chain [1] start processing\n",
      "11:51:21 - cmdstanpy - INFO - Chain [1] done processing\n"
     ]
    },
    {
     "name": "stdout",
     "output_type": "stream",
     "text": [
      "[1261.534981   1267.28517855 1267.43154065 1260.2349771  1250.22163399\n",
      " 1244.74484489 1246.54669277 1251.34753656 1253.52461978 1252.97438222\n",
      " 1254.64073208 1261.28548752 1268.67134494]\n",
      "----------RESULT FOR PRDCT5_CUSTB ----------\n"
     ]
    },
    {
     "name": "stderr",
     "output_type": "stream",
     "text": [
      "11:51:25 - cmdstanpy - INFO - Chain [1] start processing\n",
      "11:51:25 - cmdstanpy - INFO - Chain [1] done processing\n",
      "11:51:26 - cmdstanpy - INFO - Chain [1] start processing\n"
     ]
    },
    {
     "name": "stdout",
     "output_type": "stream",
     "text": [
      "ARIMA - MAPE: 2.79%\n",
      "SARIMA - MAPE: 100.00%\n",
      "Holt-Winters - MAPE: 3.05%\n",
      "Facebook Prophet - MAPE: 2.84%\n",
      "Ensemble Forecast - MAPE: 2.80%\n"
     ]
    },
    {
     "name": "stderr",
     "output_type": "stream",
     "text": [
      "11:51:26 - cmdstanpy - INFO - Chain [1] done processing\n"
     ]
    },
    {
     "name": "stdout",
     "output_type": "stream",
     "text": [
      "[1251.14428671 1257.94066882 1258.97245717 1253.30387107 1248.54682316\n",
      " 1251.55647193 1260.62377545 1267.26308769 1265.3013708  1256.87889322\n",
      " 1249.19219504 1246.63012251 1247.4130284 ]\n",
      "----------RESULT FOR PRDCT5_CUSTC ----------\n"
     ]
    },
    {
     "name": "stderr",
     "output_type": "stream",
     "text": [
      "11:51:30 - cmdstanpy - INFO - Chain [1] start processing\n",
      "11:51:30 - cmdstanpy - INFO - Chain [1] done processing\n"
     ]
    },
    {
     "name": "stdout",
     "output_type": "stream",
     "text": [
      "ARIMA - MAPE: 2.18%\n",
      "SARIMA - MAPE: 100.00%\n",
      "Holt-Winters - MAPE: 2.38%\n",
      "Facebook Prophet - MAPE: 2.60%\n",
      "Ensemble Forecast - MAPE: 2.20%\n"
     ]
    },
    {
     "name": "stderr",
     "output_type": "stream",
     "text": [
      "11:51:30 - cmdstanpy - INFO - Chain [1] start processing\n",
      "11:51:30 - cmdstanpy - INFO - Chain [1] done processing\n"
     ]
    },
    {
     "name": "stdout",
     "output_type": "stream",
     "text": [
      "[1239.67681462 1238.80394121 1242.6949295  1248.03061473 1250.45579879\n",
      " 1248.40111284 1243.80931895 1240.0929808  1239.80592823 1243.57774775\n",
      " 1250.038591   1256.32175592 1259.51224284]\n",
      "----------RESULT FOR PRDCT5_CUSTD ----------\n"
     ]
    },
    {
     "name": "stderr",
     "output_type": "stream",
     "text": [
      "11:51:35 - cmdstanpy - INFO - Chain [1] start processing\n",
      "11:51:35 - cmdstanpy - INFO - Chain [1] done processing\n"
     ]
    },
    {
     "name": "stdout",
     "output_type": "stream",
     "text": [
      "ARIMA - MAPE: 2.43%\n",
      "SARIMA - MAPE: 100.00%\n",
      "Holt-Winters - MAPE: 3.32%\n",
      "Facebook Prophet - MAPE: 2.27%\n",
      "Ensemble Forecast - MAPE: 2.34%\n"
     ]
    },
    {
     "name": "stderr",
     "output_type": "stream",
     "text": [
      "11:51:36 - cmdstanpy - INFO - Chain [1] start processing\n",
      "11:51:36 - cmdstanpy - INFO - Chain [1] done processing\n"
     ]
    },
    {
     "name": "stdout",
     "output_type": "stream",
     "text": [
      "[1241.80446587 1239.38298092 1239.50906507 1241.4376191  1244.10249908\n",
      " 1246.52233581 1247.91759232 1248.13061079 1247.76752649 1247.3075255\n",
      " 1245.99103547 1242.35254198 1236.59062571]\n",
      "----------RESULT FOR PRDCT5_CUSTE ----------\n"
     ]
    },
    {
     "name": "stderr",
     "output_type": "stream",
     "text": [
      "11:51:40 - cmdstanpy - INFO - Chain [1] start processing\n",
      "11:51:40 - cmdstanpy - INFO - Chain [1] done processing\n"
     ]
    },
    {
     "name": "stdout",
     "output_type": "stream",
     "text": [
      "ARIMA - MAPE: 1.72%\n",
      "SARIMA - MAPE: 100.00%\n",
      "Holt-Winters - MAPE: 2.25%\n",
      "Facebook Prophet - MAPE: 1.91%\n",
      "Ensemble Forecast - MAPE: 1.72%\n"
     ]
    },
    {
     "name": "stderr",
     "output_type": "stream",
     "text": [
      "11:51:41 - cmdstanpy - INFO - Chain [1] start processing\n",
      "11:51:41 - cmdstanpy - INFO - Chain [1] done processing\n"
     ]
    },
    {
     "name": "stdout",
     "output_type": "stream",
     "text": [
      "[1263.79522423 1254.24460982 1240.80194217 1235.29979155 1241.83913236\n",
      " 1252.76605923 1257.46565987 1253.15816106 1245.84428214 1242.00762149\n",
      " 1241.95809615 1241.97341304 1240.70990999]\n",
      "----------RESULT FOR PRDCT5_CUSTF ----------\n"
     ]
    },
    {
     "name": "stderr",
     "output_type": "stream",
     "text": [
      "11:51:47 - cmdstanpy - INFO - Chain [1] start processing\n",
      "11:51:47 - cmdstanpy - INFO - Chain [1] done processing\n"
     ]
    },
    {
     "name": "stdout",
     "output_type": "stream",
     "text": [
      "ARIMA - MAPE: 1.87%\n",
      "SARIMA - MAPE: 83.50%\n",
      "Holt-Winters - MAPE: 2.07%\n",
      "Facebook Prophet - MAPE: 2.24%\n",
      "Ensemble Forecast - MAPE: 2.03%\n"
     ]
    },
    {
     "name": "stderr",
     "output_type": "stream",
     "text": [
      "11:51:48 - cmdstanpy - INFO - Chain [1] start processing\n",
      "11:51:48 - cmdstanpy - INFO - Chain [1] done processing\n"
     ]
    },
    {
     "name": "stdout",
     "output_type": "stream",
     "text": [
      "[1256.68869378 1258.18033509 1256.93523758 1254.04248582 1249.23302718\n",
      " 1244.53743213 1243.72838299 1248.21458411 1254.19807466 1255.50659454\n",
      " 1250.04195607 1242.79621831 1241.43330802]\n",
      "----------RESULT FOR PRDCT6_CUSTA ----------\n"
     ]
    },
    {
     "name": "stderr",
     "output_type": "stream",
     "text": [
      "11:51:53 - cmdstanpy - INFO - Chain [1] start processing\n",
      "11:51:53 - cmdstanpy - INFO - Chain [1] done processing\n"
     ]
    },
    {
     "name": "stdout",
     "output_type": "stream",
     "text": [
      "ARIMA - MAPE: 1.70%\n",
      "SARIMA - MAPE: 83.40%\n",
      "Holt-Winters - MAPE: 1.80%\n",
      "Facebook Prophet - MAPE: 2.08%\n",
      "Ensemble Forecast - MAPE: 1.89%\n"
     ]
    },
    {
     "name": "stderr",
     "output_type": "stream",
     "text": [
      "11:51:54 - cmdstanpy - INFO - Chain [1] start processing\n",
      "11:51:54 - cmdstanpy - INFO - Chain [1] done processing\n"
     ]
    },
    {
     "name": "stdout",
     "output_type": "stream",
     "text": [
      "[1859.91447904 1857.7269396  1857.15067635 1859.27749721 1863.6123822\n",
      " 1867.77154007 1868.8315389  1865.82551986 1860.63813941 1856.07465917\n",
      " 1853.3266087  1851.85194054 1851.50468265]\n",
      "----------RESULT FOR PRDCT6_CUSTB ----------\n"
     ]
    },
    {
     "name": "stderr",
     "output_type": "stream",
     "text": [
      "11:51:59 - cmdstanpy - INFO - Chain [1] start processing\n",
      "11:51:59 - cmdstanpy - INFO - Chain [1] done processing\n"
     ]
    },
    {
     "name": "stdout",
     "output_type": "stream",
     "text": [
      "ARIMA - MAPE: 1.65%\n",
      "SARIMA - MAPE: 100.00%\n",
      "Holt-Winters - MAPE: 2.00%\n",
      "Facebook Prophet - MAPE: 2.50%\n",
      "Ensemble Forecast - MAPE: 2.03%\n"
     ]
    },
    {
     "name": "stderr",
     "output_type": "stream",
     "text": [
      "11:51:59 - cmdstanpy - INFO - Chain [1] start processing\n",
      "11:51:59 - cmdstanpy - INFO - Chain [1] done processing\n"
     ]
    },
    {
     "name": "stdout",
     "output_type": "stream",
     "text": [
      "[1836.67011256 1830.02245802 1828.42897367 1831.99847801 1837.09172554\n",
      " 1838.3938689  1833.00808742 1823.61384913 1816.97020001 1817.8834443\n",
      " 1824.16843185 1828.42646176 1825.69345779]\n",
      "----------RESULT FOR PRDCT6_CUSTC ----------\n"
     ]
    },
    {
     "name": "stderr",
     "output_type": "stream",
     "text": [
      "11:52:03 - cmdstanpy - INFO - Chain [1] start processing\n",
      "11:52:03 - cmdstanpy - INFO - Chain [1] done processing\n"
     ]
    },
    {
     "name": "stdout",
     "output_type": "stream",
     "text": [
      "ARIMA - MAPE: 1.28%\n",
      "SARIMA - MAPE: 100.00%\n",
      "Holt-Winters - MAPE: 1.84%\n",
      "Facebook Prophet - MAPE: 1.62%\n",
      "Ensemble Forecast - MAPE: 1.37%\n"
     ]
    },
    {
     "name": "stderr",
     "output_type": "stream",
     "text": [
      "11:52:03 - cmdstanpy - INFO - Chain [1] start processing\n",
      "11:52:03 - cmdstanpy - INFO - Chain [1] done processing\n"
     ]
    },
    {
     "name": "stdout",
     "output_type": "stream",
     "text": [
      "[1850.06464715 1850.93525445 1850.04326358 1847.82691085 1844.51539524\n",
      " 1842.52128115 1845.55836712 1853.84541089 1861.48430662 1861.19563403\n",
      " 1852.61644187 1844.40110249 1846.17126815]\n",
      "----------RESULT FOR PRDCT6_CUSTD ----------\n"
     ]
    },
    {
     "name": "stderr",
     "output_type": "stream",
     "text": [
      "11:52:08 - cmdstanpy - INFO - Chain [1] start processing\n",
      "11:52:08 - cmdstanpy - INFO - Chain [1] done processing\n"
     ]
    },
    {
     "name": "stdout",
     "output_type": "stream",
     "text": [
      "ARIMA - MAPE: 1.72%\n",
      "SARIMA - MAPE: 100.00%\n",
      "Holt-Winters - MAPE: 1.72%\n",
      "Facebook Prophet - MAPE: 2.02%\n",
      "Ensemble Forecast - MAPE: 1.86%\n"
     ]
    },
    {
     "name": "stderr",
     "output_type": "stream",
     "text": [
      "11:52:08 - cmdstanpy - INFO - Chain [1] start processing\n",
      "11:52:08 - cmdstanpy - INFO - Chain [1] done processing\n"
     ]
    },
    {
     "name": "stdout",
     "output_type": "stream",
     "text": [
      "[1855.43045133 1863.60679055 1870.97363505 1876.87536509 1878.35436756\n",
      " 1871.25434377 1855.97411601 1840.43412773 1834.65971399 1841.31411292\n",
      " 1852.60564745 1857.84565786 1853.95016548]\n",
      "----------RESULT FOR PRDCT6_CUSTE ----------\n"
     ]
    },
    {
     "name": "stderr",
     "output_type": "stream",
     "text": [
      "11:52:17 - cmdstanpy - INFO - Chain [1] start processing\n",
      "11:52:17 - cmdstanpy - INFO - Chain [1] done processing\n"
     ]
    },
    {
     "name": "stdout",
     "output_type": "stream",
     "text": [
      "ARIMA - MAPE: 1.95%\n",
      "SARIMA - MAPE: 98.59%\n",
      "Holt-Winters - MAPE: 2.36%\n",
      "Facebook Prophet - MAPE: 2.35%\n",
      "Ensemble Forecast - MAPE: 2.12%\n"
     ]
    },
    {
     "name": "stderr",
     "output_type": "stream",
     "text": [
      "11:52:17 - cmdstanpy - INFO - Chain [1] start processing\n",
      "11:52:17 - cmdstanpy - INFO - Chain [1] done processing\n"
     ]
    },
    {
     "name": "stdout",
     "output_type": "stream",
     "text": [
      "[1846.04349692 1853.38111786 1854.92261868 1846.30812212 1832.59840365\n",
      " 1822.94187486 1821.61435525 1825.2494697  1828.83169284 1832.41391968\n",
      " 1839.92770682 1851.77529069 1861.29257639]\n",
      "----------RESULT FOR PRDCT6_CUSTF ----------\n"
     ]
    },
    {
     "name": "stderr",
     "output_type": "stream",
     "text": [
      "11:52:22 - cmdstanpy - INFO - Chain [1] start processing\n",
      "11:52:22 - cmdstanpy - INFO - Chain [1] done processing\n"
     ]
    },
    {
     "name": "stdout",
     "output_type": "stream",
     "text": [
      "ARIMA - MAPE: 1.59%\n",
      "SARIMA - MAPE: 100.00%\n",
      "Holt-Winters - MAPE: 1.88%\n",
      "Facebook Prophet - MAPE: 1.66%\n",
      "Ensemble Forecast - MAPE: 1.57%\n"
     ]
    },
    {
     "name": "stderr",
     "output_type": "stream",
     "text": [
      "11:52:23 - cmdstanpy - INFO - Chain [1] start processing\n",
      "11:52:23 - cmdstanpy - INFO - Chain [1] done processing\n"
     ]
    },
    {
     "name": "stdout",
     "output_type": "stream",
     "text": [
      "[1857.9007628  1857.68046219 1849.12999263 1838.7443748  1836.41345629\n",
      " 1844.93583344 1856.50854032 1860.86172238 1856.13487661 1850.30255738\n",
      " 1851.81082375 1860.23533407 1867.18359515]\n",
      "----------RESULT FOR PRDCT7_CUSTA ----------\n"
     ]
    },
    {
     "name": "stderr",
     "output_type": "stream",
     "text": [
      "11:52:29 - cmdstanpy - INFO - Chain [1] start processing\n",
      "11:52:29 - cmdstanpy - INFO - Chain [1] done processing\n"
     ]
    },
    {
     "name": "stdout",
     "output_type": "stream",
     "text": [
      "ARIMA - MAPE: 2.42%\n",
      "SARIMA - MAPE: 100.00%\n",
      "Holt-Winters - MAPE: 2.46%\n",
      "Facebook Prophet - MAPE: 2.40%\n",
      "Ensemble Forecast - MAPE: 2.34%\n"
     ]
    },
    {
     "name": "stderr",
     "output_type": "stream",
     "text": [
      "11:52:30 - cmdstanpy - INFO - Chain [1] start processing\n",
      "11:52:30 - cmdstanpy - INFO - Chain [1] done processing\n"
     ]
    },
    {
     "name": "stdout",
     "output_type": "stream",
     "text": [
      "[1251.93391221 1242.65450354 1242.78621366 1250.06911437 1256.79998108\n",
      " 1257.36520757 1253.60946767 1251.69550793 1254.64516413 1259.2644298\n",
      " 1260.41502315 1257.10019998 1253.4655544 ]\n",
      "----------RESULT FOR PRDCT7_CUSTB ----------\n"
     ]
    },
    {
     "name": "stderr",
     "output_type": "stream",
     "text": [
      "11:52:36 - cmdstanpy - INFO - Chain [1] start processing\n",
      "11:52:36 - cmdstanpy - INFO - Chain [1] done processing\n"
     ]
    },
    {
     "name": "stdout",
     "output_type": "stream",
     "text": [
      "ARIMA - MAPE: 2.10%\n",
      "SARIMA - MAPE: 100.00%\n",
      "Holt-Winters - MAPE: 2.19%\n",
      "Facebook Prophet - MAPE: 2.35%\n",
      "Ensemble Forecast - MAPE: 2.19%\n"
     ]
    },
    {
     "name": "stderr",
     "output_type": "stream",
     "text": [
      "11:52:37 - cmdstanpy - INFO - Chain [1] start processing\n",
      "11:52:37 - cmdstanpy - INFO - Chain [1] done processing\n"
     ]
    },
    {
     "name": "stdout",
     "output_type": "stream",
     "text": [
      "[1247.32613131 1249.41994436 1246.90878692 1243.51090983 1244.05485323\n",
      " 1249.12935161 1254.76656981 1256.99843793 1255.69548057 1253.70287501\n",
      " 1253.18160059 1253.77218087 1254.05602979]\n",
      "----------RESULT FOR PRDCT7_CUSTC ----------\n"
     ]
    },
    {
     "name": "stderr",
     "output_type": "stream",
     "text": [
      "11:52:40 - cmdstanpy - INFO - Chain [1] start processing\n",
      "11:52:40 - cmdstanpy - INFO - Chain [1] done processing\n"
     ]
    },
    {
     "name": "stdout",
     "output_type": "stream",
     "text": [
      "ARIMA - MAPE: 2.23%\n",
      "SARIMA - MAPE: 100.00%\n",
      "Holt-Winters - MAPE: 2.31%\n",
      "Facebook Prophet - MAPE: 2.39%\n",
      "Ensemble Forecast - MAPE: 2.21%\n"
     ]
    },
    {
     "name": "stderr",
     "output_type": "stream",
     "text": [
      "11:52:40 - cmdstanpy - INFO - Chain [1] start processing\n",
      "11:52:40 - cmdstanpy - INFO - Chain [1] done processing\n"
     ]
    },
    {
     "name": "stdout",
     "output_type": "stream",
     "text": [
      "[1249.31946121 1251.65576801 1252.42541746 1251.30383655 1248.90472225\n",
      " 1246.88283782 1247.03762327 1249.72675373 1252.99064419 1253.92425762\n",
      " 1251.57504081 1248.33794907 1247.77252616]\n",
      "----------RESULT FOR PRDCT7_CUSTD ----------\n"
     ]
    },
    {
     "name": "stderr",
     "output_type": "stream",
     "text": [
      "11:52:50 - cmdstanpy - INFO - Chain [1] start processing\n",
      "11:52:50 - cmdstanpy - INFO - Chain [1] done processing\n"
     ]
    },
    {
     "name": "stdout",
     "output_type": "stream",
     "text": [
      "ARIMA - MAPE: 1.70%\n",
      "SARIMA - MAPE: 2.17%\n",
      "Holt-Winters - MAPE: 1.98%\n",
      "Facebook Prophet - MAPE: 1.78%\n",
      "Ensemble Forecast - MAPE: 1.67%\n"
     ]
    },
    {
     "name": "stderr",
     "output_type": "stream",
     "text": [
      "11:52:50 - cmdstanpy - INFO - Chain [1] start processing\n",
      "11:52:51 - cmdstanpy - INFO - Chain [1] done processing\n"
     ]
    },
    {
     "name": "stdout",
     "output_type": "stream",
     "text": [
      "[1249.02633559 1249.90268908 1249.15642606 1250.18210668 1255.94110726\n",
      " 1263.77939224 1266.95486987 1261.64545637 1251.47127784 1244.11343707\n",
      " 1243.72934618 1247.60184224 1250.27331983]\n",
      "----------RESULT FOR PRDCT7_CUSTE ----------\n"
     ]
    },
    {
     "name": "stderr",
     "output_type": "stream",
     "text": [
      "11:52:56 - cmdstanpy - INFO - Chain [1] start processing\n",
      "11:52:56 - cmdstanpy - INFO - Chain [1] done processing\n"
     ]
    },
    {
     "name": "stdout",
     "output_type": "stream",
     "text": [
      "ARIMA - MAPE: 2.46%\n",
      "SARIMA - MAPE: 97.81%\n",
      "Holt-Winters - MAPE: 2.52%\n",
      "Facebook Prophet - MAPE: 3.12%\n",
      "Ensemble Forecast - MAPE: 2.76%\n"
     ]
    },
    {
     "name": "stderr",
     "output_type": "stream",
     "text": [
      "11:52:57 - cmdstanpy - INFO - Chain [1] start processing\n",
      "11:52:57 - cmdstanpy - INFO - Chain [1] done processing\n"
     ]
    },
    {
     "name": "stdout",
     "output_type": "stream",
     "text": [
      "[1248.12963162 1250.83689429 1256.57517539 1258.15258876 1251.22478476\n",
      " 1238.58276595 1229.75751596 1232.87054369 1246.10757897 1258.21534522\n",
      " 1258.63288942 1247.36813267 1234.49765618]\n",
      "----------RESULT FOR PRDCT7_CUSTF ----------\n"
     ]
    },
    {
     "name": "stderr",
     "output_type": "stream",
     "text": [
      "11:53:00 - cmdstanpy - INFO - Chain [1] start processing\n",
      "11:53:00 - cmdstanpy - INFO - Chain [1] done processing\n"
     ]
    },
    {
     "name": "stdout",
     "output_type": "stream",
     "text": [
      "ARIMA - MAPE: 2.01%\n",
      "SARIMA - MAPE: 100.00%\n",
      "Holt-Winters - MAPE: 2.26%\n",
      "Facebook Prophet - MAPE: 2.02%\n",
      "Ensemble Forecast - MAPE: 1.97%\n"
     ]
    },
    {
     "name": "stderr",
     "output_type": "stream",
     "text": [
      "11:53:01 - cmdstanpy - INFO - Chain [1] start processing\n",
      "11:53:01 - cmdstanpy - INFO - Chain [1] done processing\n"
     ]
    },
    {
     "name": "stdout",
     "output_type": "stream",
     "text": [
      "[1251.03050918 1247.74040771 1244.57642957 1245.50690567 1249.3813925\n",
      " 1251.1297018  1248.63048786 1246.14075508 1249.07105223 1256.4508385\n",
      " 1261.16719933 1258.42810689 1251.99065114]\n",
      "----------RESULT FOR PRDCT8_CUSTA ----------\n"
     ]
    },
    {
     "name": "stderr",
     "output_type": "stream",
     "text": [
      "11:53:08 - cmdstanpy - INFO - Chain [1] start processing\n",
      "11:53:08 - cmdstanpy - INFO - Chain [1] done processing\n",
      "11:53:08 - cmdstanpy - INFO - Chain [1] start processing\n"
     ]
    },
    {
     "name": "stdout",
     "output_type": "stream",
     "text": [
      "ARIMA - MAPE: 2.05%\n",
      "SARIMA - MAPE: 99.04%\n",
      "Holt-Winters - MAPE: 2.14%\n",
      "Facebook Prophet - MAPE: 2.23%\n",
      "Ensemble Forecast - MAPE: 2.09%\n"
     ]
    },
    {
     "name": "stderr",
     "output_type": "stream",
     "text": [
      "11:53:08 - cmdstanpy - INFO - Chain [1] done processing\n"
     ]
    },
    {
     "name": "stdout",
     "output_type": "stream",
     "text": [
      "[1604.16416716 1609.1960071  1618.96949705 1626.38462917 1626.23845632\n",
      " 1619.0228829  1609.99052183 1604.47593848 1603.94242985 1605.97567886\n",
      " 1607.38482137 1606.94732364 1605.45085143]\n",
      "----------RESULT FOR PRDCT8_CUSTB ----------\n"
     ]
    },
    {
     "name": "stderr",
     "output_type": "stream",
     "text": [
      "11:53:13 - cmdstanpy - INFO - Chain [1] start processing\n",
      "11:53:13 - cmdstanpy - INFO - Chain [1] done processing\n",
      "11:53:13 - cmdstanpy - INFO - Chain [1] start processing\n"
     ]
    },
    {
     "name": "stdout",
     "output_type": "stream",
     "text": [
      "ARIMA - MAPE: 2.36%\n",
      "SARIMA - MAPE: 100.00%\n",
      "Holt-Winters - MAPE: 2.30%\n",
      "Facebook Prophet - MAPE: 2.53%\n",
      "Ensemble Forecast - MAPE: 2.40%\n"
     ]
    },
    {
     "name": "stderr",
     "output_type": "stream",
     "text": [
      "11:53:13 - cmdstanpy - INFO - Chain [1] done processing\n"
     ]
    },
    {
     "name": "stdout",
     "output_type": "stream",
     "text": [
      "[1602.61321184 1602.84274057 1600.0364515  1595.58002488 1593.23085666\n",
      " 1594.02460111 1595.06532817 1593.50642813 1590.80519145 1591.56936791\n",
      " 1597.81042541 1605.46413784 1607.95919576]\n",
      "----------RESULT FOR PRDCT8_CUSTC ----------\n"
     ]
    },
    {
     "name": "stderr",
     "output_type": "stream",
     "text": [
      "11:53:19 - cmdstanpy - INFO - Chain [1] start processing\n",
      "11:53:19 - cmdstanpy - INFO - Chain [1] done processing\n"
     ]
    },
    {
     "name": "stdout",
     "output_type": "stream",
     "text": [
      "ARIMA - MAPE: 2.22%\n",
      "SARIMA - MAPE: 100.00%\n",
      "Holt-Winters - MAPE: 2.36%\n",
      "Facebook Prophet - MAPE: 2.19%\n",
      "Ensemble Forecast - MAPE: 2.16%\n"
     ]
    },
    {
     "name": "stderr",
     "output_type": "stream",
     "text": [
      "11:53:19 - cmdstanpy - INFO - Chain [1] start processing\n",
      "11:53:19 - cmdstanpy - INFO - Chain [1] done processing\n"
     ]
    },
    {
     "name": "stdout",
     "output_type": "stream",
     "text": [
      "[1599.29755548 1602.2794887  1600.56163994 1597.94796082 1598.79140484\n",
      " 1602.67170051 1605.8075181  1606.27027157 1605.74778267 1606.04747006\n",
      " 1605.81934485 1602.3193606  1595.76650916]\n",
      "----------RESULT FOR PRDCT8_CUSTD ----------\n"
     ]
    },
    {
     "name": "stderr",
     "output_type": "stream",
     "text": [
      "11:53:24 - cmdstanpy - INFO - Chain [1] start processing\n",
      "11:53:24 - cmdstanpy - INFO - Chain [1] done processing\n"
     ]
    },
    {
     "name": "stdout",
     "output_type": "stream",
     "text": [
      "ARIMA - MAPE: 2.30%\n",
      "SARIMA - MAPE: 100.00%\n",
      "Holt-Winters - MAPE: 2.40%\n",
      "Facebook Prophet - MAPE: 2.67%\n",
      "Ensemble Forecast - MAPE: 2.48%\n"
     ]
    },
    {
     "name": "stderr",
     "output_type": "stream",
     "text": [
      "11:53:24 - cmdstanpy - INFO - Chain [1] start processing\n",
      "11:53:25 - cmdstanpy - INFO - Chain [1] done processing\n"
     ]
    },
    {
     "name": "stdout",
     "output_type": "stream",
     "text": [
      "[1611.68393925 1606.69188373 1603.22299166 1600.95749744 1597.27183811\n",
      " 1592.78369313 1591.45706921 1595.755817   1602.61568643 1605.75331853\n",
      " 1602.34289425 1596.39959022 1594.616659  ]\n",
      "----------RESULT FOR PRDCT8_CUSTE ----------\n"
     ]
    },
    {
     "name": "stderr",
     "output_type": "stream",
     "text": [
      "11:53:29 - cmdstanpy - INFO - Chain [1] start processing\n",
      "11:53:29 - cmdstanpy - INFO - Chain [1] done processing\n",
      "11:53:29 - cmdstanpy - INFO - Chain [1] start processing\n"
     ]
    },
    {
     "name": "stdout",
     "output_type": "stream",
     "text": [
      "ARIMA - MAPE: 1.92%\n",
      "SARIMA - MAPE: 100.00%\n",
      "Holt-Winters - MAPE: 1.88%\n",
      "Facebook Prophet - MAPE: 2.16%\n",
      "Ensemble Forecast - MAPE: 1.94%\n"
     ]
    },
    {
     "name": "stderr",
     "output_type": "stream",
     "text": [
      "11:53:29 - cmdstanpy - INFO - Chain [1] done processing\n"
     ]
    },
    {
     "name": "stdout",
     "output_type": "stream",
     "text": [
      "[1594.04044125 1596.59250493 1599.27369472 1598.79330855 1595.23231545\n",
      " 1593.17209117 1596.6962022  1604.57846329 1611.15982809 1612.06444484\n",
      " 1608.54867617 1605.86219475 1607.57727873]\n",
      "----------RESULT FOR PRDCT8_CUSTF ----------\n"
     ]
    },
    {
     "name": "stderr",
     "output_type": "stream",
     "text": [
      "11:53:54 - cmdstanpy - INFO - Chain [1] start processing\n",
      "11:53:54 - cmdstanpy - INFO - Chain [1] done processing\n"
     ]
    },
    {
     "name": "stdout",
     "output_type": "stream",
     "text": [
      "ARIMA - MAPE: 1.98%\n",
      "SARIMA - MAPE: 1.98%\n",
      "Holt-Winters - MAPE: 2.20%\n",
      "Facebook Prophet - MAPE: 2.15%\n",
      "Ensemble Forecast - MAPE: 2.03%\n"
     ]
    },
    {
     "name": "stderr",
     "output_type": "stream",
     "text": [
      "11:53:55 - cmdstanpy - INFO - Chain [1] start processing\n",
      "11:53:55 - cmdstanpy - INFO - Chain [1] done processing\n"
     ]
    },
    {
     "name": "stdout",
     "output_type": "stream",
     "text": [
      "[1609.84914952 1609.55570267 1605.86079367 1605.28175231 1608.29564996\n",
      " 1612.12765219 1612.68209456 1607.97353549 1600.10548601 1594.07341914\n",
      " 1593.90151379 1599.12221945 1604.9077773 ]\n",
      "----------RESULT FOR PRDCT9_CUSTA ----------\n"
     ]
    },
    {
     "name": "stderr",
     "output_type": "stream",
     "text": [
      "11:54:01 - cmdstanpy - INFO - Chain [1] start processing\n",
      "11:54:01 - cmdstanpy - INFO - Chain [1] done processing\n"
     ]
    },
    {
     "name": "stdout",
     "output_type": "stream",
     "text": [
      "ARIMA - MAPE: 6.61%\n",
      "SARIMA - MAPE: 83.53%\n",
      "Holt-Winters - MAPE: 6.97%\n",
      "Facebook Prophet - MAPE: 6.49%\n",
      "Ensemble Forecast - MAPE: 6.55%\n"
     ]
    },
    {
     "name": "stderr",
     "output_type": "stream",
     "text": [
      "11:54:02 - cmdstanpy - INFO - Chain [1] start processing\n",
      "11:54:02 - cmdstanpy - INFO - Chain [1] done processing\n"
     ]
    },
    {
     "name": "stdout",
     "output_type": "stream",
     "text": [
      "[199.79264774 199.03957045 197.30461344 197.49888169 200.0346001\n",
      " 202.1871008  201.42678682 198.6005435  196.93959109 198.11577974\n",
      " 200.24730981 200.25840757 197.57438536]\n",
      "----------RESULT FOR PRDCT9_CUSTB ----------\n"
     ]
    },
    {
     "name": "stderr",
     "output_type": "stream",
     "text": [
      "11:54:07 - cmdstanpy - INFO - Chain [1] start processing\n",
      "11:54:07 - cmdstanpy - INFO - Chain [1] done processing\n"
     ]
    },
    {
     "name": "stdout",
     "output_type": "stream",
     "text": [
      "ARIMA - MAPE: 5.08%\n",
      "SARIMA - MAPE: 100.00%\n",
      "Holt-Winters - MAPE: 5.24%\n",
      "Facebook Prophet - MAPE: 7.09%\n",
      "Ensemble Forecast - MAPE: 5.92%\n"
     ]
    },
    {
     "name": "stderr",
     "output_type": "stream",
     "text": [
      "11:54:07 - cmdstanpy - INFO - Chain [1] start processing\n",
      "11:54:07 - cmdstanpy - INFO - Chain [1] done processing\n"
     ]
    },
    {
     "name": "stdout",
     "output_type": "stream",
     "text": [
      "[206.0392884  204.76383814 202.63110968 200.25940176 198.9606734\n",
      " 199.40161419 201.39360314 204.12015894 206.45076919 207.40731099\n",
      " 206.78349388 205.43234969 204.71265464]\n",
      "----------RESULT FOR PRDCT9_CUSTC ----------\n"
     ]
    },
    {
     "name": "stderr",
     "output_type": "stream",
     "text": [
      "11:54:12 - cmdstanpy - INFO - Chain [1] start processing\n",
      "11:54:12 - cmdstanpy - INFO - Chain [1] done processing\n"
     ]
    },
    {
     "name": "stdout",
     "output_type": "stream",
     "text": [
      "ARIMA - MAPE: 5.50%\n",
      "SARIMA - MAPE: 100.00%\n",
      "Holt-Winters - MAPE: 5.38%\n",
      "Facebook Prophet - MAPE: 5.43%\n",
      "Ensemble Forecast - MAPE: 5.38%\n"
     ]
    },
    {
     "name": "stderr",
     "output_type": "stream",
     "text": [
      "11:54:13 - cmdstanpy - INFO - Chain [1] start processing\n",
      "11:54:13 - cmdstanpy - INFO - Chain [1] done processing\n"
     ]
    },
    {
     "name": "stdout",
     "output_type": "stream",
     "text": [
      "[199.67721425 199.44542395 199.07792623 199.07638336 199.4802862\n",
      " 200.17774917 200.97385104 201.80487495 202.77449913 203.85496795\n",
      " 204.59193912 204.33854612 202.98773119]\n",
      "----------RESULT FOR PRDCT9_CUSTD ----------\n"
     ]
    },
    {
     "name": "stderr",
     "output_type": "stream",
     "text": [
      "11:54:53 - cmdstanpy - INFO - Chain [1] start processing\n",
      "11:54:53 - cmdstanpy - INFO - Chain [1] done processing\n"
     ]
    },
    {
     "name": "stdout",
     "output_type": "stream",
     "text": [
      "ARIMA - MAPE: 6.78%\n",
      "SARIMA - MAPE: 6.57%\n",
      "Holt-Winters - MAPE: 7.37%\n",
      "Facebook Prophet - MAPE: 6.77%\n",
      "Ensemble Forecast - MAPE: 6.71%\n"
     ]
    },
    {
     "name": "stderr",
     "output_type": "stream",
     "text": [
      "11:54:54 - cmdstanpy - INFO - Chain [1] start processing\n",
      "11:54:54 - cmdstanpy - INFO - Chain [1] done processing\n"
     ]
    },
    {
     "name": "stdout",
     "output_type": "stream",
     "text": [
      "[203.67242945 201.83082815 198.97964416 198.33201615 201.36032014\n",
      " 205.95556077 208.08682005 205.74015145 201.07439738 198.41959713\n",
      " 200.11542759 204.42678378 207.47696289]\n",
      "----------RESULT FOR PRDCT9_CUSTE ----------\n"
     ]
    },
    {
     "name": "stderr",
     "output_type": "stream",
     "text": [
      "11:54:59 - cmdstanpy - INFO - Chain [1] start processing\n",
      "11:54:59 - cmdstanpy - INFO - Chain [1] done processing\n",
      "11:54:59 - cmdstanpy - INFO - Chain [1] start processing\n"
     ]
    },
    {
     "name": "stdout",
     "output_type": "stream",
     "text": [
      "ARIMA - MAPE: 6.57%\n",
      "SARIMA - MAPE: 100.00%\n",
      "Holt-Winters - MAPE: 7.54%\n",
      "Facebook Prophet - MAPE: 6.84%\n",
      "Ensemble Forecast - MAPE: 6.53%\n"
     ]
    },
    {
     "name": "stderr",
     "output_type": "stream",
     "text": [
      "11:54:59 - cmdstanpy - INFO - Chain [1] done processing\n"
     ]
    },
    {
     "name": "stdout",
     "output_type": "stream",
     "text": [
      "[203.84838186 202.27263594 200.86958784 201.49260444 202.92719694\n",
      " 203.06561638 201.50704819 199.86986788 199.57911367 200.2083397\n",
      " 200.49300211 200.36915609 200.99694198]\n",
      "----------RESULT FOR PRDCT9_CUSTF ----------\n"
     ]
    },
    {
     "name": "stderr",
     "output_type": "stream",
     "text": [
      "11:55:08 - cmdstanpy - INFO - Chain [1] start processing\n",
      "11:55:08 - cmdstanpy - INFO - Chain [1] done processing\n",
      "11:55:08 - cmdstanpy - INFO - Chain [1] start processing\n"
     ]
    },
    {
     "name": "stdout",
     "output_type": "stream",
     "text": [
      "ARIMA - MAPE: 6.06%\n",
      "SARIMA - MAPE: 65.56%\n",
      "Holt-Winters - MAPE: 6.02%\n",
      "Facebook Prophet - MAPE: 5.66%\n",
      "Ensemble Forecast - MAPE: 5.80%\n"
     ]
    },
    {
     "name": "stderr",
     "output_type": "stream",
     "text": [
      "11:55:08 - cmdstanpy - INFO - Chain [1] done processing\n"
     ]
    },
    {
     "name": "stdout",
     "output_type": "stream",
     "text": [
      "[201.11156351 204.09784917 206.65981187 205.37082338 200.6807876\n",
      " 196.60908254 196.85585116 201.18372329 205.75599193 206.86257912\n",
      " 204.15377215 200.44823814 198.84539183]\n",
      "----------RESULT FOR PRDCT1_CUSTK ----------\n"
     ]
    },
    {
     "name": "stderr",
     "output_type": "stream",
     "text": [
      "11:55:13 - cmdstanpy - INFO - Chain [1] start processing\n",
      "11:55:13 - cmdstanpy - INFO - Chain [1] done processing\n"
     ]
    },
    {
     "name": "stdout",
     "output_type": "stream",
     "text": [
      "ARIMA - MAPE: 2.44%\n",
      "SARIMA - MAPE: 100.00%\n",
      "Holt-Winters - MAPE: 2.87%\n",
      "Facebook Prophet - MAPE: 2.80%\n",
      "Ensemble Forecast - MAPE: 2.55%\n"
     ]
    },
    {
     "name": "stderr",
     "output_type": "stream",
     "text": [
      "11:55:13 - cmdstanpy - INFO - Chain [1] start processing\n",
      "11:55:13 - cmdstanpy - INFO - Chain [1] done processing\n"
     ]
    },
    {
     "name": "stdout",
     "output_type": "stream",
     "text": [
      "[1251.77124545 1252.62263599 1253.62435726 1253.51401676 1250.15763116\n",
      " 1244.88689931 1242.26994695 1245.20667272 1250.71291521 1252.28104791\n",
      " 1247.2223691  1240.55682986 1239.99488806]\n",
      "----------RESULT FOR PRDCT1_CUSTL ----------\n"
     ]
    },
    {
     "name": "stderr",
     "output_type": "stream",
     "text": [
      "11:55:18 - cmdstanpy - INFO - Chain [1] start processing\n",
      "11:55:18 - cmdstanpy - INFO - Chain [1] done processing\n"
     ]
    },
    {
     "name": "stdout",
     "output_type": "stream",
     "text": [
      "ARIMA - MAPE: 1.99%\n",
      "SARIMA - MAPE: 100.00%\n",
      "Holt-Winters - MAPE: 2.32%\n",
      "Facebook Prophet - MAPE: 2.26%\n",
      "Ensemble Forecast - MAPE: 2.02%\n"
     ]
    },
    {
     "name": "stderr",
     "output_type": "stream",
     "text": [
      "11:55:18 - cmdstanpy - INFO - Chain [1] start processing\n",
      "11:55:18 - cmdstanpy - INFO - Chain [1] done processing\n"
     ]
    },
    {
     "name": "stdout",
     "output_type": "stream",
     "text": [
      "[1261.24525451 1263.1314417  1259.59272957 1256.00631216 1255.80448578\n",
      " 1257.61633642 1256.47965143 1249.76312022 1241.12631063 1237.6134937\n",
      " 1242.57331255 1252.03440326 1258.58299771]\n",
      "----------RESULT FOR PRDCT1_CUSTM ----------\n"
     ]
    },
    {
     "name": "stderr",
     "output_type": "stream",
     "text": [
      "11:55:23 - cmdstanpy - INFO - Chain [1] start processing\n",
      "11:55:23 - cmdstanpy - INFO - Chain [1] done processing\n"
     ]
    },
    {
     "name": "stdout",
     "output_type": "stream",
     "text": [
      "ARIMA - MAPE: 2.48%\n",
      "SARIMA - MAPE: 100.00%\n",
      "Holt-Winters - MAPE: 4.46%\n",
      "Facebook Prophet - MAPE: 3.27%\n",
      "Ensemble Forecast - MAPE: 2.83%\n"
     ]
    },
    {
     "name": "stderr",
     "output_type": "stream",
     "text": [
      "11:55:23 - cmdstanpy - INFO - Chain [1] start processing\n",
      "11:55:23 - cmdstanpy - INFO - Chain [1] done processing\n"
     ]
    },
    {
     "name": "stdout",
     "output_type": "stream",
     "text": [
      "[1246.07393739 1243.44272597 1242.78879436 1244.90044946 1246.78487991\n",
      " 1246.80498996 1246.16584168 1247.09938793 1249.69672509 1251.18630387\n",
      " 1248.81239804 1243.27630403 1238.76091802]\n",
      "----------RESULT FOR PRDCT1_CUSTX ----------\n"
     ]
    },
    {
     "name": "stderr",
     "output_type": "stream",
     "text": [
      "11:55:28 - cmdstanpy - INFO - Chain [1] start processing\n",
      "11:55:29 - cmdstanpy - INFO - Chain [1] done processing\n"
     ]
    },
    {
     "name": "stdout",
     "output_type": "stream",
     "text": [
      "ARIMA - MAPE: 2.25%\n",
      "SARIMA - MAPE: 100.00%\n",
      "Holt-Winters - MAPE: 2.21%\n",
      "Facebook Prophet - MAPE: 2.31%\n",
      "Ensemble Forecast - MAPE: 2.22%\n"
     ]
    },
    {
     "name": "stderr",
     "output_type": "stream",
     "text": [
      "11:55:29 - cmdstanpy - INFO - Chain [1] start processing\n",
      "11:55:29 - cmdstanpy - INFO - Chain [1] done processing\n"
     ]
    },
    {
     "name": "stdout",
     "output_type": "stream",
     "text": [
      "[1245.41491147 1245.72044483 1248.16743103 1250.77539405 1250.71068247\n",
      " 1247.90220031 1245.34009278 1245.06847156 1245.11735959 1241.92099133\n",
      " 1235.64577927 1231.44484532 1234.19610017]\n",
      "----------RESULT FOR PRDCT1_CUSTY ----------\n"
     ]
    },
    {
     "name": "stderr",
     "output_type": "stream",
     "text": [
      "11:55:33 - cmdstanpy - INFO - Chain [1] start processing\n",
      "11:55:33 - cmdstanpy - INFO - Chain [1] done processing\n",
      "11:55:33 - cmdstanpy - INFO - Chain [1] start processing\n"
     ]
    },
    {
     "name": "stdout",
     "output_type": "stream",
     "text": [
      "ARIMA - MAPE: 2.36%\n",
      "SARIMA - MAPE: 100.00%\n",
      "Holt-Winters - MAPE: 2.57%\n",
      "Facebook Prophet - MAPE: 2.37%\n",
      "Ensemble Forecast - MAPE: 2.34%\n"
     ]
    },
    {
     "name": "stderr",
     "output_type": "stream",
     "text": [
      "11:55:33 - cmdstanpy - INFO - Chain [1] done processing\n"
     ]
    },
    {
     "name": "stdout",
     "output_type": "stream",
     "text": [
      "[1247.26103743 1243.7976905  1240.61196254 1239.07365986 1241.75346717\n",
      " 1247.40245574 1251.39577173 1250.05848234 1244.23473502 1238.07821946\n",
      " 1234.77817368 1234.40618711 1235.89719015]\n",
      "----------RESULT FOR PRDCT1_CUSTZ ----------\n"
     ]
    },
    {
     "name": "stderr",
     "output_type": "stream",
     "text": [
      "11:55:40 - cmdstanpy - INFO - Chain [1] start processing\n",
      "11:55:40 - cmdstanpy - INFO - Chain [1] done processing\n"
     ]
    },
    {
     "name": "stdout",
     "output_type": "stream",
     "text": [
      "ARIMA - MAPE: 2.39%\n",
      "SARIMA - MAPE: 98.48%\n",
      "Holt-Winters - MAPE: 2.57%\n",
      "Facebook Prophet - MAPE: 2.49%\n",
      "Ensemble Forecast - MAPE: 2.39%\n"
     ]
    },
    {
     "name": "stderr",
     "output_type": "stream",
     "text": [
      "11:55:40 - cmdstanpy - INFO - Chain [1] start processing\n",
      "11:55:40 - cmdstanpy - INFO - Chain [1] done processing\n"
     ]
    },
    {
     "name": "stdout",
     "output_type": "stream",
     "text": [
      "[1247.81591596 1252.19171678 1257.61517037 1260.76325078 1258.13346415\n",
      " 1250.96075336 1243.91127086 1241.16302256 1243.04298014 1246.30716565\n",
      " 1247.56845286 1246.33832144 1244.74286367]\n",
      "----------RESULT FOR PRDCT2_CUSTK ----------\n"
     ]
    },
    {
     "name": "stderr",
     "output_type": "stream",
     "text": [
      "11:55:46 - cmdstanpy - INFO - Chain [1] start processing\n",
      "11:55:46 - cmdstanpy - INFO - Chain [1] done processing\n"
     ]
    },
    {
     "name": "stdout",
     "output_type": "stream",
     "text": [
      "ARIMA - MAPE: 2.29%\n",
      "SARIMA - MAPE: 2.35%\n",
      "Holt-Winters - MAPE: 2.65%\n",
      "Facebook Prophet - MAPE: 2.25%\n",
      "Ensemble Forecast - MAPE: 2.25%\n"
     ]
    },
    {
     "name": "stderr",
     "output_type": "stream",
     "text": [
      "11:55:46 - cmdstanpy - INFO - Chain [1] start processing\n",
      "11:55:46 - cmdstanpy - INFO - Chain [1] done processing\n"
     ]
    },
    {
     "name": "stdout",
     "output_type": "stream",
     "text": [
      "[1606.32887895 1604.88220921 1602.57559139 1598.47046117 1597.82949762\n",
      " 1601.50856959 1604.7936543  1603.1659066  1597.9868874  1595.01368795\n",
      " 1597.69700855 1603.46231466 1607.0917906 ]\n",
      "----------RESULT FOR PRDCT2_CUSTL ----------\n"
     ]
    },
    {
     "name": "stderr",
     "output_type": "stream",
     "text": [
      "11:55:50 - cmdstanpy - INFO - Chain [1] start processing\n",
      "11:55:51 - cmdstanpy - INFO - Chain [1] done processing\n"
     ]
    },
    {
     "name": "stdout",
     "output_type": "stream",
     "text": [
      "ARIMA - MAPE: 2.11%\n",
      "SARIMA - MAPE: 100.00%\n",
      "Holt-Winters - MAPE: 2.43%\n",
      "Facebook Prophet - MAPE: 2.41%\n",
      "Ensemble Forecast - MAPE: 2.24%\n"
     ]
    },
    {
     "name": "stderr",
     "output_type": "stream",
     "text": [
      "11:55:51 - cmdstanpy - INFO - Chain [1] start processing\n",
      "11:55:51 - cmdstanpy - INFO - Chain [1] done processing\n"
     ]
    },
    {
     "name": "stdout",
     "output_type": "stream",
     "text": [
      "[1595.6189464  1597.65435426 1598.5080672  1595.78134287 1591.62343383\n",
      " 1592.33455211 1601.10246837 1612.26744977 1615.18150493 1605.15411512\n",
      " 1589.71656424 1582.30399278 1589.17823765]\n",
      "----------RESULT FOR PRDCT2_CUSTM ----------\n"
     ]
    },
    {
     "name": "stderr",
     "output_type": "stream",
     "text": [
      "11:55:55 - cmdstanpy - INFO - Chain [1] start processing\n",
      "11:55:55 - cmdstanpy - INFO - Chain [1] done processing\n"
     ]
    },
    {
     "name": "stdout",
     "output_type": "stream",
     "text": [
      "ARIMA - MAPE: 1.87%\n",
      "SARIMA - MAPE: 100.00%\n",
      "Holt-Winters - MAPE: 2.02%\n",
      "Facebook Prophet - MAPE: 2.74%\n",
      "Ensemble Forecast - MAPE: 2.08%\n"
     ]
    },
    {
     "name": "stderr",
     "output_type": "stream",
     "text": [
      "11:55:56 - cmdstanpy - INFO - Chain [1] start processing\n",
      "11:55:56 - cmdstanpy - INFO - Chain [1] done processing\n"
     ]
    },
    {
     "name": "stdout",
     "output_type": "stream",
     "text": [
      "[1602.9505925  1601.76859105 1600.18713426 1600.8499673  1603.15747641\n",
      " 1604.25210293 1602.29084138 1598.32125444 1594.9144732  1593.63567671\n",
      " 1594.24700138 1595.81951405 1597.69737764]\n",
      "----------RESULT FOR PRDCT2_CUSTX ----------\n"
     ]
    },
    {
     "name": "stderr",
     "output_type": "stream",
     "text": [
      "11:55:59 - cmdstanpy - INFO - Chain [1] start processing\n",
      "11:55:59 - cmdstanpy - INFO - Chain [1] done processing\n"
     ]
    },
    {
     "name": "stdout",
     "output_type": "stream",
     "text": [
      "ARIMA - MAPE: 2.15%\n",
      "SARIMA - MAPE: 100.00%\n",
      "Holt-Winters - MAPE: 2.16%\n",
      "Facebook Prophet - MAPE: 2.27%\n",
      "Ensemble Forecast - MAPE: 2.18%\n"
     ]
    },
    {
     "name": "stderr",
     "output_type": "stream",
     "text": [
      "11:56:00 - cmdstanpy - INFO - Chain [1] start processing\n",
      "11:56:00 - cmdstanpy - INFO - Chain [1] done processing\n"
     ]
    },
    {
     "name": "stdout",
     "output_type": "stream",
     "text": [
      "[1595.78863401 1598.60878884 1599.2612249  1595.78403143 1589.58702175\n",
      " 1584.95022214 1585.41865336 1590.81430138 1597.8388528  1603.1867504\n",
      " 1605.72508752 1606.10561379 1605.30709941]\n",
      "----------RESULT FOR PRDCT2_CUSTY ----------\n"
     ]
    },
    {
     "name": "stderr",
     "output_type": "stream",
     "text": [
      "11:56:05 - cmdstanpy - INFO - Chain [1] start processing\n",
      "11:56:05 - cmdstanpy - INFO - Chain [1] done processing\n"
     ]
    },
    {
     "name": "stdout",
     "output_type": "stream",
     "text": [
      "ARIMA - MAPE: 1.56%\n",
      "SARIMA - MAPE: 100.00%\n",
      "Holt-Winters - MAPE: 1.55%\n",
      "Facebook Prophet - MAPE: 1.70%\n",
      "Ensemble Forecast - MAPE: 1.50%\n"
     ]
    },
    {
     "name": "stderr",
     "output_type": "stream",
     "text": [
      "11:56:05 - cmdstanpy - INFO - Chain [1] start processing\n",
      "11:56:05 - cmdstanpy - INFO - Chain [1] done processing\n"
     ]
    },
    {
     "name": "stdout",
     "output_type": "stream",
     "text": [
      "[1603.09567519 1602.02392647 1600.6410067  1596.51799899 1593.35113766\n",
      " 1596.55599705 1604.94637502 1610.18009954 1606.21767749 1597.321166\n",
      " 1593.78570019 1599.80180264 1608.33368518]\n",
      "----------RESULT FOR PRDCT2_CUSTZ ----------\n"
     ]
    },
    {
     "name": "stderr",
     "output_type": "stream",
     "text": [
      "11:56:09 - cmdstanpy - INFO - Chain [1] start processing\n",
      "11:56:09 - cmdstanpy - INFO - Chain [1] done processing\n",
      "11:56:09 - cmdstanpy - INFO - Chain [1] start processing\n"
     ]
    },
    {
     "name": "stdout",
     "output_type": "stream",
     "text": [
      "ARIMA - MAPE: 1.77%\n",
      "SARIMA - MAPE: 100.00%\n",
      "Holt-Winters - MAPE: 1.79%\n",
      "Facebook Prophet - MAPE: 1.89%\n",
      "Ensemble Forecast - MAPE: 1.80%\n"
     ]
    },
    {
     "name": "stderr",
     "output_type": "stream",
     "text": [
      "11:56:09 - cmdstanpy - INFO - Chain [1] done processing\n"
     ]
    },
    {
     "name": "stdout",
     "output_type": "stream",
     "text": [
      "[1597.46303967 1595.82689672 1592.04343021 1587.79919672 1584.72035646\n",
      " 1583.90436058 1586.01609824 1590.73077463 1596.08787843 1599.39235901\n",
      " 1599.50233779 1597.92012612 1596.90144985]\n",
      "----------RESULT FOR PRDCT3_CUSTK ----------\n"
     ]
    },
    {
     "name": "stderr",
     "output_type": "stream",
     "text": [
      "11:56:13 - cmdstanpy - INFO - Chain [1] start processing\n",
      "11:56:13 - cmdstanpy - INFO - Chain [1] done processing\n"
     ]
    },
    {
     "name": "stdout",
     "output_type": "stream",
     "text": [
      "ARIMA - MAPE: 2.97%\n",
      "SARIMA - MAPE: 100.00%\n",
      "Holt-Winters - MAPE: 2.85%\n",
      "Facebook Prophet - MAPE: 3.10%\n",
      "Ensemble Forecast - MAPE: 2.90%\n"
     ]
    },
    {
     "name": "stderr",
     "output_type": "stream",
     "text": [
      "11:56:14 - cmdstanpy - INFO - Chain [1] start processing\n",
      "11:56:14 - cmdstanpy - INFO - Chain [1] done processing\n"
     ]
    },
    {
     "name": "stdout",
     "output_type": "stream",
     "text": [
      "[1101.52832162 1096.33917385 1095.6879883  1098.04155863 1100.52352221\n",
      " 1101.51548839 1101.71833483 1102.68779681 1104.91284822 1107.59079918\n",
      " 1109.87648077 1111.64577189 1112.78164113]\n",
      "----------RESULT FOR PRDCT3_CUSTL ----------\n"
     ]
    },
    {
     "name": "stderr",
     "output_type": "stream",
     "text": [
      "11:56:20 - cmdstanpy - INFO - Chain [1] start processing\n",
      "11:56:20 - cmdstanpy - INFO - Chain [1] done processing\n"
     ]
    },
    {
     "name": "stdout",
     "output_type": "stream",
     "text": [
      "ARIMA - MAPE: 2.82%\n",
      "SARIMA - MAPE: 3.61%\n",
      "Holt-Winters - MAPE: 2.94%\n",
      "Facebook Prophet - MAPE: 2.95%\n",
      "Ensemble Forecast - MAPE: 2.89%\n"
     ]
    },
    {
     "name": "stderr",
     "output_type": "stream",
     "text": [
      "11:56:21 - cmdstanpy - INFO - Chain [1] start processing\n",
      "11:56:21 - cmdstanpy - INFO - Chain [1] done processing\n"
     ]
    },
    {
     "name": "stdout",
     "output_type": "stream",
     "text": [
      "[1103.87570391 1105.81706873 1106.85534371 1101.37614806 1094.52593249\n",
      " 1092.76240357 1097.57273638 1103.6022282  1104.3469146  1099.07296391\n",
      " 1093.39118929 1093.13189014 1098.50348159]\n",
      "----------RESULT FOR PRDCT3_CUSTM ----------\n"
     ]
    },
    {
     "name": "stderr",
     "output_type": "stream",
     "text": [
      "11:56:25 - cmdstanpy - INFO - Chain [1] start processing\n",
      "11:56:25 - cmdstanpy - INFO - Chain [1] done processing\n"
     ]
    },
    {
     "name": "stdout",
     "output_type": "stream",
     "text": [
      "ARIMA - MAPE: 2.53%\n",
      "SARIMA - MAPE: 100.00%\n",
      "Holt-Winters - MAPE: 2.89%\n",
      "Facebook Prophet - MAPE: 2.86%\n",
      "Ensemble Forecast - MAPE: 2.56%\n"
     ]
    },
    {
     "name": "stderr",
     "output_type": "stream",
     "text": [
      "11:56:26 - cmdstanpy - INFO - Chain [1] start processing\n",
      "11:56:26 - cmdstanpy - INFO - Chain [1] done processing\n"
     ]
    },
    {
     "name": "stdout",
     "output_type": "stream",
     "text": [
      "[1095.19486597 1098.98576324 1102.05701415 1099.49062598 1092.09463427\n",
      " 1086.62942809 1088.64494091 1095.67747199 1099.34688547 1094.78950088\n",
      " 1086.61211374 1083.89257847 1089.56274674]\n",
      "----------RESULT FOR PRDCT3_CUSTX ----------\n"
     ]
    },
    {
     "name": "stderr",
     "output_type": "stream",
     "text": [
      "11:56:45 - cmdstanpy - INFO - Chain [1] start processing\n",
      "11:56:45 - cmdstanpy - INFO - Chain [1] done processing\n",
      "11:56:45 - cmdstanpy - INFO - Chain [1] start processing\n"
     ]
    },
    {
     "name": "stdout",
     "output_type": "stream",
     "text": [
      "ARIMA - MAPE: 2.13%\n",
      "SARIMA - MAPE: 2.13%\n",
      "Holt-Winters - MAPE: 2.45%\n",
      "Facebook Prophet - MAPE: 2.54%\n",
      "Ensemble Forecast - MAPE: 2.24%\n"
     ]
    },
    {
     "name": "stderr",
     "output_type": "stream",
     "text": [
      "11:56:45 - cmdstanpy - INFO - Chain [1] done processing\n"
     ]
    },
    {
     "name": "stdout",
     "output_type": "stream",
     "text": [
      "[1088.17427948 1088.2590181  1082.57454849 1078.423481   1079.55823006\n",
      " 1084.60203239 1089.25795916 1091.13054976 1091.23852583 1091.39734857\n",
      " 1091.60058954 1090.62160976 1088.3446096 ]\n",
      "----------RESULT FOR PRDCT3_CUSTY ----------\n"
     ]
    },
    {
     "name": "stderr",
     "output_type": "stream",
     "text": [
      "11:56:49 - cmdstanpy - INFO - Chain [1] start processing\n",
      "11:56:49 - cmdstanpy - INFO - Chain [1] done processing\n"
     ]
    },
    {
     "name": "stdout",
     "output_type": "stream",
     "text": [
      "ARIMA - MAPE: 2.43%\n",
      "SARIMA - MAPE: 100.00%\n",
      "Holt-Winters - MAPE: 2.46%\n",
      "Facebook Prophet - MAPE: 2.69%\n",
      "Ensemble Forecast - MAPE: 2.52%\n"
     ]
    },
    {
     "name": "stderr",
     "output_type": "stream",
     "text": [
      "11:56:49 - cmdstanpy - INFO - Chain [1] start processing\n",
      "11:56:49 - cmdstanpy - INFO - Chain [1] done processing\n"
     ]
    },
    {
     "name": "stdout",
     "output_type": "stream",
     "text": [
      "[1094.51882066 1101.13058994 1100.43398549 1098.39024301 1096.15781815\n",
      " 1095.84145247 1097.46681259 1099.24017688 1099.82896663 1099.81366493\n",
      " 1100.49169745 1101.65947697 1101.40663794]\n",
      "----------RESULT FOR PRDCT3_CUSTZ ----------\n"
     ]
    },
    {
     "name": "stderr",
     "output_type": "stream",
     "text": [
      "11:56:59 - cmdstanpy - INFO - Chain [1] start processing\n",
      "11:56:59 - cmdstanpy - INFO - Chain [1] done processing\n"
     ]
    },
    {
     "name": "stdout",
     "output_type": "stream",
     "text": [
      "ARIMA - MAPE: 3.20%\n",
      "SARIMA - MAPE: 98.67%\n",
      "Holt-Winters - MAPE: 3.02%\n",
      "Facebook Prophet - MAPE: 3.56%\n",
      "Ensemble Forecast - MAPE: 3.35%\n"
     ]
    },
    {
     "name": "stderr",
     "output_type": "stream",
     "text": [
      "11:56:59 - cmdstanpy - INFO - Chain [1] start processing\n",
      "11:56:59 - cmdstanpy - INFO - Chain [1] done processing\n"
     ]
    },
    {
     "name": "stdout",
     "output_type": "stream",
     "text": [
      "[1104.64392288 1108.50824643 1107.24742461 1102.16763015 1098.46519693\n",
      " 1100.1629956  1105.07627706 1106.90020362 1102.21844619 1094.66583897\n",
      " 1091.54714639 1096.46542835 1105.75592195]\n",
      "----------RESULT FOR PRDCT4_CUSTK ----------\n"
     ]
    },
    {
     "name": "stderr",
     "output_type": "stream",
     "text": [
      "11:57:03 - cmdstanpy - INFO - Chain [1] start processing\n",
      "11:57:03 - cmdstanpy - INFO - Chain [1] done processing\n"
     ]
    },
    {
     "name": "stdout",
     "output_type": "stream",
     "text": [
      "ARIMA - MAPE: 1.97%\n",
      "SARIMA - MAPE: 100.00%\n",
      "Holt-Winters - MAPE: 2.24%\n",
      "Facebook Prophet - MAPE: 2.14%\n",
      "Ensemble Forecast - MAPE: 2.01%\n"
     ]
    },
    {
     "name": "stderr",
     "output_type": "stream",
     "text": [
      "11:57:03 - cmdstanpy - INFO - Chain [1] start processing\n",
      "11:57:03 - cmdstanpy - INFO - Chain [1] done processing\n"
     ]
    },
    {
     "name": "stdout",
     "output_type": "stream",
     "text": [
      "[1710.16361874 1714.96506645 1714.19534387 1709.00948919 1705.90077611\n",
      " 1708.52407828 1713.36906647 1714.6050291  1711.85037994 1710.86673971\n",
      " 1716.08942682 1724.31695081 1727.65074585]\n",
      "----------RESULT FOR PRDCT4_CUSTL ----------\n"
     ]
    },
    {
     "name": "stderr",
     "output_type": "stream",
     "text": [
      "11:57:08 - cmdstanpy - INFO - Chain [1] start processing\n",
      "11:57:08 - cmdstanpy - INFO - Chain [1] done processing\n"
     ]
    },
    {
     "name": "stdout",
     "output_type": "stream",
     "text": [
      "ARIMA - MAPE: 1.81%\n",
      "SARIMA - MAPE: 100.00%\n",
      "Holt-Winters - MAPE: 1.91%\n",
      "Facebook Prophet - MAPE: 2.14%\n",
      "Ensemble Forecast - MAPE: 1.87%\n"
     ]
    },
    {
     "name": "stderr",
     "output_type": "stream",
     "text": [
      "11:57:08 - cmdstanpy - INFO - Chain [1] start processing\n",
      "11:57:08 - cmdstanpy - INFO - Chain [1] done processing\n"
     ]
    },
    {
     "name": "stdout",
     "output_type": "stream",
     "text": [
      "[1695.51291305 1707.59405509 1713.85396511 1710.51212986 1701.66444434\n",
      " 1695.1379008  1696.10370587 1703.37147452 1710.81495503 1712.65299514\n",
      " 1708.41632175 1703.26178973 1702.89538819]\n",
      "----------RESULT FOR PRDCT4_CUSTM ----------\n"
     ]
    },
    {
     "name": "stderr",
     "output_type": "stream",
     "text": [
      "11:57:14 - cmdstanpy - INFO - Chain [1] start processing\n",
      "11:57:14 - cmdstanpy - INFO - Chain [1] done processing\n"
     ]
    },
    {
     "name": "stdout",
     "output_type": "stream",
     "text": [
      "ARIMA - MAPE: 2.10%\n",
      "SARIMA - MAPE: 2.96%\n",
      "Holt-Winters - MAPE: 2.03%\n",
      "Facebook Prophet - MAPE: 2.46%\n",
      "Ensemble Forecast - MAPE: 2.28%\n"
     ]
    },
    {
     "name": "stderr",
     "output_type": "stream",
     "text": [
      "11:57:14 - cmdstanpy - INFO - Chain [1] start processing\n",
      "11:57:14 - cmdstanpy - INFO - Chain [1] done processing\n"
     ]
    },
    {
     "name": "stdout",
     "output_type": "stream",
     "text": [
      "[1697.20517574 1693.36019919 1698.21348465 1702.56033109 1702.62952939\n",
      " 1700.08210347 1699.50695383 1701.73488818 1702.73251569 1699.45757336\n",
      " 1694.76767244 1694.4756105  1699.91954022]\n",
      "----------RESULT FOR PRDCT4_CUSTX ----------\n"
     ]
    },
    {
     "name": "stderr",
     "output_type": "stream",
     "text": [
      "11:57:22 - cmdstanpy - INFO - Chain [1] start processing\n",
      "11:57:22 - cmdstanpy - INFO - Chain [1] done processing\n",
      "11:57:22 - cmdstanpy - INFO - Chain [1] start processing\n"
     ]
    },
    {
     "name": "stdout",
     "output_type": "stream",
     "text": [
      "ARIMA - MAPE: 2.13%\n",
      "SARIMA - MAPE: 97.09%\n",
      "Holt-Winters - MAPE: 1.97%\n",
      "Facebook Prophet - MAPE: 2.23%\n",
      "Ensemble Forecast - MAPE: 2.14%\n"
     ]
    },
    {
     "name": "stderr",
     "output_type": "stream",
     "text": [
      "11:57:22 - cmdstanpy - INFO - Chain [1] done processing\n"
     ]
    },
    {
     "name": "stdout",
     "output_type": "stream",
     "text": [
      "[1702.66205306 1700.28240393 1696.45263972 1695.51741003 1696.29489298\n",
      " 1695.2130012  1692.14298653 1691.35417686 1695.51999734 1700.67313326\n",
      " 1699.77701903 1691.67853571 1684.23595996]\n",
      "----------RESULT FOR PRDCT4_CUSTY ----------\n"
     ]
    },
    {
     "name": "stderr",
     "output_type": "stream",
     "text": [
      "11:57:26 - cmdstanpy - INFO - Chain [1] start processing\n",
      "11:57:26 - cmdstanpy - INFO - Chain [1] done processing\n"
     ]
    },
    {
     "name": "stdout",
     "output_type": "stream",
     "text": [
      "ARIMA - MAPE: 1.58%\n",
      "SARIMA - MAPE: 100.00%\n",
      "Holt-Winters - MAPE: 1.79%\n",
      "Facebook Prophet - MAPE: 1.76%\n",
      "Ensemble Forecast - MAPE: 1.63%\n"
     ]
    },
    {
     "name": "stderr",
     "output_type": "stream",
     "text": [
      "11:57:26 - cmdstanpy - INFO - Chain [1] start processing\n",
      "11:57:26 - cmdstanpy - INFO - Chain [1] done processing\n"
     ]
    },
    {
     "name": "stdout",
     "output_type": "stream",
     "text": [
      "[1708.37989426 1708.80330923 1705.68555571 1701.44317381 1699.43272584\n",
      " 1701.47509567 1707.24726452 1714.61889157 1720.13524442 1720.19819414\n",
      " 1713.53801333 1703.35946579 1696.15102911]\n",
      "----------RESULT FOR PRDCT4_CUSTZ ----------\n"
     ]
    },
    {
     "name": "stderr",
     "output_type": "stream",
     "text": [
      "11:57:30 - cmdstanpy - INFO - Chain [1] start processing\n",
      "11:57:30 - cmdstanpy - INFO - Chain [1] done processing\n"
     ]
    },
    {
     "name": "stdout",
     "output_type": "stream",
     "text": [
      "ARIMA - MAPE: 2.71%\n",
      "SARIMA - MAPE: 100.00%\n",
      "Holt-Winters - MAPE: 2.59%\n",
      "Facebook Prophet - MAPE: 3.07%\n",
      "Ensemble Forecast - MAPE: 2.86%\n"
     ]
    },
    {
     "name": "stderr",
     "output_type": "stream",
     "text": [
      "11:57:31 - cmdstanpy - INFO - Chain [1] start processing\n",
      "11:57:31 - cmdstanpy - INFO - Chain [1] done processing\n"
     ]
    },
    {
     "name": "stdout",
     "output_type": "stream",
     "text": [
      "[1694.14525956 1691.62872456 1692.27245179 1696.31905599 1700.82470891\n",
      " 1702.12566475 1700.41667607 1699.68222091 1702.26686301 1704.7321512\n",
      " 1701.11197308 1690.72952442 1681.0449058 ]\n",
      "----------RESULT FOR PRDCT5_CUSTK ----------\n"
     ]
    },
    {
     "name": "stderr",
     "output_type": "stream",
     "text": [
      "11:57:37 - cmdstanpy - INFO - Chain [1] start processing\n",
      "11:57:37 - cmdstanpy - INFO - Chain [1] done processing\n"
     ]
    },
    {
     "name": "stdout",
     "output_type": "stream",
     "text": [
      "ARIMA - MAPE: 3.24%\n",
      "SARIMA - MAPE: 84.73%\n",
      "Holt-Winters - MAPE: 3.43%\n",
      "Facebook Prophet - MAPE: 3.69%\n",
      "Ensemble Forecast - MAPE: 3.41%\n"
     ]
    },
    {
     "name": "stderr",
     "output_type": "stream",
     "text": [
      "11:57:37 - cmdstanpy - INFO - Chain [1] start processing\n",
      "11:57:37 - cmdstanpy - INFO - Chain [1] done processing\n"
     ]
    },
    {
     "name": "stdout",
     "output_type": "stream",
     "text": [
      "[446.17699414 448.45036437 450.60056848 450.84298675 450.40590766\n",
      " 450.97258693 451.74265395 449.99956904 444.86666486 439.5210412\n",
      " 438.58292632 443.19741825 449.43075485]\n",
      "----------RESULT FOR PRDCT5_CUSTL ----------\n"
     ]
    },
    {
     "name": "stderr",
     "output_type": "stream",
     "text": [
      "11:57:43 - cmdstanpy - INFO - Chain [1] start processing\n",
      "11:57:43 - cmdstanpy - INFO - Chain [1] done processing\n"
     ]
    },
    {
     "name": "stdout",
     "output_type": "stream",
     "text": [
      "ARIMA - MAPE: 3.42%\n",
      "SARIMA - MAPE: 100.00%\n",
      "Holt-Winters - MAPE: 4.36%\n",
      "Facebook Prophet - MAPE: 5.11%\n",
      "Ensemble Forecast - MAPE: 4.07%\n"
     ]
    },
    {
     "name": "stderr",
     "output_type": "stream",
     "text": [
      "11:57:43 - cmdstanpy - INFO - Chain [1] start processing\n",
      "11:57:43 - cmdstanpy - INFO - Chain [1] done processing\n"
     ]
    },
    {
     "name": "stdout",
     "output_type": "stream",
     "text": [
      "[446.17016825 447.38109851 446.8868076  446.34208319 447.25931364\n",
      " 448.75760543 449.04390899 448.06041932 447.45693457 448.02081324\n",
      " 448.39787414 447.13674907 445.23729839]\n",
      "----------RESULT FOR PRDCT5_CUSTM ----------\n"
     ]
    },
    {
     "name": "stderr",
     "output_type": "stream",
     "text": [
      "11:57:51 - cmdstanpy - INFO - Chain [1] start processing\n",
      "11:57:51 - cmdstanpy - INFO - Chain [1] done processing\n"
     ]
    },
    {
     "name": "stdout",
     "output_type": "stream",
     "text": [
      "ARIMA - MAPE: 4.53%\n",
      "SARIMA - MAPE: 83.70%\n",
      "Holt-Winters - MAPE: 4.76%\n",
      "Facebook Prophet - MAPE: 4.39%\n",
      "Ensemble Forecast - MAPE: 4.42%\n"
     ]
    },
    {
     "name": "stderr",
     "output_type": "stream",
     "text": [
      "11:57:51 - cmdstanpy - INFO - Chain [1] start processing\n",
      "11:57:51 - cmdstanpy - INFO - Chain [1] done processing\n"
     ]
    },
    {
     "name": "stdout",
     "output_type": "stream",
     "text": [
      "[452.88455272 455.02178948 457.19221778 456.74292776 453.09020581\n",
      " 449.13498729 448.581162   452.13711002 456.81064255 458.98515784\n",
      " 457.805445   455.33279609 453.75105204]\n",
      "----------RESULT FOR PRDCT5_CUSTX ----------\n"
     ]
    },
    {
     "name": "stderr",
     "output_type": "stream",
     "text": [
      "11:57:56 - cmdstanpy - INFO - Chain [1] start processing\n",
      "11:57:56 - cmdstanpy - INFO - Chain [1] done processing\n",
      "11:57:56 - cmdstanpy - INFO - Chain [1] start processing\n"
     ]
    },
    {
     "name": "stdout",
     "output_type": "stream",
     "text": [
      "ARIMA - MAPE: 4.63%\n",
      "SARIMA - MAPE: 100.00%\n",
      "Holt-Winters - MAPE: 5.21%\n",
      "Facebook Prophet - MAPE: 5.60%\n",
      "Ensemble Forecast - MAPE: 4.95%\n"
     ]
    },
    {
     "name": "stderr",
     "output_type": "stream",
     "text": [
      "11:57:56 - cmdstanpy - INFO - Chain [1] done processing\n"
     ]
    },
    {
     "name": "stdout",
     "output_type": "stream",
     "text": [
      "[456.48389792 457.56645375 457.14964345 457.25990443 458.17625406\n",
      " 458.2049087  456.13561214 453.16842647 451.83003279 453.18039103\n",
      " 455.6091561  456.51272181 454.85715355]\n",
      "----------RESULT FOR PRDCT5_CUSTY ----------\n"
     ]
    },
    {
     "name": "stderr",
     "output_type": "stream",
     "text": [
      "11:58:00 - cmdstanpy - INFO - Chain [1] start processing\n",
      "11:58:00 - cmdstanpy - INFO - Chain [1] done processing\n"
     ]
    },
    {
     "name": "stdout",
     "output_type": "stream",
     "text": [
      "ARIMA - MAPE: 4.13%\n",
      "SARIMA - MAPE: 100.00%\n",
      "Holt-Winters - MAPE: 4.29%\n",
      "Facebook Prophet - MAPE: 3.94%\n",
      "Ensemble Forecast - MAPE: 3.92%\n"
     ]
    },
    {
     "name": "stderr",
     "output_type": "stream",
     "text": [
      "11:58:00 - cmdstanpy - INFO - Chain [1] start processing\n",
      "11:58:00 - cmdstanpy - INFO - Chain [1] done processing\n"
     ]
    },
    {
     "name": "stdout",
     "output_type": "stream",
     "text": [
      "[454.51618227 457.14985055 457.88887909 454.18595222 448.10492179\n",
      " 444.68836639 446.52765736 451.14198501 454.09887987 453.827668\n",
      " 452.38157603 451.88673487 451.82462175]\n",
      "----------RESULT FOR PRDCT5_CUSTZ ----------\n"
     ]
    },
    {
     "name": "stderr",
     "output_type": "stream",
     "text": [
      "11:58:04 - cmdstanpy - INFO - Chain [1] start processing\n",
      "11:58:04 - cmdstanpy - INFO - Chain [1] done processing\n"
     ]
    },
    {
     "name": "stdout",
     "output_type": "stream",
     "text": [
      "ARIMA - MAPE: 4.14%\n",
      "SARIMA - MAPE: 100.00%\n",
      "Holt-Winters - MAPE: 4.20%\n",
      "Facebook Prophet - MAPE: 4.06%\n",
      "Ensemble Forecast - MAPE: 4.06%\n"
     ]
    },
    {
     "name": "stderr",
     "output_type": "stream",
     "text": [
      "11:58:05 - cmdstanpy - INFO - Chain [1] start processing\n",
      "11:58:05 - cmdstanpy - INFO - Chain [1] done processing\n"
     ]
    },
    {
     "name": "stdout",
     "output_type": "stream",
     "text": [
      "[456.22118388 452.72128736 451.25893106 452.55057251 454.55374533\n",
      " 454.62008976 453.06179747 452.49435987 454.05455433 455.55477301\n",
      " 454.14062829 450.14269352 447.16197404]\n",
      "----------RESULT FOR PRDCT6_CUSTK ----------\n"
     ]
    },
    {
     "name": "stderr",
     "output_type": "stream",
     "text": [
      "11:58:10 - cmdstanpy - INFO - Chain [1] start processing\n",
      "11:58:10 - cmdstanpy - INFO - Chain [1] done processing\n"
     ]
    },
    {
     "name": "stdout",
     "output_type": "stream",
     "text": [
      "ARIMA - MAPE: 2.51%\n",
      "SARIMA - MAPE: 100.00%\n",
      "Holt-Winters - MAPE: 3.51%\n",
      "Facebook Prophet - MAPE: 2.78%\n",
      "Ensemble Forecast - MAPE: 2.60%\n"
     ]
    },
    {
     "name": "stderr",
     "output_type": "stream",
     "text": [
      "11:58:10 - cmdstanpy - INFO - Chain [1] start processing\n",
      "11:58:10 - cmdstanpy - INFO - Chain [1] done processing\n"
     ]
    },
    {
     "name": "stdout",
     "output_type": "stream",
     "text": [
      "[1496.16778239 1496.43796373 1494.42550902 1490.53270207 1488.85018414\n",
      " 1492.63282041 1500.03231527 1505.80484622 1507.05344563 1505.79312524\n",
      " 1505.36127705 1505.86437963 1504.9396435 ]\n",
      "----------RESULT FOR PRDCT6_CUSTL ----------\n"
     ]
    },
    {
     "name": "stderr",
     "output_type": "stream",
     "text": [
      "11:58:16 - cmdstanpy - INFO - Chain [1] start processing\n",
      "11:58:16 - cmdstanpy - INFO - Chain [1] done processing\n"
     ]
    },
    {
     "name": "stdout",
     "output_type": "stream",
     "text": [
      "ARIMA - MAPE: 2.25%\n",
      "SARIMA - MAPE: 100.00%\n",
      "Holt-Winters - MAPE: 2.56%\n",
      "Facebook Prophet - MAPE: 2.76%\n",
      "Ensemble Forecast - MAPE: 2.50%\n"
     ]
    },
    {
     "name": "stderr",
     "output_type": "stream",
     "text": [
      "11:58:16 - cmdstanpy - INFO - Chain [1] start processing\n",
      "11:58:16 - cmdstanpy - INFO - Chain [1] done processing\n"
     ]
    },
    {
     "name": "stdout",
     "output_type": "stream",
     "text": [
      "[1502.52149699 1500.72294679 1496.6126792  1494.32431008 1497.19546865\n",
      " 1503.3865177  1507.47691924 1506.23470133 1501.9597931  1499.59223276\n",
      " 1501.03374349 1503.2724525  1502.3210017 ]\n",
      "----------RESULT FOR PRDCT6_CUSTM ----------\n"
     ]
    },
    {
     "name": "stderr",
     "output_type": "stream",
     "text": [
      "11:58:22 - cmdstanpy - INFO - Chain [1] start processing\n",
      "11:58:22 - cmdstanpy - INFO - Chain [1] done processing\n"
     ]
    },
    {
     "name": "stdout",
     "output_type": "stream",
     "text": [
      "ARIMA - MAPE: 1.55%\n",
      "SARIMA - MAPE: 98.77%\n",
      "Holt-Winters - MAPE: 1.54%\n",
      "Facebook Prophet - MAPE: 1.50%\n",
      "Ensemble Forecast - MAPE: 1.49%\n"
     ]
    },
    {
     "name": "stderr",
     "output_type": "stream",
     "text": [
      "11:58:23 - cmdstanpy - INFO - Chain [1] start processing\n",
      "11:58:23 - cmdstanpy - INFO - Chain [1] done processing\n"
     ]
    },
    {
     "name": "stdout",
     "output_type": "stream",
     "text": [
      "[1515.26016779 1513.77169353 1505.74155366 1503.20715599 1507.7960962\n",
      " 1513.10824629 1511.97538131 1504.99789134 1499.77202423 1501.94895834\n",
      " 1508.66194529 1511.84052805 1507.33362773]\n",
      "----------RESULT FOR PRDCT6_CUSTX ----------\n"
     ]
    },
    {
     "name": "stderr",
     "output_type": "stream",
     "text": [
      "11:58:31 - cmdstanpy - INFO - Chain [1] start processing\n",
      "11:58:31 - cmdstanpy - INFO - Chain [1] done processing\n",
      "11:58:31 - cmdstanpy - INFO - Chain [1] start processing\n",
      "11:58:31 - cmdstanpy - INFO - Chain [1] done processing\n"
     ]
    },
    {
     "name": "stdout",
     "output_type": "stream",
     "text": [
      "ARIMA - MAPE: 2.23%\n",
      "SARIMA - MAPE: 69.16%\n",
      "Holt-Winters - MAPE: 2.44%\n",
      "Facebook Prophet - MAPE: 2.42%\n",
      "Ensemble Forecast - MAPE: 2.31%\n",
      "[1505.50090099 1504.63360008 1504.95205313 1504.90408247 1503.14769755\n",
      " 1500.34418444 1498.37149594 1498.54759076 1500.68459834 1503.38174251\n",
      " 1504.83342539 1503.66945471 1499.83940558]\n",
      "----------RESULT FOR PRDCT6_CUSTY ----------\n"
     ]
    },
    {
     "name": "stderr",
     "output_type": "stream",
     "text": [
      "11:58:35 - cmdstanpy - INFO - Chain [1] start processing\n",
      "11:58:35 - cmdstanpy - INFO - Chain [1] done processing\n",
      "11:58:35 - cmdstanpy - INFO - Chain [1] start processing\n"
     ]
    },
    {
     "name": "stdout",
     "output_type": "stream",
     "text": [
      "ARIMA - MAPE: 2.17%\n",
      "SARIMA - MAPE: 100.00%\n",
      "Holt-Winters - MAPE: 2.99%\n",
      "Facebook Prophet - MAPE: 2.92%\n",
      "Ensemble Forecast - MAPE: 2.43%\n"
     ]
    },
    {
     "name": "stderr",
     "output_type": "stream",
     "text": [
      "11:58:35 - cmdstanpy - INFO - Chain [1] done processing\n"
     ]
    },
    {
     "name": "stdout",
     "output_type": "stream",
     "text": [
      "[1511.27105604 1508.00146581 1499.97765961 1493.99191991 1494.75523284\n",
      " 1499.00841826 1500.58230316 1497.96164405 1495.34636051 1496.669954\n",
      " 1500.58359473 1502.55896006 1500.92253335]\n",
      "----------RESULT FOR PRDCT6_CUSTZ ----------\n"
     ]
    },
    {
     "name": "stderr",
     "output_type": "stream",
     "text": [
      "11:58:39 - cmdstanpy - INFO - Chain [1] start processing\n",
      "11:58:39 - cmdstanpy - INFO - Chain [1] done processing\n"
     ]
    },
    {
     "name": "stdout",
     "output_type": "stream",
     "text": [
      "ARIMA - MAPE: 1.70%\n",
      "SARIMA - MAPE: 100.00%\n",
      "Holt-Winters - MAPE: 1.95%\n",
      "Facebook Prophet - MAPE: 2.18%\n",
      "Ensemble Forecast - MAPE: 1.88%\n"
     ]
    },
    {
     "name": "stderr",
     "output_type": "stream",
     "text": [
      "11:58:40 - cmdstanpy - INFO - Chain [1] start processing\n",
      "11:58:40 - cmdstanpy - INFO - Chain [1] done processing\n"
     ]
    },
    {
     "name": "stdout",
     "output_type": "stream",
     "text": [
      "[1509.44754222 1510.19545167 1509.65363625 1508.48081193 1506.49483661\n",
      " 1503.83975136 1500.39455845 1496.49970561 1493.89358005 1495.02994332\n",
      " 1500.69409486 1508.2958147  1513.12082798]\n",
      "----------RESULT FOR PRDCT7_CUSTK ----------\n"
     ]
    },
    {
     "name": "stderr",
     "output_type": "stream",
     "text": [
      "11:58:45 - cmdstanpy - INFO - Chain [1] start processing\n",
      "11:58:45 - cmdstanpy - INFO - Chain [1] done processing\n"
     ]
    },
    {
     "name": "stdout",
     "output_type": "stream",
     "text": [
      "ARIMA - MAPE: 1.76%\n",
      "SARIMA - MAPE: 100.00%\n",
      "Holt-Winters - MAPE: 1.87%\n",
      "Facebook Prophet - MAPE: 1.77%\n",
      "Ensemble Forecast - MAPE: 1.68%\n"
     ]
    },
    {
     "name": "stderr",
     "output_type": "stream",
     "text": [
      "11:58:45 - cmdstanpy - INFO - Chain [1] start processing\n",
      "11:58:45 - cmdstanpy - INFO - Chain [1] done processing\n"
     ]
    },
    {
     "name": "stdout",
     "output_type": "stream",
     "text": [
      "[1745.94180051 1749.22538996 1757.55903512 1761.81485583 1758.42446205\n",
      " 1752.48980393 1750.38448137 1751.78338936 1751.36115687 1747.43855616\n",
      " 1745.51197663 1751.21618227 1761.57678859]\n",
      "----------RESULT FOR PRDCT7_CUSTL ----------\n"
     ]
    },
    {
     "name": "stderr",
     "output_type": "stream",
     "text": [
      "11:58:50 - cmdstanpy - INFO - Chain [1] start processing\n",
      "11:58:50 - cmdstanpy - INFO - Chain [1] done processing\n",
      "11:58:50 - cmdstanpy - INFO - Chain [1] start processing\n"
     ]
    },
    {
     "name": "stdout",
     "output_type": "stream",
     "text": [
      "ARIMA - MAPE: 1.82%\n",
      "SARIMA - MAPE: 100.00%\n",
      "Holt-Winters - MAPE: 2.12%\n",
      "Facebook Prophet - MAPE: 1.64%\n",
      "Ensemble Forecast - MAPE: 1.70%\n"
     ]
    },
    {
     "name": "stderr",
     "output_type": "stream",
     "text": [
      "11:58:50 - cmdstanpy - INFO - Chain [1] done processing\n"
     ]
    },
    {
     "name": "stdout",
     "output_type": "stream",
     "text": [
      "[1758.06146708 1748.63056295 1737.82898417 1733.44485866 1737.22448122\n",
      " 1744.59827262 1749.45125962 1748.9180466  1744.58587579 1740.35153978\n",
      " 1739.35757306 1742.05043061 1746.18976652]\n",
      "----------RESULT FOR PRDCT7_CUSTM ----------\n"
     ]
    },
    {
     "name": "stderr",
     "output_type": "stream",
     "text": [
      "11:58:55 - cmdstanpy - INFO - Chain [1] start processing\n",
      "11:58:55 - cmdstanpy - INFO - Chain [1] done processing\n"
     ]
    },
    {
     "name": "stdout",
     "output_type": "stream",
     "text": [
      "ARIMA - MAPE: 1.39%\n",
      "SARIMA - MAPE: 100.00%\n",
      "Holt-Winters - MAPE: 1.73%\n",
      "Facebook Prophet - MAPE: 1.51%\n",
      "Ensemble Forecast - MAPE: 1.40%\n"
     ]
    },
    {
     "name": "stderr",
     "output_type": "stream",
     "text": [
      "11:58:55 - cmdstanpy - INFO - Chain [1] start processing\n",
      "11:58:55 - cmdstanpy - INFO - Chain [1] done processing\n"
     ]
    },
    {
     "name": "stdout",
     "output_type": "stream",
     "text": [
      "[1743.77269757 1746.16971058 1744.89110083 1738.75019045 1733.84610091\n",
      " 1735.98861008 1743.48848268 1749.25600886 1749.23029549 1746.4488129\n",
      " 1746.11929121 1748.65415346 1749.77980676]\n",
      "----------RESULT FOR PRDCT7_CUSTX ----------\n"
     ]
    },
    {
     "name": "stderr",
     "output_type": "stream",
     "text": [
      "11:59:01 - cmdstanpy - INFO - Chain [1] start processing\n",
      "11:59:01 - cmdstanpy - INFO - Chain [1] done processing\n"
     ]
    },
    {
     "name": "stdout",
     "output_type": "stream",
     "text": [
      "ARIMA - MAPE: 2.04%\n",
      "SARIMA - MAPE: 2.25%\n",
      "Holt-Winters - MAPE: 1.98%\n",
      "Facebook Prophet - MAPE: 2.28%\n",
      "Ensemble Forecast - MAPE: 2.14%\n"
     ]
    },
    {
     "name": "stderr",
     "output_type": "stream",
     "text": [
      "11:59:02 - cmdstanpy - INFO - Chain [1] start processing\n",
      "11:59:02 - cmdstanpy - INFO - Chain [1] done processing\n"
     ]
    },
    {
     "name": "stdout",
     "output_type": "stream",
     "text": [
      "[1748.00274088 1737.00113632 1737.85826898 1745.81195197 1751.7197415\n",
      " 1747.48033582 1735.35886662 1726.00472158 1727.36778359 1736.73487959\n",
      " 1744.61781951 1745.52279713 1742.97715637]\n",
      "----------RESULT FOR PRDCT7_CUSTY ----------\n"
     ]
    },
    {
     "name": "stderr",
     "output_type": "stream",
     "text": [
      "11:59:05 - cmdstanpy - INFO - Chain [1] start processing\n",
      "11:59:05 - cmdstanpy - INFO - Chain [1] done processing\n"
     ]
    },
    {
     "name": "stdout",
     "output_type": "stream",
     "text": [
      "ARIMA - MAPE: 2.05%\n",
      "SARIMA - MAPE: 100.00%\n",
      "Holt-Winters - MAPE: 2.38%\n",
      "Facebook Prophet - MAPE: 2.27%\n",
      "Ensemble Forecast - MAPE: 2.12%\n"
     ]
    },
    {
     "name": "stderr",
     "output_type": "stream",
     "text": [
      "11:59:05 - cmdstanpy - INFO - Chain [1] start processing\n",
      "11:59:05 - cmdstanpy - INFO - Chain [1] done processing\n"
     ]
    },
    {
     "name": "stdout",
     "output_type": "stream",
     "text": [
      "[1742.63293368 1749.32668715 1757.58103969 1762.24712129 1762.27253486\n",
      " 1760.30057361 1758.73445334 1757.38039159 1754.81384817 1750.95340221\n",
      " 1747.43955095 1745.70644646 1745.48502005]\n",
      "----------RESULT FOR PRDCT7_CUSTZ ----------\n"
     ]
    },
    {
     "name": "stderr",
     "output_type": "stream",
     "text": [
      "11:59:10 - cmdstanpy - INFO - Chain [1] start processing\n",
      "11:59:10 - cmdstanpy - INFO - Chain [1] done processing\n",
      "11:59:10 - cmdstanpy - INFO - Chain [1] start processing\n"
     ]
    },
    {
     "name": "stdout",
     "output_type": "stream",
     "text": [
      "ARIMA - MAPE: 2.07%\n",
      "SARIMA - MAPE: 100.00%\n",
      "Holt-Winters - MAPE: 2.14%\n",
      "Facebook Prophet - MAPE: 2.08%\n",
      "Ensemble Forecast - MAPE: 2.04%\n"
     ]
    },
    {
     "name": "stderr",
     "output_type": "stream",
     "text": [
      "11:59:10 - cmdstanpy - INFO - Chain [1] done processing\n"
     ]
    },
    {
     "name": "stdout",
     "output_type": "stream",
     "text": [
      "[1748.92899094 1753.12041262 1757.14398342 1755.42529495 1750.14068885\n",
      " 1747.89718447 1751.43014356 1756.54401794 1757.64322739 1754.63322464\n",
      " 1752.67998869 1755.41497802 1760.15550113]\n",
      "----------RESULT FOR PRDCT8_CUSTK ----------\n"
     ]
    },
    {
     "name": "stderr",
     "output_type": "stream",
     "text": [
      "11:59:17 - cmdstanpy - INFO - Chain [1] start processing\n",
      "11:59:17 - cmdstanpy - INFO - Chain [1] done processing\n"
     ]
    },
    {
     "name": "stdout",
     "output_type": "stream",
     "text": [
      "ARIMA - MAPE: 2.45%\n",
      "SARIMA - MAPE: 99.86%\n",
      "Holt-Winters - MAPE: 2.91%\n",
      "Facebook Prophet - MAPE: 2.85%\n",
      "Ensemble Forecast - MAPE: 2.62%\n"
     ]
    },
    {
     "name": "stderr",
     "output_type": "stream",
     "text": [
      "11:59:17 - cmdstanpy - INFO - Chain [1] start processing\n",
      "11:59:18 - cmdstanpy - INFO - Chain [1] done processing\n"
     ]
    },
    {
     "name": "stdout",
     "output_type": "stream",
     "text": [
      "[1047.86558013 1040.26861005 1041.75991138 1045.77043763 1051.31849829\n",
      " 1052.82487737 1048.78944895 1043.22735056 1041.59612703 1044.92403467\n",
      " 1049.05708573 1049.61848857 1046.73946966]\n",
      "----------RESULT FOR PRDCT8_CUSTL ----------\n"
     ]
    },
    {
     "name": "stderr",
     "output_type": "stream",
     "text": [
      "11:59:23 - cmdstanpy - INFO - Chain [1] start processing\n",
      "11:59:23 - cmdstanpy - INFO - Chain [1] done processing\n",
      "11:59:23 - cmdstanpy - INFO - Chain [1] start processing\n"
     ]
    },
    {
     "name": "stdout",
     "output_type": "stream",
     "text": [
      "ARIMA - MAPE: 2.46%\n",
      "SARIMA - MAPE: 3.29%\n",
      "Holt-Winters - MAPE: 2.78%\n",
      "Facebook Prophet - MAPE: 3.01%\n",
      "Ensemble Forecast - MAPE: 2.72%\n"
     ]
    },
    {
     "name": "stderr",
     "output_type": "stream",
     "text": [
      "11:59:23 - cmdstanpy - INFO - Chain [1] done processing\n"
     ]
    },
    {
     "name": "stdout",
     "output_type": "stream",
     "text": [
      "[1052.67971166 1055.14520364 1055.39104491 1054.64368023 1052.86170994\n",
      " 1050.18138376 1047.93469538 1048.16889465 1051.60325695 1056.21988805\n",
      " 1058.52672214 1056.63676833 1052.03080558]\n",
      "----------RESULT FOR PRDCT8_CUSTM ----------\n"
     ]
    },
    {
     "name": "stderr",
     "output_type": "stream",
     "text": [
      "11:59:29 - cmdstanpy - INFO - Chain [1] start processing\n",
      "11:59:29 - cmdstanpy - INFO - Chain [1] done processing\n"
     ]
    },
    {
     "name": "stdout",
     "output_type": "stream",
     "text": [
      "ARIMA - MAPE: 2.54%\n",
      "SARIMA - MAPE: 100.00%\n",
      "Holt-Winters - MAPE: 3.02%\n",
      "Facebook Prophet - MAPE: 2.56%\n",
      "Ensemble Forecast - MAPE: 2.42%\n"
     ]
    },
    {
     "name": "stderr",
     "output_type": "stream",
     "text": [
      "11:59:29 - cmdstanpy - INFO - Chain [1] start processing\n",
      "11:59:29 - cmdstanpy - INFO - Chain [1] done processing\n"
     ]
    },
    {
     "name": "stdout",
     "output_type": "stream",
     "text": [
      "[1037.54692236 1037.34993015 1041.52445911 1046.60316967 1047.35115164\n",
      " 1043.50401727 1039.90147809 1040.39583818 1043.20117557 1043.34723706\n",
      " 1038.97890018 1033.6415167  1031.95947868]\n",
      "----------RESULT FOR PRDCT8_CUSTX ----------\n"
     ]
    },
    {
     "name": "stderr",
     "output_type": "stream",
     "text": [
      "11:59:35 - cmdstanpy - INFO - Chain [1] start processing\n",
      "11:59:35 - cmdstanpy - INFO - Chain [1] done processing\n"
     ]
    },
    {
     "name": "stdout",
     "output_type": "stream",
     "text": [
      "ARIMA - MAPE: 2.75%\n",
      "SARIMA - MAPE: 100.00%\n",
      "Holt-Winters - MAPE: 2.83%\n",
      "Facebook Prophet - MAPE: 3.23%\n",
      "Ensemble Forecast - MAPE: 2.96%\n"
     ]
    },
    {
     "name": "stderr",
     "output_type": "stream",
     "text": [
      "11:59:35 - cmdstanpy - INFO - Chain [1] start processing\n",
      "11:59:35 - cmdstanpy - INFO - Chain [1] done processing\n"
     ]
    },
    {
     "name": "stdout",
     "output_type": "stream",
     "text": [
      "[1057.60618618 1053.25830555 1045.56532769 1041.67641306 1044.54831428\n",
      " 1050.69806157 1054.07020951 1052.4054234  1049.11069826 1048.81645777\n",
      " 1051.95090192 1054.48624172 1052.84157216]\n",
      "----------RESULT FOR PRDCT8_CUSTY ----------\n"
     ]
    },
    {
     "name": "stderr",
     "output_type": "stream",
     "text": [
      "11:59:43 - cmdstanpy - INFO - Chain [1] start processing\n",
      "11:59:43 - cmdstanpy - INFO - Chain [1] done processing\n"
     ]
    },
    {
     "name": "stdout",
     "output_type": "stream",
     "text": [
      "ARIMA - MAPE: 2.05%\n",
      "SARIMA - MAPE: 82.83%\n",
      "Holt-Winters - MAPE: 2.33%\n",
      "Facebook Prophet - MAPE: 2.50%\n",
      "Ensemble Forecast - MAPE: 2.11%\n"
     ]
    },
    {
     "name": "stderr",
     "output_type": "stream",
     "text": [
      "11:59:43 - cmdstanpy - INFO - Chain [1] start processing\n",
      "11:59:43 - cmdstanpy - INFO - Chain [1] done processing\n"
     ]
    },
    {
     "name": "stdout",
     "output_type": "stream",
     "text": [
      "[1066.11915016 1071.32062296 1066.84594649 1055.89568115 1048.3132523\n",
      " 1048.80677677 1053.10149718 1054.34677846 1051.34194872 1049.00223294\n",
      " 1051.55923684 1057.49173012 1062.0638867 ]\n",
      "----------RESULT FOR PRDCT8_CUSTZ ----------\n"
     ]
    },
    {
     "name": "stderr",
     "output_type": "stream",
     "text": [
      "12:00:55 - cmdstanpy - INFO - Chain [1] start processing\n",
      "12:00:55 - cmdstanpy - INFO - Chain [1] done processing\n"
     ]
    },
    {
     "name": "stdout",
     "output_type": "stream",
     "text": [
      "ARIMA - MAPE: 2.73%\n",
      "SARIMA - MAPE: 2.71%\n",
      "Holt-Winters - MAPE: 2.77%\n",
      "Facebook Prophet - MAPE: 3.15%\n",
      "Ensemble Forecast - MAPE: 2.94%\n"
     ]
    },
    {
     "name": "stderr",
     "output_type": "stream",
     "text": [
      "12:00:55 - cmdstanpy - INFO - Chain [1] start processing\n",
      "12:00:55 - cmdstanpy - INFO - Chain [1] done processing\n"
     ]
    },
    {
     "name": "stdout",
     "output_type": "stream",
     "text": [
      "[1053.86256865 1048.82750053 1043.16973241 1042.12406741 1045.0746201\n",
      " 1047.32600379 1045.78222144 1042.03167542 1039.82393324 1040.56250889\n",
      " 1042.24484327 1042.57156638 1041.87931769]\n",
      "----------RESULT FOR PRDCT9_CUSTK ----------\n"
     ]
    },
    {
     "name": "stderr",
     "output_type": "stream",
     "text": [
      "12:01:04 - cmdstanpy - INFO - Chain [1] start processing\n",
      "12:01:04 - cmdstanpy - INFO - Chain [1] done processing\n"
     ]
    },
    {
     "name": "stdout",
     "output_type": "stream",
     "text": [
      "ARIMA - MAPE: 1.94%\n",
      "SARIMA - MAPE: 83.70%\n",
      "Holt-Winters - MAPE: 2.99%\n",
      "Facebook Prophet - MAPE: 2.59%\n",
      "Ensemble Forecast - MAPE: 2.19%\n"
     ]
    },
    {
     "name": "stderr",
     "output_type": "stream",
     "text": [
      "12:01:04 - cmdstanpy - INFO - Chain [1] start processing\n",
      "12:01:04 - cmdstanpy - INFO - Chain [1] done processing\n"
     ]
    },
    {
     "name": "stdout",
     "output_type": "stream",
     "text": [
      "[1701.96060419 1700.82412621 1699.20572752 1696.76402734 1695.35933541\n",
      " 1694.95897506 1693.97229998 1692.24977172 1692.13542006 1695.41395829\n",
      " 1699.96197667 1701.08648261 1696.7733723 ]\n",
      "----------RESULT FOR PRDCT9_CUSTL ----------\n"
     ]
    },
    {
     "name": "stderr",
     "output_type": "stream",
     "text": [
      "12:01:10 - cmdstanpy - INFO - Chain [1] start processing\n",
      "12:01:10 - cmdstanpy - INFO - Chain [1] done processing\n"
     ]
    },
    {
     "name": "stdout",
     "output_type": "stream",
     "text": [
      "ARIMA - MAPE: 2.16%\n",
      "SARIMA - MAPE: 100.00%\n",
      "Holt-Winters - MAPE: 2.24%\n",
      "Facebook Prophet - MAPE: 2.53%\n",
      "Ensemble Forecast - MAPE: 2.24%\n"
     ]
    },
    {
     "name": "stderr",
     "output_type": "stream",
     "text": [
      "12:01:11 - cmdstanpy - INFO - Chain [1] start processing\n",
      "12:01:11 - cmdstanpy - INFO - Chain [1] done processing\n"
     ]
    },
    {
     "name": "stdout",
     "output_type": "stream",
     "text": [
      "[1694.77775696 1689.28910463 1691.40727249 1697.39229218 1702.01764588\n",
      " 1701.88131939 1698.49659435 1695.30925774 1693.60657742 1692.45669428\n",
      " 1691.76480107 1693.26753334 1697.62900294]\n",
      "----------RESULT FOR PRDCT9_CUSTM ----------\n"
     ]
    },
    {
     "name": "stderr",
     "output_type": "stream",
     "text": [
      "12:01:16 - cmdstanpy - INFO - Chain [1] start processing\n",
      "12:01:16 - cmdstanpy - INFO - Chain [1] done processing\n"
     ]
    },
    {
     "name": "stdout",
     "output_type": "stream",
     "text": [
      "ARIMA - MAPE: 1.78%\n",
      "SARIMA - MAPE: 100.00%\n",
      "Holt-Winters - MAPE: 1.90%\n",
      "Facebook Prophet - MAPE: 2.05%\n",
      "Ensemble Forecast - MAPE: 1.83%\n"
     ]
    },
    {
     "name": "stderr",
     "output_type": "stream",
     "text": [
      "12:01:17 - cmdstanpy - INFO - Chain [1] start processing\n",
      "12:01:17 - cmdstanpy - INFO - Chain [1] done processing\n"
     ]
    },
    {
     "name": "stdout",
     "output_type": "stream",
     "text": [
      "[1697.53254076 1702.43097641 1709.14129973 1710.12450958 1705.47138583\n",
      " 1702.46849304 1706.05381616 1712.01308169 1711.84567259 1703.40099408\n",
      " 1693.88750081 1691.3803565  1695.4802394 ]\n",
      "----------RESULT FOR PRDCT9_CUSTX ----------\n"
     ]
    },
    {
     "name": "stderr",
     "output_type": "stream",
     "text": [
      "12:01:22 - cmdstanpy - INFO - Chain [1] start processing\n",
      "12:01:22 - cmdstanpy - INFO - Chain [1] done processing\n"
     ]
    },
    {
     "name": "stdout",
     "output_type": "stream",
     "text": [
      "ARIMA - MAPE: 1.80%\n",
      "SARIMA - MAPE: 100.00%\n",
      "Holt-Winters - MAPE: 2.10%\n",
      "Facebook Prophet - MAPE: 2.01%\n",
      "Ensemble Forecast - MAPE: 1.80%\n"
     ]
    },
    {
     "name": "stderr",
     "output_type": "stream",
     "text": [
      "12:01:22 - cmdstanpy - INFO - Chain [1] start processing\n",
      "12:01:22 - cmdstanpy - INFO - Chain [1] done processing\n"
     ]
    },
    {
     "name": "stdout",
     "output_type": "stream",
     "text": [
      "[1690.6860026  1697.53638145 1705.35598871 1708.18847079 1702.91856715\n",
      " 1692.72700515 1684.67752099 1683.54313939 1688.15137392 1693.76871758\n",
      " 1697.28794174 1699.25120551 1701.1776197 ]\n",
      "----------RESULT FOR PRDCT9_CUSTY ----------\n"
     ]
    },
    {
     "name": "stderr",
     "output_type": "stream",
     "text": [
      "12:01:26 - cmdstanpy - INFO - Chain [1] start processing\n",
      "12:01:26 - cmdstanpy - INFO - Chain [1] done processing\n"
     ]
    },
    {
     "name": "stdout",
     "output_type": "stream",
     "text": [
      "ARIMA - MAPE: 1.48%\n",
      "SARIMA - MAPE: 100.00%\n",
      "Holt-Winters - MAPE: 1.57%\n",
      "Facebook Prophet - MAPE: 1.69%\n",
      "Ensemble Forecast - MAPE: 1.48%\n"
     ]
    },
    {
     "name": "stderr",
     "output_type": "stream",
     "text": [
      "12:01:27 - cmdstanpy - INFO - Chain [1] start processing\n",
      "12:01:27 - cmdstanpy - INFO - Chain [1] done processing\n"
     ]
    },
    {
     "name": "stdout",
     "output_type": "stream",
     "text": [
      "[1704.6568927  1706.61851051 1710.15500468 1709.64466061 1704.32156426\n",
      " 1698.64658451 1698.067785   1703.92678813 1712.63891541 1719.2345535\n",
      " 1721.08545355 1718.55865062 1713.37692869]\n",
      "----------RESULT FOR PRDCT9_CUSTZ ----------\n"
     ]
    },
    {
     "name": "stderr",
     "output_type": "stream",
     "text": [
      "12:01:31 - cmdstanpy - INFO - Chain [1] start processing\n",
      "12:01:31 - cmdstanpy - INFO - Chain [1] done processing\n",
      "12:01:31 - cmdstanpy - INFO - Chain [1] start processing\n"
     ]
    },
    {
     "name": "stdout",
     "output_type": "stream",
     "text": [
      "ARIMA - MAPE: 2.04%\n",
      "SARIMA - MAPE: 100.00%\n",
      "Holt-Winters - MAPE: 1.97%\n",
      "Facebook Prophet - MAPE: 2.10%\n",
      "Ensemble Forecast - MAPE: 1.99%\n"
     ]
    },
    {
     "name": "stderr",
     "output_type": "stream",
     "text": [
      "12:01:31 - cmdstanpy - INFO - Chain [1] done processing\n"
     ]
    },
    {
     "name": "stdout",
     "output_type": "stream",
     "text": [
      "[1695.89060569 1697.86585517 1699.9130251  1696.14821817 1687.11464689\n",
      " 1680.6289269  1683.81004709 1695.58144071 1707.4770173  1711.38302444\n",
      " 1706.1346719  1697.22795765 1691.3318247 ]\n"
     ]
    }
   ],
   "source": [
    "  for i in timeseries_key_values:\n",
    "    df_prod1 = df1[df1['timeseries_key']==i]\n",
    "    \n",
    "    print(\"----------RESULT FOR\",i,\"----------\")\n",
    "    \n",
    "    # Convert 'calweek' column to datetime format\n",
    "    df_prod1['calweek'] = pd.to_datetime(df_prod1['calweek'].astype(str) + '1', format='%Y%W%w')\n",
    "    \n",
    "    # Group data by 'calweek' and aggregate 'Quantity'\n",
    "    ts_data = df_prod1.groupby('calweek')['Quantity'].sum().reset_index()\n",
    "    \n",
    "    # Rename columns for Prophet model\n",
    "    ts_data.rename(columns={'calweek': 'ds', 'Quantity': 'y'}, inplace=True)\n",
    "\n",
    "    # Split data into training and testing sets\n",
    "    n_train = int(len(ts_data) * 0.8)  # 80% for training, 20% for testing\n",
    "    train = ts_data.iloc[:n_train]\n",
    "    test = ts_data.iloc[n_train:]\n",
    "    \n",
    "    # Perform forecasting using ARIMA\n",
    "    arima_predictions = arima_forecast(train['y'], test['y'])\n",
    "\n",
    "    # Perform forecasting using SARIMA\n",
    "    sarima_predictions = sarima_forecast(train['y'], test['y'])\n",
    "\n",
    "    # Perform forecasting using Holt-Winters\n",
    "    holt_winters_predictions = holt_winters_forecast(train['y'], test['y'])\n",
    "    \n",
    "\n",
    "    # Perform forecasting using Facebook Prophet\n",
    "    prophet_predictions = prophet_forecast(train, test)\n",
    "    \n",
    "    # Ensemble forecast combining ARIMA and Prophet\n",
    "    ensemble_forecast = (arima_predictions + prophet_predictions) / 2.0\n",
    "\n",
    "    # Calculate MAPE\n",
    "    def calculate_mape(actual, forecast):\n",
    "        return np.mean(np.abs((actual - forecast) / actual)) * 100\n",
    "\n",
    "    # Calculate MAPE for ARIMA\n",
    "    arima_mape = calculate_mape(test['y'], arima_predictions)\n",
    "\n",
    "    # Calculate MAPE for SARIMA\n",
    "    sarima_mape = calculate_mape(test['y'], sarima_predictions)\n",
    "\n",
    "    # Calculate MAPE for Holt-Winters\n",
    "    holt_winters_mape = calculate_mape(test['y'], holt_winters_predictions)\n",
    "\n",
    "    # Calculate MAPE for Facebook Prophet\n",
    "    prophet_mape = calculate_mape(test['y'], prophet_predictions)\n",
    "    \n",
    "    # Calculate MAPE for ensemble forecast\n",
    "    ensemble_mape = calculate_mape(test['y'], ensemble_forecast)\n",
    "\n",
    "\n",
    "    # Print MAPE values\n",
    "    print(\"ARIMA - MAPE: {:.2f}%\".format(arima_mape))\n",
    "    print(\"SARIMA - MAPE: {:.2f}%\".format(sarima_mape))\n",
    "    print(\"Holt-Winters - MAPE: {:.2f}%\".format(holt_winters_mape))\n",
    "    print(\"Facebook Prophet - MAPE: {:.2f}%\".format(prophet_mape))\n",
    "    print(\"Ensemble Forecast - MAPE: {:.2f}%\".format(ensemble_mape))\n",
    "    \n",
    "    #FORECASTINGGG\n",
    "    \n",
    "    # Split data into training and testing sets\n",
    "    train = ts_data.iloc[:172]\n",
    "    \n",
    "    # Facebook Prophet model\n",
    "    def prophet_forecast1(train):\n",
    "        model = Prophet()\n",
    "        model.fit(train)\n",
    "        future = model.make_future_dataframe(periods=13, freq='W')\n",
    "        forecast = model.predict(future)\n",
    "        forecast = forecast['yhat'][-13:].values\n",
    "        return forecast\n",
    "    \n",
    "    # ARIMA model\n",
    "    def arima_forecast1(train):\n",
    "        model = ARIMA(train, order=(1, 0, 0))  # ARIMA(p, d, q)\n",
    "        model_fit = model.fit()\n",
    "        forecast = model_fit.forecast(steps=13)\n",
    "        return forecast\n",
    "    \n",
    "    # Perform forecasting using ARIMA\n",
    "    arima_predictions = arima_forecast1(train['y'])\n",
    "\n",
    "    # Perform forecasting using Facebook Prophet\n",
    "    prophet_predictions = prophet_forecast1(train)\n",
    "\n",
    "    # Ensemble forecast combining ARIMA and Prophet\n",
    "    ensemble_predictions = np.array((arima_predictions + prophet_predictions) / 2.0)\n",
    "    print(ensemble_predictions)\n",
    "    \n",
    "    # Generate date values for the forecasted period\n",
    "    start_date = ts_data['ds'].iloc[-1]\n",
    "    forecast_dates = pd.date_range(start=start_date, periods=len(test), freq='W').strftime('%Y-%m-%d')\n",
    "    for j in range(13):\n",
    "        results_df = pd.concat([results_df, pd.DataFrame({\n",
    "            'date': [forecast_dates[j]],\n",
    "            'timeseries_key': [i],\n",
    "            'Ensemble_Predicted': ensemble_predictions[j],\n",
    "            'Prophet_Predicted': [prophet_predictions[j]]\n",
    "            \n",
    "        })], ignore_index=True)\n",
    "        results_mape = pd.concat([results_mape, pd.DataFrame({\n",
    "            'date': [forecast_dates[j]],\n",
    "            'timeseries_key': [i],\n",
    "            'Prophet_MAPE': [prophet_mape],\n",
    "            'ARIMA_MAPE': [arima_mape],\n",
    "            'SARIMA_MAPE': [sarima_mape],\n",
    "            'HoltWinters_MAPE': [holt_winters_mape],\n",
    "            'Ensemble_MAPE': [ensemble_mape]\n",
    "        })], ignore_index=True) "
   ]
  },
  {
   "cell_type": "code",
   "execution_count": 16,
   "id": "7d86758e",
   "metadata": {
    "scrolled": true
   },
   "outputs": [
    {
     "data": {
      "text/html": [
       "<div>\n",
       "<style scoped>\n",
       "    .dataframe tbody tr th:only-of-type {\n",
       "        vertical-align: middle;\n",
       "    }\n",
       "\n",
       "    .dataframe tbody tr th {\n",
       "        vertical-align: top;\n",
       "    }\n",
       "\n",
       "    .dataframe thead th {\n",
       "        text-align: right;\n",
       "    }\n",
       "</style>\n",
       "<table border=\"1\" class=\"dataframe\">\n",
       "  <thead>\n",
       "    <tr style=\"text-align: right;\">\n",
       "      <th></th>\n",
       "      <th>date</th>\n",
       "      <th>timeseries_key</th>\n",
       "      <th>Ensemble_Predicted</th>\n",
       "      <th>Prophet_Predicted</th>\n",
       "    </tr>\n",
       "  </thead>\n",
       "  <tbody>\n",
       "    <tr>\n",
       "      <th>0</th>\n",
       "      <td>2023-04-16</td>\n",
       "      <td>PRDCT1_CUSTA</td>\n",
       "      <td>543.809171</td>\n",
       "      <td>539.394042</td>\n",
       "    </tr>\n",
       "    <tr>\n",
       "      <th>1</th>\n",
       "      <td>2023-04-23</td>\n",
       "      <td>PRDCT1_CUSTA</td>\n",
       "      <td>543.730819</td>\n",
       "      <td>539.376779</td>\n",
       "    </tr>\n",
       "    <tr>\n",
       "      <th>2</th>\n",
       "      <td>2023-04-30</td>\n",
       "      <td>PRDCT1_CUSTA</td>\n",
       "      <td>542.584414</td>\n",
       "      <td>537.079366</td>\n",
       "    </tr>\n",
       "    <tr>\n",
       "      <th>3</th>\n",
       "      <td>2023-05-07</td>\n",
       "      <td>PRDCT1_CUSTA</td>\n",
       "      <td>540.741381</td>\n",
       "      <td>533.393453</td>\n",
       "    </tr>\n",
       "    <tr>\n",
       "      <th>4</th>\n",
       "      <td>2023-05-14</td>\n",
       "      <td>PRDCT1_CUSTA</td>\n",
       "      <td>539.504239</td>\n",
       "      <td>530.919164</td>\n",
       "    </tr>\n",
       "    <tr>\n",
       "      <th>...</th>\n",
       "      <td>...</td>\n",
       "      <td>...</td>\n",
       "      <td>...</td>\n",
       "      <td>...</td>\n",
       "    </tr>\n",
       "    <tr>\n",
       "      <th>1399</th>\n",
       "      <td>2023-06-11</td>\n",
       "      <td>PRDCT9_CUSTZ</td>\n",
       "      <td>1707.477017</td>\n",
       "      <td>1716.515438</td>\n",
       "    </tr>\n",
       "    <tr>\n",
       "      <th>1400</th>\n",
       "      <td>2023-06-18</td>\n",
       "      <td>PRDCT9_CUSTZ</td>\n",
       "      <td>1711.383024</td>\n",
       "      <td>1724.327452</td>\n",
       "    </tr>\n",
       "    <tr>\n",
       "      <th>1401</th>\n",
       "      <td>2023-06-25</td>\n",
       "      <td>PRDCT9_CUSTZ</td>\n",
       "      <td>1706.134672</td>\n",
       "      <td>1713.830747</td>\n",
       "    </tr>\n",
       "    <tr>\n",
       "      <th>1402</th>\n",
       "      <td>2023-07-02</td>\n",
       "      <td>PRDCT9_CUSTZ</td>\n",
       "      <td>1697.227958</td>\n",
       "      <td>1696.017319</td>\n",
       "    </tr>\n",
       "    <tr>\n",
       "      <th>1403</th>\n",
       "      <td>2023-07-09</td>\n",
       "      <td>PRDCT9_CUSTZ</td>\n",
       "      <td>1691.331825</td>\n",
       "      <td>1684.225053</td>\n",
       "    </tr>\n",
       "  </tbody>\n",
       "</table>\n",
       "<p>1404 rows × 4 columns</p>\n",
       "</div>"
      ],
      "text/plain": [
       "            date timeseries_key  Ensemble_Predicted  Prophet_Predicted\n",
       "0     2023-04-16   PRDCT1_CUSTA          543.809171         539.394042\n",
       "1     2023-04-23   PRDCT1_CUSTA          543.730819         539.376779\n",
       "2     2023-04-30   PRDCT1_CUSTA          542.584414         537.079366\n",
       "3     2023-05-07   PRDCT1_CUSTA          540.741381         533.393453\n",
       "4     2023-05-14   PRDCT1_CUSTA          539.504239         530.919164\n",
       "...          ...            ...                 ...                ...\n",
       "1399  2023-06-11   PRDCT9_CUSTZ         1707.477017        1716.515438\n",
       "1400  2023-06-18   PRDCT9_CUSTZ         1711.383024        1724.327452\n",
       "1401  2023-06-25   PRDCT9_CUSTZ         1706.134672        1713.830747\n",
       "1402  2023-07-02   PRDCT9_CUSTZ         1697.227958        1696.017319\n",
       "1403  2023-07-09   PRDCT9_CUSTZ         1691.331825        1684.225053\n",
       "\n",
       "[1404 rows x 4 columns]"
      ]
     },
     "execution_count": 16,
     "metadata": {},
     "output_type": "execute_result"
    }
   ],
   "source": [
    "results_df"
   ]
  },
  {
   "cell_type": "code",
   "execution_count": 17,
   "id": "f55d6cfb",
   "metadata": {},
   "outputs": [
    {
     "data": {
      "text/html": [
       "<div>\n",
       "<style scoped>\n",
       "    .dataframe tbody tr th:only-of-type {\n",
       "        vertical-align: middle;\n",
       "    }\n",
       "\n",
       "    .dataframe tbody tr th {\n",
       "        vertical-align: top;\n",
       "    }\n",
       "\n",
       "    .dataframe thead th {\n",
       "        text-align: right;\n",
       "    }\n",
       "</style>\n",
       "<table border=\"1\" class=\"dataframe\">\n",
       "  <thead>\n",
       "    <tr style=\"text-align: right;\">\n",
       "      <th></th>\n",
       "      <th>date</th>\n",
       "      <th>timeseries_key</th>\n",
       "      <th>Prophet_MAPE</th>\n",
       "      <th>ARIMA_MAPE</th>\n",
       "      <th>SARIMA_MAPE</th>\n",
       "      <th>HoltWinters_MAPE</th>\n",
       "      <th>Ensemble_MAPE</th>\n",
       "    </tr>\n",
       "  </thead>\n",
       "  <tbody>\n",
       "    <tr>\n",
       "      <th>0</th>\n",
       "      <td>2023-04-16</td>\n",
       "      <td>PRDCT1_CUSTA</td>\n",
       "      <td>3.042337</td>\n",
       "      <td>3.026330</td>\n",
       "      <td>3.02633</td>\n",
       "      <td>3.133267</td>\n",
       "      <td>2.963487</td>\n",
       "    </tr>\n",
       "    <tr>\n",
       "      <th>1</th>\n",
       "      <td>2023-04-23</td>\n",
       "      <td>PRDCT1_CUSTA</td>\n",
       "      <td>3.042337</td>\n",
       "      <td>3.026330</td>\n",
       "      <td>3.02633</td>\n",
       "      <td>3.133267</td>\n",
       "      <td>2.963487</td>\n",
       "    </tr>\n",
       "    <tr>\n",
       "      <th>2</th>\n",
       "      <td>2023-04-30</td>\n",
       "      <td>PRDCT1_CUSTA</td>\n",
       "      <td>3.042337</td>\n",
       "      <td>3.026330</td>\n",
       "      <td>3.02633</td>\n",
       "      <td>3.133267</td>\n",
       "      <td>2.963487</td>\n",
       "    </tr>\n",
       "    <tr>\n",
       "      <th>3</th>\n",
       "      <td>2023-05-07</td>\n",
       "      <td>PRDCT1_CUSTA</td>\n",
       "      <td>3.042337</td>\n",
       "      <td>3.026330</td>\n",
       "      <td>3.02633</td>\n",
       "      <td>3.133267</td>\n",
       "      <td>2.963487</td>\n",
       "    </tr>\n",
       "    <tr>\n",
       "      <th>4</th>\n",
       "      <td>2023-05-14</td>\n",
       "      <td>PRDCT1_CUSTA</td>\n",
       "      <td>3.042337</td>\n",
       "      <td>3.026330</td>\n",
       "      <td>3.02633</td>\n",
       "      <td>3.133267</td>\n",
       "      <td>2.963487</td>\n",
       "    </tr>\n",
       "    <tr>\n",
       "      <th>...</th>\n",
       "      <td>...</td>\n",
       "      <td>...</td>\n",
       "      <td>...</td>\n",
       "      <td>...</td>\n",
       "      <td>...</td>\n",
       "      <td>...</td>\n",
       "      <td>...</td>\n",
       "    </tr>\n",
       "    <tr>\n",
       "      <th>1399</th>\n",
       "      <td>2023-06-11</td>\n",
       "      <td>PRDCT9_CUSTZ</td>\n",
       "      <td>2.102834</td>\n",
       "      <td>2.043784</td>\n",
       "      <td>100.00000</td>\n",
       "      <td>1.973753</td>\n",
       "      <td>1.987289</td>\n",
       "    </tr>\n",
       "    <tr>\n",
       "      <th>1400</th>\n",
       "      <td>2023-06-18</td>\n",
       "      <td>PRDCT9_CUSTZ</td>\n",
       "      <td>2.102834</td>\n",
       "      <td>2.043784</td>\n",
       "      <td>100.00000</td>\n",
       "      <td>1.973753</td>\n",
       "      <td>1.987289</td>\n",
       "    </tr>\n",
       "    <tr>\n",
       "      <th>1401</th>\n",
       "      <td>2023-06-25</td>\n",
       "      <td>PRDCT9_CUSTZ</td>\n",
       "      <td>2.102834</td>\n",
       "      <td>2.043784</td>\n",
       "      <td>100.00000</td>\n",
       "      <td>1.973753</td>\n",
       "      <td>1.987289</td>\n",
       "    </tr>\n",
       "    <tr>\n",
       "      <th>1402</th>\n",
       "      <td>2023-07-02</td>\n",
       "      <td>PRDCT9_CUSTZ</td>\n",
       "      <td>2.102834</td>\n",
       "      <td>2.043784</td>\n",
       "      <td>100.00000</td>\n",
       "      <td>1.973753</td>\n",
       "      <td>1.987289</td>\n",
       "    </tr>\n",
       "    <tr>\n",
       "      <th>1403</th>\n",
       "      <td>2023-07-09</td>\n",
       "      <td>PRDCT9_CUSTZ</td>\n",
       "      <td>2.102834</td>\n",
       "      <td>2.043784</td>\n",
       "      <td>100.00000</td>\n",
       "      <td>1.973753</td>\n",
       "      <td>1.987289</td>\n",
       "    </tr>\n",
       "  </tbody>\n",
       "</table>\n",
       "<p>1404 rows × 7 columns</p>\n",
       "</div>"
      ],
      "text/plain": [
       "            date timeseries_key  Prophet_MAPE  ARIMA_MAPE  SARIMA_MAPE   \n",
       "0     2023-04-16   PRDCT1_CUSTA      3.042337    3.026330      3.02633  \\\n",
       "1     2023-04-23   PRDCT1_CUSTA      3.042337    3.026330      3.02633   \n",
       "2     2023-04-30   PRDCT1_CUSTA      3.042337    3.026330      3.02633   \n",
       "3     2023-05-07   PRDCT1_CUSTA      3.042337    3.026330      3.02633   \n",
       "4     2023-05-14   PRDCT1_CUSTA      3.042337    3.026330      3.02633   \n",
       "...          ...            ...           ...         ...          ...   \n",
       "1399  2023-06-11   PRDCT9_CUSTZ      2.102834    2.043784    100.00000   \n",
       "1400  2023-06-18   PRDCT9_CUSTZ      2.102834    2.043784    100.00000   \n",
       "1401  2023-06-25   PRDCT9_CUSTZ      2.102834    2.043784    100.00000   \n",
       "1402  2023-07-02   PRDCT9_CUSTZ      2.102834    2.043784    100.00000   \n",
       "1403  2023-07-09   PRDCT9_CUSTZ      2.102834    2.043784    100.00000   \n",
       "\n",
       "      HoltWinters_MAPE  Ensemble_MAPE  \n",
       "0             3.133267       2.963487  \n",
       "1             3.133267       2.963487  \n",
       "2             3.133267       2.963487  \n",
       "3             3.133267       2.963487  \n",
       "4             3.133267       2.963487  \n",
       "...                ...            ...  \n",
       "1399          1.973753       1.987289  \n",
       "1400          1.973753       1.987289  \n",
       "1401          1.973753       1.987289  \n",
       "1402          1.973753       1.987289  \n",
       "1403          1.973753       1.987289  \n",
       "\n",
       "[1404 rows x 7 columns]"
      ]
     },
     "execution_count": 17,
     "metadata": {},
     "output_type": "execute_result"
    }
   ],
   "source": [
    "results_mape"
   ]
  },
  {
   "cell_type": "code",
   "execution_count": 18,
   "id": "4fa160b6",
   "metadata": {},
   "outputs": [],
   "source": [
    "# Convert the date column to datetime format\n",
    "results_df['date'] = pd.to_datetime(results_df['date'])\n",
    "\n",
    "# Convert the date format to 'YYYY-WW'\n",
    "results_df['calweek'] = results_df['date'].dt.strftime('%Y-%U')"
   ]
  },
  {
   "cell_type": "code",
   "execution_count": 19,
   "id": "78a45cce",
   "metadata": {},
   "outputs": [
    {
     "data": {
      "text/html": [
       "<div>\n",
       "<style scoped>\n",
       "    .dataframe tbody tr th:only-of-type {\n",
       "        vertical-align: middle;\n",
       "    }\n",
       "\n",
       "    .dataframe tbody tr th {\n",
       "        vertical-align: top;\n",
       "    }\n",
       "\n",
       "    .dataframe thead th {\n",
       "        text-align: right;\n",
       "    }\n",
       "</style>\n",
       "<table border=\"1\" class=\"dataframe\">\n",
       "  <thead>\n",
       "    <tr style=\"text-align: right;\">\n",
       "      <th></th>\n",
       "      <th>date</th>\n",
       "      <th>timeseries_key</th>\n",
       "      <th>Ensemble_Predicted</th>\n",
       "      <th>Prophet_Predicted</th>\n",
       "      <th>calweek</th>\n",
       "    </tr>\n",
       "  </thead>\n",
       "  <tbody>\n",
       "    <tr>\n",
       "      <th>0</th>\n",
       "      <td>2023-04-16</td>\n",
       "      <td>PRDCT1_CUSTA</td>\n",
       "      <td>543.809171</td>\n",
       "      <td>539.394042</td>\n",
       "      <td>2023-16</td>\n",
       "    </tr>\n",
       "    <tr>\n",
       "      <th>1</th>\n",
       "      <td>2023-04-23</td>\n",
       "      <td>PRDCT1_CUSTA</td>\n",
       "      <td>543.730819</td>\n",
       "      <td>539.376779</td>\n",
       "      <td>2023-17</td>\n",
       "    </tr>\n",
       "    <tr>\n",
       "      <th>2</th>\n",
       "      <td>2023-04-30</td>\n",
       "      <td>PRDCT1_CUSTA</td>\n",
       "      <td>542.584414</td>\n",
       "      <td>537.079366</td>\n",
       "      <td>2023-18</td>\n",
       "    </tr>\n",
       "    <tr>\n",
       "      <th>3</th>\n",
       "      <td>2023-05-07</td>\n",
       "      <td>PRDCT1_CUSTA</td>\n",
       "      <td>540.741381</td>\n",
       "      <td>533.393453</td>\n",
       "      <td>2023-19</td>\n",
       "    </tr>\n",
       "    <tr>\n",
       "      <th>4</th>\n",
       "      <td>2023-05-14</td>\n",
       "      <td>PRDCT1_CUSTA</td>\n",
       "      <td>539.504239</td>\n",
       "      <td>530.919164</td>\n",
       "      <td>2023-20</td>\n",
       "    </tr>\n",
       "    <tr>\n",
       "      <th>...</th>\n",
       "      <td>...</td>\n",
       "      <td>...</td>\n",
       "      <td>...</td>\n",
       "      <td>...</td>\n",
       "      <td>...</td>\n",
       "    </tr>\n",
       "    <tr>\n",
       "      <th>1399</th>\n",
       "      <td>2023-06-11</td>\n",
       "      <td>PRDCT9_CUSTZ</td>\n",
       "      <td>1707.477017</td>\n",
       "      <td>1716.515438</td>\n",
       "      <td>2023-24</td>\n",
       "    </tr>\n",
       "    <tr>\n",
       "      <th>1400</th>\n",
       "      <td>2023-06-18</td>\n",
       "      <td>PRDCT9_CUSTZ</td>\n",
       "      <td>1711.383024</td>\n",
       "      <td>1724.327452</td>\n",
       "      <td>2023-25</td>\n",
       "    </tr>\n",
       "    <tr>\n",
       "      <th>1401</th>\n",
       "      <td>2023-06-25</td>\n",
       "      <td>PRDCT9_CUSTZ</td>\n",
       "      <td>1706.134672</td>\n",
       "      <td>1713.830747</td>\n",
       "      <td>2023-26</td>\n",
       "    </tr>\n",
       "    <tr>\n",
       "      <th>1402</th>\n",
       "      <td>2023-07-02</td>\n",
       "      <td>PRDCT9_CUSTZ</td>\n",
       "      <td>1697.227958</td>\n",
       "      <td>1696.017319</td>\n",
       "      <td>2023-27</td>\n",
       "    </tr>\n",
       "    <tr>\n",
       "      <th>1403</th>\n",
       "      <td>2023-07-09</td>\n",
       "      <td>PRDCT9_CUSTZ</td>\n",
       "      <td>1691.331825</td>\n",
       "      <td>1684.225053</td>\n",
       "      <td>2023-28</td>\n",
       "    </tr>\n",
       "  </tbody>\n",
       "</table>\n",
       "<p>1404 rows × 5 columns</p>\n",
       "</div>"
      ],
      "text/plain": [
       "           date timeseries_key  Ensemble_Predicted  Prophet_Predicted  calweek\n",
       "0    2023-04-16   PRDCT1_CUSTA          543.809171         539.394042  2023-16\n",
       "1    2023-04-23   PRDCT1_CUSTA          543.730819         539.376779  2023-17\n",
       "2    2023-04-30   PRDCT1_CUSTA          542.584414         537.079366  2023-18\n",
       "3    2023-05-07   PRDCT1_CUSTA          540.741381         533.393453  2023-19\n",
       "4    2023-05-14   PRDCT1_CUSTA          539.504239         530.919164  2023-20\n",
       "...         ...            ...                 ...                ...      ...\n",
       "1399 2023-06-11   PRDCT9_CUSTZ         1707.477017        1716.515438  2023-24\n",
       "1400 2023-06-18   PRDCT9_CUSTZ         1711.383024        1724.327452  2023-25\n",
       "1401 2023-06-25   PRDCT9_CUSTZ         1706.134672        1713.830747  2023-26\n",
       "1402 2023-07-02   PRDCT9_CUSTZ         1697.227958        1696.017319  2023-27\n",
       "1403 2023-07-09   PRDCT9_CUSTZ         1691.331825        1684.225053  2023-28\n",
       "\n",
       "[1404 rows x 5 columns]"
      ]
     },
     "execution_count": 19,
     "metadata": {},
     "output_type": "execute_result"
    }
   ],
   "source": [
    "results_df"
   ]
  },
  {
   "cell_type": "code",
   "execution_count": 20,
   "id": "974a3450",
   "metadata": {},
   "outputs": [
    {
     "data": {
      "text/html": [
       "<div>\n",
       "<style scoped>\n",
       "    .dataframe tbody tr th:only-of-type {\n",
       "        vertical-align: middle;\n",
       "    }\n",
       "\n",
       "    .dataframe tbody tr th {\n",
       "        vertical-align: top;\n",
       "    }\n",
       "\n",
       "    .dataframe thead th {\n",
       "        text-align: right;\n",
       "    }\n",
       "</style>\n",
       "<table border=\"1\" class=\"dataframe\">\n",
       "  <thead>\n",
       "    <tr style=\"text-align: right;\">\n",
       "      <th></th>\n",
       "      <th>date</th>\n",
       "      <th>timeseries_key</th>\n",
       "      <th>Ensemble_Predicted</th>\n",
       "      <th>Prophet_Predicted</th>\n",
       "      <th>calweek</th>\n",
       "      <th>Cluster/Country/Region</th>\n",
       "      <th>SubCluster</th>\n",
       "      <th>brand</th>\n",
       "      <th>dc</th>\n",
       "    </tr>\n",
       "  </thead>\n",
       "  <tbody>\n",
       "    <tr>\n",
       "      <th>0</th>\n",
       "      <td>2023-04-16</td>\n",
       "      <td>PRDCT1_CUSTA</td>\n",
       "      <td>543.809171</td>\n",
       "      <td>539.394042</td>\n",
       "      <td>2023-16</td>\n",
       "      <td>US</td>\n",
       "      <td>SC1</td>\n",
       "      <td>BRANDA</td>\n",
       "      <td>DC1</td>\n",
       "    </tr>\n",
       "    <tr>\n",
       "      <th>1</th>\n",
       "      <td>2023-04-23</td>\n",
       "      <td>PRDCT1_CUSTA</td>\n",
       "      <td>543.730819</td>\n",
       "      <td>539.376779</td>\n",
       "      <td>2023-17</td>\n",
       "      <td>US</td>\n",
       "      <td>SC1</td>\n",
       "      <td>BRANDA</td>\n",
       "      <td>DC1</td>\n",
       "    </tr>\n",
       "    <tr>\n",
       "      <th>2</th>\n",
       "      <td>2023-04-30</td>\n",
       "      <td>PRDCT1_CUSTA</td>\n",
       "      <td>542.584414</td>\n",
       "      <td>537.079366</td>\n",
       "      <td>2023-18</td>\n",
       "      <td>US</td>\n",
       "      <td>SC1</td>\n",
       "      <td>BRANDA</td>\n",
       "      <td>DC1</td>\n",
       "    </tr>\n",
       "    <tr>\n",
       "      <th>3</th>\n",
       "      <td>2023-05-07</td>\n",
       "      <td>PRDCT1_CUSTA</td>\n",
       "      <td>540.741381</td>\n",
       "      <td>533.393453</td>\n",
       "      <td>2023-19</td>\n",
       "      <td>US</td>\n",
       "      <td>SC1</td>\n",
       "      <td>BRANDA</td>\n",
       "      <td>DC1</td>\n",
       "    </tr>\n",
       "    <tr>\n",
       "      <th>4</th>\n",
       "      <td>2023-05-14</td>\n",
       "      <td>PRDCT1_CUSTA</td>\n",
       "      <td>539.504239</td>\n",
       "      <td>530.919164</td>\n",
       "      <td>2023-20</td>\n",
       "      <td>US</td>\n",
       "      <td>SC1</td>\n",
       "      <td>BRANDA</td>\n",
       "      <td>DC1</td>\n",
       "    </tr>\n",
       "    <tr>\n",
       "      <th>...</th>\n",
       "      <td>...</td>\n",
       "      <td>...</td>\n",
       "      <td>...</td>\n",
       "      <td>...</td>\n",
       "      <td>...</td>\n",
       "      <td>...</td>\n",
       "      <td>...</td>\n",
       "      <td>...</td>\n",
       "      <td>...</td>\n",
       "    </tr>\n",
       "    <tr>\n",
       "      <th>1399</th>\n",
       "      <td>2023-06-11</td>\n",
       "      <td>PRDCT9_CUSTZ</td>\n",
       "      <td>1707.477017</td>\n",
       "      <td>1716.515438</td>\n",
       "      <td>2023-24</td>\n",
       "      <td>US</td>\n",
       "      <td>SC2</td>\n",
       "      <td>BRANDC</td>\n",
       "      <td>DC4</td>\n",
       "    </tr>\n",
       "    <tr>\n",
       "      <th>1400</th>\n",
       "      <td>2023-06-18</td>\n",
       "      <td>PRDCT9_CUSTZ</td>\n",
       "      <td>1711.383024</td>\n",
       "      <td>1724.327452</td>\n",
       "      <td>2023-25</td>\n",
       "      <td>US</td>\n",
       "      <td>SC2</td>\n",
       "      <td>BRANDC</td>\n",
       "      <td>DC4</td>\n",
       "    </tr>\n",
       "    <tr>\n",
       "      <th>1401</th>\n",
       "      <td>2023-06-25</td>\n",
       "      <td>PRDCT9_CUSTZ</td>\n",
       "      <td>1706.134672</td>\n",
       "      <td>1713.830747</td>\n",
       "      <td>2023-26</td>\n",
       "      <td>US</td>\n",
       "      <td>SC2</td>\n",
       "      <td>BRANDC</td>\n",
       "      <td>DC4</td>\n",
       "    </tr>\n",
       "    <tr>\n",
       "      <th>1402</th>\n",
       "      <td>2023-07-02</td>\n",
       "      <td>PRDCT9_CUSTZ</td>\n",
       "      <td>1697.227958</td>\n",
       "      <td>1696.017319</td>\n",
       "      <td>2023-27</td>\n",
       "      <td>US</td>\n",
       "      <td>SC2</td>\n",
       "      <td>BRANDC</td>\n",
       "      <td>DC4</td>\n",
       "    </tr>\n",
       "    <tr>\n",
       "      <th>1403</th>\n",
       "      <td>2023-07-09</td>\n",
       "      <td>PRDCT9_CUSTZ</td>\n",
       "      <td>1691.331825</td>\n",
       "      <td>1684.225053</td>\n",
       "      <td>2023-28</td>\n",
       "      <td>US</td>\n",
       "      <td>SC2</td>\n",
       "      <td>BRANDC</td>\n",
       "      <td>DC4</td>\n",
       "    </tr>\n",
       "  </tbody>\n",
       "</table>\n",
       "<p>1404 rows × 9 columns</p>\n",
       "</div>"
      ],
      "text/plain": [
       "           date timeseries_key  Ensemble_Predicted  Prophet_Predicted   \n",
       "0    2023-04-16   PRDCT1_CUSTA          543.809171         539.394042  \\\n",
       "1    2023-04-23   PRDCT1_CUSTA          543.730819         539.376779   \n",
       "2    2023-04-30   PRDCT1_CUSTA          542.584414         537.079366   \n",
       "3    2023-05-07   PRDCT1_CUSTA          540.741381         533.393453   \n",
       "4    2023-05-14   PRDCT1_CUSTA          539.504239         530.919164   \n",
       "...         ...            ...                 ...                ...   \n",
       "1399 2023-06-11   PRDCT9_CUSTZ         1707.477017        1716.515438   \n",
       "1400 2023-06-18   PRDCT9_CUSTZ         1711.383024        1724.327452   \n",
       "1401 2023-06-25   PRDCT9_CUSTZ         1706.134672        1713.830747   \n",
       "1402 2023-07-02   PRDCT9_CUSTZ         1697.227958        1696.017319   \n",
       "1403 2023-07-09   PRDCT9_CUSTZ         1691.331825        1684.225053   \n",
       "\n",
       "      calweek Cluster/Country/Region SubCluster   brand   dc  \n",
       "0     2023-16                     US        SC1  BRANDA  DC1  \n",
       "1     2023-17                     US        SC1  BRANDA  DC1  \n",
       "2     2023-18                     US        SC1  BRANDA  DC1  \n",
       "3     2023-19                     US        SC1  BRANDA  DC1  \n",
       "4     2023-20                     US        SC1  BRANDA  DC1  \n",
       "...       ...                    ...        ...     ...  ...  \n",
       "1399  2023-24                     US        SC2  BRANDC  DC4  \n",
       "1400  2023-25                     US        SC2  BRANDC  DC4  \n",
       "1401  2023-26                     US        SC2  BRANDC  DC4  \n",
       "1402  2023-27                     US        SC2  BRANDC  DC4  \n",
       "1403  2023-28                     US        SC2  BRANDC  DC4  \n",
       "\n",
       "[1404 rows x 9 columns]"
      ]
     },
     "execution_count": 20,
     "metadata": {},
     "output_type": "execute_result"
    }
   ],
   "source": [
    "merged_df = pd.merge(results_df, combined_df, on='timeseries_key')\n",
    "merged_df.drop_duplicates(subset=['date', 'timeseries_key'], inplace=True)\n",
    "merged_df.reset_index(drop=True, inplace=True)\n",
    "merged_df"
   ]
  }
 ],
 "metadata": {
  "kernelspec": {
   "display_name": "Python 3 (ipykernel)",
   "language": "python",
   "name": "python3"
  },
  "language_info": {
   "codemirror_mode": {
    "name": "ipython",
    "version": 3
   },
   "file_extension": ".py",
   "mimetype": "text/x-python",
   "name": "python",
   "nbconvert_exporter": "python",
   "pygments_lexer": "ipython3",
   "version": "3.10.1"
  }
 },
 "nbformat": 4,
 "nbformat_minor": 5
}
