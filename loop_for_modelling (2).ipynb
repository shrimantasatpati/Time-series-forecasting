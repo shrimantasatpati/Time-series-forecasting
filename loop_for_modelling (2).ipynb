{
 "cells": [
  {
   "cell_type": "code",
   "execution_count": 116,
   "id": "7b693b68",
   "metadata": {},
   "outputs": [],
   "source": [
    "import pandas as pd\n",
    "import numpy as np\n",
    "import matplotlib.pyplot as plt\n",
    "from statsmodels.tsa.arima.model import ARIMA\n",
    "from statsmodels.tsa.statespace.sarimax import SARIMAX\n",
    "from statsmodels.tsa.holtwinters import ExponentialSmoothing\n",
    "from prophet import Prophet\n",
    "from sklearn.metrics import mean_absolute_error, mean_squared_error"
   ]
  },
  {
   "cell_type": "code",
   "execution_count": 117,
   "id": "356b28b0",
   "metadata": {},
   "outputs": [],
   "source": [
    "import warnings\n",
    "\n",
    "warnings.filterwarnings(\"ignore\")"
   ]
  },
  {
   "cell_type": "code",
   "execution_count": 118,
   "id": "6069703f",
   "metadata": {},
   "outputs": [],
   "source": [
    "df = pd.read_csv(\"train.csv\", encoding=\"utf-8\")"
   ]
  },
  {
   "cell_type": "code",
   "execution_count": 119,
   "id": "62b4c64b",
   "metadata": {},
   "outputs": [
    {
     "data": {
      "text/html": [
       "<div>\n",
       "<style scoped>\n",
       "    .dataframe tbody tr th:only-of-type {\n",
       "        vertical-align: middle;\n",
       "    }\n",
       "\n",
       "    .dataframe tbody tr th {\n",
       "        vertical-align: top;\n",
       "    }\n",
       "\n",
       "    .dataframe thead th {\n",
       "        text-align: right;\n",
       "    }\n",
       "</style>\n",
       "<table border=\"1\" class=\"dataframe\">\n",
       "  <thead>\n",
       "    <tr style=\"text-align: right;\">\n",
       "      <th></th>\n",
       "      <th>Cluster/Country/Region</th>\n",
       "      <th>SubCluster</th>\n",
       "      <th>calweek</th>\n",
       "      <th>brand</th>\n",
       "      <th>dc</th>\n",
       "      <th>product_code</th>\n",
       "      <th>customer_code</th>\n",
       "      <th>Quantity</th>\n",
       "    </tr>\n",
       "  </thead>\n",
       "  <tbody>\n",
       "    <tr>\n",
       "      <th>0</th>\n",
       "      <td>US</td>\n",
       "      <td>SC1</td>\n",
       "      <td>202001</td>\n",
       "      <td>BRANDA</td>\n",
       "      <td>DC1</td>\n",
       "      <td>PRDCT1</td>\n",
       "      <td>CUSTA</td>\n",
       "      <td>537</td>\n",
       "    </tr>\n",
       "    <tr>\n",
       "      <th>1</th>\n",
       "      <td>US</td>\n",
       "      <td>SC1</td>\n",
       "      <td>202002</td>\n",
       "      <td>BRANDA</td>\n",
       "      <td>DC1</td>\n",
       "      <td>PRDCT1</td>\n",
       "      <td>CUSTA</td>\n",
       "      <td>544</td>\n",
       "    </tr>\n",
       "    <tr>\n",
       "      <th>2</th>\n",
       "      <td>US</td>\n",
       "      <td>SC1</td>\n",
       "      <td>202003</td>\n",
       "      <td>BRANDA</td>\n",
       "      <td>DC1</td>\n",
       "      <td>PRDCT1</td>\n",
       "      <td>CUSTA</td>\n",
       "      <td>574</td>\n",
       "    </tr>\n",
       "    <tr>\n",
       "      <th>3</th>\n",
       "      <td>US</td>\n",
       "      <td>SC1</td>\n",
       "      <td>202004</td>\n",
       "      <td>BRANDA</td>\n",
       "      <td>DC1</td>\n",
       "      <td>PRDCT1</td>\n",
       "      <td>CUSTA</td>\n",
       "      <td>523</td>\n",
       "    </tr>\n",
       "    <tr>\n",
       "      <th>4</th>\n",
       "      <td>US</td>\n",
       "      <td>SC1</td>\n",
       "      <td>202005</td>\n",
       "      <td>BRANDA</td>\n",
       "      <td>DC1</td>\n",
       "      <td>PRDCT1</td>\n",
       "      <td>CUSTA</td>\n",
       "      <td>571</td>\n",
       "    </tr>\n",
       "    <tr>\n",
       "      <th>...</th>\n",
       "      <td>...</td>\n",
       "      <td>...</td>\n",
       "      <td>...</td>\n",
       "      <td>...</td>\n",
       "      <td>...</td>\n",
       "      <td>...</td>\n",
       "      <td>...</td>\n",
       "      <td>...</td>\n",
       "    </tr>\n",
       "    <tr>\n",
       "      <th>18463</th>\n",
       "      <td>US</td>\n",
       "      <td>SC2</td>\n",
       "      <td>202311</td>\n",
       "      <td>BRANDC</td>\n",
       "      <td>DC4</td>\n",
       "      <td>PRDCT9</td>\n",
       "      <td>CUSTZ</td>\n",
       "      <td>1753</td>\n",
       "    </tr>\n",
       "    <tr>\n",
       "      <th>18464</th>\n",
       "      <td>US</td>\n",
       "      <td>SC2</td>\n",
       "      <td>202312</td>\n",
       "      <td>BRANDC</td>\n",
       "      <td>DC4</td>\n",
       "      <td>PRDCT9</td>\n",
       "      <td>CUSTZ</td>\n",
       "      <td>1752</td>\n",
       "    </tr>\n",
       "    <tr>\n",
       "      <th>18465</th>\n",
       "      <td>US</td>\n",
       "      <td>SC2</td>\n",
       "      <td>202313</td>\n",
       "      <td>BRANDC</td>\n",
       "      <td>DC4</td>\n",
       "      <td>PRDCT9</td>\n",
       "      <td>CUSTZ</td>\n",
       "      <td>1673</td>\n",
       "    </tr>\n",
       "    <tr>\n",
       "      <th>18466</th>\n",
       "      <td>US</td>\n",
       "      <td>SC2</td>\n",
       "      <td>202314</td>\n",
       "      <td>BRANDC</td>\n",
       "      <td>DC4</td>\n",
       "      <td>PRDCT9</td>\n",
       "      <td>CUSTZ</td>\n",
       "      <td>1752</td>\n",
       "    </tr>\n",
       "    <tr>\n",
       "      <th>18467</th>\n",
       "      <td>US</td>\n",
       "      <td>SC2</td>\n",
       "      <td>202315</td>\n",
       "      <td>BRANDC</td>\n",
       "      <td>DC4</td>\n",
       "      <td>PRDCT9</td>\n",
       "      <td>CUSTZ</td>\n",
       "      <td>1642</td>\n",
       "    </tr>\n",
       "  </tbody>\n",
       "</table>\n",
       "<p>18468 rows × 8 columns</p>\n",
       "</div>"
      ],
      "text/plain": [
       "      Cluster/Country/Region SubCluster  calweek   brand   dc product_code   \n",
       "0                         US        SC1   202001  BRANDA  DC1       PRDCT1  \\\n",
       "1                         US        SC1   202002  BRANDA  DC1       PRDCT1   \n",
       "2                         US        SC1   202003  BRANDA  DC1       PRDCT1   \n",
       "3                         US        SC1   202004  BRANDA  DC1       PRDCT1   \n",
       "4                         US        SC1   202005  BRANDA  DC1       PRDCT1   \n",
       "...                      ...        ...      ...     ...  ...          ...   \n",
       "18463                     US        SC2   202311  BRANDC  DC4       PRDCT9   \n",
       "18464                     US        SC2   202312  BRANDC  DC4       PRDCT9   \n",
       "18465                     US        SC2   202313  BRANDC  DC4       PRDCT9   \n",
       "18466                     US        SC2   202314  BRANDC  DC4       PRDCT9   \n",
       "18467                     US        SC2   202315  BRANDC  DC4       PRDCT9   \n",
       "\n",
       "      customer_code  Quantity  \n",
       "0             CUSTA       537  \n",
       "1             CUSTA       544  \n",
       "2             CUSTA       574  \n",
       "3             CUSTA       523  \n",
       "4             CUSTA       571  \n",
       "...             ...       ...  \n",
       "18463         CUSTZ      1753  \n",
       "18464         CUSTZ      1752  \n",
       "18465         CUSTZ      1673  \n",
       "18466         CUSTZ      1752  \n",
       "18467         CUSTZ      1642  \n",
       "\n",
       "[18468 rows x 8 columns]"
      ]
     },
     "execution_count": 119,
     "metadata": {},
     "output_type": "execute_result"
    }
   ],
   "source": [
    "df"
   ]
  },
  {
   "cell_type": "code",
   "execution_count": 120,
   "id": "e89c235b",
   "metadata": {},
   "outputs": [
    {
     "data": {
      "text/plain": [
       "Index(['Cluster/Country/Region', 'SubCluster', 'calweek', 'brand', 'dc',\n",
       "       'product_code', 'customer_code', 'Quantity'],\n",
       "      dtype='object')"
      ]
     },
     "execution_count": 120,
     "metadata": {},
     "output_type": "execute_result"
    }
   ],
   "source": [
    "df.columns"
   ]
  },
  {
   "cell_type": "code",
   "execution_count": 121,
   "id": "4c9cf242",
   "metadata": {},
   "outputs": [],
   "source": [
    "df['timeseries_key'] = df['product_code'] + '_' + df['customer_code']"
   ]
  },
  {
   "cell_type": "code",
   "execution_count": 122,
   "id": "62aaf001",
   "metadata": {},
   "outputs": [
    {
     "data": {
      "text/html": [
       "<div>\n",
       "<style scoped>\n",
       "    .dataframe tbody tr th:only-of-type {\n",
       "        vertical-align: middle;\n",
       "    }\n",
       "\n",
       "    .dataframe tbody tr th {\n",
       "        vertical-align: top;\n",
       "    }\n",
       "\n",
       "    .dataframe thead th {\n",
       "        text-align: right;\n",
       "    }\n",
       "</style>\n",
       "<table border=\"1\" class=\"dataframe\">\n",
       "  <thead>\n",
       "    <tr style=\"text-align: right;\">\n",
       "      <th></th>\n",
       "      <th>Cluster/Country/Region</th>\n",
       "      <th>SubCluster</th>\n",
       "      <th>calweek</th>\n",
       "      <th>brand</th>\n",
       "      <th>dc</th>\n",
       "      <th>product_code</th>\n",
       "      <th>customer_code</th>\n",
       "      <th>Quantity</th>\n",
       "      <th>timeseries_key</th>\n",
       "    </tr>\n",
       "  </thead>\n",
       "  <tbody>\n",
       "    <tr>\n",
       "      <th>0</th>\n",
       "      <td>US</td>\n",
       "      <td>SC1</td>\n",
       "      <td>202001</td>\n",
       "      <td>BRANDA</td>\n",
       "      <td>DC1</td>\n",
       "      <td>PRDCT1</td>\n",
       "      <td>CUSTA</td>\n",
       "      <td>537</td>\n",
       "      <td>PRDCT1_CUSTA</td>\n",
       "    </tr>\n",
       "    <tr>\n",
       "      <th>1</th>\n",
       "      <td>US</td>\n",
       "      <td>SC1</td>\n",
       "      <td>202002</td>\n",
       "      <td>BRANDA</td>\n",
       "      <td>DC1</td>\n",
       "      <td>PRDCT1</td>\n",
       "      <td>CUSTA</td>\n",
       "      <td>544</td>\n",
       "      <td>PRDCT1_CUSTA</td>\n",
       "    </tr>\n",
       "    <tr>\n",
       "      <th>2</th>\n",
       "      <td>US</td>\n",
       "      <td>SC1</td>\n",
       "      <td>202003</td>\n",
       "      <td>BRANDA</td>\n",
       "      <td>DC1</td>\n",
       "      <td>PRDCT1</td>\n",
       "      <td>CUSTA</td>\n",
       "      <td>574</td>\n",
       "      <td>PRDCT1_CUSTA</td>\n",
       "    </tr>\n",
       "    <tr>\n",
       "      <th>3</th>\n",
       "      <td>US</td>\n",
       "      <td>SC1</td>\n",
       "      <td>202004</td>\n",
       "      <td>BRANDA</td>\n",
       "      <td>DC1</td>\n",
       "      <td>PRDCT1</td>\n",
       "      <td>CUSTA</td>\n",
       "      <td>523</td>\n",
       "      <td>PRDCT1_CUSTA</td>\n",
       "    </tr>\n",
       "    <tr>\n",
       "      <th>4</th>\n",
       "      <td>US</td>\n",
       "      <td>SC1</td>\n",
       "      <td>202005</td>\n",
       "      <td>BRANDA</td>\n",
       "      <td>DC1</td>\n",
       "      <td>PRDCT1</td>\n",
       "      <td>CUSTA</td>\n",
       "      <td>571</td>\n",
       "      <td>PRDCT1_CUSTA</td>\n",
       "    </tr>\n",
       "    <tr>\n",
       "      <th>...</th>\n",
       "      <td>...</td>\n",
       "      <td>...</td>\n",
       "      <td>...</td>\n",
       "      <td>...</td>\n",
       "      <td>...</td>\n",
       "      <td>...</td>\n",
       "      <td>...</td>\n",
       "      <td>...</td>\n",
       "      <td>...</td>\n",
       "    </tr>\n",
       "    <tr>\n",
       "      <th>18463</th>\n",
       "      <td>US</td>\n",
       "      <td>SC2</td>\n",
       "      <td>202311</td>\n",
       "      <td>BRANDC</td>\n",
       "      <td>DC4</td>\n",
       "      <td>PRDCT9</td>\n",
       "      <td>CUSTZ</td>\n",
       "      <td>1753</td>\n",
       "      <td>PRDCT9_CUSTZ</td>\n",
       "    </tr>\n",
       "    <tr>\n",
       "      <th>18464</th>\n",
       "      <td>US</td>\n",
       "      <td>SC2</td>\n",
       "      <td>202312</td>\n",
       "      <td>BRANDC</td>\n",
       "      <td>DC4</td>\n",
       "      <td>PRDCT9</td>\n",
       "      <td>CUSTZ</td>\n",
       "      <td>1752</td>\n",
       "      <td>PRDCT9_CUSTZ</td>\n",
       "    </tr>\n",
       "    <tr>\n",
       "      <th>18465</th>\n",
       "      <td>US</td>\n",
       "      <td>SC2</td>\n",
       "      <td>202313</td>\n",
       "      <td>BRANDC</td>\n",
       "      <td>DC4</td>\n",
       "      <td>PRDCT9</td>\n",
       "      <td>CUSTZ</td>\n",
       "      <td>1673</td>\n",
       "      <td>PRDCT9_CUSTZ</td>\n",
       "    </tr>\n",
       "    <tr>\n",
       "      <th>18466</th>\n",
       "      <td>US</td>\n",
       "      <td>SC2</td>\n",
       "      <td>202314</td>\n",
       "      <td>BRANDC</td>\n",
       "      <td>DC4</td>\n",
       "      <td>PRDCT9</td>\n",
       "      <td>CUSTZ</td>\n",
       "      <td>1752</td>\n",
       "      <td>PRDCT9_CUSTZ</td>\n",
       "    </tr>\n",
       "    <tr>\n",
       "      <th>18467</th>\n",
       "      <td>US</td>\n",
       "      <td>SC2</td>\n",
       "      <td>202315</td>\n",
       "      <td>BRANDC</td>\n",
       "      <td>DC4</td>\n",
       "      <td>PRDCT9</td>\n",
       "      <td>CUSTZ</td>\n",
       "      <td>1642</td>\n",
       "      <td>PRDCT9_CUSTZ</td>\n",
       "    </tr>\n",
       "  </tbody>\n",
       "</table>\n",
       "<p>18468 rows × 9 columns</p>\n",
       "</div>"
      ],
      "text/plain": [
       "      Cluster/Country/Region SubCluster  calweek   brand   dc product_code   \n",
       "0                         US        SC1   202001  BRANDA  DC1       PRDCT1  \\\n",
       "1                         US        SC1   202002  BRANDA  DC1       PRDCT1   \n",
       "2                         US        SC1   202003  BRANDA  DC1       PRDCT1   \n",
       "3                         US        SC1   202004  BRANDA  DC1       PRDCT1   \n",
       "4                         US        SC1   202005  BRANDA  DC1       PRDCT1   \n",
       "...                      ...        ...      ...     ...  ...          ...   \n",
       "18463                     US        SC2   202311  BRANDC  DC4       PRDCT9   \n",
       "18464                     US        SC2   202312  BRANDC  DC4       PRDCT9   \n",
       "18465                     US        SC2   202313  BRANDC  DC4       PRDCT9   \n",
       "18466                     US        SC2   202314  BRANDC  DC4       PRDCT9   \n",
       "18467                     US        SC2   202315  BRANDC  DC4       PRDCT9   \n",
       "\n",
       "      customer_code  Quantity timeseries_key  \n",
       "0             CUSTA       537   PRDCT1_CUSTA  \n",
       "1             CUSTA       544   PRDCT1_CUSTA  \n",
       "2             CUSTA       574   PRDCT1_CUSTA  \n",
       "3             CUSTA       523   PRDCT1_CUSTA  \n",
       "4             CUSTA       571   PRDCT1_CUSTA  \n",
       "...             ...       ...            ...  \n",
       "18463         CUSTZ      1753   PRDCT9_CUSTZ  \n",
       "18464         CUSTZ      1752   PRDCT9_CUSTZ  \n",
       "18465         CUSTZ      1673   PRDCT9_CUSTZ  \n",
       "18466         CUSTZ      1752   PRDCT9_CUSTZ  \n",
       "18467         CUSTZ      1642   PRDCT9_CUSTZ  \n",
       "\n",
       "[18468 rows x 9 columns]"
      ]
     },
     "execution_count": 122,
     "metadata": {},
     "output_type": "execute_result"
    }
   ],
   "source": [
    "df"
   ]
  },
  {
   "cell_type": "code",
   "execution_count": 141,
   "id": "a8f22258",
   "metadata": {},
   "outputs": [
    {
     "data": {
      "text/plain": [
       "timeseries_key\n",
       "PRDCT1_CUSTA    171\n",
       "PRDCT3_CUSTM    171\n",
       "PRDCT5_CUSTL    171\n",
       "PRDCT5_CUSTK    171\n",
       "PRDCT4_CUSTZ    171\n",
       "               ... \n",
       "PRDCT6_CUSTC    171\n",
       "PRDCT6_CUSTB    171\n",
       "PRDCT6_CUSTA    171\n",
       "PRDCT5_CUSTF    171\n",
       "PRDCT9_CUSTZ    171\n",
       "Name: count, Length: 108, dtype: int64"
      ]
     },
     "execution_count": 141,
     "metadata": {},
     "output_type": "execute_result"
    }
   ],
   "source": [
    "df['timeseries_key'].value_counts()"
   ]
  },
  {
   "cell_type": "code",
   "execution_count": 123,
   "id": "641ab309",
   "metadata": {},
   "outputs": [],
   "source": [
    "df1 = df.drop(['Cluster/Country/Region', 'SubCluster', 'brand', 'dc'], axis = 1)"
   ]
  },
  {
   "cell_type": "code",
   "execution_count": 124,
   "id": "c17960bf",
   "metadata": {},
   "outputs": [
    {
     "data": {
      "text/html": [
       "<div>\n",
       "<style scoped>\n",
       "    .dataframe tbody tr th:only-of-type {\n",
       "        vertical-align: middle;\n",
       "    }\n",
       "\n",
       "    .dataframe tbody tr th {\n",
       "        vertical-align: top;\n",
       "    }\n",
       "\n",
       "    .dataframe thead th {\n",
       "        text-align: right;\n",
       "    }\n",
       "</style>\n",
       "<table border=\"1\" class=\"dataframe\">\n",
       "  <thead>\n",
       "    <tr style=\"text-align: right;\">\n",
       "      <th></th>\n",
       "      <th>calweek</th>\n",
       "      <th>product_code</th>\n",
       "      <th>customer_code</th>\n",
       "      <th>Quantity</th>\n",
       "      <th>timeseries_key</th>\n",
       "    </tr>\n",
       "  </thead>\n",
       "  <tbody>\n",
       "    <tr>\n",
       "      <th>0</th>\n",
       "      <td>202001</td>\n",
       "      <td>PRDCT1</td>\n",
       "      <td>CUSTA</td>\n",
       "      <td>537</td>\n",
       "      <td>PRDCT1_CUSTA</td>\n",
       "    </tr>\n",
       "    <tr>\n",
       "      <th>1</th>\n",
       "      <td>202002</td>\n",
       "      <td>PRDCT1</td>\n",
       "      <td>CUSTA</td>\n",
       "      <td>544</td>\n",
       "      <td>PRDCT1_CUSTA</td>\n",
       "    </tr>\n",
       "    <tr>\n",
       "      <th>2</th>\n",
       "      <td>202003</td>\n",
       "      <td>PRDCT1</td>\n",
       "      <td>CUSTA</td>\n",
       "      <td>574</td>\n",
       "      <td>PRDCT1_CUSTA</td>\n",
       "    </tr>\n",
       "    <tr>\n",
       "      <th>3</th>\n",
       "      <td>202004</td>\n",
       "      <td>PRDCT1</td>\n",
       "      <td>CUSTA</td>\n",
       "      <td>523</td>\n",
       "      <td>PRDCT1_CUSTA</td>\n",
       "    </tr>\n",
       "    <tr>\n",
       "      <th>4</th>\n",
       "      <td>202005</td>\n",
       "      <td>PRDCT1</td>\n",
       "      <td>CUSTA</td>\n",
       "      <td>571</td>\n",
       "      <td>PRDCT1_CUSTA</td>\n",
       "    </tr>\n",
       "    <tr>\n",
       "      <th>...</th>\n",
       "      <td>...</td>\n",
       "      <td>...</td>\n",
       "      <td>...</td>\n",
       "      <td>...</td>\n",
       "      <td>...</td>\n",
       "    </tr>\n",
       "    <tr>\n",
       "      <th>18463</th>\n",
       "      <td>202311</td>\n",
       "      <td>PRDCT9</td>\n",
       "      <td>CUSTZ</td>\n",
       "      <td>1753</td>\n",
       "      <td>PRDCT9_CUSTZ</td>\n",
       "    </tr>\n",
       "    <tr>\n",
       "      <th>18464</th>\n",
       "      <td>202312</td>\n",
       "      <td>PRDCT9</td>\n",
       "      <td>CUSTZ</td>\n",
       "      <td>1752</td>\n",
       "      <td>PRDCT9_CUSTZ</td>\n",
       "    </tr>\n",
       "    <tr>\n",
       "      <th>18465</th>\n",
       "      <td>202313</td>\n",
       "      <td>PRDCT9</td>\n",
       "      <td>CUSTZ</td>\n",
       "      <td>1673</td>\n",
       "      <td>PRDCT9_CUSTZ</td>\n",
       "    </tr>\n",
       "    <tr>\n",
       "      <th>18466</th>\n",
       "      <td>202314</td>\n",
       "      <td>PRDCT9</td>\n",
       "      <td>CUSTZ</td>\n",
       "      <td>1752</td>\n",
       "      <td>PRDCT9_CUSTZ</td>\n",
       "    </tr>\n",
       "    <tr>\n",
       "      <th>18467</th>\n",
       "      <td>202315</td>\n",
       "      <td>PRDCT9</td>\n",
       "      <td>CUSTZ</td>\n",
       "      <td>1642</td>\n",
       "      <td>PRDCT9_CUSTZ</td>\n",
       "    </tr>\n",
       "  </tbody>\n",
       "</table>\n",
       "<p>18468 rows × 5 columns</p>\n",
       "</div>"
      ],
      "text/plain": [
       "       calweek product_code customer_code  Quantity timeseries_key\n",
       "0       202001       PRDCT1         CUSTA       537   PRDCT1_CUSTA\n",
       "1       202002       PRDCT1         CUSTA       544   PRDCT1_CUSTA\n",
       "2       202003       PRDCT1         CUSTA       574   PRDCT1_CUSTA\n",
       "3       202004       PRDCT1         CUSTA       523   PRDCT1_CUSTA\n",
       "4       202005       PRDCT1         CUSTA       571   PRDCT1_CUSTA\n",
       "...        ...          ...           ...       ...            ...\n",
       "18463   202311       PRDCT9         CUSTZ      1753   PRDCT9_CUSTZ\n",
       "18464   202312       PRDCT9         CUSTZ      1752   PRDCT9_CUSTZ\n",
       "18465   202313       PRDCT9         CUSTZ      1673   PRDCT9_CUSTZ\n",
       "18466   202314       PRDCT9         CUSTZ      1752   PRDCT9_CUSTZ\n",
       "18467   202315       PRDCT9         CUSTZ      1642   PRDCT9_CUSTZ\n",
       "\n",
       "[18468 rows x 5 columns]"
      ]
     },
     "execution_count": 124,
     "metadata": {},
     "output_type": "execute_result"
    }
   ],
   "source": [
    "df1"
   ]
  },
  {
   "cell_type": "code",
   "execution_count": 125,
   "id": "f6bd7c29",
   "metadata": {},
   "outputs": [],
   "source": [
    "df1['timeseries_key'] = df['product_code'] + '_' + df['customer_code']"
   ]
  },
  {
   "cell_type": "code",
   "execution_count": null,
   "id": "6e32c731",
   "metadata": {},
   "outputs": [],
   "source": []
  },
  {
   "cell_type": "code",
   "execution_count": 126,
   "id": "ed57bf08",
   "metadata": {},
   "outputs": [
    {
     "data": {
      "text/plain": [
       "array(['PRDCT1_CUSTA', 'PRDCT1_CUSTB', 'PRDCT1_CUSTC', 'PRDCT1_CUSTD',\n",
       "       'PRDCT1_CUSTE', 'PRDCT1_CUSTF', 'PRDCT2_CUSTA', 'PRDCT2_CUSTB',\n",
       "       'PRDCT2_CUSTC', 'PRDCT2_CUSTD', 'PRDCT2_CUSTE', 'PRDCT2_CUSTF',\n",
       "       'PRDCT3_CUSTA', 'PRDCT3_CUSTB', 'PRDCT3_CUSTC', 'PRDCT3_CUSTD',\n",
       "       'PRDCT3_CUSTE', 'PRDCT3_CUSTF', 'PRDCT4_CUSTA', 'PRDCT4_CUSTB',\n",
       "       'PRDCT4_CUSTC', 'PRDCT4_CUSTD', 'PRDCT4_CUSTE', 'PRDCT4_CUSTF',\n",
       "       'PRDCT5_CUSTA', 'PRDCT5_CUSTB', 'PRDCT5_CUSTC', 'PRDCT5_CUSTD',\n",
       "       'PRDCT5_CUSTE', 'PRDCT5_CUSTF', 'PRDCT6_CUSTA', 'PRDCT6_CUSTB',\n",
       "       'PRDCT6_CUSTC', 'PRDCT6_CUSTD', 'PRDCT6_CUSTE', 'PRDCT6_CUSTF',\n",
       "       'PRDCT7_CUSTA', 'PRDCT7_CUSTB', 'PRDCT7_CUSTC', 'PRDCT7_CUSTD',\n",
       "       'PRDCT7_CUSTE', 'PRDCT7_CUSTF', 'PRDCT8_CUSTA', 'PRDCT8_CUSTB',\n",
       "       'PRDCT8_CUSTC', 'PRDCT8_CUSTD', 'PRDCT8_CUSTE', 'PRDCT8_CUSTF',\n",
       "       'PRDCT9_CUSTA', 'PRDCT9_CUSTB', 'PRDCT9_CUSTC', 'PRDCT9_CUSTD',\n",
       "       'PRDCT9_CUSTE', 'PRDCT9_CUSTF', 'PRDCT1_CUSTK', 'PRDCT1_CUSTL',\n",
       "       'PRDCT1_CUSTM', 'PRDCT1_CUSTX', 'PRDCT1_CUSTY', 'PRDCT1_CUSTZ',\n",
       "       'PRDCT2_CUSTK', 'PRDCT2_CUSTL', 'PRDCT2_CUSTM', 'PRDCT2_CUSTX',\n",
       "       'PRDCT2_CUSTY', 'PRDCT2_CUSTZ', 'PRDCT3_CUSTK', 'PRDCT3_CUSTL',\n",
       "       'PRDCT3_CUSTM', 'PRDCT3_CUSTX', 'PRDCT3_CUSTY', 'PRDCT3_CUSTZ',\n",
       "       'PRDCT4_CUSTK', 'PRDCT4_CUSTL', 'PRDCT4_CUSTM', 'PRDCT4_CUSTX',\n",
       "       'PRDCT4_CUSTY', 'PRDCT4_CUSTZ', 'PRDCT5_CUSTK', 'PRDCT5_CUSTL',\n",
       "       'PRDCT5_CUSTM', 'PRDCT5_CUSTX', 'PRDCT5_CUSTY', 'PRDCT5_CUSTZ',\n",
       "       'PRDCT6_CUSTK', 'PRDCT6_CUSTL', 'PRDCT6_CUSTM', 'PRDCT6_CUSTX',\n",
       "       'PRDCT6_CUSTY', 'PRDCT6_CUSTZ', 'PRDCT7_CUSTK', 'PRDCT7_CUSTL',\n",
       "       'PRDCT7_CUSTM', 'PRDCT7_CUSTX', 'PRDCT7_CUSTY', 'PRDCT7_CUSTZ',\n",
       "       'PRDCT8_CUSTK', 'PRDCT8_CUSTL', 'PRDCT8_CUSTM', 'PRDCT8_CUSTX',\n",
       "       'PRDCT8_CUSTY', 'PRDCT8_CUSTZ', 'PRDCT9_CUSTK', 'PRDCT9_CUSTL',\n",
       "       'PRDCT9_CUSTM', 'PRDCT9_CUSTX', 'PRDCT9_CUSTY', 'PRDCT9_CUSTZ'],\n",
       "      dtype=object)"
      ]
     },
     "execution_count": 126,
     "metadata": {},
     "output_type": "execute_result"
    }
   ],
   "source": [
    "df1['timeseries_key'].unique()"
   ]
  },
  {
   "cell_type": "code",
   "execution_count": 127,
   "id": "2d307ce3",
   "metadata": {},
   "outputs": [],
   "source": [
    "timeseries_key_values= ['PRDCT1_CUSTA', 'PRDCT1_CUSTB', 'PRDCT1_CUSTC', 'PRDCT1_CUSTD',\n",
    "       'PRDCT1_CUSTE', 'PRDCT1_CUSTF', 'PRDCT2_CUSTA', 'PRDCT2_CUSTB',\n",
    "       'PRDCT2_CUSTC', 'PRDCT2_CUSTD', 'PRDCT2_CUSTE', 'PRDCT2_CUSTF',\n",
    "       'PRDCT3_CUSTA', 'PRDCT3_CUSTB', 'PRDCT3_CUSTC', 'PRDCT3_CUSTD',\n",
    "       'PRDCT3_CUSTE', 'PRDCT3_CUSTF', 'PRDCT4_CUSTA', 'PRDCT4_CUSTB',\n",
    "       'PRDCT4_CUSTC', 'PRDCT4_CUSTD', 'PRDCT4_CUSTE', 'PRDCT4_CUSTF',\n",
    "       'PRDCT5_CUSTA', 'PRDCT5_CUSTB', 'PRDCT5_CUSTC', 'PRDCT5_CUSTD',\n",
    "       'PRDCT5_CUSTE', 'PRDCT5_CUSTF', 'PRDCT6_CUSTA', 'PRDCT6_CUSTB',\n",
    "       'PRDCT6_CUSTC', 'PRDCT6_CUSTD', 'PRDCT6_CUSTE', 'PRDCT6_CUSTF',\n",
    "       'PRDCT7_CUSTA', 'PRDCT7_CUSTB', 'PRDCT7_CUSTC', 'PRDCT7_CUSTD',\n",
    "       'PRDCT7_CUSTE', 'PRDCT7_CUSTF', 'PRDCT8_CUSTA', 'PRDCT8_CUSTB',\n",
    "       'PRDCT8_CUSTC', 'PRDCT8_CUSTD', 'PRDCT8_CUSTE', 'PRDCT8_CUSTF',\n",
    "       'PRDCT9_CUSTA', 'PRDCT9_CUSTB', 'PRDCT9_CUSTC', 'PRDCT9_CUSTD',\n",
    "       'PRDCT9_CUSTE', 'PRDCT9_CUSTF', 'PRDCT1_CUSTK', 'PRDCT1_CUSTL',\n",
    "       'PRDCT1_CUSTM', 'PRDCT1_CUSTX', 'PRDCT1_CUSTY', 'PRDCT1_CUSTZ',\n",
    "       'PRDCT2_CUSTK', 'PRDCT2_CUSTL', 'PRDCT2_CUSTM', 'PRDCT2_CUSTX',\n",
    "       'PRDCT2_CUSTY', 'PRDCT2_CUSTZ', 'PRDCT3_CUSTK', 'PRDCT3_CUSTL',\n",
    "       'PRDCT3_CUSTM', 'PRDCT3_CUSTX', 'PRDCT3_CUSTY', 'PRDCT3_CUSTZ',\n",
    "       'PRDCT4_CUSTK', 'PRDCT4_CUSTL', 'PRDCT4_CUSTM', 'PRDCT4_CUSTX',\n",
    "       'PRDCT4_CUSTY', 'PRDCT4_CUSTZ', 'PRDCT5_CUSTK', 'PRDCT5_CUSTL',\n",
    "       'PRDCT5_CUSTM', 'PRDCT5_CUSTX', 'PRDCT5_CUSTY', 'PRDCT5_CUSTZ',\n",
    "       'PRDCT6_CUSTK', 'PRDCT6_CUSTL', 'PRDCT6_CUSTM', 'PRDCT6_CUSTX',\n",
    "       'PRDCT6_CUSTY', 'PRDCT6_CUSTZ', 'PRDCT7_CUSTK', 'PRDCT7_CUSTL',\n",
    "       'PRDCT7_CUSTM', 'PRDCT7_CUSTX', 'PRDCT7_CUSTY', 'PRDCT7_CUSTZ',\n",
    "       'PRDCT8_CUSTK', 'PRDCT8_CUSTL', 'PRDCT8_CUSTM', 'PRDCT8_CUSTX',\n",
    "       'PRDCT8_CUSTY', 'PRDCT8_CUSTZ', 'PRDCT9_CUSTK', 'PRDCT9_CUSTL',\n",
    "       'PRDCT9_CUSTM', 'PRDCT9_CUSTX', 'PRDCT9_CUSTY', 'PRDCT9_CUSTZ']"
   ]
  },
  {
   "cell_type": "code",
   "execution_count": 128,
   "id": "5e997c85",
   "metadata": {},
   "outputs": [],
   "source": [
    "# ARIMA model\n",
    "def arima_forecast(train, test):\n",
    "    model = ARIMA(train, order=(1, 0, 0))  # ARIMA(p, d, q)\n",
    "    model_fit = model.fit()\n",
    "    forecast = model_fit.forecast(steps=len(test))\n",
    "    return forecast\n",
    "\n",
    "# SARIMA model\n",
    "def sarima_forecast(train, test):\n",
    "    model = SARIMAX(train, order=(1, 0, 0), seasonal_order=(1, 0, 0, 12))  # SARIMA(p, d, q)(P, D, Q, m)\n",
    "    model_fit = model.fit()\n",
    "    forecast = model_fit.forecast(steps=len(test))\n",
    "    return forecast\n",
    "\n",
    "# Holt-Winters model\n",
    "def holt_winters_forecast(train, test):\n",
    "    model = ExponentialSmoothing(train, seasonal_periods=12, trend='add', seasonal='add')\n",
    "    model_fit = model.fit()\n",
    "    forecast = model_fit.forecast(len(test))\n",
    "    return forecast\n",
    "\n",
    "# Facebook Prophet model\n",
    "def prophet_forecast(train, test):\n",
    "    model = Prophet()\n",
    "    model.fit(train)\n",
    "    future = model.make_future_dataframe(periods=len(test), freq='W')\n",
    "    forecast = model.predict(future)\n",
    "    forecast = forecast['yhat'][-len(test):].values\n",
    "    return forecast\n",
    "# Create an empty dataframe to store predicted values and MAPE\n",
    "# results_df = pd.DataFrame(columns=['date', 'TimeSeries_Key' ,'Prophet_Predicted', 'Prophet_MAPE', 'ARIMA_MAPE', 'SARIMA_MAPE',\n",
    "#                                    'HoltWinters_MAPE'])\n",
    "results_df = pd.DataFrame()"
   ]
  },
  {
   "cell_type": "code",
   "execution_count": 129,
   "id": "38ced4e7",
   "metadata": {
    "scrolled": true
   },
   "outputs": [
    {
     "name": "stdout",
     "output_type": "stream",
     "text": [
      "----------RESULT FOR PRDCT1_CUSTA ----------\n"
     ]
    },
    {
     "name": "stderr",
     "output_type": "stream",
     "text": [
      "11:49:41 - cmdstanpy - INFO - Chain [1] start processing\n",
      "11:49:41 - cmdstanpy - INFO - Chain [1] done processing\n"
     ]
    },
    {
     "name": "stdout",
     "output_type": "stream",
     "text": [
      "ARIMA - MAPE: 2.96%\n",
      "SARIMA - MAPE: 3.25%\n",
      "Holt-Winters - MAPE: 3.11%\n",
      "Facebook Prophet - MAPE: 3.04%\n"
     ]
    },
    {
     "name": "stderr",
     "output_type": "stream",
     "text": [
      "11:49:42 - cmdstanpy - INFO - Chain [1] start processing\n",
      "11:49:42 - cmdstanpy - INFO - Chain [1] done processing\n"
     ]
    },
    {
     "name": "stdout",
     "output_type": "stream",
     "text": [
      "[539.39404224 539.37677859 537.07936554 533.3934533  530.91916377\n",
      " 531.7785003  535.69256105 539.91814149 541.07310235 537.48968334\n",
      " 530.5287839  524.01917468 521.98616939]\n",
      "----------RESULT FOR PRDCT1_CUSTB ----------\n"
     ]
    },
    {
     "name": "stderr",
     "output_type": "stream",
     "text": [
      "11:49:43 - cmdstanpy - INFO - Chain [1] start processing\n",
      "11:49:43 - cmdstanpy - INFO - Chain [1] done processing\n"
     ]
    },
    {
     "name": "stdout",
     "output_type": "stream",
     "text": [
      "ARIMA - MAPE: 3.16%\n",
      "SARIMA - MAPE: 3.33%\n",
      "Holt-Winters - MAPE: 3.30%\n",
      "Facebook Prophet - MAPE: 3.29%\n"
     ]
    },
    {
     "name": "stderr",
     "output_type": "stream",
     "text": [
      "11:49:44 - cmdstanpy - INFO - Chain [1] start processing\n",
      "11:49:44 - cmdstanpy - INFO - Chain [1] done processing\n"
     ]
    },
    {
     "name": "stdout",
     "output_type": "stream",
     "text": [
      "[558.27039966 564.72801645 561.01377595 552.86315448 551.15931576\n",
      " 559.36881171 569.56145735 571.35130954 563.07329098 552.650069\n",
      " 548.33170449 550.77495523 554.67158399]\n",
      "----------RESULT FOR PRDCT1_CUSTC ----------\n"
     ]
    },
    {
     "name": "stderr",
     "output_type": "stream",
     "text": [
      "11:49:45 - cmdstanpy - INFO - Chain [1] start processing\n",
      "11:49:45 - cmdstanpy - INFO - Chain [1] done processing\n"
     ]
    },
    {
     "name": "stdout",
     "output_type": "stream",
     "text": [
      "ARIMA - MAPE: 3.44%\n",
      "SARIMA - MAPE: 11.96%\n",
      "Holt-Winters - MAPE: 4.09%\n",
      "Facebook Prophet - MAPE: 4.26%\n"
     ]
    },
    {
     "name": "stderr",
     "output_type": "stream",
     "text": [
      "11:49:46 - cmdstanpy - INFO - Chain [1] start processing\n",
      "11:49:46 - cmdstanpy - INFO - Chain [1] done processing\n"
     ]
    },
    {
     "name": "stdout",
     "output_type": "stream",
     "text": [
      "[562.59794619 562.26243524 564.7571936  564.32422635 554.01535848\n",
      " 537.20086825 527.88045283 536.24780897 555.65038873 567.92750123\n",
      " 562.8112318  549.14849779 544.2826608 ]\n",
      "----------RESULT FOR PRDCT1_CUSTD ----------\n"
     ]
    },
    {
     "name": "stderr",
     "output_type": "stream",
     "text": [
      "11:49:47 - cmdstanpy - INFO - Chain [1] start processing\n",
      "11:49:47 - cmdstanpy - INFO - Chain [1] done processing\n"
     ]
    },
    {
     "name": "stdout",
     "output_type": "stream",
     "text": [
      "ARIMA - MAPE: 4.27%\n",
      "SARIMA - MAPE: 5.30%\n",
      "Holt-Winters - MAPE: 4.35%\n",
      "Facebook Prophet - MAPE: 5.02%\n"
     ]
    },
    {
     "name": "stderr",
     "output_type": "stream",
     "text": [
      "11:49:47 - cmdstanpy - INFO - Chain [1] start processing\n",
      "11:49:48 - cmdstanpy - INFO - Chain [1] done processing\n"
     ]
    },
    {
     "name": "stdout",
     "output_type": "stream",
     "text": [
      "[538.06993836 543.60882278 548.40206459 546.10101397 538.14604297\n",
      " 532.18564626 533.8925603  541.34540562 547.69788046 548.34424481\n",
      " 544.47224859 540.12133017 537.4941201 ]\n",
      "----------RESULT FOR PRDCT1_CUSTE ----------\n"
     ]
    },
    {
     "name": "stderr",
     "output_type": "stream",
     "text": [
      "11:49:49 - cmdstanpy - INFO - Chain [1] start processing\n",
      "11:49:49 - cmdstanpy - INFO - Chain [1] done processing\n"
     ]
    },
    {
     "name": "stdout",
     "output_type": "stream",
     "text": [
      "ARIMA - MAPE: 3.99%\n",
      "SARIMA - MAPE: 4.43%\n",
      "Holt-Winters - MAPE: 4.07%\n",
      "Facebook Prophet - MAPE: 4.12%\n"
     ]
    },
    {
     "name": "stderr",
     "output_type": "stream",
     "text": [
      "11:49:50 - cmdstanpy - INFO - Chain [1] start processing\n",
      "11:49:50 - cmdstanpy - INFO - Chain [1] done processing\n"
     ]
    },
    {
     "name": "stdout",
     "output_type": "stream",
     "text": [
      "[546.53744271 541.73469589 537.76044859 535.33208606 535.65368948\n",
      " 539.55784249 544.75903215 546.30201143 541.74793218 535.24080624\n",
      " 534.08384987 540.29240388 547.11842862]\n",
      "----------RESULT FOR PRDCT1_CUSTF ----------\n"
     ]
    },
    {
     "name": "stderr",
     "output_type": "stream",
     "text": [
      "11:49:51 - cmdstanpy - INFO - Chain [1] start processing\n",
      "11:49:51 - cmdstanpy - INFO - Chain [1] done processing\n"
     ]
    },
    {
     "name": "stdout",
     "output_type": "stream",
     "text": [
      "ARIMA - MAPE: 3.36%\n",
      "SARIMA - MAPE: 12.08%\n",
      "Holt-Winters - MAPE: 3.54%\n",
      "Facebook Prophet - MAPE: 3.51%\n"
     ]
    },
    {
     "name": "stderr",
     "output_type": "stream",
     "text": [
      "11:49:51 - cmdstanpy - INFO - Chain [1] start processing\n",
      "11:49:51 - cmdstanpy - INFO - Chain [1] done processing\n"
     ]
    },
    {
     "name": "stdout",
     "output_type": "stream",
     "text": [
      "[556.7274618  551.75598832 546.29411125 546.14889708 553.87064355\n",
      " 564.87140789 570.24258001 564.55921836 551.42094759 541.07787103\n",
      " 541.92709644 553.51226012 567.15394029]\n",
      "----------RESULT FOR PRDCT2_CUSTA ----------\n"
     ]
    },
    {
     "name": "stderr",
     "output_type": "stream",
     "text": [
      "11:49:53 - cmdstanpy - INFO - Chain [1] start processing\n",
      "11:49:53 - cmdstanpy - INFO - Chain [1] done processing\n"
     ]
    },
    {
     "name": "stdout",
     "output_type": "stream",
     "text": [
      "ARIMA - MAPE: 2.10%\n",
      "SARIMA - MAPE: 2.21%\n",
      "Holt-Winters - MAPE: 2.27%\n",
      "Facebook Prophet - MAPE: 2.28%\n"
     ]
    },
    {
     "name": "stderr",
     "output_type": "stream",
     "text": [
      "11:49:53 - cmdstanpy - INFO - Chain [1] start processing\n",
      "11:49:53 - cmdstanpy - INFO - Chain [1] done processing\n"
     ]
    },
    {
     "name": "stdout",
     "output_type": "stream",
     "text": [
      "[1699.88437632 1695.16786973 1683.11352701 1678.28861089 1690.34960873\n",
      " 1709.99543968 1716.48216561 1700.72815948 1677.68910741 1672.03880536\n",
      " 1691.808481   1719.43952464 1730.36071594]\n",
      "----------RESULT FOR PRDCT2_CUSTB ----------\n"
     ]
    },
    {
     "name": "stderr",
     "output_type": "stream",
     "text": [
      "11:49:54 - cmdstanpy - INFO - Chain [1] start processing\n",
      "11:49:54 - cmdstanpy - INFO - Chain [1] done processing\n"
     ]
    },
    {
     "name": "stdout",
     "output_type": "stream",
     "text": [
      "ARIMA - MAPE: 2.37%\n",
      "SARIMA - MAPE: 2.84%\n",
      "Holt-Winters - MAPE: 2.53%\n",
      "Facebook Prophet - MAPE: 2.47%\n"
     ]
    },
    {
     "name": "stderr",
     "output_type": "stream",
     "text": [
      "11:49:55 - cmdstanpy - INFO - Chain [1] start processing\n",
      "11:49:55 - cmdstanpy - INFO - Chain [1] done processing\n"
     ]
    },
    {
     "name": "stdout",
     "output_type": "stream",
     "text": [
      "[1700.70653151 1698.28921592 1694.45095953 1685.62977729 1676.44821245\n",
      " 1674.84183466 1682.37269228 1691.83711703 1694.75380346 1689.81483631\n",
      " 1683.48325187 1683.51798013 1692.69614966]\n",
      "----------RESULT FOR PRDCT2_CUSTC ----------\n"
     ]
    },
    {
     "name": "stderr",
     "output_type": "stream",
     "text": [
      "11:49:56 - cmdstanpy - INFO - Chain [1] start processing\n",
      "11:49:56 - cmdstanpy - INFO - Chain [1] done processing\n"
     ]
    },
    {
     "name": "stdout",
     "output_type": "stream",
     "text": [
      "ARIMA - MAPE: 1.85%\n",
      "SARIMA - MAPE: 2.86%\n",
      "Holt-Winters - MAPE: 2.75%\n",
      "Facebook Prophet - MAPE: 2.96%\n"
     ]
    },
    {
     "name": "stderr",
     "output_type": "stream",
     "text": [
      "11:49:57 - cmdstanpy - INFO - Chain [1] start processing\n",
      "11:49:57 - cmdstanpy - INFO - Chain [1] done processing\n"
     ]
    },
    {
     "name": "stdout",
     "output_type": "stream",
     "text": [
      "[1703.35158531 1702.17967641 1706.30967867 1712.59291768 1712.439166\n",
      " 1701.64933117 1687.64479983 1683.80994645 1695.45304764 1713.02003865\n",
      " 1721.07773699 1713.61802983 1698.81583252]\n",
      "----------RESULT FOR PRDCT2_CUSTD ----------\n"
     ]
    },
    {
     "name": "stderr",
     "output_type": "stream",
     "text": [
      "11:49:59 - cmdstanpy - INFO - Chain [1] start processing\n",
      "11:49:59 - cmdstanpy - INFO - Chain [1] done processing\n"
     ]
    },
    {
     "name": "stdout",
     "output_type": "stream",
     "text": [
      "ARIMA - MAPE: 1.51%\n",
      "SARIMA - MAPE: 1.47%\n",
      "Holt-Winters - MAPE: 1.62%\n",
      "Facebook Prophet - MAPE: 1.84%\n"
     ]
    },
    {
     "name": "stderr",
     "output_type": "stream",
     "text": [
      "11:50:00 - cmdstanpy - INFO - Chain [1] start processing\n",
      "11:50:00 - cmdstanpy - INFO - Chain [1] done processing\n"
     ]
    },
    {
     "name": "stdout",
     "output_type": "stream",
     "text": [
      "[1682.97180059 1671.64088822 1662.11680506 1664.9843443  1679.81179383\n",
      " 1692.76445855 1690.47044522 1675.14991401 1663.33868735 1669.04705011\n",
      " 1689.90587782 1710.85157916 1719.66414746]\n",
      "----------RESULT FOR PRDCT2_CUSTE ----------\n"
     ]
    },
    {
     "name": "stderr",
     "output_type": "stream",
     "text": [
      "11:50:01 - cmdstanpy - INFO - Chain [1] start processing\n",
      "11:50:01 - cmdstanpy - INFO - Chain [1] done processing\n"
     ]
    },
    {
     "name": "stdout",
     "output_type": "stream",
     "text": [
      "ARIMA - MAPE: 2.02%\n",
      "SARIMA - MAPE: 4.96%\n",
      "Holt-Winters - MAPE: 2.33%\n",
      "Facebook Prophet - MAPE: 2.53%\n"
     ]
    },
    {
     "name": "stderr",
     "output_type": "stream",
     "text": [
      "11:50:01 - cmdstanpy - INFO - Chain [1] start processing\n",
      "11:50:01 - cmdstanpy - INFO - Chain [1] done processing\n"
     ]
    },
    {
     "name": "stdout",
     "output_type": "stream",
     "text": [
      "[1719.80875275 1698.36927449 1693.91262682 1712.26067259 1734.41814274\n",
      " 1739.5115218  1727.10870142 1713.83179328 1711.46614543 1714.50957211\n",
      " 1710.56334807 1697.80463164 1686.82962167]\n",
      "----------RESULT FOR PRDCT2_CUSTF ----------\n"
     ]
    },
    {
     "name": "stderr",
     "output_type": "stream",
     "text": [
      "11:50:03 - cmdstanpy - INFO - Chain [1] start processing\n",
      "11:50:03 - cmdstanpy - INFO - Chain [1] done processing\n"
     ]
    },
    {
     "name": "stdout",
     "output_type": "stream",
     "text": [
      "ARIMA - MAPE: 1.75%\n",
      "SARIMA - MAPE: 2.15%\n",
      "Holt-Winters - MAPE: 1.83%\n",
      "Facebook Prophet - MAPE: 2.05%\n"
     ]
    },
    {
     "name": "stderr",
     "output_type": "stream",
     "text": [
      "11:50:03 - cmdstanpy - INFO - Chain [1] start processing\n",
      "11:50:03 - cmdstanpy - INFO - Chain [1] done processing\n"
     ]
    },
    {
     "name": "stdout",
     "output_type": "stream",
     "text": [
      "[1704.32286262 1701.10676902 1696.11648548 1696.61516637 1706.13882544\n",
      " 1718.50793285 1723.11694215 1715.97760662 1703.93075035 1697.46526971\n",
      " 1700.58424802 1708.59884732 1714.71324251]\n",
      "----------RESULT FOR PRDCT3_CUSTA ----------\n"
     ]
    },
    {
     "name": "stderr",
     "output_type": "stream",
     "text": [
      "11:50:04 - cmdstanpy - INFO - Chain [1] start processing\n",
      "11:50:05 - cmdstanpy - INFO - Chain [1] done processing\n"
     ]
    },
    {
     "name": "stdout",
     "output_type": "stream",
     "text": [
      "ARIMA - MAPE: 2.02%\n",
      "SARIMA - MAPE: 4.23%\n",
      "Holt-Winters - MAPE: 2.21%\n",
      "Facebook Prophet - MAPE: 2.94%\n"
     ]
    },
    {
     "name": "stderr",
     "output_type": "stream",
     "text": [
      "11:50:05 - cmdstanpy - INFO - Chain [1] start processing\n",
      "11:50:05 - cmdstanpy - INFO - Chain [1] done processing\n"
     ]
    },
    {
     "name": "stdout",
     "output_type": "stream",
     "text": [
      "[1004.3339316   983.42516737  965.32077723  966.63109023  983.54149267\n",
      "  997.45993059  997.05664688  989.89957637  990.16136011  998.76172873\n",
      " 1001.56535117  988.26212098  968.05891496]\n",
      "----------RESULT FOR PRDCT3_CUSTB ----------\n"
     ]
    },
    {
     "name": "stderr",
     "output_type": "stream",
     "text": [
      "11:50:06 - cmdstanpy - INFO - Chain [1] start processing\n",
      "11:50:06 - cmdstanpy - INFO - Chain [1] done processing\n"
     ]
    },
    {
     "name": "stdout",
     "output_type": "stream",
     "text": [
      "ARIMA - MAPE: 2.53%\n",
      "SARIMA - MAPE: 4.13%\n",
      "Holt-Winters - MAPE: 3.04%\n",
      "Facebook Prophet - MAPE: 3.61%\n"
     ]
    },
    {
     "name": "stderr",
     "output_type": "stream",
     "text": [
      "11:50:07 - cmdstanpy - INFO - Chain [1] start processing\n",
      "11:50:07 - cmdstanpy - INFO - Chain [1] done processing\n"
     ]
    },
    {
     "name": "stdout",
     "output_type": "stream",
     "text": [
      "[ 989.51597714 1001.67927091 1003.02767298  992.14265859  980.51728716\n",
      "  978.10905793  982.62441157  985.11222416  982.96533074  982.68304588\n",
      "  989.42518205  998.39707559 1000.44794708]\n",
      "----------RESULT FOR PRDCT3_CUSTC ----------\n"
     ]
    },
    {
     "name": "stderr",
     "output_type": "stream",
     "text": [
      "11:50:08 - cmdstanpy - INFO - Chain [1] start processing\n",
      "11:50:08 - cmdstanpy - INFO - Chain [1] done processing\n"
     ]
    },
    {
     "name": "stdout",
     "output_type": "stream",
     "text": [
      "ARIMA - MAPE: 2.66%\n",
      "SARIMA - MAPE: 7.64%\n",
      "Holt-Winters - MAPE: 2.70%\n",
      "Facebook Prophet - MAPE: 2.97%\n"
     ]
    },
    {
     "name": "stderr",
     "output_type": "stream",
     "text": [
      "11:50:09 - cmdstanpy - INFO - Chain [1] start processing\n",
      "11:50:09 - cmdstanpy - INFO - Chain [1] done processing\n"
     ]
    },
    {
     "name": "stdout",
     "output_type": "stream",
     "text": [
      "[ 997.83940025 1007.38974096 1010.07084587 1006.88268237 1005.38200932\n",
      " 1009.78966831 1014.99602317 1012.07211093  999.28211313  985.91694729\n",
      "  984.23446973  997.84096533 1018.21255829]\n",
      "----------RESULT FOR PRDCT3_CUSTD ----------\n"
     ]
    },
    {
     "name": "stderr",
     "output_type": "stream",
     "text": [
      "11:50:10 - cmdstanpy - INFO - Chain [1] start processing\n",
      "11:50:10 - cmdstanpy - INFO - Chain [1] done processing\n"
     ]
    },
    {
     "name": "stdout",
     "output_type": "stream",
     "text": [
      "ARIMA - MAPE: 2.35%\n",
      "SARIMA - MAPE: 3.16%\n",
      "Holt-Winters - MAPE: 2.45%\n",
      "Facebook Prophet - MAPE: 2.44%\n"
     ]
    },
    {
     "name": "stderr",
     "output_type": "stream",
     "text": [
      "11:50:11 - cmdstanpy - INFO - Chain [1] start processing\n",
      "11:50:11 - cmdstanpy - INFO - Chain [1] done processing\n"
     ]
    },
    {
     "name": "stdout",
     "output_type": "stream",
     "text": [
      "[1003.91363055  992.98646879  991.59919753 1003.39290984 1020.65412906\n",
      " 1031.05630952 1028.40478252 1017.48017371 1008.95592135 1009.62700428\n",
      " 1017.01316878 1022.68157048 1020.41800813]\n",
      "----------RESULT FOR PRDCT3_CUSTE ----------\n"
     ]
    },
    {
     "name": "stderr",
     "output_type": "stream",
     "text": [
      "11:50:12 - cmdstanpy - INFO - Chain [1] start processing\n",
      "11:50:12 - cmdstanpy - INFO - Chain [1] done processing\n"
     ]
    },
    {
     "name": "stdout",
     "output_type": "stream",
     "text": [
      "ARIMA - MAPE: 2.54%\n",
      "SARIMA - MAPE: 3.89%\n",
      "Holt-Winters - MAPE: 2.56%\n",
      "Facebook Prophet - MAPE: 2.89%\n"
     ]
    },
    {
     "name": "stderr",
     "output_type": "stream",
     "text": [
      "11:50:13 - cmdstanpy - INFO - Chain [1] start processing\n",
      "11:50:13 - cmdstanpy - INFO - Chain [1] done processing\n"
     ]
    },
    {
     "name": "stdout",
     "output_type": "stream",
     "text": [
      "[1000.8891421   985.33498798  981.87855778  999.72095721 1027.1191742\n",
      " 1041.86890222 1033.06364953 1011.12606859  995.96982497  996.92164203\n",
      " 1005.94939209 1009.64538292 1004.60304282]\n",
      "----------RESULT FOR PRDCT3_CUSTF ----------\n"
     ]
    },
    {
     "name": "stderr",
     "output_type": "stream",
     "text": [
      "11:50:14 - cmdstanpy - INFO - Chain [1] start processing\n",
      "11:50:14 - cmdstanpy - INFO - Chain [1] done processing\n"
     ]
    },
    {
     "name": "stdout",
     "output_type": "stream",
     "text": [
      "ARIMA - MAPE: 2.39%\n",
      "SARIMA - MAPE: 5.61%\n",
      "Holt-Winters - MAPE: 2.53%\n",
      "Facebook Prophet - MAPE: 2.52%\n"
     ]
    },
    {
     "name": "stderr",
     "output_type": "stream",
     "text": [
      "11:50:15 - cmdstanpy - INFO - Chain [1] start processing\n",
      "11:50:15 - cmdstanpy - INFO - Chain [1] done processing\n"
     ]
    },
    {
     "name": "stdout",
     "output_type": "stream",
     "text": [
      "[ 988.40625044  982.53588229  989.29189826 1000.46079206 1003.54822112\n",
      "  993.31087625  975.957376    963.89046703  966.08599356  981.19907039\n",
      "  998.34383158 1005.73737957 1001.15645564]\n",
      "----------RESULT FOR PRDCT4_CUSTA ----------\n"
     ]
    },
    {
     "name": "stderr",
     "output_type": "stream",
     "text": [
      "11:50:16 - cmdstanpy - INFO - Chain [1] start processing\n",
      "11:50:16 - cmdstanpy - INFO - Chain [1] done processing\n"
     ]
    },
    {
     "name": "stdout",
     "output_type": "stream",
     "text": [
      "ARIMA - MAPE: 4.19%\n",
      "SARIMA - MAPE: 5.70%\n",
      "Holt-Winters - MAPE: 4.26%\n",
      "Facebook Prophet - MAPE: 5.01%\n"
     ]
    },
    {
     "name": "stderr",
     "output_type": "stream",
     "text": [
      "11:50:17 - cmdstanpy - INFO - Chain [1] start processing\n",
      "11:50:17 - cmdstanpy - INFO - Chain [1] done processing\n"
     ]
    },
    {
     "name": "stdout",
     "output_type": "stream",
     "text": [
      "[302.28316441 297.73260013 293.91339952 293.77050499 296.3851551\n",
      " 298.59101968 298.94906968 299.24766986 301.74688348 305.51228687\n",
      " 306.49604134 301.88692498 294.16069827]\n",
      "----------RESULT FOR PRDCT4_CUSTB ----------\n"
     ]
    },
    {
     "name": "stderr",
     "output_type": "stream",
     "text": [
      "11:50:18 - cmdstanpy - INFO - Chain [1] start processing\n",
      "11:50:18 - cmdstanpy - INFO - Chain [1] done processing\n"
     ]
    },
    {
     "name": "stdout",
     "output_type": "stream",
     "text": [
      "ARIMA - MAPE: 5.35%\n",
      "SARIMA - MAPE: 5.72%\n",
      "Holt-Winters - MAPE: 5.58%\n",
      "Facebook Prophet - MAPE: 5.87%\n"
     ]
    },
    {
     "name": "stderr",
     "output_type": "stream",
     "text": [
      "11:50:19 - cmdstanpy - INFO - Chain [1] start processing\n",
      "11:50:19 - cmdstanpy - INFO - Chain [1] done processing\n"
     ]
    },
    {
     "name": "stdout",
     "output_type": "stream",
     "text": [
      "[302.2103069  301.33947847 297.71234112 297.19473022 301.57530982\n",
      " 305.94942857 304.56015498 298.00681614 293.04655479 295.18858306\n",
      " 302.7969509  309.28120022 310.2418568 ]\n",
      "----------RESULT FOR PRDCT4_CUSTC ----------\n"
     ]
    },
    {
     "name": "stderr",
     "output_type": "stream",
     "text": [
      "11:50:20 - cmdstanpy - INFO - Chain [1] start processing\n",
      "11:50:20 - cmdstanpy - INFO - Chain [1] done processing\n"
     ]
    },
    {
     "name": "stdout",
     "output_type": "stream",
     "text": [
      "ARIMA - MAPE: 4.93%\n",
      "SARIMA - MAPE: 8.69%\n",
      "Holt-Winters - MAPE: 5.08%\n",
      "Facebook Prophet - MAPE: 5.21%\n"
     ]
    },
    {
     "name": "stderr",
     "output_type": "stream",
     "text": [
      "11:50:21 - cmdstanpy - INFO - Chain [1] start processing\n",
      "11:50:21 - cmdstanpy - INFO - Chain [1] done processing\n"
     ]
    },
    {
     "name": "stdout",
     "output_type": "stream",
     "text": [
      "[303.50784506 303.40995517 298.48919769 291.24710856 285.73210788\n",
      " 285.76189011 292.28520044 301.86098562 308.61800312 308.85946651\n",
      " 304.0628289  299.08434289 297.40427826]\n",
      "----------RESULT FOR PRDCT4_CUSTD ----------\n"
     ]
    },
    {
     "name": "stderr",
     "output_type": "stream",
     "text": [
      "11:50:22 - cmdstanpy - INFO - Chain [1] start processing\n",
      "11:50:22 - cmdstanpy - INFO - Chain [1] done processing\n"
     ]
    },
    {
     "name": "stdout",
     "output_type": "stream",
     "text": [
      "ARIMA - MAPE: 3.81%\n",
      "SARIMA - MAPE: 10.94%\n",
      "Holt-Winters - MAPE: 4.21%\n",
      "Facebook Prophet - MAPE: 3.94%\n"
     ]
    },
    {
     "name": "stderr",
     "output_type": "stream",
     "text": [
      "11:50:23 - cmdstanpy - INFO - Chain [1] start processing\n",
      "11:50:23 - cmdstanpy - INFO - Chain [1] done processing\n"
     ]
    },
    {
     "name": "stdout",
     "output_type": "stream",
     "text": [
      "[300.84682415 303.62357196 300.19733892 291.82133504 285.32415585\n",
      " 286.16661729 292.97345608 299.46901757 301.13413141 298.89534505\n",
      " 296.39264649 295.14222202 293.67148976]\n",
      "----------RESULT FOR PRDCT4_CUSTE ----------\n"
     ]
    },
    {
     "name": "stderr",
     "output_type": "stream",
     "text": [
      "11:50:25 - cmdstanpy - INFO - Chain [1] start processing\n",
      "11:50:25 - cmdstanpy - INFO - Chain [1] done processing\n"
     ]
    },
    {
     "name": "stdout",
     "output_type": "stream",
     "text": [
      "ARIMA - MAPE: 4.47%\n",
      "SARIMA - MAPE: 8.78%\n",
      "Holt-Winters - MAPE: 4.76%\n",
      "Facebook Prophet - MAPE: 4.70%\n"
     ]
    },
    {
     "name": "stderr",
     "output_type": "stream",
     "text": [
      "11:50:26 - cmdstanpy - INFO - Chain [1] start processing\n",
      "11:50:26 - cmdstanpy - INFO - Chain [1] done processing\n"
     ]
    },
    {
     "name": "stdout",
     "output_type": "stream",
     "text": [
      "[302.11756705 309.85784764 314.01168708 310.97615954 304.19257074\n",
      " 301.69761186 307.87554915 318.33999044 324.09928994 320.77352434\n",
      " 312.72794105 307.73068923 308.49209399]\n",
      "----------RESULT FOR PRDCT4_CUSTF ----------\n"
     ]
    },
    {
     "name": "stderr",
     "output_type": "stream",
     "text": [
      "11:50:28 - cmdstanpy - INFO - Chain [1] start processing\n",
      "11:50:29 - cmdstanpy - INFO - Chain [1] done processing\n"
     ]
    },
    {
     "name": "stdout",
     "output_type": "stream",
     "text": [
      "ARIMA - MAPE: 4.31%\n",
      "SARIMA - MAPE: 9.80%\n",
      "Holt-Winters - MAPE: 4.37%\n",
      "Facebook Prophet - MAPE: 5.05%\n"
     ]
    },
    {
     "name": "stderr",
     "output_type": "stream",
     "text": [
      "11:50:29 - cmdstanpy - INFO - Chain [1] start processing\n",
      "11:50:30 - cmdstanpy - INFO - Chain [1] done processing\n"
     ]
    },
    {
     "name": "stdout",
     "output_type": "stream",
     "text": [
      "[306.14075819 313.7536543  310.74193638 301.17123283 295.49184491\n",
      " 299.16907183 307.65084088 312.74995504 312.25995586 311.4467762\n",
      " 315.25532678 321.14570461 321.38532346]\n",
      "----------RESULT FOR PRDCT5_CUSTA ----------\n"
     ]
    },
    {
     "name": "stderr",
     "output_type": "stream",
     "text": [
      "11:50:32 - cmdstanpy - INFO - Chain [1] start processing\n",
      "11:50:32 - cmdstanpy - INFO - Chain [1] done processing\n"
     ]
    },
    {
     "name": "stdout",
     "output_type": "stream",
     "text": [
      "ARIMA - MAPE: 2.25%\n",
      "SARIMA - MAPE: 4.06%\n",
      "Holt-Winters - MAPE: 2.57%\n",
      "Facebook Prophet - MAPE: 2.71%\n"
     ]
    },
    {
     "name": "stderr",
     "output_type": "stream",
     "text": [
      "11:50:33 - cmdstanpy - INFO - Chain [1] start processing\n",
      "11:50:33 - cmdstanpy - INFO - Chain [1] done processing\n"
     ]
    },
    {
     "name": "stdout",
     "output_type": "stream",
     "text": [
      "[1271.85966946 1282.96747514 1283.26886313 1268.87554485 1248.84886284\n",
      " 1237.89528454 1241.4989803  1251.1006679  1255.45483433 1254.35435921\n",
      " 1257.68705894 1270.97656982 1285.74828464]\n",
      "----------RESULT FOR PRDCT5_CUSTB ----------\n"
     ]
    },
    {
     "name": "stderr",
     "output_type": "stream",
     "text": [
      "11:50:35 - cmdstanpy - INFO - Chain [1] start processing\n",
      "11:50:35 - cmdstanpy - INFO - Chain [1] done processing\n"
     ]
    },
    {
     "name": "stdout",
     "output_type": "stream",
     "text": [
      "ARIMA - MAPE: 2.79%\n",
      "SARIMA - MAPE: 2.72%\n",
      "Holt-Winters - MAPE: 2.99%\n",
      "Facebook Prophet - MAPE: 2.84%\n"
     ]
    },
    {
     "name": "stderr",
     "output_type": "stream",
     "text": [
      "11:50:35 - cmdstanpy - INFO - Chain [1] start processing\n",
      "11:50:35 - cmdstanpy - INFO - Chain [1] done processing\n"
     ]
    },
    {
     "name": "stdout",
     "output_type": "stream",
     "text": [
      "[1250.5522676  1265.50577217 1267.53489145 1256.1985918  1246.6844739\n",
      " 1252.70377198 1270.83837901 1284.11700349 1280.19356972 1263.34861454\n",
      " 1247.97521819 1242.85107313 1244.41688492]\n",
      "----------RESULT FOR PRDCT5_CUSTC ----------\n"
     ]
    },
    {
     "name": "stderr",
     "output_type": "stream",
     "text": [
      "11:50:37 - cmdstanpy - INFO - Chain [1] start processing\n",
      "11:50:37 - cmdstanpy - INFO - Chain [1] done processing\n"
     ]
    },
    {
     "name": "stdout",
     "output_type": "stream",
     "text": [
      "ARIMA - MAPE: 2.18%\n",
      "SARIMA - MAPE: 5.73%\n",
      "Holt-Winters - MAPE: 2.36%\n",
      "Facebook Prophet - MAPE: 2.60%\n"
     ]
    },
    {
     "name": "stderr",
     "output_type": "stream",
     "text": [
      "11:50:37 - cmdstanpy - INFO - Chain [1] start processing\n",
      "11:50:37 - cmdstanpy - INFO - Chain [1] done processing\n"
     ]
    },
    {
     "name": "stdout",
     "output_type": "stream",
     "text": [
      "[1226.95841591 1224.91693479 1232.68849368 1243.35949716 1248.20985235\n",
      " 1244.10048    1234.91689219 1227.48421589 1226.91011074 1234.45374979\n",
      " 1247.37543629 1259.94176614 1266.32273997]\n",
      "----------RESULT FOR PRDCT5_CUSTD ----------\n"
     ]
    },
    {
     "name": "stderr",
     "output_type": "stream",
     "text": [
      "11:50:39 - cmdstanpy - INFO - Chain [1] start processing\n",
      "11:50:39 - cmdstanpy - INFO - Chain [1] done processing\n"
     ]
    },
    {
     "name": "stdout",
     "output_type": "stream",
     "text": [
      "ARIMA - MAPE: 2.43%\n",
      "SARIMA - MAPE: 2.77%\n",
      "Holt-Winters - MAPE: 2.67%\n",
      "Facebook Prophet - MAPE: 2.27%\n"
     ]
    },
    {
     "name": "stderr",
     "output_type": "stream",
     "text": [
      "11:50:39 - cmdstanpy - INFO - Chain [1] start processing\n",
      "11:50:39 - cmdstanpy - INFO - Chain [1] done processing\n"
     ]
    },
    {
     "name": "stdout",
     "output_type": "stream",
     "text": [
      "[1234.27535827 1229.32825855 1229.58184121 1233.43893006 1238.76869027\n",
      " 1243.60836373 1246.39887675 1246.82491368 1246.09874508 1245.17874312\n",
      " 1242.54576304 1235.26877607 1223.74494353]\n",
      "----------RESULT FOR PRDCT5_CUSTE ----------\n"
     ]
    },
    {
     "name": "stderr",
     "output_type": "stream",
     "text": [
      "11:50:40 - cmdstanpy - INFO - Chain [1] start processing\n",
      "11:50:40 - cmdstanpy - INFO - Chain [1] done processing\n"
     ]
    },
    {
     "name": "stdout",
     "output_type": "stream",
     "text": [
      "ARIMA - MAPE: 1.71%\n",
      "SARIMA - MAPE: 4.96%\n",
      "Holt-Winters - MAPE: 2.18%\n",
      "Facebook Prophet - MAPE: 1.91%\n"
     ]
    },
    {
     "name": "stderr",
     "output_type": "stream",
     "text": [
      "11:50:41 - cmdstanpy - INFO - Chain [1] start processing\n",
      "11:50:41 - cmdstanpy - INFO - Chain [1] done processing\n"
     ]
    },
    {
     "name": "stdout",
     "output_type": "stream",
     "text": [
      "[1276.86610613 1258.05115112 1231.17707979 1220.17322174 1233.25192081\n",
      " 1255.10577523 1264.50497654 1255.88997891 1241.26222108 1233.58889979\n",
      " 1233.4898491  1233.52048287 1230.99347677]\n",
      "----------RESULT FOR PRDCT5_CUSTF ----------\n"
     ]
    },
    {
     "name": "stderr",
     "output_type": "stream",
     "text": [
      "11:50:42 - cmdstanpy - INFO - Chain [1] start processing\n",
      "11:50:42 - cmdstanpy - INFO - Chain [1] done processing\n"
     ]
    },
    {
     "name": "stdout",
     "output_type": "stream",
     "text": [
      "ARIMA - MAPE: 1.87%\n",
      "SARIMA - MAPE: 3.25%\n",
      "Holt-Winters - MAPE: 1.95%\n",
      "Facebook Prophet - MAPE: 2.24%\n"
     ]
    },
    {
     "name": "stderr",
     "output_type": "stream",
     "text": [
      "11:50:43 - cmdstanpy - INFO - Chain [1] start processing\n",
      "11:50:43 - cmdstanpy - INFO - Chain [1] done processing\n"
     ]
    },
    {
     "name": "stdout",
     "output_type": "stream",
     "text": [
      "[1261.45402386 1261.08828133 1258.41983823 1252.62484765 1243.00542544\n",
      " 1233.61420846 1231.99610876 1240.96851091 1252.93549201 1255.55253178\n",
      " 1244.62325484 1230.13177931 1227.40595874]\n",
      "----------RESULT FOR PRDCT6_CUSTA ----------\n"
     ]
    },
    {
     "name": "stderr",
     "output_type": "stream",
     "text": [
      "11:50:44 - cmdstanpy - INFO - Chain [1] start processing\n",
      "11:50:44 - cmdstanpy - INFO - Chain [1] done processing\n"
     ]
    },
    {
     "name": "stdout",
     "output_type": "stream",
     "text": [
      "ARIMA - MAPE: 1.70%\n",
      "SARIMA - MAPE: 2.48%\n",
      "Holt-Winters - MAPE: 1.83%\n",
      "Facebook Prophet - MAPE: 2.08%\n"
     ]
    },
    {
     "name": "stderr",
     "output_type": "stream",
     "text": [
      "11:50:45 - cmdstanpy - INFO - Chain [1] start processing\n",
      "11:50:45 - cmdstanpy - INFO - Chain [1] done processing\n"
     ]
    },
    {
     "name": "stdout",
     "output_type": "stream",
     "text": [
      "[1872.27560492 1867.44249722 1866.29557309 1870.54914629 1879.2189171\n",
      " 1887.53723284 1889.65723048 1883.64519242 1873.27043152 1864.14347103\n",
      " 1858.64737009 1855.69803378 1855.003518  ]\n",
      "----------RESULT FOR PRDCT6_CUSTB ----------\n"
     ]
    },
    {
     "name": "stderr",
     "output_type": "stream",
     "text": [
      "11:50:46 - cmdstanpy - INFO - Chain [1] start processing\n",
      "11:50:46 - cmdstanpy - INFO - Chain [1] done processing\n"
     ]
    },
    {
     "name": "stdout",
     "output_type": "stream",
     "text": [
      "ARIMA - MAPE: 1.65%\n",
      "SARIMA - MAPE: 2.57%\n",
      "Holt-Winters - MAPE: 2.02%\n",
      "Facebook Prophet - MAPE: 2.50%\n"
     ]
    },
    {
     "name": "stderr",
     "output_type": "stream",
     "text": [
      "11:50:47 - cmdstanpy - INFO - Chain [1] start processing\n",
      "11:50:47 - cmdstanpy - INFO - Chain [1] done processing\n"
     ]
    },
    {
     "name": "stdout",
     "output_type": "stream",
     "text": [
      "[1831.2553821  1817.95441702 1814.76707128 1821.90605481 1832.09254819\n",
      " 1834.69683481 1823.92527184 1805.13679525 1791.84949702 1793.6759856\n",
      " 1806.24596069 1814.76202052 1809.29601258]\n",
      "----------RESULT FOR PRDCT6_CUSTC ----------\n"
     ]
    },
    {
     "name": "stderr",
     "output_type": "stream",
     "text": [
      "11:50:48 - cmdstanpy - INFO - Chain [1] start processing\n",
      "11:50:48 - cmdstanpy - INFO - Chain [1] done processing\n"
     ]
    },
    {
     "name": "stdout",
     "output_type": "stream",
     "text": [
      "ARIMA - MAPE: 1.28%\n",
      "SARIMA - MAPE: 1.26%\n",
      "Holt-Winters - MAPE: 1.71%\n",
      "Facebook Prophet - MAPE: 1.62%\n"
     ]
    },
    {
     "name": "stderr",
     "output_type": "stream",
     "text": [
      "11:50:48 - cmdstanpy - INFO - Chain [1] start processing\n",
      "11:50:48 - cmdstanpy - INFO - Chain [1] done processing\n"
     ]
    },
    {
     "name": "stdout",
     "output_type": "stream",
     "text": [
      "[1847.16544547 1848.84297468 1847.05854047 1842.6258318  1836.00280056\n",
      " 1832.01457237 1838.08874432 1854.66283185 1869.9406233  1869.36327814\n",
      " 1852.20489381 1835.77421505 1839.31454637]\n",
      "----------RESULT FOR PRDCT6_CUSTD ----------\n"
     ]
    },
    {
     "name": "stderr",
     "output_type": "stream",
     "text": [
      "11:50:50 - cmdstanpy - INFO - Chain [1] start processing\n",
      "11:50:50 - cmdstanpy - INFO - Chain [1] done processing\n"
     ]
    },
    {
     "name": "stdout",
     "output_type": "stream",
     "text": [
      "ARIMA - MAPE: 1.72%\n",
      "SARIMA - MAPE: 5.75%\n",
      "Holt-Winters - MAPE: 1.68%\n",
      "Facebook Prophet - MAPE: 2.02%\n"
     ]
    },
    {
     "name": "stderr",
     "output_type": "stream",
     "text": [
      "11:50:50 - cmdstanpy - INFO - Chain [1] start processing\n",
      "11:50:50 - cmdstanpy - INFO - Chain [1] done processing\n"
     ]
    },
    {
     "name": "stdout",
     "output_type": "stream",
     "text": [
      "[1855.38122276 1871.98708332 1886.724431   1898.52794395 1901.48594965\n",
      " 1887.28590209 1856.72544657 1825.64547    1814.09664253 1827.40544038\n",
      " 1849.98850945 1860.46853027 1852.67754551]\n",
      "----------RESULT FOR PRDCT6_CUSTE ----------\n"
     ]
    },
    {
     "name": "stderr",
     "output_type": "stream",
     "text": [
      "11:50:51 - cmdstanpy - INFO - Chain [1] start processing\n",
      "11:50:51 - cmdstanpy - INFO - Chain [1] done processing\n"
     ]
    },
    {
     "name": "stdout",
     "output_type": "stream",
     "text": [
      "ARIMA - MAPE: 1.95%\n",
      "SARIMA - MAPE: 3.01%\n",
      "Holt-Winters - MAPE: 2.29%\n",
      "Facebook Prophet - MAPE: 2.35%\n"
     ]
    },
    {
     "name": "stderr",
     "output_type": "stream",
     "text": [
      "11:50:52 - cmdstanpy - INFO - Chain [1] start processing\n",
      "11:50:52 - cmdstanpy - INFO - Chain [1] done processing\n"
     ]
    },
    {
     "name": "stdout",
     "output_type": "stream",
     "text": [
      "[1843.49868775 1859.49865684 1862.72304951 1845.50914735 1818.0913211\n",
      " 1798.77843544 1796.12341457 1803.39364544 1810.55809191 1817.72254563\n",
      " 1832.7501199  1856.44528764 1875.47985905]\n",
      "----------RESULT FOR PRDCT6_CUSTF ----------\n"
     ]
    },
    {
     "name": "stderr",
     "output_type": "stream",
     "text": [
      "11:50:53 - cmdstanpy - INFO - Chain [1] start processing\n",
      "11:50:53 - cmdstanpy - INFO - Chain [1] done processing\n"
     ]
    },
    {
     "name": "stdout",
     "output_type": "stream",
     "text": [
      "ARIMA - MAPE: 1.59%\n",
      "SARIMA - MAPE: 2.45%\n",
      "Holt-Winters - MAPE: 1.86%\n",
      "Facebook Prophet - MAPE: 1.66%\n"
     ]
    },
    {
     "name": "stderr",
     "output_type": "stream",
     "text": [
      "11:50:54 - cmdstanpy - INFO - Chain [1] start processing\n",
      "11:50:54 - cmdstanpy - INFO - Chain [1] done processing\n"
     ]
    },
    {
     "name": "stdout",
     "output_type": "stream",
     "text": [
      "[1860.90452778 1860.23708619 1843.13142499 1822.36009104 1817.69825196\n",
      " 1834.74300622 1857.88841999 1866.59478409 1857.14109257 1845.4764541\n",
      " 1848.49298685 1865.34200748 1879.23852965]\n",
      "----------RESULT FOR PRDCT7_CUSTA ----------\n"
     ]
    },
    {
     "name": "stderr",
     "output_type": "stream",
     "text": [
      "11:50:55 - cmdstanpy - INFO - Chain [1] start processing\n",
      "11:50:55 - cmdstanpy - INFO - Chain [1] done processing\n"
     ]
    },
    {
     "name": "stdout",
     "output_type": "stream",
     "text": [
      "ARIMA - MAPE: 2.42%\n",
      "SARIMA - MAPE: 5.50%\n",
      "Holt-Winters - MAPE: 2.40%\n",
      "Facebook Prophet - MAPE: 2.40%\n"
     ]
    },
    {
     "name": "stderr",
     "output_type": "stream",
     "text": [
      "11:50:56 - cmdstanpy - INFO - Chain [1] start processing\n",
      "11:50:56 - cmdstanpy - INFO - Chain [1] done processing\n"
     ]
    },
    {
     "name": "stdout",
     "output_type": "stream",
     "text": [
      "[1250.69047376 1234.2646543  1234.72742387 1249.31185641 1262.77533109\n",
      " 1263.9059468  1256.39448221 1252.56656415 1258.46587668 1267.70440803\n",
      " 1270.00559474 1263.37594839 1256.10665724]\n",
      "----------RESULT FOR PRDCT7_CUSTB ----------\n"
     ]
    },
    {
     "name": "stderr",
     "output_type": "stream",
     "text": [
      "11:50:57 - cmdstanpy - INFO - Chain [1] start processing\n",
      "11:50:57 - cmdstanpy - INFO - Chain [1] done processing\n"
     ]
    },
    {
     "name": "stdout",
     "output_type": "stream",
     "text": [
      "ARIMA - MAPE: 2.10%\n",
      "SARIMA - MAPE: 2.95%\n",
      "Holt-Winters - MAPE: 2.17%\n",
      "Facebook Prophet - MAPE: 2.35%\n"
     ]
    },
    {
     "name": "stderr",
     "output_type": "stream",
     "text": [
      "11:50:58 - cmdstanpy - INFO - Chain [1] start processing\n",
      "11:50:58 - cmdstanpy - INFO - Chain [1] done processing\n"
     ]
    },
    {
     "name": "stdout",
     "output_type": "stream",
     "text": [
      "[1251.42247842 1255.57684418 1250.55443885 1243.75868444 1244.84657122\n",
      " 1254.99556799 1266.27000438 1270.73374063 1268.1278259  1264.14261479\n",
      " 1263.10006594 1264.28122651 1264.84892435]\n",
      "----------RESULT FOR PRDCT7_CUSTC ----------\n"
     ]
    },
    {
     "name": "stderr",
     "output_type": "stream",
     "text": [
      "11:50:59 - cmdstanpy - INFO - Chain [1] start processing\n",
      "11:50:59 - cmdstanpy - INFO - Chain [1] done processing\n"
     ]
    },
    {
     "name": "stdout",
     "output_type": "stream",
     "text": [
      "ARIMA - MAPE: 2.23%\n",
      "SARIMA - MAPE: 3.06%\n",
      "Holt-Winters - MAPE: 2.33%\n",
      "Facebook Prophet - MAPE: 2.39%\n"
     ]
    },
    {
     "name": "stderr",
     "output_type": "stream",
     "text": [
      "11:50:59 - cmdstanpy - INFO - Chain [1] start processing\n",
      "11:50:59 - cmdstanpy - INFO - Chain [1] done processing\n"
     ]
    },
    {
     "name": "stdout",
     "output_type": "stream",
     "text": [
      "[1248.73234634 1253.04573353 1254.61036776 1252.36541911 1247.56731654\n",
      " 1243.52353878 1243.83311031 1249.21137119 1255.73915211 1257.60637898\n",
      " 1252.90794535 1246.43376186 1245.30291604]\n",
      "----------RESULT FOR PRDCT7_CUSTD ----------\n"
     ]
    },
    {
     "name": "stderr",
     "output_type": "stream",
     "text": [
      "11:51:01 - cmdstanpy - INFO - Chain [1] start processing\n",
      "11:51:01 - cmdstanpy - INFO - Chain [1] done processing\n"
     ]
    },
    {
     "name": "stdout",
     "output_type": "stream",
     "text": [
      "ARIMA - MAPE: 1.70%\n",
      "SARIMA - MAPE: 2.89%\n",
      "Holt-Winters - MAPE: 1.97%\n",
      "Facebook Prophet - MAPE: 1.78%\n"
     ]
    },
    {
     "name": "stderr",
     "output_type": "stream",
     "text": [
      "11:51:01 - cmdstanpy - INFO - Chain [1] start processing\n",
      "11:51:01 - cmdstanpy - INFO - Chain [1] done processing\n"
     ]
    },
    {
     "name": "stdout",
     "output_type": "stream",
     "text": [
      "[1248.51664486 1251.09712177 1249.6963971  1251.7579393  1263.27706955\n",
      " 1278.95376472 1285.30473387 1274.68590842 1254.33755153 1239.62187001\n",
      " 1238.85368824 1246.59868035 1251.94163554]\n",
      "----------RESULT FOR PRDCT7_CUSTE ----------\n"
     ]
    },
    {
     "name": "stderr",
     "output_type": "stream",
     "text": [
      "11:51:03 - cmdstanpy - INFO - Chain [1] start processing\n",
      "11:51:03 - cmdstanpy - INFO - Chain [1] done processing\n"
     ]
    },
    {
     "name": "stdout",
     "output_type": "stream",
     "text": [
      "ARIMA - MAPE: 2.47%\n",
      "SARIMA - MAPE: 2.64%\n",
      "Holt-Winters - MAPE: 2.52%\n",
      "Facebook Prophet - MAPE: 3.12%\n"
     ]
    },
    {
     "name": "stderr",
     "output_type": "stream",
     "text": [
      "11:51:03 - cmdstanpy - INFO - Chain [1] start processing\n",
      "11:51:03 - cmdstanpy - INFO - Chain [1] done processing\n"
     ]
    },
    {
     "name": "stdout",
     "output_type": "stream",
     "text": [
      "[1242.95533164 1252.19328618 1263.87374535 1267.03944557 1253.18441744\n",
      " 1227.90041073 1210.24991241 1216.47596795 1242.95003852 1267.16557101\n",
      " 1268.00065942 1245.47114592 1219.73019295]\n",
      "----------RESULT FOR PRDCT7_CUSTF ----------\n"
     ]
    },
    {
     "name": "stderr",
     "output_type": "stream",
     "text": [
      "11:51:04 - cmdstanpy - INFO - Chain [1] start processing\n",
      "11:51:04 - cmdstanpy - INFO - Chain [1] done processing\n"
     ]
    },
    {
     "name": "stdout",
     "output_type": "stream",
     "text": [
      "ARIMA - MAPE: 2.00%\n",
      "SARIMA - MAPE: 3.87%\n",
      "Holt-Winters - MAPE: 2.32%\n",
      "Facebook Prophet - MAPE: 2.02%\n"
     ]
    },
    {
     "name": "stderr",
     "output_type": "stream",
     "text": [
      "11:51:05 - cmdstanpy - INFO - Chain [1] start processing\n",
      "11:51:05 - cmdstanpy - INFO - Chain [1] done processing\n"
     ]
    },
    {
     "name": "stdout",
     "output_type": "stream",
     "text": [
      "[1247.60650107 1240.68341317 1234.35044422 1236.21132314 1243.96029571\n",
      " 1247.4569143  1242.45848641 1237.47902087 1243.33961516 1258.0991877\n",
      " 1267.53190935 1262.05372448 1249.17881298]\n",
      "----------RESULT FOR PRDCT8_CUSTA ----------\n"
     ]
    },
    {
     "name": "stderr",
     "output_type": "stream",
     "text": [
      "11:51:06 - cmdstanpy - INFO - Chain [1] start processing\n",
      "11:51:06 - cmdstanpy - INFO - Chain [1] done processing\n"
     ]
    },
    {
     "name": "stdout",
     "output_type": "stream",
     "text": [
      "ARIMA - MAPE: 2.04%\n",
      "SARIMA - MAPE: 2.08%\n",
      "Holt-Winters - MAPE: 2.13%\n",
      "Facebook Prophet - MAPE: 2.23%\n"
     ]
    },
    {
     "name": "stderr",
     "output_type": "stream",
     "text": [
      "11:51:07 - cmdstanpy - INFO - Chain [1] start processing\n",
      "11:51:07 - cmdstanpy - INFO - Chain [1] done processing\n"
     ]
    },
    {
     "name": "stdout",
     "output_type": "stream",
     "text": [
      "[1600.93603494 1612.17542277 1631.86627571 1646.7141459  1646.42395467\n",
      " 1631.99307147 1613.92838159 1602.89921883 1601.83220206 1605.89870014\n",
      " 1608.71698517 1607.8419897  1604.84904529]\n",
      "----------RESULT FOR PRDCT8_CUSTB ----------\n"
     ]
    },
    {
     "name": "stderr",
     "output_type": "stream",
     "text": [
      "11:51:08 - cmdstanpy - INFO - Chain [1] start processing\n",
      "11:51:08 - cmdstanpy - INFO - Chain [1] done processing\n"
     ]
    },
    {
     "name": "stdout",
     "output_type": "stream",
     "text": [
      "ARIMA - MAPE: 2.36%\n",
      "SARIMA - MAPE: 2.36%\n",
      "Holt-Winters - MAPE: 2.27%\n",
      "Facebook Prophet - MAPE: 2.53%\n"
     ]
    },
    {
     "name": "stderr",
     "output_type": "stream",
     "text": [
      "11:51:09 - cmdstanpy - INFO - Chain [1] start processing\n",
      "11:51:09 - cmdstanpy - INFO - Chain [1] done processing\n"
     ]
    },
    {
     "name": "stdout",
     "output_type": "stream",
     "text": [
      "[1606.1586065  1607.55816637 1601.96527445 1593.05283327 1588.35450545\n",
      " 1589.94199454 1592.02344865 1588.90564857 1583.50317522 1585.03152814\n",
      " 1597.51364314 1612.82106801 1617.81118385]\n",
      "----------RESULT FOR PRDCT8_CUSTC ----------\n"
     ]
    },
    {
     "name": "stderr",
     "output_type": "stream",
     "text": [
      "11:51:10 - cmdstanpy - INFO - Chain [1] start processing\n",
      "11:51:10 - cmdstanpy - INFO - Chain [1] done processing\n"
     ]
    },
    {
     "name": "stdout",
     "output_type": "stream",
     "text": [
      "ARIMA - MAPE: 2.22%\n",
      "SARIMA - MAPE: 2.37%\n",
      "Holt-Winters - MAPE: 2.33%\n",
      "Facebook Prophet - MAPE: 2.19%\n"
     ]
    },
    {
     "name": "stderr",
     "output_type": "stream",
     "text": [
      "11:51:11 - cmdstanpy - INFO - Chain [1] start processing\n",
      "11:51:11 - cmdstanpy - INFO - Chain [1] done processing\n"
     ]
    },
    {
     "name": "stdout",
     "output_type": "stream",
     "text": [
      "[1599.24602056 1605.38610382 1601.95149012 1596.72413855 1598.41102663\n",
      " 1606.17161797 1612.44325315 1613.3687601  1612.32378229 1612.92315708\n",
      " 1612.46690665 1605.46693815 1592.36123526]\n",
      "----------RESULT FOR PRDCT8_CUSTD ----------\n"
     ]
    },
    {
     "name": "stderr",
     "output_type": "stream",
     "text": [
      "11:51:12 - cmdstanpy - INFO - Chain [1] start processing\n",
      "11:51:12 - cmdstanpy - INFO - Chain [1] done processing\n"
     ]
    },
    {
     "name": "stdout",
     "output_type": "stream",
     "text": [
      "ARIMA - MAPE: 2.30%\n",
      "SARIMA - MAPE: 6.00%\n",
      "Holt-Winters - MAPE: 2.40%\n",
      "Facebook Prophet - MAPE: 2.67%\n"
     ]
    },
    {
     "name": "stderr",
     "output_type": "stream",
     "text": [
      "11:51:13 - cmdstanpy - INFO - Chain [1] start processing\n",
      "11:51:13 - cmdstanpy - INFO - Chain [1] done processing\n"
     ]
    },
    {
     "name": "stdout",
     "output_type": "stream",
     "text": [
      "[1624.88079747 1612.76298615 1605.8980298  1601.36455559 1593.99332176\n",
      " 1585.01702892 1582.36378116 1590.96127676 1604.68101561 1610.95627981\n",
      " 1604.13543125 1592.24882318 1588.68296075]\n",
      "----------RESULT FOR PRDCT8_CUSTE ----------\n"
     ]
    },
    {
     "name": "stderr",
     "output_type": "stream",
     "text": [
      "11:51:14 - cmdstanpy - INFO - Chain [1] start processing\n",
      "11:51:14 - cmdstanpy - INFO - Chain [1] done processing\n"
     ]
    },
    {
     "name": "stdout",
     "output_type": "stream",
     "text": [
      "ARIMA - MAPE: 1.92%\n",
      "SARIMA - MAPE: 4.05%\n",
      "Holt-Winters - MAPE: 1.96%\n",
      "Facebook Prophet - MAPE: 2.16%\n"
     ]
    },
    {
     "name": "stderr",
     "output_type": "stream",
     "text": [
      "11:51:15 - cmdstanpy - INFO - Chain [1] start processing\n",
      "11:51:15 - cmdstanpy - INFO - Chain [1] done processing\n"
     ]
    },
    {
     "name": "stdout",
     "output_type": "stream",
     "text": [
      "[1588.2396936  1591.22979899 1596.46748715 1595.49936013 1588.37694013\n",
      " 1584.25646599 1591.30468653 1607.06920862 1620.23193822 1622.04117172\n",
      " 1615.00963439 1609.63667154 1613.0668395 ]\n",
      "----------RESULT FOR PRDCT8_CUSTF ----------\n"
     ]
    },
    {
     "name": "stderr",
     "output_type": "stream",
     "text": [
      "11:51:16 - cmdstanpy - INFO - Chain [1] start processing\n",
      "11:51:16 - cmdstanpy - INFO - Chain [1] done processing\n"
     ]
    },
    {
     "name": "stdout",
     "output_type": "stream",
     "text": [
      "ARIMA - MAPE: 1.90%\n",
      "SARIMA - MAPE: 2.03%\n",
      "Holt-Winters - MAPE: 2.26%\n",
      "Facebook Prophet - MAPE: 2.15%\n"
     ]
    },
    {
     "name": "stderr",
     "output_type": "stream",
     "text": [
      "11:51:17 - cmdstanpy - INFO - Chain [1] start processing\n",
      "11:51:17 - cmdstanpy - INFO - Chain [1] done processing\n"
     ]
    },
    {
     "name": "stdout",
     "output_type": "stream",
     "text": [
      "[1622.87657583 1617.77828164 1610.85982878 1609.65249637 1615.68543742\n",
      " 1623.34890424 1624.45784516 1615.04072115 1599.30462281 1587.240489\n",
      " 1586.8966783  1597.33808962 1608.90920532]\n",
      "----------RESULT FOR PRDCT9_CUSTA ----------\n"
     ]
    },
    {
     "name": "stderr",
     "output_type": "stream",
     "text": [
      "11:51:18 - cmdstanpy - INFO - Chain [1] start processing\n",
      "11:51:18 - cmdstanpy - INFO - Chain [1] done processing\n"
     ]
    },
    {
     "name": "stdout",
     "output_type": "stream",
     "text": [
      "ARIMA - MAPE: 6.60%\n",
      "SARIMA - MAPE: 16.56%\n",
      "Holt-Winters - MAPE: 6.99%\n",
      "Facebook Prophet - MAPE: 6.49%\n"
     ]
    },
    {
     "name": "stderr",
     "output_type": "stream",
     "text": [
      "11:51:19 - cmdstanpy - INFO - Chain [1] start processing\n",
      "11:51:19 - cmdstanpy - INFO - Chain [1] done processing\n"
     ]
    },
    {
     "name": "stdout",
     "output_type": "stream",
     "text": [
      "[201.14111952 199.44407252 195.95924961 196.34662171 201.4179676\n",
      " 205.72296189 204.20233338 198.54984671 195.22794187 197.58031918\n",
      " 201.84337932 201.86557483 196.49753042]\n",
      "----------RESULT FOR PRDCT9_CUSTB ----------\n"
     ]
    },
    {
     "name": "stderr",
     "output_type": "stream",
     "text": [
      "11:51:20 - cmdstanpy - INFO - Chain [1] start processing\n",
      "11:51:20 - cmdstanpy - INFO - Chain [1] done processing\n"
     ]
    },
    {
     "name": "stdout",
     "output_type": "stream",
     "text": [
      "ARIMA - MAPE: 5.06%\n",
      "SARIMA - MAPE: 6.14%\n",
      "Holt-Winters - MAPE: 5.25%\n",
      "Facebook Prophet - MAPE: 7.09%\n"
     ]
    },
    {
     "name": "stderr",
     "output_type": "stream",
     "text": [
      "11:51:20 - cmdstanpy - INFO - Chain [1] start processing\n",
      "11:51:20 - cmdstanpy - INFO - Chain [1] done processing\n"
     ]
    },
    {
     "name": "stdout",
     "output_type": "stream",
     "text": [
      "[207.53558866 206.43464157 202.30519834 197.57454132 194.97828146\n",
      " 195.86027532 199.84426374 205.29737633 209.95859693 211.87168053\n",
      " 210.62404632 207.92175794 206.48236783]\n",
      "----------RESULT FOR PRDCT9_CUSTC ----------\n"
     ]
    },
    {
     "name": "stderr",
     "output_type": "stream",
     "text": [
      "11:51:22 - cmdstanpy - INFO - Chain [1] start processing\n",
      "11:51:22 - cmdstanpy - INFO - Chain [1] done processing\n"
     ]
    },
    {
     "name": "stdout",
     "output_type": "stream",
     "text": [
      "ARIMA - MAPE: 5.50%\n",
      "SARIMA - MAPE: 7.69%\n",
      "Holt-Winters - MAPE: 5.38%\n",
      "Facebook Prophet - MAPE: 5.43%\n"
     ]
    },
    {
     "name": "stderr",
     "output_type": "stream",
     "text": [
      "11:51:22 - cmdstanpy - INFO - Chain [1] start processing\n",
      "11:51:22 - cmdstanpy - INFO - Chain [1] done processing\n"
     ]
    },
    {
     "name": "stdout",
     "output_type": "stream",
     "text": [
      "[199.73049143 198.69544862 197.99944156 197.9936958  198.80168298\n",
      " 200.19659653 201.78880111 203.45084888 205.39009725 207.55103488\n",
      " 209.02497722 208.51819122 205.81656137]\n",
      "----------RESULT FOR PRDCT9_CUSTD ----------\n"
     ]
    },
    {
     "name": "stderr",
     "output_type": "stream",
     "text": [
      "11:51:24 - cmdstanpy - INFO - Chain [1] start processing\n",
      "11:51:24 - cmdstanpy - INFO - Chain [1] done processing\n"
     ]
    },
    {
     "name": "stdout",
     "output_type": "stream",
     "text": [
      "ARIMA - MAPE: 5.25%\n",
      "SARIMA - MAPE: 9.03%\n",
      "Holt-Winters - MAPE: 7.39%\n",
      "Facebook Prophet - MAPE: 6.77%\n"
     ]
    },
    {
     "name": "stderr",
     "output_type": "stream",
     "text": [
      "11:51:24 - cmdstanpy - INFO - Chain [1] start processing\n",
      "11:51:24 - cmdstanpy - INFO - Chain [1] done processing\n"
     ]
    },
    {
     "name": "stdout",
     "output_type": "stream",
     "text": [
      "[208.80684426 204.64373404 198.89977873 197.60091887 203.65721456\n",
      " 212.84766877 217.11018497 212.41684758 203.08533942 197.7757389\n",
      " 201.16739984 209.7901122  215.89047043]\n",
      "----------RESULT FOR PRDCT9_CUSTE ----------\n"
     ]
    },
    {
     "name": "stderr",
     "output_type": "stream",
     "text": [
      "11:51:26 - cmdstanpy - INFO - Chain [1] start processing\n",
      "11:51:26 - cmdstanpy - INFO - Chain [1] done processing\n"
     ]
    },
    {
     "name": "stdout",
     "output_type": "stream",
     "text": [
      "ARIMA - MAPE: 6.57%\n",
      "SARIMA - MAPE: 9.01%\n",
      "Holt-Winters - MAPE: 7.54%\n",
      "Facebook Prophet - MAPE: 6.84%\n"
     ]
    },
    {
     "name": "stderr",
     "output_type": "stream",
     "text": [
      "11:51:26 - cmdstanpy - INFO - Chain [1] start processing\n",
      "11:51:26 - cmdstanpy - INFO - Chain [1] done processing\n"
     ]
    },
    {
     "name": "stdout",
     "output_type": "stream",
     "text": [
      "[208.37276651 204.38020575 201.64037002 202.88118313 205.75077938\n",
      " 206.02758586 202.91045202 199.63609121 199.0545828  200.31303486\n",
      " 200.88235968 200.63466765 201.89023942]\n",
      "----------RESULT FOR PRDCT9_CUSTF ----------\n"
     ]
    },
    {
     "name": "stderr",
     "output_type": "stream",
     "text": [
      "11:51:27 - cmdstanpy - INFO - Chain [1] start processing\n",
      "11:51:27 - cmdstanpy - INFO - Chain [1] done processing\n"
     ]
    },
    {
     "name": "stdout",
     "output_type": "stream",
     "text": [
      "ARIMA - MAPE: 6.06%\n",
      "SARIMA - MAPE: 10.71%\n",
      "Holt-Winters - MAPE: 6.01%\n",
      "Facebook Prophet - MAPE: 5.66%\n"
     ]
    },
    {
     "name": "stderr",
     "output_type": "stream",
     "text": [
      "11:51:28 - cmdstanpy - INFO - Chain [1] start processing\n",
      "11:51:28 - cmdstanpy - INFO - Chain [1] done processing\n"
     ]
    },
    {
     "name": "stdout",
     "output_type": "stream",
     "text": [
      "[201.18451975 207.54890233 212.66261961 210.08490859 200.7048301\n",
      " 192.56142017 193.0549574  201.71070166 210.85523895 213.06841332\n",
      " 207.65079937 200.23973136 197.03403873]\n",
      "----------RESULT FOR PRDCT1_CUSTK ----------\n"
     ]
    },
    {
     "name": "stderr",
     "output_type": "stream",
     "text": [
      "11:51:35 - cmdstanpy - INFO - Chain [1] start processing\n",
      "11:51:35 - cmdstanpy - INFO - Chain [1] done processing\n"
     ]
    },
    {
     "name": "stdout",
     "output_type": "stream",
     "text": [
      "ARIMA - MAPE: 2.44%\n",
      "SARIMA - MAPE: 26212.07%\n",
      "Holt-Winters - MAPE: 2.87%\n",
      "Facebook Prophet - MAPE: 2.80%\n"
     ]
    },
    {
     "name": "stderr",
     "output_type": "stream",
     "text": [
      "11:51:35 - cmdstanpy - INFO - Chain [1] start processing\n",
      "11:51:35 - cmdstanpy - INFO - Chain [1] done processing\n"
     ]
    },
    {
     "name": "stdout",
     "output_type": "stream",
     "text": [
      "[1255.65646602 1255.86096318 1257.926566   1257.70330611 1250.9906419\n",
      " 1240.44917378 1235.21526924 1241.08872077 1252.10120574 1255.23747116\n",
      " 1245.12011352 1231.78903504 1230.66515144]\n",
      "----------RESULT FOR PRDCT1_CUSTL ----------\n"
     ]
    },
    {
     "name": "stderr",
     "output_type": "stream",
     "text": [
      "11:51:37 - cmdstanpy - INFO - Chain [1] start processing\n",
      "11:51:37 - cmdstanpy - INFO - Chain [1] done processing\n"
     ]
    },
    {
     "name": "stdout",
     "output_type": "stream",
     "text": [
      "ARIMA - MAPE: 1.99%\n",
      "SARIMA - MAPE: 11.10%\n",
      "Holt-Winters - MAPE: 2.27%\n",
      "Facebook Prophet - MAPE: 2.26%\n"
     ]
    },
    {
     "name": "stderr",
     "output_type": "stream",
     "text": [
      "11:51:37 - cmdstanpy - INFO - Chain [1] start processing\n",
      "11:51:37 - cmdstanpy - INFO - Chain [1] done processing\n"
     ]
    },
    {
     "name": "stdout",
     "output_type": "stream",
     "text": [
      "[1269.66469266 1271.35389368 1264.4156747  1257.23353768 1256.83050653\n",
      " 1260.45416628 1258.18079906 1244.74773647 1227.4741173  1220.44848343\n",
      " 1230.36812113 1249.29030256 1262.38749144]\n",
      "----------RESULT FOR PRDCT1_CUSTM ----------\n"
     ]
    },
    {
     "name": "stderr",
     "output_type": "stream",
     "text": [
      "11:51:38 - cmdstanpy - INFO - Chain [1] start processing\n",
      "11:51:38 - cmdstanpy - INFO - Chain [1] done processing\n"
     ]
    },
    {
     "name": "stdout",
     "output_type": "stream",
     "text": [
      "ARIMA - MAPE: 2.48%\n",
      "SARIMA - MAPE: 3.39%\n",
      "Holt-Winters - MAPE: 4.49%\n",
      "Facebook Prophet - MAPE: 3.27%\n"
     ]
    },
    {
     "name": "stderr",
     "output_type": "stream",
     "text": [
      "11:51:39 - cmdstanpy - INFO - Chain [1] start processing\n",
      "11:51:39 - cmdstanpy - INFO - Chain [1] done processing\n"
     ]
    },
    {
     "name": "stdout",
     "output_type": "stream",
     "text": [
      "[1245.09440681 1236.85501202 1235.73592445 1239.94726401 1243.71688399\n",
      " 1243.75705596 1242.47876244 1244.34585476 1249.5405291  1252.51968665\n",
      " 1247.77187498 1236.69968697 1227.66891494]\n",
      "----------RESULT FOR PRDCT1_CUSTX ----------\n"
     ]
    },
    {
     "name": "stderr",
     "output_type": "stream",
     "text": [
      "11:51:40 - cmdstanpy - INFO - Chain [1] start processing\n",
      "11:51:40 - cmdstanpy - INFO - Chain [1] done processing\n"
     ]
    },
    {
     "name": "stdout",
     "output_type": "stream",
     "text": [
      "ARIMA - MAPE: 2.26%\n",
      "SARIMA - MAPE: 2.11%\n",
      "Holt-Winters - MAPE: 2.21%\n",
      "Facebook Prophet - MAPE: 2.31%\n"
     ]
    },
    {
     "name": "stderr",
     "output_type": "stream",
     "text": [
      "11:51:41 - cmdstanpy - INFO - Chain [1] start processing\n",
      "11:51:41 - cmdstanpy - INFO - Chain [1] done processing\n"
     ]
    },
    {
     "name": "stdout",
     "output_type": "stream",
     "text": [
      "[1237.07147837 1238.23875171 1243.17544441 1248.39465166 1248.26548051\n",
      " 1242.64853556 1237.52432199 1236.98107967 1237.07885573 1230.68611922\n",
      " 1218.13569509 1209.7338272  1215.23633688]\n",
      "----------RESULT FOR PRDCT1_CUSTY ----------\n"
     ]
    },
    {
     "name": "stderr",
     "output_type": "stream",
     "text": [
      "11:51:42 - cmdstanpy - INFO - Chain [1] start processing\n",
      "11:51:42 - cmdstanpy - INFO - Chain [1] done processing\n"
     ]
    },
    {
     "name": "stdout",
     "output_type": "stream",
     "text": [
      "ARIMA - MAPE: 2.38%\n",
      "SARIMA - MAPE: 9.68%\n",
      "Holt-Winters - MAPE: 2.44%\n",
      "Facebook Prophet - MAPE: 2.37%\n"
     ]
    },
    {
     "name": "stderr",
     "output_type": "stream",
     "text": [
      "11:51:43 - cmdstanpy - INFO - Chain [1] start processing\n",
      "11:51:43 - cmdstanpy - INFO - Chain [1] done processing\n"
     ]
    },
    {
     "name": "stdout",
     "output_type": "stream",
     "text": [
      "[1247.86280156 1243.36279857 1236.82143635 1233.75672709 1239.1155088\n",
      " 1250.41354424 1258.40017214 1255.72559364 1244.07809899 1231.76506788\n",
      " 1225.16497632 1224.42100318 1227.40300925]\n",
      "----------RESULT FOR PRDCT1_CUSTZ ----------\n"
     ]
    },
    {
     "name": "stderr",
     "output_type": "stream",
     "text": [
      "11:51:44 - cmdstanpy - INFO - Chain [1] start processing\n",
      "11:51:44 - cmdstanpy - INFO - Chain [1] done processing\n"
     ]
    },
    {
     "name": "stdout",
     "output_type": "stream",
     "text": [
      "ARIMA - MAPE: 2.39%\n",
      "SARIMA - MAPE: 6.02%\n",
      "Holt-Winters - MAPE: 2.57%\n",
      "Facebook Prophet - MAPE: 2.49%\n"
     ]
    },
    {
     "name": "stderr",
     "output_type": "stream",
     "text": [
      "11:51:45 - cmdstanpy - INFO - Chain [1] start processing\n",
      "11:51:45 - cmdstanpy - INFO - Chain [1] done processing\n"
     ]
    },
    {
     "name": "stdout",
     "output_type": "stream",
     "text": [
      "[1244.73476573 1251.01164562 1262.2166345  1268.46098243 1263.20890627\n",
      " 1248.86239989 1234.76359187 1229.26707256 1233.026991   1239.55536155\n",
      " 1242.07793602 1239.61767318 1236.42675764]\n",
      "----------RESULT FOR PRDCT2_CUSTK ----------\n"
     ]
    },
    {
     "name": "stderr",
     "output_type": "stream",
     "text": [
      "11:51:46 - cmdstanpy - INFO - Chain [1] start processing\n",
      "11:51:46 - cmdstanpy - INFO - Chain [1] done processing\n"
     ]
    },
    {
     "name": "stdout",
     "output_type": "stream",
     "text": [
      "ARIMA - MAPE: 2.29%\n",
      "SARIMA - MAPE: 2.36%\n",
      "Holt-Winters - MAPE: 2.72%\n",
      "Facebook Prophet - MAPE: 2.25%\n"
     ]
    },
    {
     "name": "stderr",
     "output_type": "stream",
     "text": [
      "11:51:47 - cmdstanpy - INFO - Chain [1] start processing\n",
      "11:51:47 - cmdstanpy - INFO - Chain [1] done processing\n"
     ]
    },
    {
     "name": "stdout",
     "output_type": "stream",
     "text": [
      "[1600.22685788 1603.30614098 1598.29843597 1590.11422876 1588.83058094\n",
      " 1596.18883853 1602.75900044 1599.50350553 1589.1454671  1583.19906821\n",
      " 1588.56570941 1600.09632163 1607.3552735 ]\n",
      "----------RESULT FOR PRDCT2_CUSTL ----------\n"
     ]
    },
    {
     "name": "stderr",
     "output_type": "stream",
     "text": [
      "11:51:48 - cmdstanpy - INFO - Chain [1] start processing\n",
      "11:51:48 - cmdstanpy - INFO - Chain [1] done processing\n"
     ]
    },
    {
     "name": "stdout",
     "output_type": "stream",
     "text": [
      "ARIMA - MAPE: 2.10%\n",
      "SARIMA - MAPE: 3.99%\n",
      "Holt-Winters - MAPE: 2.36%\n",
      "Facebook Prophet - MAPE: 2.41%\n"
     ]
    },
    {
     "name": "stderr",
     "output_type": "stream",
     "text": [
      "11:51:48 - cmdstanpy - INFO - Chain [1] start processing\n",
      "11:51:48 - cmdstanpy - INFO - Chain [1] done processing\n"
     ]
    },
    {
     "name": "stdout",
     "output_type": "stream",
     "text": [
      "[1591.67138897 1595.17761502 1596.90332532 1591.44928453 1583.13348562\n",
      " 1584.55572155 1602.09155409 1624.42151689 1630.24962721 1610.19484761\n",
      " 1579.31974584 1564.49460291 1578.24309265]\n",
      "----------RESULT FOR PRDCT2_CUSTM ----------\n"
     ]
    },
    {
     "name": "stderr",
     "output_type": "stream",
     "text": [
      "11:51:50 - cmdstanpy - INFO - Chain [1] start processing\n",
      "11:51:50 - cmdstanpy - INFO - Chain [1] done processing\n"
     ]
    },
    {
     "name": "stdout",
     "output_type": "stream",
     "text": [
      "ARIMA - MAPE: 1.87%\n",
      "SARIMA - MAPE: 4.12%\n",
      "Holt-Winters - MAPE: 2.44%\n",
      "Facebook Prophet - MAPE: 2.74%\n"
     ]
    },
    {
     "name": "stderr",
     "output_type": "stream",
     "text": [
      "11:51:50 - cmdstanpy - INFO - Chain [1] start processing\n",
      "11:51:50 - cmdstanpy - INFO - Chain [1] done processing\n"
     ]
    },
    {
     "name": "stdout",
     "output_type": "stream",
     "text": [
      "[1602.15748963 1599.16550077 1595.992908   1597.31842489 1601.93344081\n",
      " 1604.12269382 1600.20017072 1592.26099684 1585.44743435 1582.88984137\n",
      " 1584.11249072 1587.25751605 1591.01324324]\n",
      "----------RESULT FOR PRDCT2_CUSTX ----------\n"
     ]
    },
    {
     "name": "stderr",
     "output_type": "stream",
     "text": [
      "11:51:51 - cmdstanpy - INFO - Chain [1] start processing\n",
      "11:51:51 - cmdstanpy - INFO - Chain [1] done processing\n"
     ]
    },
    {
     "name": "stdout",
     "output_type": "stream",
     "text": [
      "ARIMA - MAPE: 2.15%\n",
      "SARIMA - MAPE: 2.25%\n",
      "Holt-Winters - MAPE: 2.10%\n",
      "Facebook Prophet - MAPE: 2.27%\n"
     ]
    },
    {
     "name": "stderr",
     "output_type": "stream",
     "text": [
      "11:51:52 - cmdstanpy - INFO - Chain [1] start processing\n",
      "11:51:52 - cmdstanpy - INFO - Chain [1] done processing\n"
     ]
    },
    {
     "name": "stdout",
     "output_type": "stream",
     "text": [
      "[1590.74538624 1596.38712086 1597.69199391 1590.73760698 1578.34358761\n",
      " 1569.0699884  1570.00685083 1580.79814687 1594.84724971 1605.54304491\n",
      " 1610.61971916 1611.38077169 1609.78374294]\n",
      "----------RESULT FOR PRDCT2_CUSTY ----------\n"
     ]
    },
    {
     "name": "stderr",
     "output_type": "stream",
     "text": [
      "11:51:53 - cmdstanpy - INFO - Chain [1] start processing\n",
      "11:51:53 - cmdstanpy - INFO - Chain [1] done processing\n"
     ]
    },
    {
     "name": "stdout",
     "output_type": "stream",
     "text": [
      "ARIMA - MAPE: 1.57%\n",
      "SARIMA - MAPE: 1.80%\n",
      "Holt-Winters - MAPE: 1.55%\n",
      "Facebook Prophet - MAPE: 1.70%\n"
     ]
    },
    {
     "name": "stderr",
     "output_type": "stream",
     "text": [
      "11:51:54 - cmdstanpy - INFO - Chain [1] start processing\n",
      "11:51:54 - cmdstanpy - INFO - Chain [1] done processing\n"
     ]
    },
    {
     "name": "stdout",
     "output_type": "stream",
     "text": [
      "[1604.12983712 1602.48314077 1599.73382308 1591.48835711 1585.15465272\n",
      " 1591.5643721  1608.34512806 1618.8125771  1610.88773302 1593.09471003\n",
      " 1586.02377841 1598.0559833  1615.11974838]\n",
      "----------RESULT FOR PRDCT2_CUSTZ ----------\n"
     ]
    },
    {
     "name": "stderr",
     "output_type": "stream",
     "text": [
      "11:51:55 - cmdstanpy - INFO - Chain [1] start processing\n",
      "11:51:55 - cmdstanpy - INFO - Chain [1] done processing\n"
     ]
    },
    {
     "name": "stdout",
     "output_type": "stream",
     "text": [
      "ARIMA - MAPE: 1.77%\n",
      "SARIMA - MAPE: 3.00%\n",
      "Holt-Winters - MAPE: 1.76%\n",
      "Facebook Prophet - MAPE: 1.89%\n"
     ]
    },
    {
     "name": "stderr",
     "output_type": "stream",
     "text": [
      "11:51:55 - cmdstanpy - INFO - Chain [1] start processing\n",
      "11:51:55 - cmdstanpy - INFO - Chain [1] done processing\n"
     ]
    },
    {
     "name": "stdout",
     "output_type": "stream",
     "text": [
      "[1600.67738337 1597.54754568 1589.9815905  1581.49313023 1575.33544976\n",
      " 1573.70345801 1577.92693332 1587.35628611 1598.0704937  1604.67945487\n",
      " 1604.89941243 1601.73498909 1599.69763654]\n",
      "----------RESULT FOR PRDCT3_CUSTK ----------\n"
     ]
    },
    {
     "name": "stderr",
     "output_type": "stream",
     "text": [
      "11:51:57 - cmdstanpy - INFO - Chain [1] start processing\n",
      "11:51:57 - cmdstanpy - INFO - Chain [1] done processing\n"
     ]
    },
    {
     "name": "stdout",
     "output_type": "stream",
     "text": [
      "ARIMA - MAPE: 2.97%\n",
      "SARIMA - MAPE: 7.79%\n",
      "Holt-Winters - MAPE: 2.83%\n",
      "Facebook Prophet - MAPE: 3.10%\n"
     ]
    },
    {
     "name": "stderr",
     "output_type": "stream",
     "text": [
      "11:51:57 - cmdstanpy - INFO - Chain [1] start processing\n",
      "11:51:58 - cmdstanpy - INFO - Chain [1] done processing\n"
     ]
    },
    {
     "name": "stdout",
     "output_type": "stream",
     "text": [
      "[1099.0425704  1089.32096141 1088.02862237 1092.73591629 1097.69984578\n",
      " 1099.68377819 1100.08947106 1102.02839503 1106.47849784 1111.83439976\n",
      " 1116.40576294 1119.94434519 1122.21608366]\n",
      "----------RESULT FOR PRDCT3_CUSTL ----------\n"
     ]
    },
    {
     "name": "stderr",
     "output_type": "stream",
     "text": [
      "11:51:59 - cmdstanpy - INFO - Chain [1] start processing\n",
      "11:51:59 - cmdstanpy - INFO - Chain [1] done processing\n"
     ]
    },
    {
     "name": "stdout",
     "output_type": "stream",
     "text": [
      "ARIMA - MAPE: 2.82%\n",
      "SARIMA - MAPE: 3.66%\n",
      "Holt-Winters - MAPE: 2.89%\n",
      "Facebook Prophet - MAPE: 2.95%\n"
     ]
    },
    {
     "name": "stderr",
     "output_type": "stream",
     "text": [
      "11:51:59 - cmdstanpy - INFO - Chain [1] start processing\n",
      "11:51:59 - cmdstanpy - INFO - Chain [1] done processing\n"
     ]
    },
    {
     "name": "stdout",
     "output_type": "stream",
     "text": [
      "[1103.42325812 1113.21580754 1114.44726836 1103.60972266 1089.89201091\n",
      " 1086.36742416 1095.98773641 1108.04677058 1109.53613615 1098.9882358\n",
      " 1087.62468643 1087.10608813 1097.84927104]\n",
      "----------RESULT FOR PRDCT3_CUSTM ----------\n"
     ]
    },
    {
     "name": "stderr",
     "output_type": "stream",
     "text": [
      "11:52:01 - cmdstanpy - INFO - Chain [1] start processing\n",
      "11:52:01 - cmdstanpy - INFO - Chain [1] done processing\n"
     ]
    },
    {
     "name": "stdout",
     "output_type": "stream",
     "text": [
      "ARIMA - MAPE: 2.52%\n",
      "SARIMA - MAPE: 3.93%\n",
      "Holt-Winters - MAPE: 2.94%\n",
      "Facebook Prophet - MAPE: 2.86%\n"
     ]
    },
    {
     "name": "stderr",
     "output_type": "stream",
     "text": [
      "11:52:01 - cmdstanpy - INFO - Chain [1] start processing\n",
      "11:52:01 - cmdstanpy - INFO - Chain [1] done processing\n"
     ]
    },
    {
     "name": "stdout",
     "output_type": "stream",
     "text": [
      "[1092.03965198 1099.85551023 1106.00770879 1100.87533415 1086.08336738\n",
      " 1075.15295571 1079.18398137 1093.24904354 1100.58787051 1091.47310132\n",
      " 1075.11832703 1069.6792565  1081.01959304]\n",
      "----------RESULT FOR PRDCT3_CUSTX ----------\n"
     ]
    },
    {
     "name": "stderr",
     "output_type": "stream",
     "text": [
      "11:52:02 - cmdstanpy - INFO - Chain [1] start processing\n",
      "11:52:02 - cmdstanpy - INFO - Chain [1] done processing\n"
     ]
    },
    {
     "name": "stdout",
     "output_type": "stream",
     "text": [
      "ARIMA - MAPE: 2.08%\n",
      "SARIMA - MAPE: 4.96%\n",
      "Holt-Winters - MAPE: 2.55%\n",
      "Facebook Prophet - MAPE: 2.54%\n"
     ]
    },
    {
     "name": "stderr",
     "output_type": "stream",
     "text": [
      "11:52:03 - cmdstanpy - INFO - Chain [1] start processing\n",
      "11:52:03 - cmdstanpy - INFO - Chain [1] done processing\n"
     ]
    },
    {
     "name": "stdout",
     "output_type": "stream",
     "text": [
      "[1086.40538168 1083.51224834 1072.4034425  1064.07921221 1066.35058707\n",
      " 1076.43803233 1085.74989941 1089.49507945 1089.71103169 1090.02867715\n",
      " 1090.4351591  1088.47719954 1083.92319921]\n",
      "----------RESULT FOR PRDCT3_CUSTY ----------\n"
     ]
    },
    {
     "name": "stderr",
     "output_type": "stream",
     "text": [
      "11:52:04 - cmdstanpy - INFO - Chain [1] start processing\n",
      "11:52:04 - cmdstanpy - INFO - Chain [1] done processing\n"
     ]
    },
    {
     "name": "stdout",
     "output_type": "stream",
     "text": [
      "ARIMA - MAPE: 2.43%\n",
      "SARIMA - MAPE: 5.82%\n",
      "Holt-Winters - MAPE: 2.45%\n",
      "Facebook Prophet - MAPE: 2.69%\n"
     ]
    },
    {
     "name": "stderr",
     "output_type": "stream",
     "text": [
      "11:52:05 - cmdstanpy - INFO - Chain [1] start processing\n",
      "11:52:05 - cmdstanpy - INFO - Chain [1] done processing\n"
     ]
    },
    {
     "name": "stdout",
     "output_type": "stream",
     "text": [
      "[1102.53033487 1105.02830719 1104.67623293 1100.48768466 1096.03264518\n",
      " 1095.39896155 1098.64977423 1102.19649383 1103.37407421 1103.34347071\n",
      " 1104.69953577 1107.03509481 1106.52941675]\n",
      "----------RESULT FOR PRDCT3_CUSTZ ----------\n"
     ]
    },
    {
     "name": "stderr",
     "output_type": "stream",
     "text": [
      "11:52:06 - cmdstanpy - INFO - Chain [1] start processing\n",
      "11:52:06 - cmdstanpy - INFO - Chain [1] done processing\n"
     ]
    },
    {
     "name": "stdout",
     "output_type": "stream",
     "text": [
      "ARIMA - MAPE: 3.20%\n",
      "SARIMA - MAPE: 3.71%\n",
      "Holt-Winters - MAPE: 3.03%\n",
      "Facebook Prophet - MAPE: 3.56%\n"
     ]
    },
    {
     "name": "stderr",
     "output_type": "stream",
     "text": [
      "11:52:06 - cmdstanpy - INFO - Chain [1] start processing\n",
      "11:52:06 - cmdstanpy - INFO - Chain [1] done processing\n"
     ]
    },
    {
     "name": "stdout",
     "output_type": "stream",
     "text": [
      "[1108.68522723 1114.64150594 1112.21682352 1102.05193012 1094.64735389\n",
      " 1098.04293535 1107.86949912 1111.51735221 1102.15383736 1087.0486229\n",
      " 1080.81123776 1090.64780168 1109.22878887]\n",
      "----------RESULT FOR PRDCT4_CUSTK ----------\n"
     ]
    },
    {
     "name": "stderr",
     "output_type": "stream",
     "text": [
      "11:52:07 - cmdstanpy - INFO - Chain [1] start processing\n",
      "11:52:07 - cmdstanpy - INFO - Chain [1] done processing\n"
     ]
    },
    {
     "name": "stdout",
     "output_type": "stream",
     "text": [
      "ARIMA - MAPE: 1.97%\n",
      "SARIMA - MAPE: 2.13%\n",
      "Holt-Winters - MAPE: 2.27%\n",
      "Facebook Prophet - MAPE: 2.14%\n"
     ]
    },
    {
     "name": "stderr",
     "output_type": "stream",
     "text": [
      "11:52:08 - cmdstanpy - INFO - Chain [1] start processing\n",
      "11:52:08 - cmdstanpy - INFO - Chain [1] done processing\n"
     ]
    },
    {
     "name": "stdout",
     "output_type": "stream",
     "text": [
      "[1707.43461192 1717.13208198 1715.59410134 1705.22241465 1699.00498885\n",
      " 1704.25159319 1713.94156957 1716.41349483 1710.90419651 1708.93691605\n",
      " 1719.38229026 1735.83733825 1742.50492832]\n",
      "----------RESULT FOR PRDCT4_CUSTL ----------\n"
     ]
    },
    {
     "name": "stderr",
     "output_type": "stream",
     "text": [
      "11:52:09 - cmdstanpy - INFO - Chain [1] start processing\n",
      "11:52:09 - cmdstanpy - INFO - Chain [1] done processing\n"
     ]
    },
    {
     "name": "stdout",
     "output_type": "stream",
     "text": [
      "ARIMA - MAPE: 1.81%\n",
      "SARIMA - MAPE: 4.25%\n",
      "Holt-Winters - MAPE: 1.90%\n",
      "Facebook Prophet - MAPE: 2.14%\n"
     ]
    },
    {
     "name": "stderr",
     "output_type": "stream",
     "text": [
      "11:52:09 - cmdstanpy - INFO - Chain [1] start processing\n",
      "11:52:10 - cmdstanpy - INFO - Chain [1] done processing\n"
     ]
    },
    {
     "name": "stdout",
     "output_type": "stream",
     "text": [
      "[1690.57449694 1714.97143193 1727.50676792 1720.8241234  1703.12882021\n",
      " 1690.07573762 1692.00734804 1706.54288537 1721.42984639 1725.1059266\n",
      " 1716.63257982 1706.32351579 1705.59071271]\n",
      "----------RESULT FOR PRDCT4_CUSTM ----------\n"
     ]
    },
    {
     "name": "stderr",
     "output_type": "stream",
     "text": [
      "11:52:11 - cmdstanpy - INFO - Chain [1] start processing\n",
      "11:52:11 - cmdstanpy - INFO - Chain [1] done processing\n"
     ]
    },
    {
     "name": "stdout",
     "output_type": "stream",
     "text": [
      "ARIMA - MAPE: 2.10%\n",
      "SARIMA - MAPE: 2.78%\n",
      "Holt-Winters - MAPE: 2.03%\n",
      "Facebook Prophet - MAPE: 2.46%\n"
     ]
    },
    {
     "name": "stderr",
     "output_type": "stream",
     "text": [
      "11:52:11 - cmdstanpy - INFO - Chain [1] start processing\n",
      "11:52:11 - cmdstanpy - INFO - Chain [1] done processing\n"
     ]
    },
    {
     "name": "stdout",
     "output_type": "stream",
     "text": [
      "[1689.1135873  1687.45133484 1696.37311711 1705.16898714 1705.29408058\n",
      " 1700.20096077 1699.05043599 1703.50633406 1705.50158524 1698.95170108\n",
      " 1689.57189918 1688.98777531 1699.87563474]\n",
      "----------RESULT FOR PRDCT4_CUSTX ----------\n"
     ]
    },
    {
     "name": "stderr",
     "output_type": "stream",
     "text": [
      "11:52:12 - cmdstanpy - INFO - Chain [1] start processing\n",
      "11:52:12 - cmdstanpy - INFO - Chain [1] done processing\n"
     ]
    },
    {
     "name": "stdout",
     "output_type": "stream",
     "text": [
      "ARIMA - MAPE: 2.13%\n",
      "SARIMA - MAPE: 2.34%\n",
      "Holt-Winters - MAPE: 1.95%\n",
      "Facebook Prophet - MAPE: 2.23%\n"
     ]
    },
    {
     "name": "stderr",
     "output_type": "stream",
     "text": [
      "11:52:13 - cmdstanpy - INFO - Chain [1] start processing\n",
      "11:52:13 - cmdstanpy - INFO - Chain [1] done processing\n"
     ]
    },
    {
     "name": "stdout",
     "output_type": "stream",
     "text": [
      "[1705.92354578 1700.41236141 1692.87574637 1690.98519392 1692.5434445\n",
      " 1690.37912399 1684.23918243 1682.66154873 1690.99319205 1701.29946351\n",
      " 1699.5072351  1683.31026846 1668.42511696]\n",
      "----------RESULT FOR PRDCT4_CUSTY ----------\n"
     ]
    },
    {
     "name": "stderr",
     "output_type": "stream",
     "text": [
      "11:52:14 - cmdstanpy - INFO - Chain [1] start processing\n",
      "11:52:14 - cmdstanpy - INFO - Chain [1] done processing\n"
     ]
    },
    {
     "name": "stdout",
     "output_type": "stream",
     "text": [
      "ARIMA - MAPE: 1.58%\n",
      "SARIMA - MAPE: 1.98%\n",
      "Holt-Winters - MAPE: 1.79%\n",
      "Facebook Prophet - MAPE: 1.76%\n"
     ]
    },
    {
     "name": "stderr",
     "output_type": "stream",
     "text": [
      "11:52:14 - cmdstanpy - INFO - Chain [1] start processing\n",
      "11:52:14 - cmdstanpy - INFO - Chain [1] done processing\n"
     ]
    },
    {
     "name": "stdout",
     "output_type": "stream",
     "text": [
      "[1713.42769944 1715.1836362  1708.98811749 1700.50511263 1696.48429406\n",
      " 1700.56903714 1712.11337497 1726.85662909 1737.88933479 1738.01523424\n",
      " 1724.69487262 1704.33777753 1689.92090418]\n",
      "----------RESULT FOR PRDCT4_CUSTZ ----------\n"
     ]
    },
    {
     "name": "stderr",
     "output_type": "stream",
     "text": [
      "11:52:16 - cmdstanpy - INFO - Chain [1] start processing\n",
      "11:52:16 - cmdstanpy - INFO - Chain [1] done processing\n"
     ]
    },
    {
     "name": "stdout",
     "output_type": "stream",
     "text": [
      "ARIMA - MAPE: 2.71%\n",
      "SARIMA - MAPE: 2.52%\n",
      "Holt-Winters - MAPE: 2.57%\n",
      "Facebook Prophet - MAPE: 3.07%\n"
     ]
    },
    {
     "name": "stderr",
     "output_type": "stream",
     "text": [
      "11:52:16 - cmdstanpy - INFO - Chain [1] start processing\n",
      "11:52:16 - cmdstanpy - INFO - Chain [1] done processing\n"
     ]
    },
    {
     "name": "stdout",
     "output_type": "stream",
     "text": [
      "[1690.241513   1686.71482343 1688.04960082 1696.14429588 1705.15564842\n",
      " 1707.75756156 1704.33958425 1702.87067393 1708.03995814 1712.97053451\n",
      " 1705.73017829 1684.96528096 1665.59604372]\n",
      "----------RESULT FOR PRDCT5_CUSTK ----------\n"
     ]
    },
    {
     "name": "stderr",
     "output_type": "stream",
     "text": [
      "11:52:17 - cmdstanpy - INFO - Chain [1] start processing\n",
      "11:52:17 - cmdstanpy - INFO - Chain [1] done processing\n"
     ]
    },
    {
     "name": "stdout",
     "output_type": "stream",
     "text": [
      "ARIMA - MAPE: 3.24%\n",
      "SARIMA - MAPE: 7.61%\n",
      "Holt-Winters - MAPE: 3.43%\n",
      "Facebook Prophet - MAPE: 3.69%\n"
     ]
    },
    {
     "name": "stderr",
     "output_type": "stream",
     "text": [
      "11:52:18 - cmdstanpy - INFO - Chain [1] start processing\n",
      "11:52:18 - cmdstanpy - INFO - Chain [1] done processing\n"
     ]
    },
    {
     "name": "stdout",
     "output_type": "stream",
     "text": [
      "[441.08908373 445.99467292 450.26488764 450.75226466 449.87789273\n",
      " 451.01126925 452.55140178 449.06523208 438.79942372 428.1081764\n",
      " 426.23194663 435.46093049 447.92760369]\n",
      "----------RESULT FOR PRDCT5_CUSTL ----------\n"
     ]
    },
    {
     "name": "stderr",
     "output_type": "stream",
     "text": [
      "11:52:19 - cmdstanpy - INFO - Chain [1] start processing\n",
      "11:52:19 - cmdstanpy - INFO - Chain [1] done processing\n"
     ]
    },
    {
     "name": "stdout",
     "output_type": "stream",
     "text": [
      "ARIMA - MAPE: 3.41%\n",
      "SARIMA - MAPE: 6.25%\n",
      "Holt-Winters - MAPE: 4.22%\n",
      "Facebook Prophet - MAPE: 5.11%\n"
     ]
    },
    {
     "name": "stderr",
     "output_type": "stream",
     "text": [
      "11:52:20 - cmdstanpy - INFO - Chain [1] start processing\n",
      "11:52:20 - cmdstanpy - INFO - Chain [1] done processing\n"
     ]
    },
    {
     "name": "stdout",
     "output_type": "stream",
     "text": [
      "[444.76910562 447.38392063 446.38085879 445.29249662 447.12687597\n",
      " 450.12346566 450.69607233 448.72909302 447.52212352 448.64988086\n",
      " 449.40400265 446.88175252 443.08285115]\n",
      "----------RESULT FOR PRDCT5_CUSTM ----------\n"
     ]
    },
    {
     "name": "stderr",
     "output_type": "stream",
     "text": [
      "11:52:21 - cmdstanpy - INFO - Chain [1] start processing\n",
      "11:52:21 - cmdstanpy - INFO - Chain [1] done processing\n"
     ]
    },
    {
     "name": "stdout",
     "output_type": "stream",
     "text": [
      "ARIMA - MAPE: 4.52%\n",
      "SARIMA - MAPE: 8.66%\n",
      "Holt-Winters - MAPE: 4.69%\n",
      "Facebook Prophet - MAPE: 4.39%\n"
     ]
    },
    {
     "name": "stderr",
     "output_type": "stream",
     "text": [
      "11:52:21 - cmdstanpy - INFO - Chain [1] start processing\n",
      "11:52:21 - cmdstanpy - INFO - Chain [1] done processing\n"
     ]
    },
    {
     "name": "stdout",
     "output_type": "stream",
     "text": [
      "[454.56402405 458.68660754 463.02800324 462.12942127 454.82397739\n",
      " 446.91354034 445.80588977 452.9177858  462.26485085 466.61388145\n",
      " 464.25445576 459.30915794 456.14566985]\n",
      "----------RESULT FOR PRDCT5_CUSTX ----------\n"
     ]
    },
    {
     "name": "stderr",
     "output_type": "stream",
     "text": [
      "11:52:23 - cmdstanpy - INFO - Chain [1] start processing\n",
      "11:52:23 - cmdstanpy - INFO - Chain [1] done processing\n"
     ]
    },
    {
     "name": "stdout",
     "output_type": "stream",
     "text": [
      "ARIMA - MAPE: 4.64%\n",
      "SARIMA - MAPE: 5.89%\n",
      "Holt-Winters - MAPE: 5.21%\n",
      "Facebook Prophet - MAPE: 5.60%\n"
     ]
    },
    {
     "name": "stderr",
     "output_type": "stream",
     "text": [
      "11:52:23 - cmdstanpy - INFO - Chain [1] start processing\n",
      "11:52:23 - cmdstanpy - INFO - Chain [1] done processing\n"
     ]
    },
    {
     "name": "stdout",
     "output_type": "stream",
     "text": [
      "[461.77946807 463.76707143 462.92592772 463.14613085 464.97881659\n",
      " 465.0361253  460.89753215 454.96316081 452.28637345 454.98708993\n",
      " 459.84462008 461.65175149 458.34061496]\n",
      "----------RESULT FOR PRDCT5_CUSTY ----------\n"
     ]
    },
    {
     "name": "stderr",
     "output_type": "stream",
     "text": [
      "11:52:24 - cmdstanpy - INFO - Chain [1] start processing\n",
      "11:52:24 - cmdstanpy - INFO - Chain [1] done processing\n"
     ]
    },
    {
     "name": "stdout",
     "output_type": "stream",
     "text": [
      "ARIMA - MAPE: 4.13%\n",
      "SARIMA - MAPE: 5.27%\n",
      "Holt-Winters - MAPE: 4.28%\n",
      "Facebook Prophet - MAPE: 3.94%\n"
     ]
    },
    {
     "name": "stderr",
     "output_type": "stream",
     "text": [
      "11:52:25 - cmdstanpy - INFO - Chain [1] start processing\n",
      "11:52:25 - cmdstanpy - INFO - Chain [1] done processing\n"
     ]
    },
    {
     "name": "stdout",
     "output_type": "stream",
     "text": [
      "[457.95413893 462.91121525 464.39238539 456.98650042 444.82443985\n",
      " 437.99132906 441.669911   450.89856629 456.81235601 456.26993228\n",
      " 453.37774834 452.38806602 452.26383978]\n",
      "----------RESULT FOR PRDCT5_CUSTZ ----------\n"
     ]
    },
    {
     "name": "stderr",
     "output_type": "stream",
     "text": [
      "11:52:26 - cmdstanpy - INFO - Chain [1] start processing\n",
      "11:52:26 - cmdstanpy - INFO - Chain [1] done processing\n"
     ]
    },
    {
     "name": "stdout",
     "output_type": "stream",
     "text": [
      "ARIMA - MAPE: 4.12%\n",
      "SARIMA - MAPE: 12.91%\n",
      "Holt-Winters - MAPE: 4.19%\n",
      "Facebook Prophet - MAPE: 4.06%\n"
     ]
    },
    {
     "name": "stderr",
     "output_type": "stream",
     "text": [
      "11:52:27 - cmdstanpy - INFO - Chain [1] start processing\n",
      "11:52:27 - cmdstanpy - INFO - Chain [1] done processing\n"
     ]
    },
    {
     "name": "stdout",
     "output_type": "stream",
     "text": [
      "[458.47367175 452.53913842 449.47202131 452.07434093 456.07814173\n",
      " 456.21117078 453.09454072 451.9596716  455.08005971 458.08049718\n",
      " 455.25220773 447.25633819 441.29489923]\n",
      "----------RESULT FOR PRDCT6_CUSTK ----------\n"
     ]
    },
    {
     "name": "stderr",
     "output_type": "stream",
     "text": [
      "11:52:28 - cmdstanpy - INFO - Chain [1] start processing\n",
      "11:52:28 - cmdstanpy - INFO - Chain [1] done processing\n"
     ]
    },
    {
     "name": "stdout",
     "output_type": "stream",
     "text": [
      "ARIMA - MAPE: 2.52%\n",
      "SARIMA - MAPE: 2.96%\n",
      "Holt-Winters - MAPE: 3.65%\n",
      "Facebook Prophet - MAPE: 2.78%\n"
     ]
    },
    {
     "name": "stderr",
     "output_type": "stream",
     "text": [
      "11:52:29 - cmdstanpy - INFO - Chain [1] start processing\n",
      "11:52:29 - cmdstanpy - INFO - Chain [1] done processing\n"
     ]
    },
    {
     "name": "stdout",
     "output_type": "stream",
     "text": [
      "[1490.32239063 1490.83178666 1486.80784897 1479.02220458 1475.65716967\n",
      " 1483.22244219 1498.0214319  1509.56649381 1512.06369262 1509.54305185\n",
      " 1508.67935546 1509.68556063 1507.83608837]\n",
      "----------RESULT FOR PRDCT6_CUSTL ----------\n"
     ]
    },
    {
     "name": "stderr",
     "output_type": "stream",
     "text": [
      "11:52:30 - cmdstanpy - INFO - Chain [1] start processing\n",
      "11:52:30 - cmdstanpy - INFO - Chain [1] done processing\n"
     ]
    },
    {
     "name": "stdout",
     "output_type": "stream",
     "text": [
      "ARIMA - MAPE: 2.24%\n",
      "SARIMA - MAPE: 2.33%\n",
      "Holt-Winters - MAPE: 2.85%\n",
      "Facebook Prophet - MAPE: 2.76%\n"
     ]
    },
    {
     "name": "stderr",
     "output_type": "stream",
     "text": [
      "11:52:30 - cmdstanpy - INFO - Chain [1] start processing\n",
      "11:52:30 - cmdstanpy - INFO - Chain [1] done processing\n"
     ]
    },
    {
     "name": "stdout",
     "output_type": "stream",
     "text": [
      "[1503.90654518 1500.72224307 1492.50950179 1487.93291069 1493.67523061\n",
      " 1506.05732877 1514.23813184 1511.75369602 1503.20387957 1498.46875889\n",
      " 1501.35178035 1505.82919838 1503.92629677]\n",
      "----------RESULT FOR PRDCT6_CUSTM ----------\n"
     ]
    },
    {
     "name": "stderr",
     "output_type": "stream",
     "text": [
      "11:52:31 - cmdstanpy - INFO - Chain [1] start processing\n",
      "11:52:31 - cmdstanpy - INFO - Chain [1] done processing\n"
     ]
    },
    {
     "name": "stdout",
     "output_type": "stream",
     "text": [
      "ARIMA - MAPE: 1.55%\n",
      "SARIMA - MAPE: 2.78%\n",
      "Holt-Winters - MAPE: 1.56%\n",
      "Facebook Prophet - MAPE: 1.50%\n"
     ]
    },
    {
     "name": "stderr",
     "output_type": "stream",
     "text": [
      "11:52:32 - cmdstanpy - INFO - Chain [1] start processing\n",
      "11:52:32 - cmdstanpy - INFO - Chain [1] done processing\n"
     ]
    },
    {
     "name": "stdout",
     "output_type": "stream",
     "text": [
      "[1534.68135662 1526.06070642 1510.69043241 1505.53727615 1514.72547063\n",
      " 1525.34850979 1523.08293401 1509.12793522 1498.6762033  1503.03007125\n",
      " 1516.45604517 1522.8132107  1513.79941005]\n",
      "----------RESULT FOR PRDCT6_CUSTX ----------\n"
     ]
    },
    {
     "name": "stderr",
     "output_type": "stream",
     "text": [
      "11:52:33 - cmdstanpy - INFO - Chain [1] start processing\n",
      "11:52:33 - cmdstanpy - INFO - Chain [1] done processing\n"
     ]
    },
    {
     "name": "stdout",
     "output_type": "stream",
     "text": [
      "ARIMA - MAPE: 2.23%\n",
      "SARIMA - MAPE: 3.11%\n",
      "Holt-Winters - MAPE: 2.43%\n",
      "Facebook Prophet - MAPE: 2.42%\n"
     ]
    },
    {
     "name": "stderr",
     "output_type": "stream",
     "text": [
      "11:52:34 - cmdstanpy - INFO - Chain [1] start processing\n",
      "11:52:34 - cmdstanpy - INFO - Chain [1] done processing\n"
     ]
    },
    {
     "name": "stdout",
     "output_type": "stream",
     "text": [
      "[1508.00474053 1505.62525981 1506.25511694 1506.15909859 1502.64632789\n",
      " 1497.03930166 1493.09392467 1493.4461143  1497.72012946 1503.11441781\n",
      " 1506.01778357 1503.6898422  1496.02974394]\n",
      "----------RESULT FOR PRDCT6_CUSTY ----------\n"
     ]
    },
    {
     "name": "stderr",
     "output_type": "stream",
     "text": [
      "11:52:35 - cmdstanpy - INFO - Chain [1] start processing\n",
      "11:52:35 - cmdstanpy - INFO - Chain [1] done processing\n"
     ]
    },
    {
     "name": "stdout",
     "output_type": "stream",
     "text": [
      "ARIMA - MAPE: 2.16%\n",
      "SARIMA - MAPE: 5.84%\n",
      "Holt-Winters - MAPE: 3.08%\n",
      "Facebook Prophet - MAPE: 2.92%\n"
     ]
    },
    {
     "name": "stderr",
     "output_type": "stream",
     "text": [
      "11:52:35 - cmdstanpy - INFO - Chain [1] start processing\n",
      "11:52:35 - cmdstanpy - INFO - Chain [1] done processing\n"
     ]
    },
    {
     "name": "stdout",
     "output_type": "stream",
     "text": [
      "[1516.11211409 1512.33263092 1496.16681382 1484.20039742 1485.72680641\n",
      " 1494.23318653 1497.38095595 1492.13963773 1486.90907065 1489.55625763\n",
      " 1497.3835391  1501.33426975 1498.06141634]\n",
      "----------RESULT FOR PRDCT6_CUSTZ ----------\n"
     ]
    },
    {
     "name": "stderr",
     "output_type": "stream",
     "text": [
      "11:52:36 - cmdstanpy - INFO - Chain [1] start processing\n",
      "11:52:36 - cmdstanpy - INFO - Chain [1] done processing\n"
     ]
    },
    {
     "name": "stdout",
     "output_type": "stream",
     "text": [
      "ARIMA - MAPE: 1.69%\n",
      "SARIMA - MAPE: 4.63%\n",
      "Holt-Winters - MAPE: 1.94%\n",
      "Facebook Prophet - MAPE: 2.18%\n"
     ]
    },
    {
     "name": "stderr",
     "output_type": "stream",
     "text": [
      "11:52:37 - cmdstanpy - INFO - Chain [1] start processing\n",
      "11:52:37 - cmdstanpy - INFO - Chain [1] done processing\n"
     ]
    },
    {
     "name": "stdout",
     "output_type": "stream",
     "text": [
      "[1513.53206766 1512.81937296 1511.96116783 1509.59250971 1505.62290767\n",
      " 1500.31249745 1493.4221361  1485.63242792 1480.42017706 1482.69290357\n",
      " 1494.02120665 1509.22464633 1518.87467288]\n",
      "----------RESULT FOR PRDCT7_CUSTK ----------\n"
     ]
    },
    {
     "name": "stderr",
     "output_type": "stream",
     "text": [
      "11:52:38 - cmdstanpy - INFO - Chain [1] start processing\n",
      "11:52:38 - cmdstanpy - INFO - Chain [1] done processing\n"
     ]
    },
    {
     "name": "stdout",
     "output_type": "stream",
     "text": [
      "ARIMA - MAPE: 1.76%\n",
      "SARIMA - MAPE: 2.71%\n",
      "Holt-Winters - MAPE: 1.88%\n",
      "Facebook Prophet - MAPE: 1.77%\n"
     ]
    },
    {
     "name": "stderr",
     "output_type": "stream",
     "text": [
      "11:52:39 - cmdstanpy - INFO - Chain [1] start processing\n",
      "11:52:39 - cmdstanpy - INFO - Chain [1] done processing\n"
     ]
    },
    {
     "name": "stdout",
     "output_type": "stream",
     "text": [
      "[1742.66785129 1749.36943683 1766.03591397 1774.54756032 1767.76677273\n",
      " 1755.89745649 1751.68681137 1754.48462735 1753.64016238 1745.79496095\n",
      " 1741.94180189 1753.35021316 1774.07142581]\n",
      "----------RESULT FOR PRDCT7_CUSTL ----------\n"
     ]
    },
    {
     "name": "stderr",
     "output_type": "stream",
     "text": [
      "11:52:40 - cmdstanpy - INFO - Chain [1] start processing\n",
      "11:52:40 - cmdstanpy - INFO - Chain [1] done processing\n"
     ]
    },
    {
     "name": "stdout",
     "output_type": "stream",
     "text": [
      "ARIMA - MAPE: 1.82%\n",
      "SARIMA - MAPE: 1.93%\n",
      "Holt-Winters - MAPE: 2.13%\n",
      "Facebook Prophet - MAPE: 1.64%\n"
     ]
    },
    {
     "name": "stderr",
     "output_type": "stream",
     "text": [
      "11:52:40 - cmdstanpy - INFO - Chain [1] start processing\n",
      "11:52:40 - cmdstanpy - INFO - Chain [1] done processing\n"
     ]
    },
    {
     "name": "stdout",
     "output_type": "stream",
     "text": [
      "[1762.62680174 1743.77571716 1722.17254424 1713.40429324 1720.96353837\n",
      " 1735.71112116 1745.41709517 1744.35066914 1735.68632752 1727.21765549\n",
      " 1725.22972206 1730.61543715 1738.89410898]\n",
      "----------RESULT FOR PRDCT7_CUSTM ----------\n"
     ]
    },
    {
     "name": "stderr",
     "output_type": "stream",
     "text": [
      "11:52:42 - cmdstanpy - INFO - Chain [1] start processing\n",
      "11:52:42 - cmdstanpy - INFO - Chain [1] done processing\n"
     ]
    },
    {
     "name": "stdout",
     "output_type": "stream",
     "text": [
      "ARIMA - MAPE: 1.39%\n",
      "SARIMA - MAPE: 1.31%\n",
      "Holt-Winters - MAPE: 1.65%\n",
      "Facebook Prophet - MAPE: 1.51%\n"
     ]
    },
    {
     "name": "stderr",
     "output_type": "stream",
     "text": [
      "11:52:42 - cmdstanpy - INFO - Chain [1] start processing\n",
      "11:52:42 - cmdstanpy - INFO - Chain [1] done processing\n"
     ]
    },
    {
     "name": "stdout",
     "output_type": "stream",
     "text": [
      "[1739.10155368 1743.94205387 1741.38473812 1729.10291756 1719.29473848\n",
      " 1723.57975683 1738.57950202 1750.11455439 1750.06312765 1744.50016246\n",
      " 1743.84111908 1748.91084358 1751.16215019]\n",
      "----------RESULT FOR PRDCT7_CUSTX ----------\n"
     ]
    },
    {
     "name": "stderr",
     "output_type": "stream",
     "text": [
      "11:52:43 - cmdstanpy - INFO - Chain [1] start processing\n",
      "11:52:43 - cmdstanpy - INFO - Chain [1] done processing\n"
     ]
    },
    {
     "name": "stdout",
     "output_type": "stream",
     "text": [
      "ARIMA - MAPE: 2.04%\n",
      "SARIMA - MAPE: 2.26%\n",
      "Holt-Winters - MAPE: 1.98%\n",
      "Facebook Prophet - MAPE: 2.28%\n"
     ]
    },
    {
     "name": "stderr",
     "output_type": "stream",
     "text": [
      "11:52:44 - cmdstanpy - INFO - Chain [1] start processing\n",
      "11:52:44 - cmdstanpy - INFO - Chain [1] done processing\n"
     ]
    },
    {
     "name": "stdout",
     "output_type": "stream",
     "text": [
      "[1739.36339647 1723.39213523 1724.56850474 1740.52383728 1752.33513895\n",
      " 1743.85670903 1719.61373662 1700.90544957 1703.63157333 1722.36576534\n",
      " 1738.13164517 1739.94160043 1734.8503189 ]\n",
      "----------RESULT FOR PRDCT7_CUSTY ----------\n"
     ]
    },
    {
     "name": "stderr",
     "output_type": "stream",
     "text": [
      "11:52:45 - cmdstanpy - INFO - Chain [1] start processing\n",
      "11:52:45 - cmdstanpy - INFO - Chain [1] done processing\n"
     ]
    },
    {
     "name": "stdout",
     "output_type": "stream",
     "text": [
      "ARIMA - MAPE: 2.05%\n",
      "SARIMA - MAPE: 2.25%\n",
      "Holt-Winters - MAPE: 2.37%\n",
      "Facebook Prophet - MAPE: 2.27%\n"
     ]
    },
    {
     "name": "stderr",
     "output_type": "stream",
     "text": [
      "11:52:46 - cmdstanpy - INFO - Chain [1] start processing\n",
      "11:52:46 - cmdstanpy - INFO - Chain [1] done processing\n"
     ]
    },
    {
     "name": "stdout",
     "output_type": "stream",
     "text": [
      "[1732.79688196 1745.9644283  1762.49224929 1771.82275121 1771.87372273\n",
      " 1767.92978767 1764.79754822 1762.08942464 1756.95633779 1749.23544588\n",
      " 1742.20774337 1738.74153439 1738.29868156]\n",
      "----------RESULT FOR PRDCT7_CUSTZ ----------\n"
     ]
    },
    {
     "name": "stderr",
     "output_type": "stream",
     "text": [
      "11:52:47 - cmdstanpy - INFO - Chain [1] start processing\n",
      "11:52:47 - cmdstanpy - INFO - Chain [1] done processing\n"
     ]
    },
    {
     "name": "stdout",
     "output_type": "stream",
     "text": [
      "ARIMA - MAPE: 2.07%\n",
      "SARIMA - MAPE: 4.53%\n",
      "Holt-Winters - MAPE: 2.14%\n",
      "Facebook Prophet - MAPE: 2.08%\n"
     ]
    },
    {
     "name": "stderr",
     "output_type": "stream",
     "text": [
      "11:52:47 - cmdstanpy - INFO - Chain [1] start processing\n",
      "11:52:48 - cmdstanpy - INFO - Chain [1] done processing\n"
     ]
    },
    {
     "name": "stdout",
     "output_type": "stream",
     "text": [
      "[1742.47755967 1750.93757671 1758.98435472 1755.54697948 1744.97776727\n",
      " 1740.49075852 1747.55667671 1757.78442546 1759.98284435 1753.96283887\n",
      " 1750.05636695 1755.52634562 1765.00739185]\n",
      "----------RESULT FOR PRDCT8_CUSTK ----------\n"
     ]
    },
    {
     "name": "stderr",
     "output_type": "stream",
     "text": [
      "11:52:49 - cmdstanpy - INFO - Chain [1] start processing\n",
      "11:52:49 - cmdstanpy - INFO - Chain [1] done processing\n"
     ]
    },
    {
     "name": "stdout",
     "output_type": "stream",
     "text": [
      "ARIMA - MAPE: 2.46%\n",
      "SARIMA - MAPE: 4.65%\n",
      "Holt-Winters - MAPE: 2.75%\n",
      "Facebook Prophet - MAPE: 2.85%\n"
     ]
    },
    {
     "name": "stderr",
     "output_type": "stream",
     "text": [
      "11:52:49 - cmdstanpy - INFO - Chain [1] start processing\n",
      "11:52:49 - cmdstanpy - INFO - Chain [1] done processing\n"
     ]
    },
    {
     "name": "stdout",
     "output_type": "stream",
     "text": [
      "[1037.7827481  1033.55380918 1033.97548919 1042.59465606 1053.55108524\n",
      " 1056.59646909 1048.51799237 1037.39557524 1034.13271255 1040.78862491\n",
      " 1049.05470434 1050.17751532 1044.41947626]\n",
      "----------RESULT FOR PRDCT8_CUSTL ----------\n"
     ]
    },
    {
     "name": "stderr",
     "output_type": "stream",
     "text": [
      "11:52:51 - cmdstanpy - INFO - Chain [1] start processing\n",
      "11:52:51 - cmdstanpy - INFO - Chain [1] done processing\n"
     ]
    },
    {
     "name": "stdout",
     "output_type": "stream",
     "text": [
      "ARIMA - MAPE: 2.46%\n",
      "SARIMA - MAPE: 3.32%\n",
      "Holt-Winters - MAPE: 2.78%\n",
      "Facebook Prophet - MAPE: 3.01%\n"
     ]
    },
    {
     "name": "stderr",
     "output_type": "stream",
     "text": [
      "11:52:51 - cmdstanpy - INFO - Chain [1] start processing\n",
      "11:52:51 - cmdstanpy - INFO - Chain [1] done processing\n"
     ]
    },
    {
     "name": "stdout",
     "output_type": "stream",
     "text": [
      "[1055.45694108 1057.30214734 1057.39546022 1055.84930187 1052.27872188\n",
      " 1046.91721238 1042.42372498 1042.89210921 1049.76083198 1058.99409395\n",
      " 1063.60776209 1059.82785447 1050.61592897]\n",
      "----------RESULT FOR PRDCT8_CUSTM ----------\n"
     ]
    },
    {
     "name": "stderr",
     "output_type": "stream",
     "text": [
      "11:52:52 - cmdstanpy - INFO - Chain [1] start processing\n",
      "11:52:52 - cmdstanpy - INFO - Chain [1] done processing\n"
     ]
    },
    {
     "name": "stdout",
     "output_type": "stream",
     "text": [
      "ARIMA - MAPE: 2.55%\n",
      "SARIMA - MAPE: 2.99%\n",
      "Holt-Winters - MAPE: 2.40%\n",
      "Facebook Prophet - MAPE: 2.56%\n"
     ]
    },
    {
     "name": "stderr",
     "output_type": "stream",
     "text": [
      "11:52:53 - cmdstanpy - INFO - Chain [1] start processing\n",
      "11:52:53 - cmdstanpy - INFO - Chain [1] done processing\n"
     ]
    },
    {
     "name": "stdout",
     "output_type": "stream",
     "text": [
      "[1030.46194605 1028.70177568 1036.93143262 1047.07841841 1048.57347033\n",
      " 1040.87912188 1033.67403655 1034.66275611 1040.27343084 1040.56555384\n",
      " 1031.82888006 1021.1541131  1017.79003707]\n",
      "----------RESULT FOR PRDCT8_CUSTX ----------\n"
     ]
    },
    {
     "name": "stderr",
     "output_type": "stream",
     "text": [
      "11:52:54 - cmdstanpy - INFO - Chain [1] start processing\n",
      "11:52:54 - cmdstanpy - INFO - Chain [1] done processing\n"
     ]
    },
    {
     "name": "stdout",
     "output_type": "stream",
     "text": [
      "ARIMA - MAPE: 2.74%\n",
      "SARIMA - MAPE: 3.21%\n",
      "Holt-Winters - MAPE: 2.88%\n",
      "Facebook Prophet - MAPE: 3.23%\n"
     ]
    },
    {
     "name": "stderr",
     "output_type": "stream",
     "text": [
      "11:52:55 - cmdstanpy - INFO - Chain [1] start processing\n",
      "11:52:55 - cmdstanpy - INFO - Chain [1] done processing\n"
     ]
    },
    {
     "name": "stdout",
     "output_type": "stream",
     "text": [
      "[1071.22612549 1060.3784405  1044.79102624 1036.99433687 1042.73637367\n",
      " 1055.03570295 1061.77998335 1058.45040967 1051.86095926 1051.27247827\n",
      " 1057.54136657 1062.61204616 1059.32270705]\n",
      "----------RESULT FOR PRDCT8_CUSTY ----------\n"
     ]
    },
    {
     "name": "stderr",
     "output_type": "stream",
     "text": [
      "11:52:56 - cmdstanpy - INFO - Chain [1] start processing\n",
      "11:52:56 - cmdstanpy - INFO - Chain [1] done processing\n"
     ]
    },
    {
     "name": "stdout",
     "output_type": "stream",
     "text": [
      "ARIMA - MAPE: 2.07%\n",
      "SARIMA - MAPE: 4.79%\n",
      "Holt-Winters - MAPE: 2.34%\n",
      "Facebook Prophet - MAPE: 2.50%\n"
     ]
    },
    {
     "name": "stderr",
     "output_type": "stream",
     "text": [
      "11:52:56 - cmdstanpy - INFO - Chain [1] start processing\n",
      "11:52:57 - cmdstanpy - INFO - Chain [1] done processing\n"
     ]
    },
    {
     "name": "stdout",
     "output_type": "stream",
     "text": [
      "[1075.23952387 1089.12350089 1080.41174187 1058.52742789 1043.36367704\n",
      " 1044.35080153 1052.94024751 1055.43081042 1049.42115097 1044.74171941\n",
      " 1049.85572721 1061.72071376 1070.86502693]\n",
      "----------RESULT FOR PRDCT8_CUSTZ ----------\n"
     ]
    },
    {
     "name": "stderr",
     "output_type": "stream",
     "text": [
      "11:52:58 - cmdstanpy - INFO - Chain [1] start processing\n",
      "11:52:58 - cmdstanpy - INFO - Chain [1] done processing\n"
     ]
    },
    {
     "name": "stdout",
     "output_type": "stream",
     "text": [
      "ARIMA - MAPE: 2.89%\n",
      "SARIMA - MAPE: 2.55%\n",
      "Holt-Winters - MAPE: 2.78%\n",
      "Facebook Prophet - MAPE: 3.15%\n"
     ]
    },
    {
     "name": "stderr",
     "output_type": "stream",
     "text": [
      "11:52:58 - cmdstanpy - INFO - Chain [1] start processing\n",
      "11:52:58 - cmdstanpy - INFO - Chain [1] done processing\n"
     ]
    },
    {
     "name": "stdout",
     "output_type": "stream",
     "text": [
      "[1055.29887152 1044.89307963 1033.55678055 1031.46416621 1037.36519215\n",
      " 1041.86795461 1038.78038959 1031.27929754 1026.86381319 1028.34096447\n",
      " 1031.70563325 1032.35907947 1030.97458208]\n",
      "----------RESULT FOR PRDCT9_CUSTK ----------\n"
     ]
    },
    {
     "name": "stderr",
     "output_type": "stream",
     "text": [
      "11:52:59 - cmdstanpy - INFO - Chain [1] start processing\n",
      "11:52:59 - cmdstanpy - INFO - Chain [1] done processing\n"
     ]
    },
    {
     "name": "stdout",
     "output_type": "stream",
     "text": [
      "ARIMA - MAPE: 1.94%\n",
      "SARIMA - MAPE: 2.73%\n",
      "Holt-Winters - MAPE: 2.49%\n",
      "Facebook Prophet - MAPE: 2.59%\n"
     ]
    },
    {
     "name": "stderr",
     "output_type": "stream",
     "text": [
      "11:53:00 - cmdstanpy - INFO - Chain [1] start processing\n",
      "11:53:00 - cmdstanpy - INFO - Chain [1] done processing\n"
     ]
    },
    {
     "name": "stdout",
     "output_type": "stream",
     "text": [
      "[1699.70000084 1699.39909254 1696.07435157 1691.19487305 1688.3853143\n",
      " 1687.58460139 1685.61125088 1682.16619438 1681.93749106 1688.49456752\n",
      " 1697.59060428 1699.83961616 1691.21339554]\n",
      "----------RESULT FOR PRDCT9_CUSTL ----------\n"
     ]
    },
    {
     "name": "stderr",
     "output_type": "stream",
     "text": [
      "11:53:01 - cmdstanpy - INFO - Chain [1] start processing\n",
      "11:53:01 - cmdstanpy - INFO - Chain [1] done processing\n"
     ]
    },
    {
     "name": "stdout",
     "output_type": "stream",
     "text": [
      "ARIMA - MAPE: 2.16%\n",
      "SARIMA - MAPE: 4.20%\n",
      "Holt-Winters - MAPE: 2.16%\n",
      "Facebook Prophet - MAPE: 2.53%\n"
     ]
    },
    {
     "name": "stderr",
     "output_type": "stream",
     "text": [
      "11:53:02 - cmdstanpy - INFO - Chain [1] start processing\n",
      "11:53:02 - cmdstanpy - INFO - Chain [1] done processing\n"
     ]
    },
    {
     "name": "stdout",
     "output_type": "stream",
     "text": [
      "[1686.35958504 1678.57127993 1682.40399021 1694.42511567 1703.6693572\n",
      " 1703.39752259 1696.62796893 1690.25330882 1686.84794652 1684.54818045\n",
      " 1683.164394   1686.16985854 1694.89279775]\n",
      "----------RESULT FOR PRDCT9_CUSTM ----------\n"
     ]
    },
    {
     "name": "stderr",
     "output_type": "stream",
     "text": [
      "11:53:03 - cmdstanpy - INFO - Chain [1] start processing\n",
      "11:53:03 - cmdstanpy - INFO - Chain [1] done processing\n"
     ]
    },
    {
     "name": "stdout",
     "output_type": "stream",
     "text": [
      "ARIMA - MAPE: 1.78%\n",
      "SARIMA - MAPE: 2.45%\n",
      "Holt-Winters - MAPE: 1.91%\n",
      "Facebook Prophet - MAPE: 2.05%\n"
     ]
    },
    {
     "name": "stderr",
     "output_type": "stream",
     "text": [
      "11:53:04 - cmdstanpy - INFO - Chain [1] start processing\n",
      "11:53:04 - cmdstanpy - INFO - Chain [1] done processing\n"
     ]
    },
    {
     "name": "stdout",
     "output_type": "stream",
     "text": [
      "[1694.35086635 1704.74137632 1718.14776367 1720.11452588 1710.80827015\n",
      " 1704.80248478 1711.973131   1723.89166207 1723.55684387 1706.66748685\n",
      " 1687.6405003  1682.62621169 1690.82597748]\n",
      "----------RESULT FOR PRDCT9_CUSTX ----------\n"
     ]
    },
    {
     "name": "stderr",
     "output_type": "stream",
     "text": [
      "11:53:05 - cmdstanpy - INFO - Chain [1] start processing\n",
      "11:53:05 - cmdstanpy - INFO - Chain [1] done processing\n"
     ]
    },
    {
     "name": "stdout",
     "output_type": "stream",
     "text": [
      "ARIMA - MAPE: 1.80%\n",
      "SARIMA - MAPE: 2.31%\n",
      "Holt-Winters - MAPE: 2.10%\n",
      "Facebook Prophet - MAPE: 2.01%\n"
     ]
    },
    {
     "name": "stderr",
     "output_type": "stream",
     "text": [
      "11:53:05 - cmdstanpy - INFO - Chain [1] start processing\n",
      "11:53:05 - cmdstanpy - INFO - Chain [1] done processing\n"
     ]
    },
    {
     "name": "stdout",
     "output_type": "stream",
     "text": [
      "[1680.98948654 1694.38171084 1709.99920432 1715.66263932 1705.12272438\n",
      " 1684.73959279 1668.64062394 1666.3718607  1675.58832976 1686.82301708\n",
      " 1693.86146541 1697.78799293 1701.64082132]\n",
      "----------RESULT FOR PRDCT9_CUSTY ----------\n"
     ]
    },
    {
     "name": "stderr",
     "output_type": "stream",
     "text": [
      "11:53:06 - cmdstanpy - INFO - Chain [1] start processing\n",
      "11:53:06 - cmdstanpy - INFO - Chain [1] done processing\n"
     ]
    },
    {
     "name": "stdout",
     "output_type": "stream",
     "text": [
      "ARIMA - MAPE: 1.48%\n",
      "SARIMA - MAPE: 7.75%\n",
      "Holt-Winters - MAPE: 1.59%\n",
      "Facebook Prophet - MAPE: 1.69%\n"
     ]
    },
    {
     "name": "stderr",
     "output_type": "stream",
     "text": [
      "11:53:07 - cmdstanpy - INFO - Chain [1] start processing\n",
      "11:53:07 - cmdstanpy - INFO - Chain [1] done processing\n"
     ]
    },
    {
     "name": "stdout",
     "output_type": "stream",
     "text": [
      "[1706.52467761 1712.00086985 1719.01749632 1717.99885372 1707.35258679\n",
      " 1696.00262998 1694.84503086 1706.56303714 1723.98729168 1737.17856786\n",
      " 1740.88036796 1735.82676211 1725.46331825]\n",
      "----------RESULT FOR PRDCT9_CUSTZ ----------\n"
     ]
    },
    {
     "name": "stderr",
     "output_type": "stream",
     "text": [
      "11:53:08 - cmdstanpy - INFO - Chain [1] start processing\n",
      "11:53:08 - cmdstanpy - INFO - Chain [1] done processing\n"
     ]
    },
    {
     "name": "stdout",
     "output_type": "stream",
     "text": [
      "ARIMA - MAPE: 2.05%\n",
      "SARIMA - MAPE: 2.21%\n",
      "Holt-Winters - MAPE: 1.98%\n",
      "Facebook Prophet - MAPE: 2.10%\n"
     ]
    },
    {
     "name": "stderr",
     "output_type": "stream",
     "text": [
      "11:53:09 - cmdstanpy - INFO - Chain [1] start processing\n",
      "11:53:09 - cmdstanpy - INFO - Chain [1] done processing\n"
     ]
    },
    {
     "name": "stdout",
     "output_type": "stream",
     "text": [
      "[1694.40516777 1697.31311822 1701.38783033 1693.85784694 1675.79069743\n",
      " 1662.8192573  1669.18149768 1692.72428492 1716.51543811 1724.32745238\n",
      " 1713.83074731 1696.0173188  1684.22505292]\n"
     ]
    }
   ],
   "source": [
    "  for i in timeseries_key_values:\n",
    "    df_prod1 = df1[df1['timeseries_key']==i]\n",
    "    \n",
    "    print(\"----------RESULT FOR\",i,\"----------\")\n",
    "    \n",
    "    # Convert 'calweek' column to datetime format\n",
    "    df_prod1['calweek'] = pd.to_datetime(df_prod1['calweek'].astype(str) + '1', format='%Y%W%w')\n",
    "    \n",
    "    # Group data by 'calweek' and aggregate 'Quantity'\n",
    "    ts_data = df_prod1.groupby('calweek')['Quantity'].sum().reset_index()\n",
    "    \n",
    "    # Rename columns for Prophet model\n",
    "    ts_data.rename(columns={'calweek': 'ds', 'Quantity': 'y'}, inplace=True)\n",
    "\n",
    "    # Split data into training and testing sets\n",
    "    n_train = int(len(ts_data) * 0.8)  # 80% for training, 20% for testing\n",
    "    train = ts_data.iloc[:n_train]\n",
    "    test = ts_data.iloc[n_train:]\n",
    "    \n",
    "    # Perform forecasting using ARIMA\n",
    "    arima_predictions = arima_forecast(train['y'], test['y'])\n",
    "\n",
    "    # Perform forecasting using SARIMA\n",
    "    sarima_predictions = sarima_forecast(train['y'], test['y'])\n",
    "\n",
    "    # Perform forecasting using Holt-Winters\n",
    "    holt_winters_predictions = holt_winters_forecast(train['y'], test['y'])\n",
    "\n",
    "    # Perform forecasting using Facebook Prophet\n",
    "    prophet_predictions = prophet_forecast(train, test)\n",
    "\n",
    "    # Calculate MAPE\n",
    "    def calculate_mape(actual, forecast):\n",
    "        return np.mean(np.abs((actual - forecast) / actual)) * 100\n",
    "\n",
    "    # Calculate MAPE for ARIMA\n",
    "    arima_mape = calculate_mape(test['y'], arima_predictions)\n",
    "\n",
    "    # Calculate MAPE for SARIMA\n",
    "    sarima_mape = calculate_mape(test['y'], sarima_predictions)\n",
    "\n",
    "    # Calculate MAPE for Holt-Winters\n",
    "    holt_winters_mape = calculate_mape(test['y'], holt_winters_predictions)\n",
    "\n",
    "    # Calculate MAPE for Facebook Prophet\n",
    "    prophet_mape = calculate_mape(test['y'], prophet_predictions)\n",
    "\n",
    "    # Print MAPE values\n",
    "    print(\"ARIMA - MAPE: {:.2f}%\".format(arima_mape))\n",
    "    print(\"SARIMA - MAPE: {:.2f}%\".format(sarima_mape))\n",
    "    print(\"Holt-Winters - MAPE: {:.2f}%\".format(holt_winters_mape))\n",
    "    print(\"Facebook Prophet - MAPE: {:.2f}%\".format(prophet_mape))\n",
    "    \n",
    "    #FORECASTINGGG\n",
    "    \n",
    "    # Split data into training and testing sets\n",
    "    train = ts_data.iloc[:172]\n",
    "    \n",
    "    # Facebook Prophet model\n",
    "    def prophet_forecast1(train):\n",
    "        model = Prophet()\n",
    "        model.fit(train)\n",
    "        future = model.make_future_dataframe(periods=13, freq='W')\n",
    "        forecast = model.predict(future)\n",
    "        forecast = forecast['yhat'][-13:].values\n",
    "        return forecast\n",
    "    \n",
    "    # Perform forecasting using Facebook Prophet\n",
    "    prophet_predictions = prophet_forecast1(train)\n",
    "    \n",
    "    print(prophet_predictions)\n",
    "    \n",
    "    # Generate date values for the forecasted period\n",
    "    start_date = ts_data['ds'].iloc[-1]\n",
    "    forecast_dates = pd.date_range(start=start_date, periods=len(test), freq='W').strftime('%Y-%m-%d')\n",
    "    \n",
    "    for j in range(13):\n",
    "        results_df = pd.concat([results_df, pd.DataFrame({\n",
    "            'date': [forecast_dates[j]],\n",
    "            'timeseries_key': [i],\n",
    "            'Prophet_Predicted': [prophet_predictions[j]],\n",
    "            'Prophet_MAPE': [prophet_mape],\n",
    "            'ARIMA_MAPE': [arima_mape],\n",
    "            'SARIMA_MAPE': [sarima_mape],\n",
    "            'HoltWinters_MAPE': [holt_winters_mape]\n",
    "        })], ignore_index=True)        "
   ]
  },
  {
   "cell_type": "code",
   "execution_count": 130,
   "id": "7d86758e",
   "metadata": {
    "scrolled": true
   },
   "outputs": [
    {
     "data": {
      "text/html": [
       "<div>\n",
       "<style scoped>\n",
       "    .dataframe tbody tr th:only-of-type {\n",
       "        vertical-align: middle;\n",
       "    }\n",
       "\n",
       "    .dataframe tbody tr th {\n",
       "        vertical-align: top;\n",
       "    }\n",
       "\n",
       "    .dataframe thead th {\n",
       "        text-align: right;\n",
       "    }\n",
       "</style>\n",
       "<table border=\"1\" class=\"dataframe\">\n",
       "  <thead>\n",
       "    <tr style=\"text-align: right;\">\n",
       "      <th></th>\n",
       "      <th>date</th>\n",
       "      <th>timeseries_key</th>\n",
       "      <th>Prophet_Predicted</th>\n",
       "      <th>Prophet_MAPE</th>\n",
       "      <th>ARIMA_MAPE</th>\n",
       "      <th>SARIMA_MAPE</th>\n",
       "      <th>HoltWinters_MAPE</th>\n",
       "    </tr>\n",
       "  </thead>\n",
       "  <tbody>\n",
       "    <tr>\n",
       "      <th>0</th>\n",
       "      <td>2023-04-16</td>\n",
       "      <td>PRDCT1_CUSTA</td>\n",
       "      <td>539.394042</td>\n",
       "      <td>3.042337</td>\n",
       "      <td>2.961178</td>\n",
       "      <td>3.254019</td>\n",
       "      <td>3.107791</td>\n",
       "    </tr>\n",
       "    <tr>\n",
       "      <th>1</th>\n",
       "      <td>2023-04-23</td>\n",
       "      <td>PRDCT1_CUSTA</td>\n",
       "      <td>539.376779</td>\n",
       "      <td>3.042337</td>\n",
       "      <td>2.961178</td>\n",
       "      <td>3.254019</td>\n",
       "      <td>3.107791</td>\n",
       "    </tr>\n",
       "    <tr>\n",
       "      <th>2</th>\n",
       "      <td>2023-04-30</td>\n",
       "      <td>PRDCT1_CUSTA</td>\n",
       "      <td>537.079366</td>\n",
       "      <td>3.042337</td>\n",
       "      <td>2.961178</td>\n",
       "      <td>3.254019</td>\n",
       "      <td>3.107791</td>\n",
       "    </tr>\n",
       "    <tr>\n",
       "      <th>3</th>\n",
       "      <td>2023-05-07</td>\n",
       "      <td>PRDCT1_CUSTA</td>\n",
       "      <td>533.393453</td>\n",
       "      <td>3.042337</td>\n",
       "      <td>2.961178</td>\n",
       "      <td>3.254019</td>\n",
       "      <td>3.107791</td>\n",
       "    </tr>\n",
       "    <tr>\n",
       "      <th>4</th>\n",
       "      <td>2023-05-14</td>\n",
       "      <td>PRDCT1_CUSTA</td>\n",
       "      <td>530.919164</td>\n",
       "      <td>3.042337</td>\n",
       "      <td>2.961178</td>\n",
       "      <td>3.254019</td>\n",
       "      <td>3.107791</td>\n",
       "    </tr>\n",
       "    <tr>\n",
       "      <th>...</th>\n",
       "      <td>...</td>\n",
       "      <td>...</td>\n",
       "      <td>...</td>\n",
       "      <td>...</td>\n",
       "      <td>...</td>\n",
       "      <td>...</td>\n",
       "      <td>...</td>\n",
       "    </tr>\n",
       "    <tr>\n",
       "      <th>1399</th>\n",
       "      <td>2023-06-11</td>\n",
       "      <td>PRDCT9_CUSTZ</td>\n",
       "      <td>1716.515438</td>\n",
       "      <td>2.102834</td>\n",
       "      <td>2.046700</td>\n",
       "      <td>2.210724</td>\n",
       "      <td>1.979310</td>\n",
       "    </tr>\n",
       "    <tr>\n",
       "      <th>1400</th>\n",
       "      <td>2023-06-18</td>\n",
       "      <td>PRDCT9_CUSTZ</td>\n",
       "      <td>1724.327452</td>\n",
       "      <td>2.102834</td>\n",
       "      <td>2.046700</td>\n",
       "      <td>2.210724</td>\n",
       "      <td>1.979310</td>\n",
       "    </tr>\n",
       "    <tr>\n",
       "      <th>1401</th>\n",
       "      <td>2023-06-25</td>\n",
       "      <td>PRDCT9_CUSTZ</td>\n",
       "      <td>1713.830747</td>\n",
       "      <td>2.102834</td>\n",
       "      <td>2.046700</td>\n",
       "      <td>2.210724</td>\n",
       "      <td>1.979310</td>\n",
       "    </tr>\n",
       "    <tr>\n",
       "      <th>1402</th>\n",
       "      <td>2023-07-02</td>\n",
       "      <td>PRDCT9_CUSTZ</td>\n",
       "      <td>1696.017319</td>\n",
       "      <td>2.102834</td>\n",
       "      <td>2.046700</td>\n",
       "      <td>2.210724</td>\n",
       "      <td>1.979310</td>\n",
       "    </tr>\n",
       "    <tr>\n",
       "      <th>1403</th>\n",
       "      <td>2023-07-09</td>\n",
       "      <td>PRDCT9_CUSTZ</td>\n",
       "      <td>1684.225053</td>\n",
       "      <td>2.102834</td>\n",
       "      <td>2.046700</td>\n",
       "      <td>2.210724</td>\n",
       "      <td>1.979310</td>\n",
       "    </tr>\n",
       "  </tbody>\n",
       "</table>\n",
       "<p>1404 rows × 7 columns</p>\n",
       "</div>"
      ],
      "text/plain": [
       "            date timeseries_key  Prophet_Predicted  Prophet_MAPE  ARIMA_MAPE   \n",
       "0     2023-04-16   PRDCT1_CUSTA         539.394042      3.042337    2.961178  \\\n",
       "1     2023-04-23   PRDCT1_CUSTA         539.376779      3.042337    2.961178   \n",
       "2     2023-04-30   PRDCT1_CUSTA         537.079366      3.042337    2.961178   \n",
       "3     2023-05-07   PRDCT1_CUSTA         533.393453      3.042337    2.961178   \n",
       "4     2023-05-14   PRDCT1_CUSTA         530.919164      3.042337    2.961178   \n",
       "...          ...            ...                ...           ...         ...   \n",
       "1399  2023-06-11   PRDCT9_CUSTZ        1716.515438      2.102834    2.046700   \n",
       "1400  2023-06-18   PRDCT9_CUSTZ        1724.327452      2.102834    2.046700   \n",
       "1401  2023-06-25   PRDCT9_CUSTZ        1713.830747      2.102834    2.046700   \n",
       "1402  2023-07-02   PRDCT9_CUSTZ        1696.017319      2.102834    2.046700   \n",
       "1403  2023-07-09   PRDCT9_CUSTZ        1684.225053      2.102834    2.046700   \n",
       "\n",
       "      SARIMA_MAPE  HoltWinters_MAPE  \n",
       "0        3.254019          3.107791  \n",
       "1        3.254019          3.107791  \n",
       "2        3.254019          3.107791  \n",
       "3        3.254019          3.107791  \n",
       "4        3.254019          3.107791  \n",
       "...           ...               ...  \n",
       "1399     2.210724          1.979310  \n",
       "1400     2.210724          1.979310  \n",
       "1401     2.210724          1.979310  \n",
       "1402     2.210724          1.979310  \n",
       "1403     2.210724          1.979310  \n",
       "\n",
       "[1404 rows x 7 columns]"
      ]
     },
     "execution_count": 130,
     "metadata": {},
     "output_type": "execute_result"
    }
   ],
   "source": [
    "results_df"
   ]
  },
  {
   "cell_type": "code",
   "execution_count": 131,
   "id": "4fa160b6",
   "metadata": {},
   "outputs": [],
   "source": [
    "# Convert the date column to datetime format\n",
    "results_df['date'] = pd.to_datetime(results_df['date'])\n",
    "\n",
    "# Convert the date format to 'YYYY-WW'\n",
    "results_df['calweek'] = results_df['date'].dt.strftime('%Y-%U')\n"
   ]
  },
  {
   "cell_type": "code",
   "execution_count": 132,
   "id": "78a45cce",
   "metadata": {},
   "outputs": [
    {
     "data": {
      "text/html": [
       "<div>\n",
       "<style scoped>\n",
       "    .dataframe tbody tr th:only-of-type {\n",
       "        vertical-align: middle;\n",
       "    }\n",
       "\n",
       "    .dataframe tbody tr th {\n",
       "        vertical-align: top;\n",
       "    }\n",
       "\n",
       "    .dataframe thead th {\n",
       "        text-align: right;\n",
       "    }\n",
       "</style>\n",
       "<table border=\"1\" class=\"dataframe\">\n",
       "  <thead>\n",
       "    <tr style=\"text-align: right;\">\n",
       "      <th></th>\n",
       "      <th>date</th>\n",
       "      <th>timeseries_key</th>\n",
       "      <th>Prophet_Predicted</th>\n",
       "      <th>Prophet_MAPE</th>\n",
       "      <th>ARIMA_MAPE</th>\n",
       "      <th>SARIMA_MAPE</th>\n",
       "      <th>HoltWinters_MAPE</th>\n",
       "      <th>calweek</th>\n",
       "    </tr>\n",
       "  </thead>\n",
       "  <tbody>\n",
       "    <tr>\n",
       "      <th>0</th>\n",
       "      <td>2023-04-16</td>\n",
       "      <td>PRDCT1_CUSTA</td>\n",
       "      <td>539.394042</td>\n",
       "      <td>3.042337</td>\n",
       "      <td>2.961178</td>\n",
       "      <td>3.254019</td>\n",
       "      <td>3.107791</td>\n",
       "      <td>2023-16</td>\n",
       "    </tr>\n",
       "    <tr>\n",
       "      <th>1</th>\n",
       "      <td>2023-04-23</td>\n",
       "      <td>PRDCT1_CUSTA</td>\n",
       "      <td>539.376779</td>\n",
       "      <td>3.042337</td>\n",
       "      <td>2.961178</td>\n",
       "      <td>3.254019</td>\n",
       "      <td>3.107791</td>\n",
       "      <td>2023-17</td>\n",
       "    </tr>\n",
       "    <tr>\n",
       "      <th>2</th>\n",
       "      <td>2023-04-30</td>\n",
       "      <td>PRDCT1_CUSTA</td>\n",
       "      <td>537.079366</td>\n",
       "      <td>3.042337</td>\n",
       "      <td>2.961178</td>\n",
       "      <td>3.254019</td>\n",
       "      <td>3.107791</td>\n",
       "      <td>2023-18</td>\n",
       "    </tr>\n",
       "    <tr>\n",
       "      <th>3</th>\n",
       "      <td>2023-05-07</td>\n",
       "      <td>PRDCT1_CUSTA</td>\n",
       "      <td>533.393453</td>\n",
       "      <td>3.042337</td>\n",
       "      <td>2.961178</td>\n",
       "      <td>3.254019</td>\n",
       "      <td>3.107791</td>\n",
       "      <td>2023-19</td>\n",
       "    </tr>\n",
       "    <tr>\n",
       "      <th>4</th>\n",
       "      <td>2023-05-14</td>\n",
       "      <td>PRDCT1_CUSTA</td>\n",
       "      <td>530.919164</td>\n",
       "      <td>3.042337</td>\n",
       "      <td>2.961178</td>\n",
       "      <td>3.254019</td>\n",
       "      <td>3.107791</td>\n",
       "      <td>2023-20</td>\n",
       "    </tr>\n",
       "    <tr>\n",
       "      <th>...</th>\n",
       "      <td>...</td>\n",
       "      <td>...</td>\n",
       "      <td>...</td>\n",
       "      <td>...</td>\n",
       "      <td>...</td>\n",
       "      <td>...</td>\n",
       "      <td>...</td>\n",
       "      <td>...</td>\n",
       "    </tr>\n",
       "    <tr>\n",
       "      <th>1399</th>\n",
       "      <td>2023-06-11</td>\n",
       "      <td>PRDCT9_CUSTZ</td>\n",
       "      <td>1716.515438</td>\n",
       "      <td>2.102834</td>\n",
       "      <td>2.046700</td>\n",
       "      <td>2.210724</td>\n",
       "      <td>1.979310</td>\n",
       "      <td>2023-24</td>\n",
       "    </tr>\n",
       "    <tr>\n",
       "      <th>1400</th>\n",
       "      <td>2023-06-18</td>\n",
       "      <td>PRDCT9_CUSTZ</td>\n",
       "      <td>1724.327452</td>\n",
       "      <td>2.102834</td>\n",
       "      <td>2.046700</td>\n",
       "      <td>2.210724</td>\n",
       "      <td>1.979310</td>\n",
       "      <td>2023-25</td>\n",
       "    </tr>\n",
       "    <tr>\n",
       "      <th>1401</th>\n",
       "      <td>2023-06-25</td>\n",
       "      <td>PRDCT9_CUSTZ</td>\n",
       "      <td>1713.830747</td>\n",
       "      <td>2.102834</td>\n",
       "      <td>2.046700</td>\n",
       "      <td>2.210724</td>\n",
       "      <td>1.979310</td>\n",
       "      <td>2023-26</td>\n",
       "    </tr>\n",
       "    <tr>\n",
       "      <th>1402</th>\n",
       "      <td>2023-07-02</td>\n",
       "      <td>PRDCT9_CUSTZ</td>\n",
       "      <td>1696.017319</td>\n",
       "      <td>2.102834</td>\n",
       "      <td>2.046700</td>\n",
       "      <td>2.210724</td>\n",
       "      <td>1.979310</td>\n",
       "      <td>2023-27</td>\n",
       "    </tr>\n",
       "    <tr>\n",
       "      <th>1403</th>\n",
       "      <td>2023-07-09</td>\n",
       "      <td>PRDCT9_CUSTZ</td>\n",
       "      <td>1684.225053</td>\n",
       "      <td>2.102834</td>\n",
       "      <td>2.046700</td>\n",
       "      <td>2.210724</td>\n",
       "      <td>1.979310</td>\n",
       "      <td>2023-28</td>\n",
       "    </tr>\n",
       "  </tbody>\n",
       "</table>\n",
       "<p>1404 rows × 8 columns</p>\n",
       "</div>"
      ],
      "text/plain": [
       "           date timeseries_key  Prophet_Predicted  Prophet_MAPE  ARIMA_MAPE   \n",
       "0    2023-04-16   PRDCT1_CUSTA         539.394042      3.042337    2.961178  \\\n",
       "1    2023-04-23   PRDCT1_CUSTA         539.376779      3.042337    2.961178   \n",
       "2    2023-04-30   PRDCT1_CUSTA         537.079366      3.042337    2.961178   \n",
       "3    2023-05-07   PRDCT1_CUSTA         533.393453      3.042337    2.961178   \n",
       "4    2023-05-14   PRDCT1_CUSTA         530.919164      3.042337    2.961178   \n",
       "...         ...            ...                ...           ...         ...   \n",
       "1399 2023-06-11   PRDCT9_CUSTZ        1716.515438      2.102834    2.046700   \n",
       "1400 2023-06-18   PRDCT9_CUSTZ        1724.327452      2.102834    2.046700   \n",
       "1401 2023-06-25   PRDCT9_CUSTZ        1713.830747      2.102834    2.046700   \n",
       "1402 2023-07-02   PRDCT9_CUSTZ        1696.017319      2.102834    2.046700   \n",
       "1403 2023-07-09   PRDCT9_CUSTZ        1684.225053      2.102834    2.046700   \n",
       "\n",
       "      SARIMA_MAPE  HoltWinters_MAPE  calweek  \n",
       "0        3.254019          3.107791  2023-16  \n",
       "1        3.254019          3.107791  2023-17  \n",
       "2        3.254019          3.107791  2023-18  \n",
       "3        3.254019          3.107791  2023-19  \n",
       "4        3.254019          3.107791  2023-20  \n",
       "...           ...               ...      ...  \n",
       "1399     2.210724          1.979310  2023-24  \n",
       "1400     2.210724          1.979310  2023-25  \n",
       "1401     2.210724          1.979310  2023-26  \n",
       "1402     2.210724          1.979310  2023-27  \n",
       "1403     2.210724          1.979310  2023-28  \n",
       "\n",
       "[1404 rows x 8 columns]"
      ]
     },
     "execution_count": 132,
     "metadata": {},
     "output_type": "execute_result"
    }
   ],
   "source": [
    "results_df"
   ]
  },
  {
   "cell_type": "code",
   "execution_count": 142,
   "id": "6fbef318",
   "metadata": {},
   "outputs": [
    {
     "data": {
      "text/plain": [
       "timeseries_key\n",
       "PRDCT1_CUSTA    13\n",
       "PRDCT3_CUSTM    13\n",
       "PRDCT5_CUSTL    13\n",
       "PRDCT5_CUSTK    13\n",
       "PRDCT4_CUSTZ    13\n",
       "                ..\n",
       "PRDCT6_CUSTC    13\n",
       "PRDCT6_CUSTB    13\n",
       "PRDCT6_CUSTA    13\n",
       "PRDCT5_CUSTF    13\n",
       "PRDCT9_CUSTZ    13\n",
       "Name: count, Length: 108, dtype: int64"
      ]
     },
     "execution_count": 142,
     "metadata": {},
     "output_type": "execute_result"
    }
   ],
   "source": [
    "results_df[\"timeseries_key\"].value_counts()"
   ]
  },
  {
   "cell_type": "code",
   "execution_count": 133,
   "id": "8aa5190c",
   "metadata": {},
   "outputs": [],
   "source": [
    "# # Save results_df as a CSV file\n",
    "# results_df.to_csv('predictions.csv', index=False)"
   ]
  },
  {
   "cell_type": "code",
   "execution_count": 134,
   "id": "1d3de28d",
   "metadata": {},
   "outputs": [
    {
     "data": {
      "text/html": [
       "<div>\n",
       "<style scoped>\n",
       "    .dataframe tbody tr th:only-of-type {\n",
       "        vertical-align: middle;\n",
       "    }\n",
       "\n",
       "    .dataframe tbody tr th {\n",
       "        vertical-align: top;\n",
       "    }\n",
       "\n",
       "    .dataframe thead th {\n",
       "        text-align: right;\n",
       "    }\n",
       "</style>\n",
       "<table border=\"1\" class=\"dataframe\">\n",
       "  <thead>\n",
       "    <tr style=\"text-align: right;\">\n",
       "      <th></th>\n",
       "      <th>calweek</th>\n",
       "      <th>product_code</th>\n",
       "      <th>customer_code</th>\n",
       "      <th>Quantity</th>\n",
       "      <th>timeseries_key</th>\n",
       "    </tr>\n",
       "  </thead>\n",
       "  <tbody>\n",
       "    <tr>\n",
       "      <th>0</th>\n",
       "      <td>202001</td>\n",
       "      <td>PRDCT1</td>\n",
       "      <td>CUSTA</td>\n",
       "      <td>537</td>\n",
       "      <td>PRDCT1_CUSTA</td>\n",
       "    </tr>\n",
       "    <tr>\n",
       "      <th>1</th>\n",
       "      <td>202002</td>\n",
       "      <td>PRDCT1</td>\n",
       "      <td>CUSTA</td>\n",
       "      <td>544</td>\n",
       "      <td>PRDCT1_CUSTA</td>\n",
       "    </tr>\n",
       "    <tr>\n",
       "      <th>2</th>\n",
       "      <td>202003</td>\n",
       "      <td>PRDCT1</td>\n",
       "      <td>CUSTA</td>\n",
       "      <td>574</td>\n",
       "      <td>PRDCT1_CUSTA</td>\n",
       "    </tr>\n",
       "    <tr>\n",
       "      <th>3</th>\n",
       "      <td>202004</td>\n",
       "      <td>PRDCT1</td>\n",
       "      <td>CUSTA</td>\n",
       "      <td>523</td>\n",
       "      <td>PRDCT1_CUSTA</td>\n",
       "    </tr>\n",
       "    <tr>\n",
       "      <th>4</th>\n",
       "      <td>202005</td>\n",
       "      <td>PRDCT1</td>\n",
       "      <td>CUSTA</td>\n",
       "      <td>571</td>\n",
       "      <td>PRDCT1_CUSTA</td>\n",
       "    </tr>\n",
       "    <tr>\n",
       "      <th>...</th>\n",
       "      <td>...</td>\n",
       "      <td>...</td>\n",
       "      <td>...</td>\n",
       "      <td>...</td>\n",
       "      <td>...</td>\n",
       "    </tr>\n",
       "    <tr>\n",
       "      <th>18463</th>\n",
       "      <td>202311</td>\n",
       "      <td>PRDCT9</td>\n",
       "      <td>CUSTZ</td>\n",
       "      <td>1753</td>\n",
       "      <td>PRDCT9_CUSTZ</td>\n",
       "    </tr>\n",
       "    <tr>\n",
       "      <th>18464</th>\n",
       "      <td>202312</td>\n",
       "      <td>PRDCT9</td>\n",
       "      <td>CUSTZ</td>\n",
       "      <td>1752</td>\n",
       "      <td>PRDCT9_CUSTZ</td>\n",
       "    </tr>\n",
       "    <tr>\n",
       "      <th>18465</th>\n",
       "      <td>202313</td>\n",
       "      <td>PRDCT9</td>\n",
       "      <td>CUSTZ</td>\n",
       "      <td>1673</td>\n",
       "      <td>PRDCT9_CUSTZ</td>\n",
       "    </tr>\n",
       "    <tr>\n",
       "      <th>18466</th>\n",
       "      <td>202314</td>\n",
       "      <td>PRDCT9</td>\n",
       "      <td>CUSTZ</td>\n",
       "      <td>1752</td>\n",
       "      <td>PRDCT9_CUSTZ</td>\n",
       "    </tr>\n",
       "    <tr>\n",
       "      <th>18467</th>\n",
       "      <td>202315</td>\n",
       "      <td>PRDCT9</td>\n",
       "      <td>CUSTZ</td>\n",
       "      <td>1642</td>\n",
       "      <td>PRDCT9_CUSTZ</td>\n",
       "    </tr>\n",
       "  </tbody>\n",
       "</table>\n",
       "<p>18468 rows × 5 columns</p>\n",
       "</div>"
      ],
      "text/plain": [
       "       calweek product_code customer_code  Quantity timeseries_key\n",
       "0       202001       PRDCT1         CUSTA       537   PRDCT1_CUSTA\n",
       "1       202002       PRDCT1         CUSTA       544   PRDCT1_CUSTA\n",
       "2       202003       PRDCT1         CUSTA       574   PRDCT1_CUSTA\n",
       "3       202004       PRDCT1         CUSTA       523   PRDCT1_CUSTA\n",
       "4       202005       PRDCT1         CUSTA       571   PRDCT1_CUSTA\n",
       "...        ...          ...           ...       ...            ...\n",
       "18463   202311       PRDCT9         CUSTZ      1753   PRDCT9_CUSTZ\n",
       "18464   202312       PRDCT9         CUSTZ      1752   PRDCT9_CUSTZ\n",
       "18465   202313       PRDCT9         CUSTZ      1673   PRDCT9_CUSTZ\n",
       "18466   202314       PRDCT9         CUSTZ      1752   PRDCT9_CUSTZ\n",
       "18467   202315       PRDCT9         CUSTZ      1642   PRDCT9_CUSTZ\n",
       "\n",
       "[18468 rows x 5 columns]"
      ]
     },
     "execution_count": 134,
     "metadata": {},
     "output_type": "execute_result"
    }
   ],
   "source": [
    "df1"
   ]
  },
  {
   "cell_type": "code",
   "execution_count": 139,
   "id": "aa0feaef",
   "metadata": {},
   "outputs": [
    {
     "data": {
      "text/html": [
       "<div>\n",
       "<style scoped>\n",
       "    .dataframe tbody tr th:only-of-type {\n",
       "        vertical-align: middle;\n",
       "    }\n",
       "\n",
       "    .dataframe tbody tr th {\n",
       "        vertical-align: top;\n",
       "    }\n",
       "\n",
       "    .dataframe thead th {\n",
       "        text-align: right;\n",
       "    }\n",
       "</style>\n",
       "<table border=\"1\" class=\"dataframe\">\n",
       "  <thead>\n",
       "    <tr style=\"text-align: right;\">\n",
       "      <th></th>\n",
       "      <th>Cluster/Country/Region</th>\n",
       "      <th>SubCluster</th>\n",
       "      <th>calweek</th>\n",
       "      <th>brand</th>\n",
       "      <th>dc</th>\n",
       "      <th>product_code</th>\n",
       "      <th>customer_code</th>\n",
       "      <th>Quantity</th>\n",
       "      <th>timeseries_key</th>\n",
       "      <th>date</th>\n",
       "      <th>Prophet_Predicted</th>\n",
       "      <th>Prophet_MAPE</th>\n",
       "      <th>ARIMA_MAPE</th>\n",
       "      <th>SARIMA_MAPE</th>\n",
       "      <th>HoltWinters_MAPE</th>\n",
       "    </tr>\n",
       "  </thead>\n",
       "  <tbody>\n",
       "    <tr>\n",
       "      <th>0</th>\n",
       "      <td>US</td>\n",
       "      <td>SC1</td>\n",
       "      <td>202001</td>\n",
       "      <td>BRANDA</td>\n",
       "      <td>DC1</td>\n",
       "      <td>PRDCT1</td>\n",
       "      <td>CUSTA</td>\n",
       "      <td>537.0</td>\n",
       "      <td>PRDCT1_CUSTA</td>\n",
       "      <td>NaT</td>\n",
       "      <td>NaN</td>\n",
       "      <td>NaN</td>\n",
       "      <td>NaN</td>\n",
       "      <td>NaN</td>\n",
       "      <td>NaN</td>\n",
       "    </tr>\n",
       "    <tr>\n",
       "      <th>1</th>\n",
       "      <td>US</td>\n",
       "      <td>SC1</td>\n",
       "      <td>202002</td>\n",
       "      <td>BRANDA</td>\n",
       "      <td>DC1</td>\n",
       "      <td>PRDCT1</td>\n",
       "      <td>CUSTA</td>\n",
       "      <td>544.0</td>\n",
       "      <td>PRDCT1_CUSTA</td>\n",
       "      <td>NaT</td>\n",
       "      <td>NaN</td>\n",
       "      <td>NaN</td>\n",
       "      <td>NaN</td>\n",
       "      <td>NaN</td>\n",
       "      <td>NaN</td>\n",
       "    </tr>\n",
       "    <tr>\n",
       "      <th>2</th>\n",
       "      <td>US</td>\n",
       "      <td>SC1</td>\n",
       "      <td>202003</td>\n",
       "      <td>BRANDA</td>\n",
       "      <td>DC1</td>\n",
       "      <td>PRDCT1</td>\n",
       "      <td>CUSTA</td>\n",
       "      <td>574.0</td>\n",
       "      <td>PRDCT1_CUSTA</td>\n",
       "      <td>NaT</td>\n",
       "      <td>NaN</td>\n",
       "      <td>NaN</td>\n",
       "      <td>NaN</td>\n",
       "      <td>NaN</td>\n",
       "      <td>NaN</td>\n",
       "    </tr>\n",
       "    <tr>\n",
       "      <th>3</th>\n",
       "      <td>US</td>\n",
       "      <td>SC1</td>\n",
       "      <td>202004</td>\n",
       "      <td>BRANDA</td>\n",
       "      <td>DC1</td>\n",
       "      <td>PRDCT1</td>\n",
       "      <td>CUSTA</td>\n",
       "      <td>523.0</td>\n",
       "      <td>PRDCT1_CUSTA</td>\n",
       "      <td>NaT</td>\n",
       "      <td>NaN</td>\n",
       "      <td>NaN</td>\n",
       "      <td>NaN</td>\n",
       "      <td>NaN</td>\n",
       "      <td>NaN</td>\n",
       "    </tr>\n",
       "    <tr>\n",
       "      <th>4</th>\n",
       "      <td>US</td>\n",
       "      <td>SC1</td>\n",
       "      <td>202005</td>\n",
       "      <td>BRANDA</td>\n",
       "      <td>DC1</td>\n",
       "      <td>PRDCT1</td>\n",
       "      <td>CUSTA</td>\n",
       "      <td>571.0</td>\n",
       "      <td>PRDCT1_CUSTA</td>\n",
       "      <td>NaT</td>\n",
       "      <td>NaN</td>\n",
       "      <td>NaN</td>\n",
       "      <td>NaN</td>\n",
       "      <td>NaN</td>\n",
       "      <td>NaN</td>\n",
       "    </tr>\n",
       "    <tr>\n",
       "      <th>...</th>\n",
       "      <td>...</td>\n",
       "      <td>...</td>\n",
       "      <td>...</td>\n",
       "      <td>...</td>\n",
       "      <td>...</td>\n",
       "      <td>...</td>\n",
       "      <td>...</td>\n",
       "      <td>...</td>\n",
       "      <td>...</td>\n",
       "      <td>...</td>\n",
       "      <td>...</td>\n",
       "      <td>...</td>\n",
       "      <td>...</td>\n",
       "      <td>...</td>\n",
       "      <td>...</td>\n",
       "    </tr>\n",
       "    <tr>\n",
       "      <th>19867</th>\n",
       "      <td>NaN</td>\n",
       "      <td>NaN</td>\n",
       "      <td>2023-24</td>\n",
       "      <td>NaN</td>\n",
       "      <td>NaN</td>\n",
       "      <td>NaN</td>\n",
       "      <td>NaN</td>\n",
       "      <td>NaN</td>\n",
       "      <td>PRDCT9_CUSTZ</td>\n",
       "      <td>2023-06-11</td>\n",
       "      <td>1716.515438</td>\n",
       "      <td>2.102834</td>\n",
       "      <td>2.0467</td>\n",
       "      <td>2.210724</td>\n",
       "      <td>1.97931</td>\n",
       "    </tr>\n",
       "    <tr>\n",
       "      <th>19868</th>\n",
       "      <td>NaN</td>\n",
       "      <td>NaN</td>\n",
       "      <td>2023-25</td>\n",
       "      <td>NaN</td>\n",
       "      <td>NaN</td>\n",
       "      <td>NaN</td>\n",
       "      <td>NaN</td>\n",
       "      <td>NaN</td>\n",
       "      <td>PRDCT9_CUSTZ</td>\n",
       "      <td>2023-06-18</td>\n",
       "      <td>1724.327452</td>\n",
       "      <td>2.102834</td>\n",
       "      <td>2.0467</td>\n",
       "      <td>2.210724</td>\n",
       "      <td>1.97931</td>\n",
       "    </tr>\n",
       "    <tr>\n",
       "      <th>19869</th>\n",
       "      <td>NaN</td>\n",
       "      <td>NaN</td>\n",
       "      <td>2023-26</td>\n",
       "      <td>NaN</td>\n",
       "      <td>NaN</td>\n",
       "      <td>NaN</td>\n",
       "      <td>NaN</td>\n",
       "      <td>NaN</td>\n",
       "      <td>PRDCT9_CUSTZ</td>\n",
       "      <td>2023-06-25</td>\n",
       "      <td>1713.830747</td>\n",
       "      <td>2.102834</td>\n",
       "      <td>2.0467</td>\n",
       "      <td>2.210724</td>\n",
       "      <td>1.97931</td>\n",
       "    </tr>\n",
       "    <tr>\n",
       "      <th>19870</th>\n",
       "      <td>NaN</td>\n",
       "      <td>NaN</td>\n",
       "      <td>2023-27</td>\n",
       "      <td>NaN</td>\n",
       "      <td>NaN</td>\n",
       "      <td>NaN</td>\n",
       "      <td>NaN</td>\n",
       "      <td>NaN</td>\n",
       "      <td>PRDCT9_CUSTZ</td>\n",
       "      <td>2023-07-02</td>\n",
       "      <td>1696.017319</td>\n",
       "      <td>2.102834</td>\n",
       "      <td>2.0467</td>\n",
       "      <td>2.210724</td>\n",
       "      <td>1.97931</td>\n",
       "    </tr>\n",
       "    <tr>\n",
       "      <th>19871</th>\n",
       "      <td>NaN</td>\n",
       "      <td>NaN</td>\n",
       "      <td>2023-28</td>\n",
       "      <td>NaN</td>\n",
       "      <td>NaN</td>\n",
       "      <td>NaN</td>\n",
       "      <td>NaN</td>\n",
       "      <td>NaN</td>\n",
       "      <td>PRDCT9_CUSTZ</td>\n",
       "      <td>2023-07-09</td>\n",
       "      <td>1684.225053</td>\n",
       "      <td>2.102834</td>\n",
       "      <td>2.0467</td>\n",
       "      <td>2.210724</td>\n",
       "      <td>1.97931</td>\n",
       "    </tr>\n",
       "  </tbody>\n",
       "</table>\n",
       "<p>19872 rows × 15 columns</p>\n",
       "</div>"
      ],
      "text/plain": [
       "      Cluster/Country/Region SubCluster  calweek   brand   dc product_code   \n",
       "0                         US        SC1   202001  BRANDA  DC1       PRDCT1  \\\n",
       "1                         US        SC1   202002  BRANDA  DC1       PRDCT1   \n",
       "2                         US        SC1   202003  BRANDA  DC1       PRDCT1   \n",
       "3                         US        SC1   202004  BRANDA  DC1       PRDCT1   \n",
       "4                         US        SC1   202005  BRANDA  DC1       PRDCT1   \n",
       "...                      ...        ...      ...     ...  ...          ...   \n",
       "19867                    NaN        NaN  2023-24     NaN  NaN          NaN   \n",
       "19868                    NaN        NaN  2023-25     NaN  NaN          NaN   \n",
       "19869                    NaN        NaN  2023-26     NaN  NaN          NaN   \n",
       "19870                    NaN        NaN  2023-27     NaN  NaN          NaN   \n",
       "19871                    NaN        NaN  2023-28     NaN  NaN          NaN   \n",
       "\n",
       "      customer_code  Quantity timeseries_key       date  Prophet_Predicted   \n",
       "0             CUSTA     537.0   PRDCT1_CUSTA        NaT                NaN  \\\n",
       "1             CUSTA     544.0   PRDCT1_CUSTA        NaT                NaN   \n",
       "2             CUSTA     574.0   PRDCT1_CUSTA        NaT                NaN   \n",
       "3             CUSTA     523.0   PRDCT1_CUSTA        NaT                NaN   \n",
       "4             CUSTA     571.0   PRDCT1_CUSTA        NaT                NaN   \n",
       "...             ...       ...            ...        ...                ...   \n",
       "19867           NaN       NaN   PRDCT9_CUSTZ 2023-06-11        1716.515438   \n",
       "19868           NaN       NaN   PRDCT9_CUSTZ 2023-06-18        1724.327452   \n",
       "19869           NaN       NaN   PRDCT9_CUSTZ 2023-06-25        1713.830747   \n",
       "19870           NaN       NaN   PRDCT9_CUSTZ 2023-07-02        1696.017319   \n",
       "19871           NaN       NaN   PRDCT9_CUSTZ 2023-07-09        1684.225053   \n",
       "\n",
       "       Prophet_MAPE  ARIMA_MAPE  SARIMA_MAPE  HoltWinters_MAPE  \n",
       "0               NaN         NaN          NaN               NaN  \n",
       "1               NaN         NaN          NaN               NaN  \n",
       "2               NaN         NaN          NaN               NaN  \n",
       "3               NaN         NaN          NaN               NaN  \n",
       "4               NaN         NaN          NaN               NaN  \n",
       "...             ...         ...          ...               ...  \n",
       "19867      2.102834      2.0467     2.210724           1.97931  \n",
       "19868      2.102834      2.0467     2.210724           1.97931  \n",
       "19869      2.102834      2.0467     2.210724           1.97931  \n",
       "19870      2.102834      2.0467     2.210724           1.97931  \n",
       "19871      2.102834      2.0467     2.210724           1.97931  \n",
       "\n",
       "[19872 rows x 15 columns]"
      ]
     },
     "execution_count": 139,
     "metadata": {},
     "output_type": "execute_result"
    }
   ],
   "source": [
    "concatenated_df = pd.concat([df, results_df], ignore_index=True)\n",
    "concatenated_df"
   ]
  },
  {
   "cell_type": "code",
   "execution_count": 136,
   "id": "4413b1b5",
   "metadata": {},
   "outputs": [
    {
     "data": {
      "text/html": [
       "<div>\n",
       "<style scoped>\n",
       "    .dataframe tbody tr th:only-of-type {\n",
       "        vertical-align: middle;\n",
       "    }\n",
       "\n",
       "    .dataframe tbody tr th {\n",
       "        vertical-align: top;\n",
       "    }\n",
       "\n",
       "    .dataframe thead th {\n",
       "        text-align: right;\n",
       "    }\n",
       "</style>\n",
       "<table border=\"1\" class=\"dataframe\">\n",
       "  <thead>\n",
       "    <tr style=\"text-align: right;\">\n",
       "      <th></th>\n",
       "      <th>calweek</th>\n",
       "      <th>product_code</th>\n",
       "      <th>customer_code</th>\n",
       "      <th>Quantity</th>\n",
       "      <th>timeseries_key</th>\n",
       "      <th>date</th>\n",
       "      <th>Prophet_Predicted</th>\n",
       "      <th>Prophet_MAPE</th>\n",
       "      <th>ARIMA_MAPE</th>\n",
       "      <th>SARIMA_MAPE</th>\n",
       "      <th>HoltWinters_MAPE</th>\n",
       "    </tr>\n",
       "  </thead>\n",
       "  <tbody>\n",
       "    <tr>\n",
       "      <th>18468</th>\n",
       "      <td>2023-16</td>\n",
       "      <td>NaN</td>\n",
       "      <td>NaN</td>\n",
       "      <td>NaN</td>\n",
       "      <td>PRDCT1_CUSTA</td>\n",
       "      <td>2023-04-16</td>\n",
       "      <td>539.394042</td>\n",
       "      <td>3.042337</td>\n",
       "      <td>2.961178</td>\n",
       "      <td>3.254019</td>\n",
       "      <td>3.107791</td>\n",
       "    </tr>\n",
       "    <tr>\n",
       "      <th>18469</th>\n",
       "      <td>2023-17</td>\n",
       "      <td>NaN</td>\n",
       "      <td>NaN</td>\n",
       "      <td>NaN</td>\n",
       "      <td>PRDCT1_CUSTA</td>\n",
       "      <td>2023-04-23</td>\n",
       "      <td>539.376779</td>\n",
       "      <td>3.042337</td>\n",
       "      <td>2.961178</td>\n",
       "      <td>3.254019</td>\n",
       "      <td>3.107791</td>\n",
       "    </tr>\n",
       "    <tr>\n",
       "      <th>18470</th>\n",
       "      <td>2023-18</td>\n",
       "      <td>NaN</td>\n",
       "      <td>NaN</td>\n",
       "      <td>NaN</td>\n",
       "      <td>PRDCT1_CUSTA</td>\n",
       "      <td>2023-04-30</td>\n",
       "      <td>537.079366</td>\n",
       "      <td>3.042337</td>\n",
       "      <td>2.961178</td>\n",
       "      <td>3.254019</td>\n",
       "      <td>3.107791</td>\n",
       "    </tr>\n",
       "    <tr>\n",
       "      <th>18471</th>\n",
       "      <td>2023-19</td>\n",
       "      <td>NaN</td>\n",
       "      <td>NaN</td>\n",
       "      <td>NaN</td>\n",
       "      <td>PRDCT1_CUSTA</td>\n",
       "      <td>2023-05-07</td>\n",
       "      <td>533.393453</td>\n",
       "      <td>3.042337</td>\n",
       "      <td>2.961178</td>\n",
       "      <td>3.254019</td>\n",
       "      <td>3.107791</td>\n",
       "    </tr>\n",
       "    <tr>\n",
       "      <th>18472</th>\n",
       "      <td>2023-20</td>\n",
       "      <td>NaN</td>\n",
       "      <td>NaN</td>\n",
       "      <td>NaN</td>\n",
       "      <td>PRDCT1_CUSTA</td>\n",
       "      <td>2023-05-14</td>\n",
       "      <td>530.919164</td>\n",
       "      <td>3.042337</td>\n",
       "      <td>2.961178</td>\n",
       "      <td>3.254019</td>\n",
       "      <td>3.107791</td>\n",
       "    </tr>\n",
       "    <tr>\n",
       "      <th>...</th>\n",
       "      <td>...</td>\n",
       "      <td>...</td>\n",
       "      <td>...</td>\n",
       "      <td>...</td>\n",
       "      <td>...</td>\n",
       "      <td>...</td>\n",
       "      <td>...</td>\n",
       "      <td>...</td>\n",
       "      <td>...</td>\n",
       "      <td>...</td>\n",
       "      <td>...</td>\n",
       "    </tr>\n",
       "    <tr>\n",
       "      <th>19867</th>\n",
       "      <td>2023-24</td>\n",
       "      <td>NaN</td>\n",
       "      <td>NaN</td>\n",
       "      <td>NaN</td>\n",
       "      <td>PRDCT9_CUSTZ</td>\n",
       "      <td>2023-06-11</td>\n",
       "      <td>1716.515438</td>\n",
       "      <td>2.102834</td>\n",
       "      <td>2.046700</td>\n",
       "      <td>2.210724</td>\n",
       "      <td>1.979310</td>\n",
       "    </tr>\n",
       "    <tr>\n",
       "      <th>19868</th>\n",
       "      <td>2023-25</td>\n",
       "      <td>NaN</td>\n",
       "      <td>NaN</td>\n",
       "      <td>NaN</td>\n",
       "      <td>PRDCT9_CUSTZ</td>\n",
       "      <td>2023-06-18</td>\n",
       "      <td>1724.327452</td>\n",
       "      <td>2.102834</td>\n",
       "      <td>2.046700</td>\n",
       "      <td>2.210724</td>\n",
       "      <td>1.979310</td>\n",
       "    </tr>\n",
       "    <tr>\n",
       "      <th>19869</th>\n",
       "      <td>2023-26</td>\n",
       "      <td>NaN</td>\n",
       "      <td>NaN</td>\n",
       "      <td>NaN</td>\n",
       "      <td>PRDCT9_CUSTZ</td>\n",
       "      <td>2023-06-25</td>\n",
       "      <td>1713.830747</td>\n",
       "      <td>2.102834</td>\n",
       "      <td>2.046700</td>\n",
       "      <td>2.210724</td>\n",
       "      <td>1.979310</td>\n",
       "    </tr>\n",
       "    <tr>\n",
       "      <th>19870</th>\n",
       "      <td>2023-27</td>\n",
       "      <td>NaN</td>\n",
       "      <td>NaN</td>\n",
       "      <td>NaN</td>\n",
       "      <td>PRDCT9_CUSTZ</td>\n",
       "      <td>2023-07-02</td>\n",
       "      <td>1696.017319</td>\n",
       "      <td>2.102834</td>\n",
       "      <td>2.046700</td>\n",
       "      <td>2.210724</td>\n",
       "      <td>1.979310</td>\n",
       "    </tr>\n",
       "    <tr>\n",
       "      <th>19871</th>\n",
       "      <td>2023-28</td>\n",
       "      <td>NaN</td>\n",
       "      <td>NaN</td>\n",
       "      <td>NaN</td>\n",
       "      <td>PRDCT9_CUSTZ</td>\n",
       "      <td>2023-07-09</td>\n",
       "      <td>1684.225053</td>\n",
       "      <td>2.102834</td>\n",
       "      <td>2.046700</td>\n",
       "      <td>2.210724</td>\n",
       "      <td>1.979310</td>\n",
       "    </tr>\n",
       "  </tbody>\n",
       "</table>\n",
       "<p>1404 rows × 11 columns</p>\n",
       "</div>"
      ],
      "text/plain": [
       "       calweek product_code customer_code  Quantity timeseries_key       date   \n",
       "18468  2023-16          NaN           NaN       NaN   PRDCT1_CUSTA 2023-04-16  \\\n",
       "18469  2023-17          NaN           NaN       NaN   PRDCT1_CUSTA 2023-04-23   \n",
       "18470  2023-18          NaN           NaN       NaN   PRDCT1_CUSTA 2023-04-30   \n",
       "18471  2023-19          NaN           NaN       NaN   PRDCT1_CUSTA 2023-05-07   \n",
       "18472  2023-20          NaN           NaN       NaN   PRDCT1_CUSTA 2023-05-14   \n",
       "...        ...          ...           ...       ...            ...        ...   \n",
       "19867  2023-24          NaN           NaN       NaN   PRDCT9_CUSTZ 2023-06-11   \n",
       "19868  2023-25          NaN           NaN       NaN   PRDCT9_CUSTZ 2023-06-18   \n",
       "19869  2023-26          NaN           NaN       NaN   PRDCT9_CUSTZ 2023-06-25   \n",
       "19870  2023-27          NaN           NaN       NaN   PRDCT9_CUSTZ 2023-07-02   \n",
       "19871  2023-28          NaN           NaN       NaN   PRDCT9_CUSTZ 2023-07-09   \n",
       "\n",
       "       Prophet_Predicted  Prophet_MAPE  ARIMA_MAPE  SARIMA_MAPE   \n",
       "18468         539.394042      3.042337    2.961178     3.254019  \\\n",
       "18469         539.376779      3.042337    2.961178     3.254019   \n",
       "18470         537.079366      3.042337    2.961178     3.254019   \n",
       "18471         533.393453      3.042337    2.961178     3.254019   \n",
       "18472         530.919164      3.042337    2.961178     3.254019   \n",
       "...                  ...           ...         ...          ...   \n",
       "19867        1716.515438      2.102834    2.046700     2.210724   \n",
       "19868        1724.327452      2.102834    2.046700     2.210724   \n",
       "19869        1713.830747      2.102834    2.046700     2.210724   \n",
       "19870        1696.017319      2.102834    2.046700     2.210724   \n",
       "19871        1684.225053      2.102834    2.046700     2.210724   \n",
       "\n",
       "       HoltWinters_MAPE  \n",
       "18468          3.107791  \n",
       "18469          3.107791  \n",
       "18470          3.107791  \n",
       "18471          3.107791  \n",
       "18472          3.107791  \n",
       "...                 ...  \n",
       "19867          1.979310  \n",
       "19868          1.979310  \n",
       "19869          1.979310  \n",
       "19870          1.979310  \n",
       "19871          1.979310  \n",
       "\n",
       "[1404 rows x 11 columns]"
      ]
     },
     "execution_count": 136,
     "metadata": {},
     "output_type": "execute_result"
    }
   ],
   "source": [
    "concatenated_df[18468:]"
   ]
  },
  {
   "cell_type": "code",
   "execution_count": 137,
   "id": "9c4a9fbf",
   "metadata": {},
   "outputs": [
    {
     "data": {
      "text/html": [
       "<div>\n",
       "<style scoped>\n",
       "    .dataframe tbody tr th:only-of-type {\n",
       "        vertical-align: middle;\n",
       "    }\n",
       "\n",
       "    .dataframe tbody tr th {\n",
       "        vertical-align: top;\n",
       "    }\n",
       "\n",
       "    .dataframe thead th {\n",
       "        text-align: right;\n",
       "    }\n",
       "</style>\n",
       "<table border=\"1\" class=\"dataframe\">\n",
       "  <thead>\n",
       "    <tr style=\"text-align: right;\">\n",
       "      <th></th>\n",
       "      <th>date</th>\n",
       "      <th>timeseries_key</th>\n",
       "      <th>Prophet_Predicted</th>\n",
       "      <th>Prophet_MAPE</th>\n",
       "      <th>ARIMA_MAPE</th>\n",
       "      <th>SARIMA_MAPE</th>\n",
       "      <th>HoltWinters_MAPE</th>\n",
       "      <th>calweek_x</th>\n",
       "      <th>Cluster/Country/Region</th>\n",
       "      <th>SubCluster</th>\n",
       "      <th>calweek_y</th>\n",
       "      <th>brand</th>\n",
       "      <th>dc</th>\n",
       "      <th>product_code</th>\n",
       "      <th>customer_code</th>\n",
       "      <th>Quantity</th>\n",
       "    </tr>\n",
       "  </thead>\n",
       "  <tbody>\n",
       "    <tr>\n",
       "      <th>0</th>\n",
       "      <td>2023-04-16</td>\n",
       "      <td>PRDCT1_CUSTA</td>\n",
       "      <td>539.394042</td>\n",
       "      <td>3.042337</td>\n",
       "      <td>2.961178</td>\n",
       "      <td>3.254019</td>\n",
       "      <td>3.107791</td>\n",
       "      <td>2023-16</td>\n",
       "      <td>US</td>\n",
       "      <td>SC1</td>\n",
       "      <td>202001</td>\n",
       "      <td>BRANDA</td>\n",
       "      <td>DC1</td>\n",
       "      <td>PRDCT1</td>\n",
       "      <td>CUSTA</td>\n",
       "      <td>537</td>\n",
       "    </tr>\n",
       "    <tr>\n",
       "      <th>1</th>\n",
       "      <td>2023-04-16</td>\n",
       "      <td>PRDCT1_CUSTA</td>\n",
       "      <td>539.394042</td>\n",
       "      <td>3.042337</td>\n",
       "      <td>2.961178</td>\n",
       "      <td>3.254019</td>\n",
       "      <td>3.107791</td>\n",
       "      <td>2023-16</td>\n",
       "      <td>US</td>\n",
       "      <td>SC1</td>\n",
       "      <td>202002</td>\n",
       "      <td>BRANDA</td>\n",
       "      <td>DC1</td>\n",
       "      <td>PRDCT1</td>\n",
       "      <td>CUSTA</td>\n",
       "      <td>544</td>\n",
       "    </tr>\n",
       "    <tr>\n",
       "      <th>2</th>\n",
       "      <td>2023-04-16</td>\n",
       "      <td>PRDCT1_CUSTA</td>\n",
       "      <td>539.394042</td>\n",
       "      <td>3.042337</td>\n",
       "      <td>2.961178</td>\n",
       "      <td>3.254019</td>\n",
       "      <td>3.107791</td>\n",
       "      <td>2023-16</td>\n",
       "      <td>US</td>\n",
       "      <td>SC1</td>\n",
       "      <td>202003</td>\n",
       "      <td>BRANDA</td>\n",
       "      <td>DC1</td>\n",
       "      <td>PRDCT1</td>\n",
       "      <td>CUSTA</td>\n",
       "      <td>574</td>\n",
       "    </tr>\n",
       "    <tr>\n",
       "      <th>3</th>\n",
       "      <td>2023-04-16</td>\n",
       "      <td>PRDCT1_CUSTA</td>\n",
       "      <td>539.394042</td>\n",
       "      <td>3.042337</td>\n",
       "      <td>2.961178</td>\n",
       "      <td>3.254019</td>\n",
       "      <td>3.107791</td>\n",
       "      <td>2023-16</td>\n",
       "      <td>US</td>\n",
       "      <td>SC1</td>\n",
       "      <td>202004</td>\n",
       "      <td>BRANDA</td>\n",
       "      <td>DC1</td>\n",
       "      <td>PRDCT1</td>\n",
       "      <td>CUSTA</td>\n",
       "      <td>523</td>\n",
       "    </tr>\n",
       "    <tr>\n",
       "      <th>4</th>\n",
       "      <td>2023-04-16</td>\n",
       "      <td>PRDCT1_CUSTA</td>\n",
       "      <td>539.394042</td>\n",
       "      <td>3.042337</td>\n",
       "      <td>2.961178</td>\n",
       "      <td>3.254019</td>\n",
       "      <td>3.107791</td>\n",
       "      <td>2023-16</td>\n",
       "      <td>US</td>\n",
       "      <td>SC1</td>\n",
       "      <td>202005</td>\n",
       "      <td>BRANDA</td>\n",
       "      <td>DC1</td>\n",
       "      <td>PRDCT1</td>\n",
       "      <td>CUSTA</td>\n",
       "      <td>571</td>\n",
       "    </tr>\n",
       "    <tr>\n",
       "      <th>...</th>\n",
       "      <td>...</td>\n",
       "      <td>...</td>\n",
       "      <td>...</td>\n",
       "      <td>...</td>\n",
       "      <td>...</td>\n",
       "      <td>...</td>\n",
       "      <td>...</td>\n",
       "      <td>...</td>\n",
       "      <td>...</td>\n",
       "      <td>...</td>\n",
       "      <td>...</td>\n",
       "      <td>...</td>\n",
       "      <td>...</td>\n",
       "      <td>...</td>\n",
       "      <td>...</td>\n",
       "      <td>...</td>\n",
       "    </tr>\n",
       "    <tr>\n",
       "      <th>240079</th>\n",
       "      <td>2023-07-09</td>\n",
       "      <td>PRDCT9_CUSTZ</td>\n",
       "      <td>1684.225053</td>\n",
       "      <td>2.102834</td>\n",
       "      <td>2.046700</td>\n",
       "      <td>2.210724</td>\n",
       "      <td>1.979310</td>\n",
       "      <td>2023-28</td>\n",
       "      <td>US</td>\n",
       "      <td>SC2</td>\n",
       "      <td>202311</td>\n",
       "      <td>BRANDC</td>\n",
       "      <td>DC4</td>\n",
       "      <td>PRDCT9</td>\n",
       "      <td>CUSTZ</td>\n",
       "      <td>1753</td>\n",
       "    </tr>\n",
       "    <tr>\n",
       "      <th>240080</th>\n",
       "      <td>2023-07-09</td>\n",
       "      <td>PRDCT9_CUSTZ</td>\n",
       "      <td>1684.225053</td>\n",
       "      <td>2.102834</td>\n",
       "      <td>2.046700</td>\n",
       "      <td>2.210724</td>\n",
       "      <td>1.979310</td>\n",
       "      <td>2023-28</td>\n",
       "      <td>US</td>\n",
       "      <td>SC2</td>\n",
       "      <td>202312</td>\n",
       "      <td>BRANDC</td>\n",
       "      <td>DC4</td>\n",
       "      <td>PRDCT9</td>\n",
       "      <td>CUSTZ</td>\n",
       "      <td>1752</td>\n",
       "    </tr>\n",
       "    <tr>\n",
       "      <th>240081</th>\n",
       "      <td>2023-07-09</td>\n",
       "      <td>PRDCT9_CUSTZ</td>\n",
       "      <td>1684.225053</td>\n",
       "      <td>2.102834</td>\n",
       "      <td>2.046700</td>\n",
       "      <td>2.210724</td>\n",
       "      <td>1.979310</td>\n",
       "      <td>2023-28</td>\n",
       "      <td>US</td>\n",
       "      <td>SC2</td>\n",
       "      <td>202313</td>\n",
       "      <td>BRANDC</td>\n",
       "      <td>DC4</td>\n",
       "      <td>PRDCT9</td>\n",
       "      <td>CUSTZ</td>\n",
       "      <td>1673</td>\n",
       "    </tr>\n",
       "    <tr>\n",
       "      <th>240082</th>\n",
       "      <td>2023-07-09</td>\n",
       "      <td>PRDCT9_CUSTZ</td>\n",
       "      <td>1684.225053</td>\n",
       "      <td>2.102834</td>\n",
       "      <td>2.046700</td>\n",
       "      <td>2.210724</td>\n",
       "      <td>1.979310</td>\n",
       "      <td>2023-28</td>\n",
       "      <td>US</td>\n",
       "      <td>SC2</td>\n",
       "      <td>202314</td>\n",
       "      <td>BRANDC</td>\n",
       "      <td>DC4</td>\n",
       "      <td>PRDCT9</td>\n",
       "      <td>CUSTZ</td>\n",
       "      <td>1752</td>\n",
       "    </tr>\n",
       "    <tr>\n",
       "      <th>240083</th>\n",
       "      <td>2023-07-09</td>\n",
       "      <td>PRDCT9_CUSTZ</td>\n",
       "      <td>1684.225053</td>\n",
       "      <td>2.102834</td>\n",
       "      <td>2.046700</td>\n",
       "      <td>2.210724</td>\n",
       "      <td>1.979310</td>\n",
       "      <td>2023-28</td>\n",
       "      <td>US</td>\n",
       "      <td>SC2</td>\n",
       "      <td>202315</td>\n",
       "      <td>BRANDC</td>\n",
       "      <td>DC4</td>\n",
       "      <td>PRDCT9</td>\n",
       "      <td>CUSTZ</td>\n",
       "      <td>1642</td>\n",
       "    </tr>\n",
       "  </tbody>\n",
       "</table>\n",
       "<p>240084 rows × 16 columns</p>\n",
       "</div>"
      ],
      "text/plain": [
       "             date timeseries_key  Prophet_Predicted  Prophet_MAPE  ARIMA_MAPE   \n",
       "0      2023-04-16   PRDCT1_CUSTA         539.394042      3.042337    2.961178  \\\n",
       "1      2023-04-16   PRDCT1_CUSTA         539.394042      3.042337    2.961178   \n",
       "2      2023-04-16   PRDCT1_CUSTA         539.394042      3.042337    2.961178   \n",
       "3      2023-04-16   PRDCT1_CUSTA         539.394042      3.042337    2.961178   \n",
       "4      2023-04-16   PRDCT1_CUSTA         539.394042      3.042337    2.961178   \n",
       "...           ...            ...                ...           ...         ...   \n",
       "240079 2023-07-09   PRDCT9_CUSTZ        1684.225053      2.102834    2.046700   \n",
       "240080 2023-07-09   PRDCT9_CUSTZ        1684.225053      2.102834    2.046700   \n",
       "240081 2023-07-09   PRDCT9_CUSTZ        1684.225053      2.102834    2.046700   \n",
       "240082 2023-07-09   PRDCT9_CUSTZ        1684.225053      2.102834    2.046700   \n",
       "240083 2023-07-09   PRDCT9_CUSTZ        1684.225053      2.102834    2.046700   \n",
       "\n",
       "        SARIMA_MAPE  HoltWinters_MAPE calweek_x Cluster/Country/Region   \n",
       "0          3.254019          3.107791   2023-16                     US  \\\n",
       "1          3.254019          3.107791   2023-16                     US   \n",
       "2          3.254019          3.107791   2023-16                     US   \n",
       "3          3.254019          3.107791   2023-16                     US   \n",
       "4          3.254019          3.107791   2023-16                     US   \n",
       "...             ...               ...       ...                    ...   \n",
       "240079     2.210724          1.979310   2023-28                     US   \n",
       "240080     2.210724          1.979310   2023-28                     US   \n",
       "240081     2.210724          1.979310   2023-28                     US   \n",
       "240082     2.210724          1.979310   2023-28                     US   \n",
       "240083     2.210724          1.979310   2023-28                     US   \n",
       "\n",
       "       SubCluster  calweek_y   brand   dc product_code customer_code  Quantity  \n",
       "0             SC1     202001  BRANDA  DC1       PRDCT1         CUSTA       537  \n",
       "1             SC1     202002  BRANDA  DC1       PRDCT1         CUSTA       544  \n",
       "2             SC1     202003  BRANDA  DC1       PRDCT1         CUSTA       574  \n",
       "3             SC1     202004  BRANDA  DC1       PRDCT1         CUSTA       523  \n",
       "4             SC1     202005  BRANDA  DC1       PRDCT1         CUSTA       571  \n",
       "...           ...        ...     ...  ...          ...           ...       ...  \n",
       "240079        SC2     202311  BRANDC  DC4       PRDCT9         CUSTZ      1753  \n",
       "240080        SC2     202312  BRANDC  DC4       PRDCT9         CUSTZ      1752  \n",
       "240081        SC2     202313  BRANDC  DC4       PRDCT9         CUSTZ      1673  \n",
       "240082        SC2     202314  BRANDC  DC4       PRDCT9         CUSTZ      1752  \n",
       "240083        SC2     202315  BRANDC  DC4       PRDCT9         CUSTZ      1642  \n",
       "\n",
       "[240084 rows x 16 columns]"
      ]
     },
     "execution_count": 137,
     "metadata": {},
     "output_type": "execute_result"
    }
   ],
   "source": [
    "# Merge the dataframes based on 'TimeSeries_Key'\n",
    "merged_df = pd.merge(results_df, df, on='timeseries_key', how='inner')\n",
    "merged_df"
   ]
  },
  {
   "cell_type": "code",
   "execution_count": 138,
   "id": "1d7e2edd",
   "metadata": {},
   "outputs": [
    {
     "data": {
      "text/html": [
       "<div>\n",
       "<style scoped>\n",
       "    .dataframe tbody tr th:only-of-type {\n",
       "        vertical-align: middle;\n",
       "    }\n",
       "\n",
       "    .dataframe tbody tr th {\n",
       "        vertical-align: top;\n",
       "    }\n",
       "\n",
       "    .dataframe thead th {\n",
       "        text-align: right;\n",
       "    }\n",
       "</style>\n",
       "<table border=\"1\" class=\"dataframe\">\n",
       "  <thead>\n",
       "    <tr style=\"text-align: right;\">\n",
       "      <th></th>\n",
       "      <th>date</th>\n",
       "      <th>timeseries_key</th>\n",
       "      <th>Prophet_Predicted</th>\n",
       "      <th>Prophet_MAPE</th>\n",
       "      <th>ARIMA_MAPE</th>\n",
       "      <th>SARIMA_MAPE</th>\n",
       "      <th>HoltWinters_MAPE</th>\n",
       "      <th>calweek</th>\n",
       "      <th>Cluster/Country/Region</th>\n",
       "      <th>SubCluster</th>\n",
       "      <th>brand</th>\n",
       "      <th>dc</th>\n",
       "    </tr>\n",
       "  </thead>\n",
       "  <tbody>\n",
       "    <tr>\n",
       "      <th>0</th>\n",
       "      <td>2023-04-16</td>\n",
       "      <td>PRDCT1_CUSTA</td>\n",
       "      <td>539.394042</td>\n",
       "      <td>3.042337</td>\n",
       "      <td>2.961178</td>\n",
       "      <td>3.254019</td>\n",
       "      <td>3.107791</td>\n",
       "      <td>2023-16</td>\n",
       "      <td>US</td>\n",
       "      <td>SC1</td>\n",
       "      <td>BRANDA</td>\n",
       "      <td>DC1</td>\n",
       "    </tr>\n",
       "    <tr>\n",
       "      <th>0</th>\n",
       "      <td>2023-04-16</td>\n",
       "      <td>PRDCT1_CUSTA</td>\n",
       "      <td>539.394042</td>\n",
       "      <td>3.042337</td>\n",
       "      <td>2.961178</td>\n",
       "      <td>3.254019</td>\n",
       "      <td>3.107791</td>\n",
       "      <td>2023-16</td>\n",
       "      <td>US</td>\n",
       "      <td>SC1</td>\n",
       "      <td>BRANDA</td>\n",
       "      <td>DC1</td>\n",
       "    </tr>\n",
       "    <tr>\n",
       "      <th>0</th>\n",
       "      <td>2023-04-16</td>\n",
       "      <td>PRDCT1_CUSTA</td>\n",
       "      <td>539.394042</td>\n",
       "      <td>3.042337</td>\n",
       "      <td>2.961178</td>\n",
       "      <td>3.254019</td>\n",
       "      <td>3.107791</td>\n",
       "      <td>2023-16</td>\n",
       "      <td>US</td>\n",
       "      <td>SC1</td>\n",
       "      <td>BRANDA</td>\n",
       "      <td>DC1</td>\n",
       "    </tr>\n",
       "    <tr>\n",
       "      <th>0</th>\n",
       "      <td>2023-04-16</td>\n",
       "      <td>PRDCT1_CUSTA</td>\n",
       "      <td>539.394042</td>\n",
       "      <td>3.042337</td>\n",
       "      <td>2.961178</td>\n",
       "      <td>3.254019</td>\n",
       "      <td>3.107791</td>\n",
       "      <td>2023-16</td>\n",
       "      <td>US</td>\n",
       "      <td>SC1</td>\n",
       "      <td>BRANDA</td>\n",
       "      <td>DC1</td>\n",
       "    </tr>\n",
       "    <tr>\n",
       "      <th>0</th>\n",
       "      <td>2023-04-16</td>\n",
       "      <td>PRDCT1_CUSTA</td>\n",
       "      <td>539.394042</td>\n",
       "      <td>3.042337</td>\n",
       "      <td>2.961178</td>\n",
       "      <td>3.254019</td>\n",
       "      <td>3.107791</td>\n",
       "      <td>2023-16</td>\n",
       "      <td>US</td>\n",
       "      <td>SC1</td>\n",
       "      <td>BRANDA</td>\n",
       "      <td>DC1</td>\n",
       "    </tr>\n",
       "    <tr>\n",
       "      <th>...</th>\n",
       "      <td>...</td>\n",
       "      <td>...</td>\n",
       "      <td>...</td>\n",
       "      <td>...</td>\n",
       "      <td>...</td>\n",
       "      <td>...</td>\n",
       "      <td>...</td>\n",
       "      <td>...</td>\n",
       "      <td>...</td>\n",
       "      <td>...</td>\n",
       "      <td>...</td>\n",
       "      <td>...</td>\n",
       "    </tr>\n",
       "    <tr>\n",
       "      <th>1403</th>\n",
       "      <td>2023-07-09</td>\n",
       "      <td>PRDCT9_CUSTZ</td>\n",
       "      <td>1684.225053</td>\n",
       "      <td>2.102834</td>\n",
       "      <td>2.046700</td>\n",
       "      <td>2.210724</td>\n",
       "      <td>1.979310</td>\n",
       "      <td>2023-28</td>\n",
       "      <td>US</td>\n",
       "      <td>SC2</td>\n",
       "      <td>BRANDC</td>\n",
       "      <td>DC4</td>\n",
       "    </tr>\n",
       "    <tr>\n",
       "      <th>1403</th>\n",
       "      <td>2023-07-09</td>\n",
       "      <td>PRDCT9_CUSTZ</td>\n",
       "      <td>1684.225053</td>\n",
       "      <td>2.102834</td>\n",
       "      <td>2.046700</td>\n",
       "      <td>2.210724</td>\n",
       "      <td>1.979310</td>\n",
       "      <td>2023-28</td>\n",
       "      <td>US</td>\n",
       "      <td>SC2</td>\n",
       "      <td>BRANDC</td>\n",
       "      <td>DC4</td>\n",
       "    </tr>\n",
       "    <tr>\n",
       "      <th>1403</th>\n",
       "      <td>2023-07-09</td>\n",
       "      <td>PRDCT9_CUSTZ</td>\n",
       "      <td>1684.225053</td>\n",
       "      <td>2.102834</td>\n",
       "      <td>2.046700</td>\n",
       "      <td>2.210724</td>\n",
       "      <td>1.979310</td>\n",
       "      <td>2023-28</td>\n",
       "      <td>US</td>\n",
       "      <td>SC2</td>\n",
       "      <td>BRANDC</td>\n",
       "      <td>DC4</td>\n",
       "    </tr>\n",
       "    <tr>\n",
       "      <th>1403</th>\n",
       "      <td>2023-07-09</td>\n",
       "      <td>PRDCT9_CUSTZ</td>\n",
       "      <td>1684.225053</td>\n",
       "      <td>2.102834</td>\n",
       "      <td>2.046700</td>\n",
       "      <td>2.210724</td>\n",
       "      <td>1.979310</td>\n",
       "      <td>2023-28</td>\n",
       "      <td>US</td>\n",
       "      <td>SC2</td>\n",
       "      <td>BRANDC</td>\n",
       "      <td>DC4</td>\n",
       "    </tr>\n",
       "    <tr>\n",
       "      <th>1403</th>\n",
       "      <td>2023-07-09</td>\n",
       "      <td>PRDCT9_CUSTZ</td>\n",
       "      <td>1684.225053</td>\n",
       "      <td>2.102834</td>\n",
       "      <td>2.046700</td>\n",
       "      <td>2.210724</td>\n",
       "      <td>1.979310</td>\n",
       "      <td>2023-28</td>\n",
       "      <td>US</td>\n",
       "      <td>SC2</td>\n",
       "      <td>BRANDC</td>\n",
       "      <td>DC4</td>\n",
       "    </tr>\n",
       "  </tbody>\n",
       "</table>\n",
       "<p>240084 rows × 12 columns</p>\n",
       "</div>"
      ],
      "text/plain": [
       "           date timeseries_key  Prophet_Predicted  Prophet_MAPE  ARIMA_MAPE   \n",
       "0    2023-04-16   PRDCT1_CUSTA         539.394042      3.042337    2.961178  \\\n",
       "0    2023-04-16   PRDCT1_CUSTA         539.394042      3.042337    2.961178   \n",
       "0    2023-04-16   PRDCT1_CUSTA         539.394042      3.042337    2.961178   \n",
       "0    2023-04-16   PRDCT1_CUSTA         539.394042      3.042337    2.961178   \n",
       "0    2023-04-16   PRDCT1_CUSTA         539.394042      3.042337    2.961178   \n",
       "...         ...            ...                ...           ...         ...   \n",
       "1403 2023-07-09   PRDCT9_CUSTZ        1684.225053      2.102834    2.046700   \n",
       "1403 2023-07-09   PRDCT9_CUSTZ        1684.225053      2.102834    2.046700   \n",
       "1403 2023-07-09   PRDCT9_CUSTZ        1684.225053      2.102834    2.046700   \n",
       "1403 2023-07-09   PRDCT9_CUSTZ        1684.225053      2.102834    2.046700   \n",
       "1403 2023-07-09   PRDCT9_CUSTZ        1684.225053      2.102834    2.046700   \n",
       "\n",
       "      SARIMA_MAPE  HoltWinters_MAPE  calweek Cluster/Country/Region   \n",
       "0        3.254019          3.107791  2023-16                     US  \\\n",
       "0        3.254019          3.107791  2023-16                     US   \n",
       "0        3.254019          3.107791  2023-16                     US   \n",
       "0        3.254019          3.107791  2023-16                     US   \n",
       "0        3.254019          3.107791  2023-16                     US   \n",
       "...           ...               ...      ...                    ...   \n",
       "1403     2.210724          1.979310  2023-28                     US   \n",
       "1403     2.210724          1.979310  2023-28                     US   \n",
       "1403     2.210724          1.979310  2023-28                     US   \n",
       "1403     2.210724          1.979310  2023-28                     US   \n",
       "1403     2.210724          1.979310  2023-28                     US   \n",
       "\n",
       "     SubCluster   brand   dc  \n",
       "0           SC1  BRANDA  DC1  \n",
       "0           SC1  BRANDA  DC1  \n",
       "0           SC1  BRANDA  DC1  \n",
       "0           SC1  BRANDA  DC1  \n",
       "0           SC1  BRANDA  DC1  \n",
       "...         ...     ...  ...  \n",
       "1403        SC2  BRANDC  DC4  \n",
       "1403        SC2  BRANDC  DC4  \n",
       "1403        SC2  BRANDC  DC4  \n",
       "1403        SC2  BRANDC  DC4  \n",
       "1403        SC2  BRANDC  DC4  \n",
       "\n",
       "[240084 rows x 12 columns]"
      ]
     },
     "execution_count": 138,
     "metadata": {},
     "output_type": "execute_result"
    }
   ],
   "source": [
    "# Select columns from df2 to add to df1\n",
    "columns_to_add = df[[\"timeseries_key\", \"Cluster/Country/Region\", \"SubCluster\", \"brand\", \"dc\"]]\n",
    "\n",
    "# Join the selected columns from df2 to df1\n",
    "merged = results_df.join(columns_to_add.set_index('timeseries_key'), on='timeseries_key')\n",
    "merged"
   ]
  },
  {
   "cell_type": "code",
   "execution_count": 143,
   "id": "9f71d19c",
   "metadata": {},
   "outputs": [
    {
     "data": {
      "text/plain": [
       "timeseries_key\n",
       "PRDCT1_CUSTA    2223\n",
       "PRDCT3_CUSTM    2223\n",
       "PRDCT5_CUSTL    2223\n",
       "PRDCT5_CUSTK    2223\n",
       "PRDCT4_CUSTZ    2223\n",
       "                ... \n",
       "PRDCT6_CUSTC    2223\n",
       "PRDCT6_CUSTB    2223\n",
       "PRDCT6_CUSTA    2223\n",
       "PRDCT5_CUSTF    2223\n",
       "PRDCT9_CUSTZ    2223\n",
       "Name: count, Length: 108, dtype: int64"
      ]
     },
     "execution_count": 143,
     "metadata": {},
     "output_type": "execute_result"
    }
   ],
   "source": [
    "merged[\"timeseries_key\"].value_counts()"
   ]
  }
 ],
 "metadata": {
  "kernelspec": {
   "display_name": "Python 3 (ipykernel)",
   "language": "python",
   "name": "python3"
  },
  "language_info": {
   "codemirror_mode": {
    "name": "ipython",
    "version": 3
   },
   "file_extension": ".py",
   "mimetype": "text/x-python",
   "name": "python",
   "nbconvert_exporter": "python",
   "pygments_lexer": "ipython3",
   "version": "3.10.1"
  }
 },
 "nbformat": 4,
 "nbformat_minor": 5
}
