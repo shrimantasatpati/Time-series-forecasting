{
 "cells": [
  {
   "cell_type": "code",
   "execution_count": 150,
   "id": "2aa22a2e",
   "metadata": {},
   "outputs": [],
   "source": [
    "import pandas as pd\n",
    "import numpy as np"
   ]
  },
  {
   "cell_type": "code",
   "execution_count": 151,
   "id": "e26d0790",
   "metadata": {},
   "outputs": [],
   "source": [
    "df = pd.read_csv(\"train.csv\", encoding=\"utf-8\")"
   ]
  },
  {
   "cell_type": "code",
   "execution_count": 152,
   "id": "59d7db5d",
   "metadata": {},
   "outputs": [
    {
     "data": {
      "text/html": [
       "<div>\n",
       "<style scoped>\n",
       "    .dataframe tbody tr th:only-of-type {\n",
       "        vertical-align: middle;\n",
       "    }\n",
       "\n",
       "    .dataframe tbody tr th {\n",
       "        vertical-align: top;\n",
       "    }\n",
       "\n",
       "    .dataframe thead th {\n",
       "        text-align: right;\n",
       "    }\n",
       "</style>\n",
       "<table border=\"1\" class=\"dataframe\">\n",
       "  <thead>\n",
       "    <tr style=\"text-align: right;\">\n",
       "      <th></th>\n",
       "      <th>Cluster/Country/Region</th>\n",
       "      <th>SubCluster</th>\n",
       "      <th>calweek</th>\n",
       "      <th>brand</th>\n",
       "      <th>dc</th>\n",
       "      <th>product_code</th>\n",
       "      <th>customer_code</th>\n",
       "      <th>Quantity</th>\n",
       "    </tr>\n",
       "  </thead>\n",
       "  <tbody>\n",
       "    <tr>\n",
       "      <th>0</th>\n",
       "      <td>US</td>\n",
       "      <td>SC1</td>\n",
       "      <td>202001</td>\n",
       "      <td>BRANDA</td>\n",
       "      <td>DC1</td>\n",
       "      <td>PRDCT1</td>\n",
       "      <td>CUSTA</td>\n",
       "      <td>537</td>\n",
       "    </tr>\n",
       "    <tr>\n",
       "      <th>1</th>\n",
       "      <td>US</td>\n",
       "      <td>SC1</td>\n",
       "      <td>202002</td>\n",
       "      <td>BRANDA</td>\n",
       "      <td>DC1</td>\n",
       "      <td>PRDCT1</td>\n",
       "      <td>CUSTA</td>\n",
       "      <td>544</td>\n",
       "    </tr>\n",
       "    <tr>\n",
       "      <th>2</th>\n",
       "      <td>US</td>\n",
       "      <td>SC1</td>\n",
       "      <td>202003</td>\n",
       "      <td>BRANDA</td>\n",
       "      <td>DC1</td>\n",
       "      <td>PRDCT1</td>\n",
       "      <td>CUSTA</td>\n",
       "      <td>574</td>\n",
       "    </tr>\n",
       "    <tr>\n",
       "      <th>3</th>\n",
       "      <td>US</td>\n",
       "      <td>SC1</td>\n",
       "      <td>202004</td>\n",
       "      <td>BRANDA</td>\n",
       "      <td>DC1</td>\n",
       "      <td>PRDCT1</td>\n",
       "      <td>CUSTA</td>\n",
       "      <td>523</td>\n",
       "    </tr>\n",
       "    <tr>\n",
       "      <th>4</th>\n",
       "      <td>US</td>\n",
       "      <td>SC1</td>\n",
       "      <td>202005</td>\n",
       "      <td>BRANDA</td>\n",
       "      <td>DC1</td>\n",
       "      <td>PRDCT1</td>\n",
       "      <td>CUSTA</td>\n",
       "      <td>571</td>\n",
       "    </tr>\n",
       "    <tr>\n",
       "      <th>...</th>\n",
       "      <td>...</td>\n",
       "      <td>...</td>\n",
       "      <td>...</td>\n",
       "      <td>...</td>\n",
       "      <td>...</td>\n",
       "      <td>...</td>\n",
       "      <td>...</td>\n",
       "      <td>...</td>\n",
       "    </tr>\n",
       "    <tr>\n",
       "      <th>18463</th>\n",
       "      <td>US</td>\n",
       "      <td>SC2</td>\n",
       "      <td>202311</td>\n",
       "      <td>BRANDC</td>\n",
       "      <td>DC4</td>\n",
       "      <td>PRDCT9</td>\n",
       "      <td>CUSTZ</td>\n",
       "      <td>1753</td>\n",
       "    </tr>\n",
       "    <tr>\n",
       "      <th>18464</th>\n",
       "      <td>US</td>\n",
       "      <td>SC2</td>\n",
       "      <td>202312</td>\n",
       "      <td>BRANDC</td>\n",
       "      <td>DC4</td>\n",
       "      <td>PRDCT9</td>\n",
       "      <td>CUSTZ</td>\n",
       "      <td>1752</td>\n",
       "    </tr>\n",
       "    <tr>\n",
       "      <th>18465</th>\n",
       "      <td>US</td>\n",
       "      <td>SC2</td>\n",
       "      <td>202313</td>\n",
       "      <td>BRANDC</td>\n",
       "      <td>DC4</td>\n",
       "      <td>PRDCT9</td>\n",
       "      <td>CUSTZ</td>\n",
       "      <td>1673</td>\n",
       "    </tr>\n",
       "    <tr>\n",
       "      <th>18466</th>\n",
       "      <td>US</td>\n",
       "      <td>SC2</td>\n",
       "      <td>202314</td>\n",
       "      <td>BRANDC</td>\n",
       "      <td>DC4</td>\n",
       "      <td>PRDCT9</td>\n",
       "      <td>CUSTZ</td>\n",
       "      <td>1752</td>\n",
       "    </tr>\n",
       "    <tr>\n",
       "      <th>18467</th>\n",
       "      <td>US</td>\n",
       "      <td>SC2</td>\n",
       "      <td>202315</td>\n",
       "      <td>BRANDC</td>\n",
       "      <td>DC4</td>\n",
       "      <td>PRDCT9</td>\n",
       "      <td>CUSTZ</td>\n",
       "      <td>1642</td>\n",
       "    </tr>\n",
       "  </tbody>\n",
       "</table>\n",
       "<p>18468 rows × 8 columns</p>\n",
       "</div>"
      ],
      "text/plain": [
       "      Cluster/Country/Region SubCluster  calweek   brand   dc product_code  \\\n",
       "0                         US        SC1   202001  BRANDA  DC1       PRDCT1   \n",
       "1                         US        SC1   202002  BRANDA  DC1       PRDCT1   \n",
       "2                         US        SC1   202003  BRANDA  DC1       PRDCT1   \n",
       "3                         US        SC1   202004  BRANDA  DC1       PRDCT1   \n",
       "4                         US        SC1   202005  BRANDA  DC1       PRDCT1   \n",
       "...                      ...        ...      ...     ...  ...          ...   \n",
       "18463                     US        SC2   202311  BRANDC  DC4       PRDCT9   \n",
       "18464                     US        SC2   202312  BRANDC  DC4       PRDCT9   \n",
       "18465                     US        SC2   202313  BRANDC  DC4       PRDCT9   \n",
       "18466                     US        SC2   202314  BRANDC  DC4       PRDCT9   \n",
       "18467                     US        SC2   202315  BRANDC  DC4       PRDCT9   \n",
       "\n",
       "      customer_code  Quantity  \n",
       "0             CUSTA       537  \n",
       "1             CUSTA       544  \n",
       "2             CUSTA       574  \n",
       "3             CUSTA       523  \n",
       "4             CUSTA       571  \n",
       "...             ...       ...  \n",
       "18463         CUSTZ      1753  \n",
       "18464         CUSTZ      1752  \n",
       "18465         CUSTZ      1673  \n",
       "18466         CUSTZ      1752  \n",
       "18467         CUSTZ      1642  \n",
       "\n",
       "[18468 rows x 8 columns]"
      ]
     },
     "execution_count": 152,
     "metadata": {},
     "output_type": "execute_result"
    }
   ],
   "source": [
    "df"
   ]
  },
  {
   "cell_type": "code",
   "execution_count": 153,
   "id": "618a961b",
   "metadata": {},
   "outputs": [
    {
     "data": {
      "text/plain": [
       "Index(['Cluster/Country/Region', 'SubCluster', 'calweek', 'brand', 'dc',\n",
       "       'product_code', 'customer_code', 'Quantity'],\n",
       "      dtype='object')"
      ]
     },
     "execution_count": 153,
     "metadata": {},
     "output_type": "execute_result"
    }
   ],
   "source": [
    "df.columns"
   ]
  },
  {
   "cell_type": "code",
   "execution_count": 154,
   "id": "8bb8e319",
   "metadata": {},
   "outputs": [],
   "source": [
    "df1 = df.drop(['Cluster/Country/Region', 'SubCluster', 'brand', 'dc'], axis = 1)"
   ]
  },
  {
   "cell_type": "code",
   "execution_count": 155,
   "id": "f78dca0b",
   "metadata": {},
   "outputs": [
    {
     "data": {
      "text/html": [
       "<div>\n",
       "<style scoped>\n",
       "    .dataframe tbody tr th:only-of-type {\n",
       "        vertical-align: middle;\n",
       "    }\n",
       "\n",
       "    .dataframe tbody tr th {\n",
       "        vertical-align: top;\n",
       "    }\n",
       "\n",
       "    .dataframe thead th {\n",
       "        text-align: right;\n",
       "    }\n",
       "</style>\n",
       "<table border=\"1\" class=\"dataframe\">\n",
       "  <thead>\n",
       "    <tr style=\"text-align: right;\">\n",
       "      <th></th>\n",
       "      <th>calweek</th>\n",
       "      <th>product_code</th>\n",
       "      <th>customer_code</th>\n",
       "      <th>Quantity</th>\n",
       "    </tr>\n",
       "  </thead>\n",
       "  <tbody>\n",
       "    <tr>\n",
       "      <th>0</th>\n",
       "      <td>202001</td>\n",
       "      <td>PRDCT1</td>\n",
       "      <td>CUSTA</td>\n",
       "      <td>537</td>\n",
       "    </tr>\n",
       "    <tr>\n",
       "      <th>1</th>\n",
       "      <td>202002</td>\n",
       "      <td>PRDCT1</td>\n",
       "      <td>CUSTA</td>\n",
       "      <td>544</td>\n",
       "    </tr>\n",
       "    <tr>\n",
       "      <th>2</th>\n",
       "      <td>202003</td>\n",
       "      <td>PRDCT1</td>\n",
       "      <td>CUSTA</td>\n",
       "      <td>574</td>\n",
       "    </tr>\n",
       "    <tr>\n",
       "      <th>3</th>\n",
       "      <td>202004</td>\n",
       "      <td>PRDCT1</td>\n",
       "      <td>CUSTA</td>\n",
       "      <td>523</td>\n",
       "    </tr>\n",
       "    <tr>\n",
       "      <th>4</th>\n",
       "      <td>202005</td>\n",
       "      <td>PRDCT1</td>\n",
       "      <td>CUSTA</td>\n",
       "      <td>571</td>\n",
       "    </tr>\n",
       "    <tr>\n",
       "      <th>...</th>\n",
       "      <td>...</td>\n",
       "      <td>...</td>\n",
       "      <td>...</td>\n",
       "      <td>...</td>\n",
       "    </tr>\n",
       "    <tr>\n",
       "      <th>18463</th>\n",
       "      <td>202311</td>\n",
       "      <td>PRDCT9</td>\n",
       "      <td>CUSTZ</td>\n",
       "      <td>1753</td>\n",
       "    </tr>\n",
       "    <tr>\n",
       "      <th>18464</th>\n",
       "      <td>202312</td>\n",
       "      <td>PRDCT9</td>\n",
       "      <td>CUSTZ</td>\n",
       "      <td>1752</td>\n",
       "    </tr>\n",
       "    <tr>\n",
       "      <th>18465</th>\n",
       "      <td>202313</td>\n",
       "      <td>PRDCT9</td>\n",
       "      <td>CUSTZ</td>\n",
       "      <td>1673</td>\n",
       "    </tr>\n",
       "    <tr>\n",
       "      <th>18466</th>\n",
       "      <td>202314</td>\n",
       "      <td>PRDCT9</td>\n",
       "      <td>CUSTZ</td>\n",
       "      <td>1752</td>\n",
       "    </tr>\n",
       "    <tr>\n",
       "      <th>18467</th>\n",
       "      <td>202315</td>\n",
       "      <td>PRDCT9</td>\n",
       "      <td>CUSTZ</td>\n",
       "      <td>1642</td>\n",
       "    </tr>\n",
       "  </tbody>\n",
       "</table>\n",
       "<p>18468 rows × 4 columns</p>\n",
       "</div>"
      ],
      "text/plain": [
       "       calweek product_code customer_code  Quantity\n",
       "0       202001       PRDCT1         CUSTA       537\n",
       "1       202002       PRDCT1         CUSTA       544\n",
       "2       202003       PRDCT1         CUSTA       574\n",
       "3       202004       PRDCT1         CUSTA       523\n",
       "4       202005       PRDCT1         CUSTA       571\n",
       "...        ...          ...           ...       ...\n",
       "18463   202311       PRDCT9         CUSTZ      1753\n",
       "18464   202312       PRDCT9         CUSTZ      1752\n",
       "18465   202313       PRDCT9         CUSTZ      1673\n",
       "18466   202314       PRDCT9         CUSTZ      1752\n",
       "18467   202315       PRDCT9         CUSTZ      1642\n",
       "\n",
       "[18468 rows x 4 columns]"
      ]
     },
     "execution_count": 155,
     "metadata": {},
     "output_type": "execute_result"
    }
   ],
   "source": [
    "df1"
   ]
  },
  {
   "cell_type": "code",
   "execution_count": 156,
   "id": "175a414a",
   "metadata": {},
   "outputs": [],
   "source": [
    "df1['prod_cust'] = df['product_code'] + '_' + df['customer_code']"
   ]
  },
  {
   "cell_type": "code",
   "execution_count": 157,
   "id": "f2e3bb0c",
   "metadata": {},
   "outputs": [
    {
     "data": {
      "text/plain": [
       "PRDCT1_CUSTA    171\n",
       "PRDCT3_CUSTM    171\n",
       "PRDCT5_CUSTL    171\n",
       "PRDCT5_CUSTK    171\n",
       "PRDCT4_CUSTZ    171\n",
       "               ... \n",
       "PRDCT6_CUSTC    171\n",
       "PRDCT6_CUSTB    171\n",
       "PRDCT6_CUSTA    171\n",
       "PRDCT5_CUSTF    171\n",
       "PRDCT9_CUSTZ    171\n",
       "Name: prod_cust, Length: 108, dtype: int64"
      ]
     },
     "execution_count": 157,
     "metadata": {},
     "output_type": "execute_result"
    }
   ],
   "source": [
    "df1['prod_cust'].value_counts()"
   ]
  },
  {
   "cell_type": "code",
   "execution_count": 158,
   "id": "4fb6d340",
   "metadata": {},
   "outputs": [],
   "source": [
    "df_prod1 = df1[df1['product_code']=='PRDCT1']"
   ]
  },
  {
   "cell_type": "code",
   "execution_count": 159,
   "id": "f2dd61d6",
   "metadata": {},
   "outputs": [
    {
     "data": {
      "text/html": [
       "<div>\n",
       "<style scoped>\n",
       "    .dataframe tbody tr th:only-of-type {\n",
       "        vertical-align: middle;\n",
       "    }\n",
       "\n",
       "    .dataframe tbody tr th {\n",
       "        vertical-align: top;\n",
       "    }\n",
       "\n",
       "    .dataframe thead th {\n",
       "        text-align: right;\n",
       "    }\n",
       "</style>\n",
       "<table border=\"1\" class=\"dataframe\">\n",
       "  <thead>\n",
       "    <tr style=\"text-align: right;\">\n",
       "      <th></th>\n",
       "      <th>calweek</th>\n",
       "      <th>product_code</th>\n",
       "      <th>customer_code</th>\n",
       "      <th>Quantity</th>\n",
       "      <th>prod_cust</th>\n",
       "    </tr>\n",
       "  </thead>\n",
       "  <tbody>\n",
       "    <tr>\n",
       "      <th>0</th>\n",
       "      <td>202001</td>\n",
       "      <td>PRDCT1</td>\n",
       "      <td>CUSTA</td>\n",
       "      <td>537</td>\n",
       "      <td>PRDCT1_CUSTA</td>\n",
       "    </tr>\n",
       "    <tr>\n",
       "      <th>1</th>\n",
       "      <td>202002</td>\n",
       "      <td>PRDCT1</td>\n",
       "      <td>CUSTA</td>\n",
       "      <td>544</td>\n",
       "      <td>PRDCT1_CUSTA</td>\n",
       "    </tr>\n",
       "    <tr>\n",
       "      <th>2</th>\n",
       "      <td>202003</td>\n",
       "      <td>PRDCT1</td>\n",
       "      <td>CUSTA</td>\n",
       "      <td>574</td>\n",
       "      <td>PRDCT1_CUSTA</td>\n",
       "    </tr>\n",
       "    <tr>\n",
       "      <th>3</th>\n",
       "      <td>202004</td>\n",
       "      <td>PRDCT1</td>\n",
       "      <td>CUSTA</td>\n",
       "      <td>523</td>\n",
       "      <td>PRDCT1_CUSTA</td>\n",
       "    </tr>\n",
       "    <tr>\n",
       "      <th>4</th>\n",
       "      <td>202005</td>\n",
       "      <td>PRDCT1</td>\n",
       "      <td>CUSTA</td>\n",
       "      <td>571</td>\n",
       "      <td>PRDCT1_CUSTA</td>\n",
       "    </tr>\n",
       "    <tr>\n",
       "      <th>...</th>\n",
       "      <td>...</td>\n",
       "      <td>...</td>\n",
       "      <td>...</td>\n",
       "      <td>...</td>\n",
       "      <td>...</td>\n",
       "    </tr>\n",
       "    <tr>\n",
       "      <th>10255</th>\n",
       "      <td>202311</td>\n",
       "      <td>PRDCT1</td>\n",
       "      <td>CUSTZ</td>\n",
       "      <td>1273</td>\n",
       "      <td>PRDCT1_CUSTZ</td>\n",
       "    </tr>\n",
       "    <tr>\n",
       "      <th>10256</th>\n",
       "      <td>202312</td>\n",
       "      <td>PRDCT1</td>\n",
       "      <td>CUSTZ</td>\n",
       "      <td>1264</td>\n",
       "      <td>PRDCT1_CUSTZ</td>\n",
       "    </tr>\n",
       "    <tr>\n",
       "      <th>10257</th>\n",
       "      <td>202313</td>\n",
       "      <td>PRDCT1</td>\n",
       "      <td>CUSTZ</td>\n",
       "      <td>1266</td>\n",
       "      <td>PRDCT1_CUSTZ</td>\n",
       "    </tr>\n",
       "    <tr>\n",
       "      <th>10258</th>\n",
       "      <td>202314</td>\n",
       "      <td>PRDCT1</td>\n",
       "      <td>CUSTZ</td>\n",
       "      <td>1216</td>\n",
       "      <td>PRDCT1_CUSTZ</td>\n",
       "    </tr>\n",
       "    <tr>\n",
       "      <th>10259</th>\n",
       "      <td>202315</td>\n",
       "      <td>PRDCT1</td>\n",
       "      <td>CUSTZ</td>\n",
       "      <td>1268</td>\n",
       "      <td>PRDCT1_CUSTZ</td>\n",
       "    </tr>\n",
       "  </tbody>\n",
       "</table>\n",
       "<p>2052 rows × 5 columns</p>\n",
       "</div>"
      ],
      "text/plain": [
       "       calweek product_code customer_code  Quantity     prod_cust\n",
       "0       202001       PRDCT1         CUSTA       537  PRDCT1_CUSTA\n",
       "1       202002       PRDCT1         CUSTA       544  PRDCT1_CUSTA\n",
       "2       202003       PRDCT1         CUSTA       574  PRDCT1_CUSTA\n",
       "3       202004       PRDCT1         CUSTA       523  PRDCT1_CUSTA\n",
       "4       202005       PRDCT1         CUSTA       571  PRDCT1_CUSTA\n",
       "...        ...          ...           ...       ...           ...\n",
       "10255   202311       PRDCT1         CUSTZ      1273  PRDCT1_CUSTZ\n",
       "10256   202312       PRDCT1         CUSTZ      1264  PRDCT1_CUSTZ\n",
       "10257   202313       PRDCT1         CUSTZ      1266  PRDCT1_CUSTZ\n",
       "10258   202314       PRDCT1         CUSTZ      1216  PRDCT1_CUSTZ\n",
       "10259   202315       PRDCT1         CUSTZ      1268  PRDCT1_CUSTZ\n",
       "\n",
       "[2052 rows x 5 columns]"
      ]
     },
     "execution_count": 159,
     "metadata": {},
     "output_type": "execute_result"
    }
   ],
   "source": [
    "df_prod1"
   ]
  },
  {
   "cell_type": "code",
   "execution_count": 161,
   "id": "224d796e",
   "metadata": {},
   "outputs": [
    {
     "name": "stderr",
     "output_type": "stream",
     "text": [
      "C:\\Users\\91999\\AppData\\Local\\Temp\\ipykernel_9848\\1623320882.py:2: SettingWithCopyWarning: \n",
      "A value is trying to be set on a copy of a slice from a DataFrame.\n",
      "Try using .loc[row_indexer,col_indexer] = value instead\n",
      "\n",
      "See the caveats in the documentation: https://pandas.pydata.org/pandas-docs/stable/user_guide/indexing.html#returning-a-view-versus-a-copy\n",
      "  df_prod1['calweek'] = pd.to_datetime(df_prod1['calweek'].astype(str) + '-1', format='%Y%W-%w').dt.strftime('%Y-%W')\n"
     ]
    }
   ],
   "source": [
    "# Convert 'calweek' column to datetime format\n",
    "df_prod1['calweek'] = pd.to_datetime(df_prod1['calweek'].astype(str) + '-1', format='%Y%W-%w').dt.strftime('%Y-%W')"
   ]
  },
  {
   "cell_type": "code",
   "execution_count": 162,
   "id": "3325b59c",
   "metadata": {},
   "outputs": [
    {
     "data": {
      "text/plain": [
       "0        2020-01\n",
       "1        2020-02\n",
       "2        2020-03\n",
       "3        2020-04\n",
       "4        2020-05\n",
       "          ...   \n",
       "10255    2023-11\n",
       "10256    2023-12\n",
       "10257    2023-13\n",
       "10258    2023-14\n",
       "10259    2023-15\n",
       "Name: calweek, Length: 2052, dtype: object"
      ]
     },
     "execution_count": 162,
     "metadata": {},
     "output_type": "execute_result"
    }
   ],
   "source": [
    "df_prod1['calweek']"
   ]
  },
  {
   "cell_type": "code",
   "execution_count": null,
   "id": "5d8a5e34",
   "metadata": {},
   "outputs": [],
   "source": [
    "# Group data by 'calweek' and aggregate 'Quantity'\n",
    "ts_data = df_prod1.groupby('calweek')['Quantity'].sum()"
   ]
  },
  {
   "cell_type": "code",
   "execution_count": 133,
   "id": "816bac59",
   "metadata": {},
   "outputs": [
    {
     "data": {
      "text/plain": [
       "calweek\n",
       "2020-01    10709\n",
       "2020-02    10653\n",
       "2020-03    10810\n",
       "2020-04    10723\n",
       "2020-05    10824\n",
       "           ...  \n",
       "2023-11    10761\n",
       "2023-12    10919\n",
       "2023-13    10665\n",
       "2023-14    10752\n",
       "2023-15    10890\n",
       "Name: Quantity, Length: 171, dtype: int64"
      ]
     },
     "execution_count": 133,
     "metadata": {},
     "output_type": "execute_result"
    }
   ],
   "source": [
    "ts_data"
   ]
  },
  {
   "cell_type": "code",
   "execution_count": 113,
   "id": "435377e6",
   "metadata": {},
   "outputs": [],
   "source": [
    "import matplotlib.pyplot as plt\n",
    "from statsmodels.tsa.arima.model import ARIMA\n",
    "from statsmodels.tsa.statespace.sarimax import SARIMAX\n",
    "from statsmodels.tsa.holtwinters import ExponentialSmoothing\n",
    "from sklearn.metrics import mean_absolute_error, mean_squared_error"
   ]
  },
  {
   "cell_type": "code",
   "execution_count": 115,
   "id": "d37844a4",
   "metadata": {},
   "outputs": [
    {
     "data": {
      "text/plain": [
       "171"
      ]
     },
     "execution_count": 115,
     "metadata": {},
     "output_type": "execute_result"
    }
   ],
   "source": [
    "len(ts_data)"
   ]
  },
  {
   "cell_type": "code",
   "execution_count": 116,
   "id": "04727d4f",
   "metadata": {},
   "outputs": [],
   "source": [
    "# Split data into training and testing sets\n",
    "train = ts_data.iloc[:130]\n",
    "test = ts_data.iloc[130:]"
   ]
  },
  {
   "cell_type": "code",
   "execution_count": 117,
   "id": "db9e13a7",
   "metadata": {},
   "outputs": [],
   "source": [
    "# ARIMA model\n",
    "def arima_forecast(train, test):\n",
    "    model = ARIMA(train, order=(1, 0, 0))  # ARIMA(p, d, q)\n",
    "    model_fit = model.fit()\n",
    "    forecast = model_fit.forecast(steps=len(test))[0]\n",
    "    return forecast\n",
    "\n",
    "# SARIMA model\n",
    "def sarima_forecast(train, test):\n",
    "    model = SARIMAX(train, order=(1, 0, 0), seasonal_order=(1, 0, 0, 12))  # SARIMA(p, d, q)(P, D, Q, m)\n",
    "    model_fit = model.fit()\n",
    "    forecast = model_fit.forecast(steps=len(test))\n",
    "    return forecast\n",
    "\n",
    "# Holt-Winters model\n",
    "def holt_winters_forecast(train, test):\n",
    "    model = ExponentialSmoothing(train, seasonal_periods=12, trend='add', seasonal='add')\n",
    "    model_fit = model.fit()\n",
    "    forecast = model_fit.forecast(len(test))\n",
    "    return forecast"
   ]
  },
  {
   "cell_type": "code",
   "execution_count": 118,
   "id": "70c2ca33",
   "metadata": {},
   "outputs": [
    {
     "name": "stderr",
     "output_type": "stream",
     "text": [
      "C:\\Users\\91999\\anaconda3\\lib\\site-packages\\statsmodels\\tsa\\base\\tsa_model.py:471: ValueWarning: An unsupported index was provided and will be ignored when e.g. forecasting.\n",
      "  self._init_dates(dates, freq)\n",
      "C:\\Users\\91999\\anaconda3\\lib\\site-packages\\statsmodels\\tsa\\base\\tsa_model.py:471: ValueWarning: An unsupported index was provided and will be ignored when e.g. forecasting.\n",
      "  self._init_dates(dates, freq)\n",
      "C:\\Users\\91999\\anaconda3\\lib\\site-packages\\statsmodels\\tsa\\base\\tsa_model.py:471: ValueWarning: An unsupported index was provided and will be ignored when e.g. forecasting.\n",
      "  self._init_dates(dates, freq)\n",
      "C:\\Users\\91999\\anaconda3\\lib\\site-packages\\statsmodels\\tsa\\base\\tsa_model.py:834: ValueWarning: No supported index is available. Prediction results will be given with an integer index beginning at `start`.\n",
      "  return get_prediction_index(\n"
     ]
    },
    {
     "ename": "KeyError",
     "evalue": "0",
     "output_type": "error",
     "traceback": [
      "\u001b[1;31m---------------------------------------------------------------------------\u001b[0m",
      "\u001b[1;31mValueError\u001b[0m                                Traceback (most recent call last)",
      "File \u001b[1;32m~\\anaconda3\\lib\\site-packages\\pandas\\core\\indexes\\range.py:385\u001b[0m, in \u001b[0;36mRangeIndex.get_loc\u001b[1;34m(self, key, method, tolerance)\u001b[0m\n\u001b[0;32m    384\u001b[0m \u001b[38;5;28;01mtry\u001b[39;00m:\n\u001b[1;32m--> 385\u001b[0m     \u001b[38;5;28;01mreturn\u001b[39;00m \u001b[38;5;28;43mself\u001b[39;49m\u001b[38;5;241;43m.\u001b[39;49m\u001b[43m_range\u001b[49m\u001b[38;5;241;43m.\u001b[39;49m\u001b[43mindex\u001b[49m\u001b[43m(\u001b[49m\u001b[43mnew_key\u001b[49m\u001b[43m)\u001b[49m\n\u001b[0;32m    386\u001b[0m \u001b[38;5;28;01mexcept\u001b[39;00m \u001b[38;5;167;01mValueError\u001b[39;00m \u001b[38;5;28;01mas\u001b[39;00m err:\n",
      "\u001b[1;31mValueError\u001b[0m: 0 is not in range",
      "\nThe above exception was the direct cause of the following exception:\n",
      "\u001b[1;31mKeyError\u001b[0m                                  Traceback (most recent call last)",
      "Input \u001b[1;32mIn [118]\u001b[0m, in \u001b[0;36m<cell line: 2>\u001b[1;34m()\u001b[0m\n\u001b[0;32m      1\u001b[0m \u001b[38;5;66;03m# Perform forecasting using ARIMA\u001b[39;00m\n\u001b[1;32m----> 2\u001b[0m arima_predictions \u001b[38;5;241m=\u001b[39m \u001b[43marima_forecast\u001b[49m\u001b[43m(\u001b[49m\u001b[43mtrain\u001b[49m\u001b[43m,\u001b[49m\u001b[43m \u001b[49m\u001b[43mtest\u001b[49m\u001b[43m)\u001b[49m\n\u001b[0;32m      4\u001b[0m \u001b[38;5;66;03m# Perform forecasting using SARIMA\u001b[39;00m\n\u001b[0;32m      5\u001b[0m sarima_predictions \u001b[38;5;241m=\u001b[39m sarima_forecast(train, test)\n",
      "Input \u001b[1;32mIn [117]\u001b[0m, in \u001b[0;36marima_forecast\u001b[1;34m(train, test)\u001b[0m\n\u001b[0;32m      3\u001b[0m model \u001b[38;5;241m=\u001b[39m ARIMA(train, order\u001b[38;5;241m=\u001b[39m(\u001b[38;5;241m1\u001b[39m, \u001b[38;5;241m0\u001b[39m, \u001b[38;5;241m0\u001b[39m))  \u001b[38;5;66;03m# ARIMA(p, d, q)\u001b[39;00m\n\u001b[0;32m      4\u001b[0m model_fit \u001b[38;5;241m=\u001b[39m model\u001b[38;5;241m.\u001b[39mfit()\n\u001b[1;32m----> 5\u001b[0m forecast \u001b[38;5;241m=\u001b[39m \u001b[43mmodel_fit\u001b[49m\u001b[38;5;241;43m.\u001b[39;49m\u001b[43mforecast\u001b[49m\u001b[43m(\u001b[49m\u001b[43msteps\u001b[49m\u001b[38;5;241;43m=\u001b[39;49m\u001b[38;5;28;43mlen\u001b[39;49m\u001b[43m(\u001b[49m\u001b[43mtest\u001b[49m\u001b[43m)\u001b[49m\u001b[43m)\u001b[49m\u001b[43m[\u001b[49m\u001b[38;5;241;43m0\u001b[39;49m\u001b[43m]\u001b[49m\n\u001b[0;32m      6\u001b[0m \u001b[38;5;28;01mreturn\u001b[39;00m forecast\n",
      "File \u001b[1;32m~\\anaconda3\\lib\\site-packages\\pandas\\core\\series.py:958\u001b[0m, in \u001b[0;36mSeries.__getitem__\u001b[1;34m(self, key)\u001b[0m\n\u001b[0;32m    955\u001b[0m     \u001b[38;5;28;01mreturn\u001b[39;00m \u001b[38;5;28mself\u001b[39m\u001b[38;5;241m.\u001b[39m_values[key]\n\u001b[0;32m    957\u001b[0m \u001b[38;5;28;01melif\u001b[39;00m key_is_scalar:\n\u001b[1;32m--> 958\u001b[0m     \u001b[38;5;28;01mreturn\u001b[39;00m \u001b[38;5;28;43mself\u001b[39;49m\u001b[38;5;241;43m.\u001b[39;49m\u001b[43m_get_value\u001b[49m\u001b[43m(\u001b[49m\u001b[43mkey\u001b[49m\u001b[43m)\u001b[49m\n\u001b[0;32m    960\u001b[0m \u001b[38;5;28;01mif\u001b[39;00m is_hashable(key):\n\u001b[0;32m    961\u001b[0m     \u001b[38;5;66;03m# Otherwise index.get_value will raise InvalidIndexError\u001b[39;00m\n\u001b[0;32m    962\u001b[0m     \u001b[38;5;28;01mtry\u001b[39;00m:\n\u001b[0;32m    963\u001b[0m         \u001b[38;5;66;03m# For labels that don't resolve as scalars like tuples and frozensets\u001b[39;00m\n",
      "File \u001b[1;32m~\\anaconda3\\lib\\site-packages\\pandas\\core\\series.py:1069\u001b[0m, in \u001b[0;36mSeries._get_value\u001b[1;34m(self, label, takeable)\u001b[0m\n\u001b[0;32m   1066\u001b[0m     \u001b[38;5;28;01mreturn\u001b[39;00m \u001b[38;5;28mself\u001b[39m\u001b[38;5;241m.\u001b[39m_values[label]\n\u001b[0;32m   1068\u001b[0m \u001b[38;5;66;03m# Similar to Index.get_value, but we do not fall back to positional\u001b[39;00m\n\u001b[1;32m-> 1069\u001b[0m loc \u001b[38;5;241m=\u001b[39m \u001b[38;5;28;43mself\u001b[39;49m\u001b[38;5;241;43m.\u001b[39;49m\u001b[43mindex\u001b[49m\u001b[38;5;241;43m.\u001b[39;49m\u001b[43mget_loc\u001b[49m\u001b[43m(\u001b[49m\u001b[43mlabel\u001b[49m\u001b[43m)\u001b[49m\n\u001b[0;32m   1070\u001b[0m \u001b[38;5;28;01mreturn\u001b[39;00m \u001b[38;5;28mself\u001b[39m\u001b[38;5;241m.\u001b[39mindex\u001b[38;5;241m.\u001b[39m_get_values_for_loc(\u001b[38;5;28mself\u001b[39m, loc, label)\n",
      "File \u001b[1;32m~\\anaconda3\\lib\\site-packages\\pandas\\core\\indexes\\range.py:387\u001b[0m, in \u001b[0;36mRangeIndex.get_loc\u001b[1;34m(self, key, method, tolerance)\u001b[0m\n\u001b[0;32m    385\u001b[0m         \u001b[38;5;28;01mreturn\u001b[39;00m \u001b[38;5;28mself\u001b[39m\u001b[38;5;241m.\u001b[39m_range\u001b[38;5;241m.\u001b[39mindex(new_key)\n\u001b[0;32m    386\u001b[0m     \u001b[38;5;28;01mexcept\u001b[39;00m \u001b[38;5;167;01mValueError\u001b[39;00m \u001b[38;5;28;01mas\u001b[39;00m err:\n\u001b[1;32m--> 387\u001b[0m         \u001b[38;5;28;01mraise\u001b[39;00m \u001b[38;5;167;01mKeyError\u001b[39;00m(key) \u001b[38;5;28;01mfrom\u001b[39;00m \u001b[38;5;21;01merr\u001b[39;00m\n\u001b[0;32m    388\u001b[0m \u001b[38;5;28mself\u001b[39m\u001b[38;5;241m.\u001b[39m_check_indexing_error(key)\n\u001b[0;32m    389\u001b[0m \u001b[38;5;28;01mraise\u001b[39;00m \u001b[38;5;167;01mKeyError\u001b[39;00m(key)\n",
      "\u001b[1;31mKeyError\u001b[0m: 0"
     ]
    }
   ],
   "source": [
    "# Perform forecasting using ARIMA\n",
    "arima_predictions = arima_forecast(train, test)\n",
    "\n",
    "# Perform forecasting using SARIMA\n",
    "sarima_predictions = sarima_forecast(train, test)\n",
    "\n",
    "# Perform forecasting using Holt-Winters\n",
    "holt_winters_predictions = holt_winters_forecast(train, test)"
   ]
  },
  {
   "cell_type": "code",
   "execution_count": null,
   "id": "b6db28ae",
   "metadata": {},
   "outputs": [],
   "source": []
  }
 ],
 "metadata": {
  "kernelspec": {
   "display_name": "Python 3 (ipykernel)",
   "language": "python",
   "name": "python3"
  },
  "language_info": {
   "codemirror_mode": {
    "name": "ipython",
    "version": 3
   },
   "file_extension": ".py",
   "mimetype": "text/x-python",
   "name": "python",
   "nbconvert_exporter": "python",
   "pygments_lexer": "ipython3",
   "version": "3.9.12"
  }
 },
 "nbformat": 4,
 "nbformat_minor": 5
}
